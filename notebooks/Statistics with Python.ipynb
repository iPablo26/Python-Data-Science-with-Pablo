{
 "cells": [
  {
   "cell_type": "markdown",
   "id": "1a68bd25",
   "metadata": {},
   "source": [
    "## Statistics "
   ]
  },
  {
   "cell_type": "code",
   "execution_count": 1,
   "id": "11777893",
   "metadata": {
    "ExecuteTime": {
     "end_time": "2023-05-28T04:26:50.589281Z",
     "start_time": "2023-05-28T04:26:50.577827Z"
    }
   },
   "outputs": [],
   "source": [
    "# How do we do statistics using Python\n",
    "\n",
    "# The fundamentals of Statistics - Python \n",
    "\n",
    "# Types of Statistics - Descriptive Statistics & Inferential Statistics "
   ]
  },
  {
   "cell_type": "code",
   "execution_count": 2,
   "id": "11481765",
   "metadata": {
    "ExecuteTime": {
     "end_time": "2023-05-28T04:26:51.261469Z",
     "start_time": "2023-05-28T04:26:51.257724Z"
    }
   },
   "outputs": [],
   "source": [
    "# Pandas \n",
    "# Numerical Python\n",
    "# Statistics\n",
    "# Maths\n",
    "# Scipy"
   ]
  },
  {
   "cell_type": "code",
   "execution_count": 3,
   "id": "edbbb26f",
   "metadata": {
    "ExecuteTime": {
     "end_time": "2023-05-28T04:26:53.148839Z",
     "start_time": "2023-05-28T04:26:52.046159Z"
    }
   },
   "outputs": [],
   "source": [
    "import pandas as pd \n",
    "import numpy as np \n",
    "import statistics as st "
   ]
  },
  {
   "cell_type": "code",
   "execution_count": 4,
   "id": "2399406f",
   "metadata": {
    "ExecuteTime": {
     "end_time": "2023-05-28T04:26:53.179038Z",
     "start_time": "2023-05-28T04:26:53.157026Z"
    }
   },
   "outputs": [],
   "source": [
    "titanic_data = pd.read_csv('train.csv')"
   ]
  },
  {
   "cell_type": "code",
   "execution_count": 5,
   "id": "73a9edbb",
   "metadata": {
    "ExecuteTime": {
     "end_time": "2023-05-28T04:26:53.685684Z",
     "start_time": "2023-05-28T04:26:53.668653Z"
    }
   },
   "outputs": [
    {
     "data": {
      "text/plain": [
       "count    714.000000\n",
       "mean      29.699118\n",
       "std       14.526497\n",
       "min        0.420000\n",
       "25%       20.125000\n",
       "50%       28.000000\n",
       "75%       38.000000\n",
       "max       80.000000\n",
       "Name: Age, dtype: float64"
      ]
     },
     "execution_count": 5,
     "metadata": {},
     "output_type": "execute_result"
    }
   ],
   "source": [
    "titanic_data['Age'].describe()"
   ]
  },
  {
   "cell_type": "markdown",
   "id": "32110779",
   "metadata": {},
   "source": [
    "## Definitions & Concepts"
   ]
  },
  {
   "cell_type": "code",
   "execution_count": 6,
   "id": "edf4bd58",
   "metadata": {
    "ExecuteTime": {
     "end_time": "2023-05-28T04:39:33.106549Z",
     "start_time": "2023-05-28T04:39:33.096487Z"
    }
   },
   "outputs": [],
   "source": [
    "# Statistics is hard but simple with Python"
   ]
  },
  {
   "cell_type": "code",
   "execution_count": 7,
   "id": "6aa02c69",
   "metadata": {
    "ExecuteTime": {
     "end_time": "2023-05-28T04:40:28.808287Z",
     "start_time": "2023-05-28T04:40:28.795423Z"
    }
   },
   "outputs": [],
   "source": [
    "# Statistics == Descriptive Statistics & Inferential Descriptive "
   ]
  },
  {
   "cell_type": "markdown",
   "id": "fdb75a59",
   "metadata": {},
   "source": [
    "### Descriptive Statistics"
   ]
  },
  {
   "cell_type": "code",
   "execution_count": 8,
   "id": "2cbcae43",
   "metadata": {
    "ExecuteTime": {
     "end_time": "2023-05-28T04:44:43.774863Z",
     "start_time": "2023-05-28T04:44:43.760117Z"
    }
   },
   "outputs": [],
   "source": [
    "# Central Tendency - Understand the location of our data - Mean, Median & Mode \n",
    "# Measures of dispersion - Spread of data - Standard Deviation, Variance, IQR (Inter Quantile Range)\n",
    "# Shape of the data distribution - Normal distribution, Skewed \n",
    "# Charts & Graphs - Visualize our data features"
   ]
  },
  {
   "cell_type": "code",
   "execution_count": 9,
   "id": "16cbaf33",
   "metadata": {
    "ExecuteTime": {
     "end_time": "2023-05-28T04:45:12.731221Z",
     "start_time": "2023-05-28T04:45:09.553544Z"
    }
   },
   "outputs": [],
   "source": [
    "import pandas as pd # Data Manipulation\n",
    "import numpy as np # Numerical Analysis\n",
    "import seaborn as sns # Charts & Graphs\n",
    "import statistics as st # Statistics "
   ]
  },
  {
   "cell_type": "code",
   "execution_count": 10,
   "id": "4dc78a1d",
   "metadata": {
    "ExecuteTime": {
     "end_time": "2023-05-28T04:47:25.667427Z",
     "start_time": "2023-05-28T04:47:25.642396Z"
    }
   },
   "outputs": [],
   "source": [
    "# A dataset on extra-marital affairs \n",
    "data_affairs = pd.read_csv('Affairs.csv') # Reading a dataset into a dataframe"
   ]
  },
  {
   "cell_type": "code",
   "execution_count": 11,
   "id": "1b221df6",
   "metadata": {
    "ExecuteTime": {
     "end_time": "2023-05-28T04:47:36.904003Z",
     "start_time": "2023-05-28T04:47:36.879820Z"
    }
   },
   "outputs": [
    {
     "data": {
      "text/plain": [
       "(601, 10)"
      ]
     },
     "execution_count": 11,
     "metadata": {},
     "output_type": "execute_result"
    }
   ],
   "source": [
    "data_affairs.shape # Dimension in rows & columns"
   ]
  },
  {
   "cell_type": "code",
   "execution_count": 12,
   "id": "326751c6",
   "metadata": {
    "ExecuteTime": {
     "end_time": "2023-05-28T04:48:05.304711Z",
     "start_time": "2023-05-28T04:48:05.274332Z"
    }
   },
   "outputs": [
    {
     "name": "stdout",
     "output_type": "stream",
     "text": [
      "<class 'pandas.core.frame.DataFrame'>\n",
      "RangeIndex: 601 entries, 0 to 600\n",
      "Data columns (total 10 columns):\n",
      " #   Column         Non-Null Count  Dtype  \n",
      "---  ------         --------------  -----  \n",
      " 0   Unnamed: 0     601 non-null    int64  \n",
      " 1   affairs        601 non-null    int64  \n",
      " 2   gender         601 non-null    object \n",
      " 3   age            601 non-null    float64\n",
      " 4   yearsmarried   601 non-null    float64\n",
      " 5   children       601 non-null    object \n",
      " 6   religiousness  601 non-null    int64  \n",
      " 7   education      601 non-null    int64  \n",
      " 8   occupation     601 non-null    int64  \n",
      " 9   rating         601 non-null    int64  \n",
      "dtypes: float64(2), int64(6), object(2)\n",
      "memory usage: 47.1+ KB\n"
     ]
    }
   ],
   "source": [
    "data_affairs.info() "
   ]
  },
  {
   "cell_type": "code",
   "execution_count": null,
   "id": "8371d8d3",
   "metadata": {},
   "outputs": [],
   "source": []
  },
  {
   "cell_type": "code",
   "execution_count": null,
   "id": "7d3ca5e9",
   "metadata": {},
   "outputs": [],
   "source": []
  },
  {
   "cell_type": "code",
   "execution_count": null,
   "id": "4f2d200d",
   "metadata": {},
   "outputs": [],
   "source": []
  }
 ],
 "metadata": {
  "kernelspec": {
   "display_name": "Python 3 (ipykernel)",
   "language": "python",
   "name": "python3"
  },
  "language_info": {
   "codemirror_mode": {
    "name": "ipython",
    "version": 3
   },
   "file_extension": ".py",
   "mimetype": "text/x-python",
   "name": "python",
   "nbconvert_exporter": "python",
   "pygments_lexer": "ipython3",
   "version": "3.9.16"
  }
 },
 "nbformat": 4,
 "nbformat_minor": 5
}
