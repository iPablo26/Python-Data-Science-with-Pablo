{
 "cells": [
  {
   "cell_type": "markdown",
   "id": "9df3ef41",
   "metadata": {},
   "source": [
    "# Introduction to Python"
   ]
  },
  {
   "cell_type": "markdown",
   "id": "7c568bb7",
   "metadata": {},
   "source": [
    "### Documentation \n",
    "\n",
    "1. Comments\n",
    "\n",
    "2. PEP8 - Style Guide\n",
    "\n",
    "3. Reading Python Docs"
   ]
  },
  {
   "cell_type": "code",
   "execution_count": 1,
   "id": "a6b6bb56",
   "metadata": {
    "ExecuteTime": {
     "end_time": "2023-07-30T08:39:13.366492Z",
     "start_time": "2023-07-30T08:39:13.358989Z"
    }
   },
   "outputs": [],
   "source": [
    "# Creating an arithmetic abstraction\n",
    "# Created a comment"
   ]
  },
  {
   "cell_type": "code",
   "execution_count": 2,
   "id": "a0247a79",
   "metadata": {
    "ExecuteTime": {
     "end_time": "2023-07-30T08:39:14.077504Z",
     "start_time": "2023-07-30T08:39:14.071777Z"
    }
   },
   "outputs": [],
   "source": [
    "add = 6 + 9 # Assigning a value to add (an addition of 6 + 9) <-- Comment"
   ]
  },
  {
   "cell_type": "code",
   "execution_count": 3,
   "id": "517d3eaf",
   "metadata": {
    "ExecuteTime": {
     "end_time": "2023-07-30T08:39:14.684690Z",
     "start_time": "2023-07-30T08:39:14.679977Z"
    }
   },
   "outputs": [],
   "source": [
    "# Comment out"
   ]
  },
  {
   "cell_type": "code",
   "execution_count": 4,
   "id": "0b9e1e59",
   "metadata": {
    "ExecuteTime": {
     "end_time": "2023-07-30T08:39:15.384138Z",
     "start_time": "2023-07-30T08:39:15.374199Z"
    }
   },
   "outputs": [],
   "source": [
    "# print(add) - Commented out this code"
   ]
  },
  {
   "cell_type": "code",
   "execution_count": 5,
   "id": "24716e42",
   "metadata": {
    "ExecuteTime": {
     "end_time": "2023-07-30T08:39:15.932800Z",
     "start_time": "2023-07-30T08:39:15.923566Z"
    }
   },
   "outputs": [],
   "source": [
    "age = 40 # Assigning an age value to age"
   ]
  },
  {
   "cell_type": "code",
   "execution_count": 6,
   "id": "1c28e43c",
   "metadata": {
    "ExecuteTime": {
     "end_time": "2023-07-30T08:39:18.577496Z",
     "start_time": "2023-07-30T08:39:18.572963Z"
    }
   },
   "outputs": [],
   "source": [
    "# Assigning an age value to age - Bad commenting\n",
    "age = 40 "
   ]
  },
  {
   "cell_type": "markdown",
   "id": "48dbf6b4",
   "metadata": {},
   "source": [
    "### Python's Style Guide"
   ]
  },
  {
   "cell_type": "code",
   "execution_count": 83,
   "id": "d0b1ef34",
   "metadata": {
    "ExecuteTime": {
     "end_time": "2023-05-02T12:03:11.477611Z",
     "start_time": "2023-05-02T12:03:11.472859Z"
    }
   },
   "outputs": [],
   "source": [
    "# # Aligned with opening delimiter.\n",
    "foo = long_function_name(var_one, var_two,\n",
    "                           var_three, var_four)"
   ]
  },
  {
   "cell_type": "code",
   "execution_count": null,
   "id": "3e25f5ca",
   "metadata": {
    "ExecuteTime": {
     "end_time": "2023-05-02T12:02:14.060023Z",
     "start_time": "2023-05-02T12:02:14.060004Z"
    }
   },
   "outputs": [],
   "source": [
    "# Add 4 spaces (an extra level of indentation) to distinguish arguments from the rest.\n",
    "def long_function_name(\n",
    "        var_one, var_two, var_three,\n",
    "        var_four):\n",
    "    print(var_one)"
   ]
  },
  {
   "cell_type": "code",
   "execution_count": null,
   "id": "5bf38d05",
   "metadata": {
    "ExecuteTime": {
     "end_time": "2023-05-02T12:02:14.062860Z",
     "start_time": "2023-05-02T12:02:14.062836Z"
    }
   },
   "outputs": [],
   "source": [
    "# Wrong:\n",
    "\n",
    "# Arguments on first line forbidden when not using vertical alignment.\n",
    "foo = long_function_name(var_one, var_two,\n",
    "                         var_three, var_four)\n",
    "\n",
    "# Further indentation required as indentation is not distinguishable.\n",
    "def long_function_name(\n",
    "    var_one, var_two, var_three,\n",
    "    var_four):\n",
    "    print(var_one)"
   ]
  },
  {
   "cell_type": "markdown",
   "id": "d63726f1",
   "metadata": {},
   "source": [
    "## Reading Python Documentation "
   ]
  },
  {
   "cell_type": "code",
   "execution_count": 7,
   "id": "23dca896",
   "metadata": {
    "ExecuteTime": {
     "end_time": "2023-07-30T08:39:24.421693Z",
     "start_time": "2023-07-30T08:39:24.384789Z"
    }
   },
   "outputs": [],
   "source": [
    "boy = \"Pablo\""
   ]
  },
  {
   "cell_type": "code",
   "execution_count": 8,
   "id": "f3f831d4",
   "metadata": {
    "ExecuteTime": {
     "end_time": "2023-07-30T08:39:25.008428Z",
     "start_time": "2023-07-30T08:39:24.998596Z"
    }
   },
   "outputs": [
    {
     "data": {
      "text/plain": [
       "5"
      ]
     },
     "execution_count": 8,
     "metadata": {},
     "output_type": "execute_result"
    }
   ],
   "source": [
    "len(boy)"
   ]
  },
  {
   "cell_type": "code",
   "execution_count": 9,
   "id": "bb7d541d",
   "metadata": {
    "ExecuteTime": {
     "end_time": "2023-07-30T08:39:25.484561Z",
     "start_time": "2023-07-30T08:39:25.478870Z"
    }
   },
   "outputs": [
    {
     "name": "stdout",
     "output_type": "stream",
     "text": [
      "\n"
     ]
    }
   ],
   "source": [
    "print()"
   ]
  },
  {
   "cell_type": "markdown",
   "id": "5435f6d0",
   "metadata": {},
   "source": [
    "## Variables & Data Types"
   ]
  },
  {
   "cell_type": "code",
   "execution_count": 10,
   "id": "e948223a",
   "metadata": {
    "ExecuteTime": {
     "end_time": "2023-07-30T08:39:26.247944Z",
     "start_time": "2023-07-30T08:39:26.242460Z"
    }
   },
   "outputs": [],
   "source": [
    "first_var = \"My first line of code\" # first_var assigned a value"
   ]
  },
  {
   "cell_type": "code",
   "execution_count": 11,
   "id": "3d183989",
   "metadata": {
    "ExecuteTime": {
     "end_time": "2023-07-30T08:39:26.932316Z",
     "start_time": "2023-07-30T08:39:26.917612Z"
    }
   },
   "outputs": [
    {
     "name": "stdout",
     "output_type": "stream",
     "text": [
      "My first line of code\n"
     ]
    }
   ],
   "source": [
    "print(first_var) # prints to stream the variable value"
   ]
  },
  {
   "cell_type": "code",
   "execution_count": 12,
   "id": "7c6b86e4",
   "metadata": {
    "ExecuteTime": {
     "end_time": "2023-07-30T08:39:27.384001Z",
     "start_time": "2023-07-30T08:39:27.378091Z"
    }
   },
   "outputs": [
    {
     "data": {
      "text/plain": [
       "'My first line of code'"
      ]
     },
     "execution_count": 12,
     "metadata": {},
     "output_type": "execute_result"
    }
   ],
   "source": [
    "first_var "
   ]
  },
  {
   "cell_type": "markdown",
   "id": "4c0e5f0e",
   "metadata": {},
   "source": [
    "## Rules for creating variables & variable names"
   ]
  },
  {
   "cell_type": "code",
   "execution_count": 13,
   "id": "2d9a17eb",
   "metadata": {
    "ExecuteTime": {
     "end_time": "2023-07-30T08:39:27.690488Z",
     "start_time": "2023-07-30T08:39:27.681266Z"
    }
   },
   "outputs": [],
   "source": [
    "# 1. Variables can only contain letters, numbers and underscores\n",
    "# You cannot create a variable starting with a number "
   ]
  },
  {
   "cell_type": "code",
   "execution_count": 14,
   "id": "766cac19",
   "metadata": {
    "ExecuteTime": {
     "end_time": "2023-07-30T08:39:28.392140Z",
     "start_time": "2023-07-30T08:39:28.388678Z"
    }
   },
   "outputs": [],
   "source": [
    "second_2 = \"Trying out a second time\" # creating a variable"
   ]
  },
  {
   "cell_type": "code",
   "execution_count": 15,
   "id": "c47d4d2d",
   "metadata": {
    "ExecuteTime": {
     "end_time": "2023-07-30T08:39:28.757902Z",
     "start_time": "2023-07-30T08:39:28.749975Z"
    }
   },
   "outputs": [
    {
     "name": "stdout",
     "output_type": "stream",
     "text": [
      "Trying out a second time\n"
     ]
    }
   ],
   "source": [
    "print(second_2)"
   ]
  },
  {
   "cell_type": "code",
   "execution_count": 16,
   "id": "34ad12f3",
   "metadata": {
    "ExecuteTime": {
     "end_time": "2023-07-30T08:39:29.023218Z",
     "start_time": "2023-07-30T08:39:29.015274Z"
    }
   },
   "outputs": [
    {
     "ename": "SyntaxError",
     "evalue": "invalid decimal literal (498188808.py, line 1)",
     "output_type": "error",
     "traceback": [
      "\u001b[0;36m  Cell \u001b[0;32mIn[16], line 1\u001b[0;36m\u001b[0m\n\u001b[0;31m    2code = \"Tearing apart\" # breaking a variable naming rule\u001b[0m\n\u001b[0m    ^\u001b[0m\n\u001b[0;31mSyntaxError\u001b[0m\u001b[0;31m:\u001b[0m invalid decimal literal\n"
     ]
    }
   ],
   "source": [
    "2code = \"Tearing apart\" # breaking a variable naming rule "
   ]
  },
  {
   "cell_type": "code",
   "execution_count": 17,
   "id": "48edfbcb",
   "metadata": {
    "ExecuteTime": {
     "end_time": "2023-07-30T08:39:29.341967Z",
     "start_time": "2023-07-30T08:39:29.324731Z"
    }
   },
   "outputs": [],
   "source": [
    "_2_second = \"Trying again\" # Making up the rules "
   ]
  },
  {
   "cell_type": "code",
   "execution_count": 18,
   "id": "9d11ff23",
   "metadata": {
    "ExecuteTime": {
     "end_time": "2023-07-30T08:39:29.613805Z",
     "start_time": "2023-07-30T08:39:29.571974Z"
    }
   },
   "outputs": [
    {
     "name": "stdout",
     "output_type": "stream",
     "text": [
      "Trying again\n"
     ]
    }
   ],
   "source": [
    "print(_2_second)"
   ]
  },
  {
   "cell_type": "code",
   "execution_count": 19,
   "id": "0f2aa32a",
   "metadata": {
    "ExecuteTime": {
     "end_time": "2023-07-30T08:39:29.868857Z",
     "start_time": "2023-07-30T08:39:29.835018Z"
    }
   },
   "outputs": [],
   "source": [
    "# 2. Avoid spaces when creating variable names "
   ]
  },
  {
   "cell_type": "code",
   "execution_count": 20,
   "id": "2c0875d7",
   "metadata": {
    "ExecuteTime": {
     "end_time": "2023-07-30T08:39:30.104775Z",
     "start_time": "2023-07-30T08:39:30.097951Z"
    }
   },
   "outputs": [
    {
     "ename": "SyntaxError",
     "evalue": "invalid syntax (2559974020.py, line 1)",
     "output_type": "error",
     "traceback": [
      "\u001b[0;36m  Cell \u001b[0;32mIn[20], line 1\u001b[0;36m\u001b[0m\n\u001b[0;31m    third var = \"Avoiding spaces\"\u001b[0m\n\u001b[0m          ^\u001b[0m\n\u001b[0;31mSyntaxError\u001b[0m\u001b[0;31m:\u001b[0m invalid syntax\n"
     ]
    }
   ],
   "source": [
    "third var = \"Avoiding spaces\""
   ]
  },
  {
   "cell_type": "code",
   "execution_count": 21,
   "id": "87bdec90",
   "metadata": {
    "ExecuteTime": {
     "end_time": "2023-07-30T08:39:30.390079Z",
     "start_time": "2023-07-30T08:39:30.384714Z"
    }
   },
   "outputs": [],
   "source": [
    "third_var = \"Made up for the space\""
   ]
  },
  {
   "cell_type": "code",
   "execution_count": 22,
   "id": "c84fa452",
   "metadata": {
    "ExecuteTime": {
     "end_time": "2023-07-30T08:39:30.642317Z",
     "start_time": "2023-07-30T08:39:30.637571Z"
    }
   },
   "outputs": [
    {
     "name": "stdout",
     "output_type": "stream",
     "text": [
      "Made up for the space\n"
     ]
    }
   ],
   "source": [
    "print(third_var)"
   ]
  },
  {
   "cell_type": "code",
   "execution_count": 23,
   "id": "1f0de7c2",
   "metadata": {
    "ExecuteTime": {
     "end_time": "2023-07-30T08:39:30.878550Z",
     "start_time": "2023-07-30T08:39:30.875416Z"
    }
   },
   "outputs": [],
   "source": [
    "# 3. Variable names should be intuitive/understandable "
   ]
  },
  {
   "cell_type": "code",
   "execution_count": 24,
   "id": "5b15cb01",
   "metadata": {
    "ExecuteTime": {
     "end_time": "2023-07-30T08:39:31.129421Z",
     "start_time": "2023-07-30T08:39:31.125721Z"
    }
   },
   "outputs": [],
   "source": [
    "my_name = \"Pablo\" # Name of instructor "
   ]
  },
  {
   "cell_type": "code",
   "execution_count": 25,
   "id": "73514d18",
   "metadata": {
    "ExecuteTime": {
     "end_time": "2023-07-30T08:39:31.431454Z",
     "start_time": "2023-07-30T08:39:31.426048Z"
    }
   },
   "outputs": [],
   "source": [
    "m_n = \"Pablo\""
   ]
  },
  {
   "cell_type": "code",
   "execution_count": 26,
   "id": "ba4ebebf",
   "metadata": {
    "ExecuteTime": {
     "end_time": "2023-07-30T08:39:31.697343Z",
     "start_time": "2023-07-30T08:39:31.693269Z"
    }
   },
   "outputs": [],
   "source": [
    "# 4. Avoid using Python keywords/reserved names "
   ]
  },
  {
   "cell_type": "code",
   "execution_count": 27,
   "id": "fe97416a",
   "metadata": {
    "ExecuteTime": {
     "end_time": "2023-07-30T08:39:31.949750Z",
     "start_time": "2023-07-30T08:39:31.945633Z"
    }
   },
   "outputs": [],
   "source": [
    "list_numbers = [1,2,3,4,5]"
   ]
  },
  {
   "cell_type": "code",
   "execution_count": 28,
   "id": "ce107e16",
   "metadata": {
    "ExecuteTime": {
     "end_time": "2023-07-30T08:39:32.204602Z",
     "start_time": "2023-07-30T08:39:32.198438Z"
    }
   },
   "outputs": [
    {
     "name": "stdout",
     "output_type": "stream",
     "text": [
      "[1, 2, 3, 4, 5]\n"
     ]
    }
   ],
   "source": [
    "print(list_numbers)"
   ]
  },
  {
   "cell_type": "code",
   "execution_count": 29,
   "id": "99ff74e6",
   "metadata": {
    "ExecuteTime": {
     "end_time": "2023-07-30T08:39:32.462689Z",
     "start_time": "2023-07-30T08:39:32.456657Z"
    }
   },
   "outputs": [
    {
     "data": {
      "text/plain": [
       "15"
      ]
     },
     "execution_count": 29,
     "metadata": {},
     "output_type": "execute_result"
    }
   ],
   "source": [
    "sum(list_numbers) # Returns the total of all numbers within a collection "
   ]
  },
  {
   "cell_type": "code",
   "execution_count": 30,
   "id": "50acbefb",
   "metadata": {
    "ExecuteTime": {
     "end_time": "2023-07-30T08:39:32.716704Z",
     "start_time": "2023-07-30T08:39:32.713248Z"
    }
   },
   "outputs": [],
   "source": [
    "sum = [34, 45, 67, 87]"
   ]
  },
  {
   "cell_type": "code",
   "execution_count": 31,
   "id": "c71cd36e",
   "metadata": {
    "ExecuteTime": {
     "end_time": "2023-07-30T08:39:32.982013Z",
     "start_time": "2023-07-30T08:39:32.976273Z"
    }
   },
   "outputs": [
    {
     "data": {
      "text/plain": [
       "[34, 45, 67, 87]"
      ]
     },
     "execution_count": 31,
     "metadata": {},
     "output_type": "execute_result"
    }
   ],
   "source": [
    "sum "
   ]
  },
  {
   "cell_type": "code",
   "execution_count": 32,
   "id": "77844917",
   "metadata": {
    "ExecuteTime": {
     "end_time": "2023-07-30T08:39:33.235665Z",
     "start_time": "2023-07-30T08:39:33.231116Z"
    }
   },
   "outputs": [],
   "source": [
    "age_list = [34, 56, 98, 100]"
   ]
  },
  {
   "cell_type": "code",
   "execution_count": 33,
   "id": "ca93d740",
   "metadata": {
    "ExecuteTime": {
     "end_time": "2023-07-30T08:39:34.369923Z",
     "start_time": "2023-07-30T08:39:33.463315Z"
    }
   },
   "outputs": [
    {
     "ename": "TypeError",
     "evalue": "'list' object is not callable",
     "output_type": "error",
     "traceback": [
      "\u001b[0;31m---------------------------------------------------------------------------\u001b[0m",
      "\u001b[0;31mTypeError\u001b[0m                                 Traceback (most recent call last)",
      "Cell \u001b[0;32mIn[33], line 1\u001b[0m\n\u001b[0;32m----> 1\u001b[0m \u001b[38;5;28;43msum\u001b[39;49m\u001b[43m(\u001b[49m\u001b[43mage_list\u001b[49m\u001b[43m)\u001b[49m\n",
      "\u001b[0;31mTypeError\u001b[0m: 'list' object is not callable"
     ]
    }
   ],
   "source": [
    "sum(age_list)"
   ]
  },
  {
   "cell_type": "code",
   "execution_count": null,
   "id": "6b42ab93",
   "metadata": {
    "ExecuteTime": {
     "end_time": "2023-07-30T08:39:34.373380Z",
     "start_time": "2023-07-30T08:39:34.373356Z"
    }
   },
   "outputs": [],
   "source": [
    "# 5. Less confusion "
   ]
  },
  {
   "cell_type": "code",
   "execution_count": null,
   "id": "b4540f1e",
   "metadata": {
    "ExecuteTime": {
     "end_time": "2023-07-30T08:39:34.376281Z",
     "start_time": "2023-07-30T08:39:34.376261Z"
    }
   },
   "outputs": [],
   "source": [
    "# 0 O l 1 "
   ]
  },
  {
   "cell_type": "markdown",
   "id": "d850ca16",
   "metadata": {},
   "source": [
    "## Data Types"
   ]
  },
  {
   "cell_type": "code",
   "execution_count": 34,
   "id": "e3537e9d",
   "metadata": {
    "ExecuteTime": {
     "end_time": "2023-07-30T08:39:34.421820Z",
     "start_time": "2023-07-30T08:39:34.418206Z"
    }
   },
   "outputs": [],
   "source": [
    "# Strings - A string is a series of characters \n",
    "# Anything inside a single, double & triple quotes\n",
    "# A letter, Series of letters, Single word"
   ]
  },
  {
   "cell_type": "code",
   "execution_count": 35,
   "id": "cfd4f473",
   "metadata": {
    "ExecuteTime": {
     "end_time": "2023-07-30T08:39:34.631575Z",
     "start_time": "2023-07-30T08:39:34.620496Z"
    }
   },
   "outputs": [],
   "source": [
    "footballer_name = 'Messi' # Assigned a value to a variable "
   ]
  },
  {
   "cell_type": "code",
   "execution_count": 36,
   "id": "92217e8b",
   "metadata": {
    "ExecuteTime": {
     "end_time": "2023-07-30T08:39:34.884299Z",
     "start_time": "2023-07-30T08:39:34.877030Z"
    }
   },
   "outputs": [
    {
     "data": {
      "text/plain": [
       "'Messi'"
      ]
     },
     "execution_count": 36,
     "metadata": {},
     "output_type": "execute_result"
    }
   ],
   "source": [
    "footballer_name"
   ]
  },
  {
   "cell_type": "code",
   "execution_count": 37,
   "id": "7e753c1e",
   "metadata": {
    "ExecuteTime": {
     "end_time": "2023-07-30T08:39:35.098877Z",
     "start_time": "2023-07-30T08:39:35.093007Z"
    }
   },
   "outputs": [],
   "source": [
    "first_f_name = \"Lionel\" # A string with double quotes "
   ]
  },
  {
   "cell_type": "code",
   "execution_count": 38,
   "id": "df38c447",
   "metadata": {
    "ExecuteTime": {
     "end_time": "2023-07-30T08:39:35.338449Z",
     "start_time": "2023-07-30T08:39:35.331950Z"
    }
   },
   "outputs": [
    {
     "data": {
      "text/plain": [
       "'Lionel'"
      ]
     },
     "execution_count": 38,
     "metadata": {},
     "output_type": "execute_result"
    }
   ],
   "source": [
    "first_f_name"
   ]
  },
  {
   "cell_type": "code",
   "execution_count": 39,
   "id": "8f4cf2e0",
   "metadata": {
    "ExecuteTime": {
     "end_time": "2023-07-30T08:39:35.590485Z",
     "start_time": "2023-07-30T08:39:35.572321Z"
    }
   },
   "outputs": [],
   "source": [
    "club_name = \"\"\" PSG \"\"\""
   ]
  },
  {
   "cell_type": "code",
   "execution_count": 40,
   "id": "ccdc51e0",
   "metadata": {
    "ExecuteTime": {
     "end_time": "2023-07-30T08:39:35.811697Z",
     "start_time": "2023-07-30T08:39:35.806075Z"
    }
   },
   "outputs": [
    {
     "data": {
      "text/plain": [
       "' PSG '"
      ]
     },
     "execution_count": 40,
     "metadata": {},
     "output_type": "execute_result"
    }
   ],
   "source": [
    "club_name"
   ]
  },
  {
   "cell_type": "code",
   "execution_count": 41,
   "id": "09af6d5b",
   "metadata": {
    "ExecuteTime": {
     "end_time": "2023-07-30T08:39:36.015745Z",
     "start_time": "2023-07-30T08:39:36.009796Z"
    }
   },
   "outputs": [
    {
     "ename": "SyntaxError",
     "evalue": "unterminated string literal (detected at line 2) (3770023912.py, line 2)",
     "output_type": "error",
     "traceback": [
      "\u001b[0;36m  Cell \u001b[0;32mIn[41], line 2\u001b[0;36m\u001b[0m\n\u001b[0;31m    history_messi = 'Messi's preferred foot is left'\u001b[0m\n\u001b[0m                                                   ^\u001b[0m\n\u001b[0;31mSyntaxError\u001b[0m\u001b[0;31m:\u001b[0m unterminated string literal (detected at line 2)\n"
     ]
    }
   ],
   "source": [
    "# Why a single quote instead of a double quote \n",
    "history_messi = 'Messi's preferred foot is left'"
   ]
  },
  {
   "cell_type": "code",
   "execution_count": 42,
   "id": "a38a8b48",
   "metadata": {
    "ExecuteTime": {
     "end_time": "2023-07-30T08:39:36.236846Z",
     "start_time": "2023-07-30T08:39:36.232843Z"
    }
   },
   "outputs": [],
   "source": [
    "history_messi = \"Messi's preferred foot is left\""
   ]
  },
  {
   "cell_type": "code",
   "execution_count": 43,
   "id": "ed48aad6",
   "metadata": {
    "ExecuteTime": {
     "end_time": "2023-07-30T08:39:36.467087Z",
     "start_time": "2023-07-30T08:39:36.461827Z"
    }
   },
   "outputs": [],
   "source": [
    "history_messi = 'Messi\\'s preferred foot is left'"
   ]
  },
  {
   "cell_type": "code",
   "execution_count": 44,
   "id": "2166140f",
   "metadata": {
    "ExecuteTime": {
     "end_time": "2023-07-30T08:39:36.694372Z",
     "start_time": "2023-07-30T08:39:36.688935Z"
    }
   },
   "outputs": [
    {
     "data": {
      "text/plain": [
       "\"Messi's preferred foot is left\""
      ]
     },
     "execution_count": 44,
     "metadata": {},
     "output_type": "execute_result"
    }
   ],
   "source": [
    "history_messi"
   ]
  },
  {
   "cell_type": "markdown",
   "id": "66864bf1",
   "metadata": {},
   "source": [
    "## String Methods"
   ]
  },
  {
   "cell_type": "code",
   "execution_count": 45,
   "id": "91f08c0a",
   "metadata": {
    "ExecuteTime": {
     "end_time": "2023-07-30T08:39:37.116298Z",
     "start_time": "2023-07-30T08:39:37.108486Z"
    }
   },
   "outputs": [
    {
     "data": {
      "text/plain": [
       "['__add__',\n",
       " '__class__',\n",
       " '__contains__',\n",
       " '__delattr__',\n",
       " '__dir__',\n",
       " '__doc__',\n",
       " '__eq__',\n",
       " '__format__',\n",
       " '__ge__',\n",
       " '__getattribute__',\n",
       " '__getitem__',\n",
       " '__getnewargs__',\n",
       " '__gt__',\n",
       " '__hash__',\n",
       " '__init__',\n",
       " '__init_subclass__',\n",
       " '__iter__',\n",
       " '__le__',\n",
       " '__len__',\n",
       " '__lt__',\n",
       " '__mod__',\n",
       " '__mul__',\n",
       " '__ne__',\n",
       " '__new__',\n",
       " '__reduce__',\n",
       " '__reduce_ex__',\n",
       " '__repr__',\n",
       " '__rmod__',\n",
       " '__rmul__',\n",
       " '__setattr__',\n",
       " '__sizeof__',\n",
       " '__str__',\n",
       " '__subclasshook__',\n",
       " 'capitalize',\n",
       " 'casefold',\n",
       " 'center',\n",
       " 'count',\n",
       " 'encode',\n",
       " 'endswith',\n",
       " 'expandtabs',\n",
       " 'find',\n",
       " 'format',\n",
       " 'format_map',\n",
       " 'index',\n",
       " 'isalnum',\n",
       " 'isalpha',\n",
       " 'isascii',\n",
       " 'isdecimal',\n",
       " 'isdigit',\n",
       " 'isidentifier',\n",
       " 'islower',\n",
       " 'isnumeric',\n",
       " 'isprintable',\n",
       " 'isspace',\n",
       " 'istitle',\n",
       " 'isupper',\n",
       " 'join',\n",
       " 'ljust',\n",
       " 'lower',\n",
       " 'lstrip',\n",
       " 'maketrans',\n",
       " 'partition',\n",
       " 'removeprefix',\n",
       " 'removesuffix',\n",
       " 'replace',\n",
       " 'rfind',\n",
       " 'rindex',\n",
       " 'rjust',\n",
       " 'rpartition',\n",
       " 'rsplit',\n",
       " 'rstrip',\n",
       " 'split',\n",
       " 'splitlines',\n",
       " 'startswith',\n",
       " 'strip',\n",
       " 'swapcase',\n",
       " 'title',\n",
       " 'translate',\n",
       " 'upper',\n",
       " 'zfill']"
      ]
     },
     "execution_count": 45,
     "metadata": {},
     "output_type": "execute_result"
    }
   ],
   "source": [
    "dir(footballer_name)"
   ]
  },
  {
   "cell_type": "markdown",
   "id": "71aebdc4",
   "metadata": {},
   "source": [
    "### String methods \n",
    "\n",
    "'capitalize',\n",
    " 'casefold',\n",
    " 'center',\n",
    " 'count',\n",
    " 'encode',\n",
    " 'endswith',\n",
    " 'expandtabs',\n",
    " 'find',\n",
    " 'format',\n",
    " 'format_map',\n",
    " 'index',\n",
    " 'isalnum',\n",
    " 'isalpha',\n",
    " 'isascii',\n",
    " 'isdecimal',\n",
    " 'isdigit',\n",
    " 'isidentifier',\n",
    " 'islower',\n",
    " 'isnumeric',\n",
    " 'isprintable',\n",
    " 'isspace',\n",
    " 'istitle',\n",
    " 'isupper',\n",
    " 'join',\n",
    " 'ljust',\n",
    " 'lower',\n",
    " 'lstrip',\n",
    " 'maketrans',\n",
    " 'partition',\n",
    " 'removeprefix',\n",
    " 'removesuffix',\n",
    " 'replace',\n",
    " 'rfind',\n",
    " 'rindex',\n",
    " 'rjust',\n",
    " 'rpartition',\n",
    " 'rsplit',\n",
    " 'rstrip',\n",
    " 'split',\n",
    " 'splitlines',\n",
    " 'startswith',\n",
    " 'strip',\n",
    " 'swapcase',\n",
    " 'title',\n",
    " 'translate',\n",
    " 'upper',\n",
    " 'zfill'"
   ]
  },
  {
   "cell_type": "code",
   "execution_count": 46,
   "id": "84486e1c",
   "metadata": {
    "ExecuteTime": {
     "end_time": "2023-07-30T08:39:37.577513Z",
     "start_time": "2023-07-30T08:39:37.573659Z"
    }
   },
   "outputs": [
    {
     "data": {
      "text/plain": [
       "2"
      ]
     },
     "execution_count": 46,
     "metadata": {},
     "output_type": "execute_result"
    }
   ],
   "source": [
    "footballer_name.count('s')"
   ]
  },
  {
   "cell_type": "code",
   "execution_count": 47,
   "id": "27cc01d8",
   "metadata": {
    "ExecuteTime": {
     "end_time": "2023-07-30T08:39:37.802341Z",
     "start_time": "2023-07-30T08:39:37.797065Z"
    }
   },
   "outputs": [
    {
     "data": {
      "text/plain": [
       "'MESSI'"
      ]
     },
     "execution_count": 47,
     "metadata": {},
     "output_type": "execute_result"
    }
   ],
   "source": [
    "footballer_name.upper() "
   ]
  },
  {
   "cell_type": "code",
   "execution_count": 48,
   "id": "77800f72",
   "metadata": {
    "ExecuteTime": {
     "end_time": "2023-07-30T08:39:38.040886Z",
     "start_time": "2023-07-30T08:39:38.031931Z"
    }
   },
   "outputs": [
    {
     "name": "stdout",
     "output_type": "stream",
     "text": [
      "Messi's preferred foot is left\n"
     ]
    }
   ],
   "source": [
    "print(history_messi)"
   ]
  },
  {
   "cell_type": "code",
   "execution_count": 49,
   "id": "8e5f6b0a",
   "metadata": {
    "ExecuteTime": {
     "end_time": "2023-07-30T08:39:38.261756Z",
     "start_time": "2023-07-30T08:39:38.252946Z"
    }
   },
   "outputs": [
    {
     "data": {
      "text/plain": [
       "[\"Messi's\", 'preferred', 'foot', 'is', 'left']"
      ]
     },
     "execution_count": 49,
     "metadata": {},
     "output_type": "execute_result"
    }
   ],
   "source": [
    "history_messi.split()"
   ]
  },
  {
   "cell_type": "code",
   "execution_count": 50,
   "id": "33c092e6",
   "metadata": {
    "ExecuteTime": {
     "end_time": "2023-07-30T08:39:38.488425Z",
     "start_time": "2023-07-30T08:39:38.481113Z"
    }
   },
   "outputs": [
    {
     "data": {
      "text/plain": [
       "\"Messi's\""
      ]
     },
     "execution_count": 50,
     "metadata": {},
     "output_type": "execute_result"
    }
   ],
   "source": [
    "history_messi.split()[0]"
   ]
  },
  {
   "cell_type": "markdown",
   "id": "b63ab046",
   "metadata": {},
   "source": [
    "## String Formatting"
   ]
  },
  {
   "cell_type": "code",
   "execution_count": 51,
   "id": "514c4e4e",
   "metadata": {
    "ExecuteTime": {
     "end_time": "2023-07-30T08:39:38.943276Z",
     "start_time": "2023-07-30T08:39:38.939178Z"
    }
   },
   "outputs": [],
   "source": [
    "# String substitution \n",
    "jumper = \"Ronaldo\"\n",
    "age = 38 "
   ]
  },
  {
   "cell_type": "markdown",
   "id": "f7ab42cf",
   "metadata": {},
   "source": [
    "### f-strings"
   ]
  },
  {
   "cell_type": "code",
   "execution_count": 52,
   "id": "e4f15353",
   "metadata": {
    "ExecuteTime": {
     "end_time": "2023-07-30T08:39:39.426301Z",
     "start_time": "2023-07-30T08:39:39.409186Z"
    }
   },
   "outputs": [
    {
     "name": "stdout",
     "output_type": "stream",
     "text": [
      "Ronaldo is one of the greatest footballers of all time, and he is only 38 years-old\n"
     ]
    }
   ],
   "source": [
    "print(\n",
    "    f\"{jumper} is one of the greatest footballers of all time, and he is only {age} years-old\"\n",
    ")"
   ]
  },
  {
   "cell_type": "code",
   "execution_count": 53,
   "id": "16a8fc12",
   "metadata": {
    "ExecuteTime": {
     "end_time": "2023-07-30T08:39:39.634582Z",
     "start_time": "2023-07-30T08:39:39.630634Z"
    }
   },
   "outputs": [
    {
     "name": "stdout",
     "output_type": "stream",
     "text": [
      "RONALDO is one of the greatest footballers of all time, and he is only 38 years-old\n"
     ]
    }
   ],
   "source": [
    "print(\n",
    "    f\"{jumper.upper()} is one of the greatest footballers of all time, and he is only {age} years-old\"\n",
    ")"
   ]
  },
  {
   "cell_type": "markdown",
   "id": "eedaa5da",
   "metadata": {},
   "source": [
    "### String Formatting with .format()"
   ]
  },
  {
   "cell_type": "code",
   "execution_count": 54,
   "id": "f3a3a3a4",
   "metadata": {
    "ExecuteTime": {
     "end_time": "2023-07-30T08:39:40.139578Z",
     "start_time": "2023-07-30T08:39:40.131207Z"
    }
   },
   "outputs": [
    {
     "name": "stdout",
     "output_type": "stream",
     "text": [
      "Ronaldo\n"
     ]
    }
   ],
   "source": [
    "print(jumper)"
   ]
  },
  {
   "cell_type": "code",
   "execution_count": 55,
   "id": "891aff50",
   "metadata": {
    "ExecuteTime": {
     "end_time": "2023-07-30T08:39:40.313512Z",
     "start_time": "2023-07-30T08:39:40.309289Z"
    }
   },
   "outputs": [
    {
     "name": "stdout",
     "output_type": "stream",
     "text": [
      "38\n"
     ]
    }
   ],
   "source": [
    "print(age)"
   ]
  },
  {
   "cell_type": "code",
   "execution_count": 56,
   "id": "8e6e7e75",
   "metadata": {
    "ExecuteTime": {
     "end_time": "2023-07-30T08:39:40.544656Z",
     "start_time": "2023-07-30T08:39:40.538582Z"
    }
   },
   "outputs": [],
   "source": [
    "height = 6.3 "
   ]
  },
  {
   "cell_type": "code",
   "execution_count": 57,
   "id": "4bdc1d27",
   "metadata": {
    "ExecuteTime": {
     "end_time": "2023-07-30T08:39:40.762169Z",
     "start_time": "2023-07-30T08:39:40.756085Z"
    }
   },
   "outputs": [
    {
     "name": "stdout",
     "output_type": "stream",
     "text": [
      "Who is one of the greatest athletes of all time; Ronaldo. How old is he? 38.\n"
     ]
    }
   ],
   "source": [
    "print(\n",
    "    \"Who is one of the greatest athletes of all time; {}. How old is he? {}.\".\n",
    "    format(jumper, age))"
   ]
  },
  {
   "cell_type": "markdown",
   "id": "6102b80a",
   "metadata": {},
   "source": [
    "## String Concatenation"
   ]
  },
  {
   "cell_type": "code",
   "execution_count": 58,
   "id": "4b6474ca",
   "metadata": {
    "ExecuteTime": {
     "end_time": "2023-07-30T08:39:41.214852Z",
     "start_time": "2023-07-30T08:39:41.209398Z"
    }
   },
   "outputs": [],
   "source": [
    "var1 = 'My name is' # String concatenation "
   ]
  },
  {
   "cell_type": "code",
   "execution_count": 59,
   "id": "70532b1f",
   "metadata": {
    "ExecuteTime": {
     "end_time": "2023-07-30T08:39:41.441054Z",
     "start_time": "2023-07-30T08:39:41.436804Z"
    }
   },
   "outputs": [],
   "source": [
    "var2 = 'Pablo' # full_name = var1 + ' ' + var2 "
   ]
  },
  {
   "cell_type": "code",
   "execution_count": 60,
   "id": "af6dbdc7",
   "metadata": {
    "ExecuteTime": {
     "end_time": "2023-07-30T08:39:41.679762Z",
     "start_time": "2023-07-30T08:39:41.674641Z"
    }
   },
   "outputs": [
    {
     "data": {
      "text/plain": [
       "'My name isPablo'"
      ]
     },
     "execution_count": 60,
     "metadata": {},
     "output_type": "execute_result"
    }
   ],
   "source": [
    "var1 + var2 # Concatenating both variables  "
   ]
  },
  {
   "cell_type": "code",
   "execution_count": 61,
   "id": "b72a2a9c",
   "metadata": {
    "ExecuteTime": {
     "end_time": "2023-07-30T08:39:41.890203Z",
     "start_time": "2023-07-30T08:39:41.875000Z"
    }
   },
   "outputs": [
    {
     "data": {
      "text/plain": [
       "'My name is Pablo'"
      ]
     },
     "execution_count": 61,
     "metadata": {},
     "output_type": "execute_result"
    }
   ],
   "source": [
    "var1 + ' ' + var2 "
   ]
  },
  {
   "cell_type": "markdown",
   "id": "463b8b3e",
   "metadata": {},
   "source": [
    "### The Join method"
   ]
  },
  {
   "cell_type": "code",
   "execution_count": 62,
   "id": "810c166c",
   "metadata": {
    "ExecuteTime": {
     "end_time": "2023-07-30T08:39:42.420880Z",
     "start_time": "2023-07-30T08:39:42.415368Z"
    }
   },
   "outputs": [
    {
     "data": {
      "text/plain": [
       "'My name isPablo'"
      ]
     },
     "execution_count": 62,
     "metadata": {},
     "output_type": "execute_result"
    }
   ],
   "source": [
    "''.join([var1, var2]) # The join method "
   ]
  },
  {
   "cell_type": "code",
   "execution_count": 63,
   "id": "c1fb761d",
   "metadata": {
    "ExecuteTime": {
     "end_time": "2023-07-30T08:39:42.983387Z",
     "start_time": "2023-07-30T08:39:42.920129Z"
    }
   },
   "outputs": [
    {
     "data": {
      "text/plain": [
       "'My name is Pablo'"
      ]
     },
     "execution_count": 63,
     "metadata": {},
     "output_type": "execute_result"
    }
   ],
   "source": [
    "' '.join([var1, var2])"
   ]
  },
  {
   "cell_type": "markdown",
   "id": "c258d912",
   "metadata": {},
   "source": [
    "## String Slicing "
   ]
  },
  {
   "cell_type": "code",
   "execution_count": 64,
   "id": "5badb060",
   "metadata": {
    "ExecuteTime": {
     "end_time": "2023-07-30T08:39:43.721346Z",
     "start_time": "2023-07-30T08:39:43.716933Z"
    }
   },
   "outputs": [],
   "source": [
    "name = 'Pablo' # String slicing "
   ]
  },
  {
   "cell_type": "code",
   "execution_count": 65,
   "id": "0cfc84dc",
   "metadata": {
    "ExecuteTime": {
     "end_time": "2023-07-30T08:39:43.993476Z",
     "start_time": "2023-07-30T08:39:43.981738Z"
    }
   },
   "outputs": [
    {
     "data": {
      "text/plain": [
       "'Pab'"
      ]
     },
     "execution_count": 65,
     "metadata": {},
     "output_type": "execute_result"
    }
   ],
   "source": [
    "name[0:3]"
   ]
  },
  {
   "cell_type": "code",
   "execution_count": 66,
   "id": "b68c5798",
   "metadata": {
    "ExecuteTime": {
     "end_time": "2023-07-30T08:39:44.490339Z",
     "start_time": "2023-07-30T08:39:44.481766Z"
    }
   },
   "outputs": [
    {
     "data": {
      "text/plain": [
       "'This is a Python Tutor'"
      ]
     },
     "execution_count": 66,
     "metadata": {},
     "output_type": "execute_result"
    }
   ],
   "source": [
    "'This is a Python Tutorials'[0:-4]"
   ]
  },
  {
   "cell_type": "code",
   "execution_count": 67,
   "id": "e8b09b4e",
   "metadata": {
    "ExecuteTime": {
     "end_time": "2023-07-30T08:39:44.986931Z",
     "start_time": "2023-07-30T08:39:44.981744Z"
    }
   },
   "outputs": [
    {
     "data": {
      "text/plain": [
       "'Pab'"
      ]
     },
     "execution_count": 67,
     "metadata": {},
     "output_type": "execute_result"
    }
   ],
   "source": [
    "name[0:3]"
   ]
  },
  {
   "cell_type": "code",
   "execution_count": 68,
   "id": "35996f78",
   "metadata": {
    "ExecuteTime": {
     "end_time": "2023-07-30T08:39:45.250119Z",
     "start_time": "2023-07-30T08:39:45.242331Z"
    }
   },
   "outputs": [
    {
     "data": {
      "text/plain": [
       "'This is a Python Tu'"
      ]
     },
     "execution_count": 68,
     "metadata": {},
     "output_type": "execute_result"
    }
   ],
   "source": [
    "'This is a Python Tutorial'[:-6]"
   ]
  },
  {
   "cell_type": "markdown",
   "id": "37bf8695",
   "metadata": {},
   "source": [
    "## Numeric Data Types"
   ]
  },
  {
   "cell_type": "code",
   "execution_count": 69,
   "id": "09eebf92",
   "metadata": {
    "ExecuteTime": {
     "end_time": "2023-07-30T08:39:45.682940Z",
     "start_time": "2023-07-30T08:39:45.679424Z"
    }
   },
   "outputs": [],
   "source": [
    "# Int - Integer\n",
    "# float - Float\n",
    "# Complex"
   ]
  },
  {
   "cell_type": "code",
   "execution_count": 70,
   "id": "39383888",
   "metadata": {
    "ExecuteTime": {
     "end_time": "2023-07-30T08:39:46.504722Z",
     "start_time": "2023-07-30T08:39:46.495942Z"
    }
   },
   "outputs": [],
   "source": [
    "number_1 = 10 # Assigned a value of type int to a variable number_1"
   ]
  },
  {
   "cell_type": "code",
   "execution_count": 71,
   "id": "2cd4397c",
   "metadata": {
    "ExecuteTime": {
     "end_time": "2023-07-30T08:39:46.756449Z",
     "start_time": "2023-07-30T08:39:46.750428Z"
    }
   },
   "outputs": [
    {
     "name": "stdout",
     "output_type": "stream",
     "text": [
      "10\n"
     ]
    }
   ],
   "source": [
    "print(number_1)"
   ]
  },
  {
   "cell_type": "code",
   "execution_count": 72,
   "id": "024cdea7",
   "metadata": {
    "ExecuteTime": {
     "end_time": "2023-07-30T08:39:47.075165Z",
     "start_time": "2023-07-30T08:39:47.048025Z"
    }
   },
   "outputs": [
    {
     "data": {
      "text/plain": [
       "int"
      ]
     },
     "execution_count": 72,
     "metadata": {},
     "output_type": "execute_result"
    }
   ],
   "source": [
    "type(number_1)"
   ]
  },
  {
   "cell_type": "code",
   "execution_count": 73,
   "id": "97fb8a5c",
   "metadata": {
    "ExecuteTime": {
     "end_time": "2023-07-30T08:39:47.239910Z",
     "start_time": "2023-07-30T08:39:47.232749Z"
    }
   },
   "outputs": [
    {
     "data": {
      "text/plain": [
       "['__abs__',\n",
       " '__add__',\n",
       " '__and__',\n",
       " '__bool__',\n",
       " '__ceil__',\n",
       " '__class__',\n",
       " '__delattr__',\n",
       " '__dir__',\n",
       " '__divmod__',\n",
       " '__doc__',\n",
       " '__eq__',\n",
       " '__float__',\n",
       " '__floor__',\n",
       " '__floordiv__',\n",
       " '__format__',\n",
       " '__ge__',\n",
       " '__getattribute__',\n",
       " '__getnewargs__',\n",
       " '__gt__',\n",
       " '__hash__',\n",
       " '__index__',\n",
       " '__init__',\n",
       " '__init_subclass__',\n",
       " '__int__',\n",
       " '__invert__',\n",
       " '__le__',\n",
       " '__lshift__',\n",
       " '__lt__',\n",
       " '__mod__',\n",
       " '__mul__',\n",
       " '__ne__',\n",
       " '__neg__',\n",
       " '__new__',\n",
       " '__or__',\n",
       " '__pos__',\n",
       " '__pow__',\n",
       " '__radd__',\n",
       " '__rand__',\n",
       " '__rdivmod__',\n",
       " '__reduce__',\n",
       " '__reduce_ex__',\n",
       " '__repr__',\n",
       " '__rfloordiv__',\n",
       " '__rlshift__',\n",
       " '__rmod__',\n",
       " '__rmul__',\n",
       " '__ror__',\n",
       " '__round__',\n",
       " '__rpow__',\n",
       " '__rrshift__',\n",
       " '__rshift__',\n",
       " '__rsub__',\n",
       " '__rtruediv__',\n",
       " '__rxor__',\n",
       " '__setattr__',\n",
       " '__sizeof__',\n",
       " '__str__',\n",
       " '__sub__',\n",
       " '__subclasshook__',\n",
       " '__truediv__',\n",
       " '__trunc__',\n",
       " '__xor__',\n",
       " 'as_integer_ratio',\n",
       " 'bit_count',\n",
       " 'bit_length',\n",
       " 'conjugate',\n",
       " 'denominator',\n",
       " 'from_bytes',\n",
       " 'imag',\n",
       " 'numerator',\n",
       " 'real',\n",
       " 'to_bytes']"
      ]
     },
     "execution_count": 73,
     "metadata": {},
     "output_type": "execute_result"
    }
   ],
   "source": [
    "dir(number_1)"
   ]
  },
  {
   "cell_type": "markdown",
   "id": "1209de2b",
   "metadata": {},
   "source": [
    "### Int Methods\n",
    "\n",
    "'as_integer_ratio',\n",
    " 'bit_length',\n",
    " 'conjugate',\n",
    " 'denominator',\n",
    " 'from_bytes',\n",
    " 'imag',\n",
    " 'numerator',\n",
    " 'real',\n",
    " 'to_bytes'"
   ]
  },
  {
   "cell_type": "code",
   "execution_count": 74,
   "id": "7317f454",
   "metadata": {
    "ExecuteTime": {
     "end_time": "2023-07-30T08:39:47.751791Z",
     "start_time": "2023-07-30T08:39:47.745136Z"
    }
   },
   "outputs": [],
   "source": [
    "number_2 = '10'"
   ]
  },
  {
   "cell_type": "code",
   "execution_count": 75,
   "id": "ed5b63b7",
   "metadata": {
    "ExecuteTime": {
     "end_time": "2023-07-30T08:39:47.962148Z",
     "start_time": "2023-07-30T08:39:47.956897Z"
    }
   },
   "outputs": [
    {
     "data": {
      "text/plain": [
       "str"
      ]
     },
     "execution_count": 75,
     "metadata": {},
     "output_type": "execute_result"
    }
   ],
   "source": [
    "type(number_2)"
   ]
  },
  {
   "cell_type": "code",
   "execution_count": 76,
   "id": "7f18a784",
   "metadata": {
    "ExecuteTime": {
     "end_time": "2023-07-30T08:39:48.208821Z",
     "start_time": "2023-07-30T08:39:48.205449Z"
    }
   },
   "outputs": [],
   "source": [
    "number_2 = int(number_2)"
   ]
  },
  {
   "cell_type": "code",
   "execution_count": 77,
   "id": "34e09509",
   "metadata": {
    "ExecuteTime": {
     "end_time": "2023-07-30T08:39:48.437919Z",
     "start_time": "2023-07-30T08:39:48.432502Z"
    }
   },
   "outputs": [
    {
     "data": {
      "text/plain": [
       "int"
      ]
     },
     "execution_count": 77,
     "metadata": {},
     "output_type": "execute_result"
    }
   ],
   "source": [
    "type(number_2)"
   ]
  },
  {
   "cell_type": "markdown",
   "id": "b4f7fc50",
   "metadata": {},
   "source": [
    "## Floats"
   ]
  },
  {
   "cell_type": "code",
   "execution_count": 78,
   "id": "e59eb716",
   "metadata": {
    "ExecuteTime": {
     "end_time": "2023-07-30T08:39:48.894330Z",
     "start_time": "2023-07-30T08:39:48.886817Z"
    }
   },
   "outputs": [
    {
     "data": {
      "text/plain": [
       "10"
      ]
     },
     "execution_count": 78,
     "metadata": {},
     "output_type": "execute_result"
    }
   ],
   "source": [
    "# 10\n",
    "number_1"
   ]
  },
  {
   "cell_type": "code",
   "execution_count": 79,
   "id": "5a99b3f1",
   "metadata": {
    "ExecuteTime": {
     "end_time": "2023-07-30T08:39:49.142728Z",
     "start_time": "2023-07-30T08:39:49.139656Z"
    }
   },
   "outputs": [],
   "source": [
    "number_3 = 10.0 # Assigned the value 10.0 (float) to the variable number_3 "
   ]
  },
  {
   "cell_type": "code",
   "execution_count": 80,
   "id": "861111f7",
   "metadata": {
    "ExecuteTime": {
     "end_time": "2023-07-30T08:39:49.432761Z",
     "start_time": "2023-07-30T08:39:49.413608Z"
    }
   },
   "outputs": [
    {
     "data": {
      "text/plain": [
       "float"
      ]
     },
     "execution_count": 80,
     "metadata": {},
     "output_type": "execute_result"
    }
   ],
   "source": [
    "type(number_3)"
   ]
  },
  {
   "cell_type": "code",
   "execution_count": 81,
   "id": "e8d6d2ee",
   "metadata": {
    "ExecuteTime": {
     "end_time": "2023-07-30T08:39:49.672903Z",
     "start_time": "2023-07-30T08:39:49.636277Z"
    }
   },
   "outputs": [
    {
     "data": {
      "text/plain": [
       "int"
      ]
     },
     "execution_count": 81,
     "metadata": {},
     "output_type": "execute_result"
    }
   ],
   "source": [
    "type(number_2) "
   ]
  },
  {
   "cell_type": "code",
   "execution_count": 82,
   "id": "17bd9a42",
   "metadata": {
    "ExecuteTime": {
     "end_time": "2023-07-30T08:39:49.850924Z",
     "start_time": "2023-07-30T08:39:49.844027Z"
    }
   },
   "outputs": [],
   "source": [
    "number_2_float = float(number_2)"
   ]
  },
  {
   "cell_type": "code",
   "execution_count": 83,
   "id": "fb5e10a7",
   "metadata": {
    "ExecuteTime": {
     "end_time": "2023-07-30T08:39:50.079655Z",
     "start_time": "2023-07-30T08:39:50.074006Z"
    }
   },
   "outputs": [
    {
     "data": {
      "text/plain": [
       "float"
      ]
     },
     "execution_count": 83,
     "metadata": {},
     "output_type": "execute_result"
    }
   ],
   "source": [
    "type(number_2_float)"
   ]
  },
  {
   "cell_type": "code",
   "execution_count": 84,
   "id": "d9be91ee",
   "metadata": {
    "ExecuteTime": {
     "end_time": "2023-07-30T08:39:50.347230Z",
     "start_time": "2023-07-30T08:39:50.336880Z"
    }
   },
   "outputs": [
    {
     "data": {
      "text/plain": [
       "10.0"
      ]
     },
     "execution_count": 84,
     "metadata": {},
     "output_type": "execute_result"
    }
   ],
   "source": [
    "number_2_float"
   ]
  },
  {
   "cell_type": "code",
   "execution_count": 85,
   "id": "bcd81d09",
   "metadata": {
    "ExecuteTime": {
     "end_time": "2023-07-30T08:39:50.568053Z",
     "start_time": "2023-07-30T08:39:50.559291Z"
    }
   },
   "outputs": [
    {
     "data": {
      "text/plain": [
       "['__abs__',\n",
       " '__add__',\n",
       " '__bool__',\n",
       " '__ceil__',\n",
       " '__class__',\n",
       " '__delattr__',\n",
       " '__dir__',\n",
       " '__divmod__',\n",
       " '__doc__',\n",
       " '__eq__',\n",
       " '__float__',\n",
       " '__floor__',\n",
       " '__floordiv__',\n",
       " '__format__',\n",
       " '__ge__',\n",
       " '__getattribute__',\n",
       " '__getformat__',\n",
       " '__getnewargs__',\n",
       " '__gt__',\n",
       " '__hash__',\n",
       " '__init__',\n",
       " '__init_subclass__',\n",
       " '__int__',\n",
       " '__le__',\n",
       " '__lt__',\n",
       " '__mod__',\n",
       " '__mul__',\n",
       " '__ne__',\n",
       " '__neg__',\n",
       " '__new__',\n",
       " '__pos__',\n",
       " '__pow__',\n",
       " '__radd__',\n",
       " '__rdivmod__',\n",
       " '__reduce__',\n",
       " '__reduce_ex__',\n",
       " '__repr__',\n",
       " '__rfloordiv__',\n",
       " '__rmod__',\n",
       " '__rmul__',\n",
       " '__round__',\n",
       " '__rpow__',\n",
       " '__rsub__',\n",
       " '__rtruediv__',\n",
       " '__setattr__',\n",
       " '__setformat__',\n",
       " '__sizeof__',\n",
       " '__str__',\n",
       " '__sub__',\n",
       " '__subclasshook__',\n",
       " '__truediv__',\n",
       " '__trunc__',\n",
       " 'as_integer_ratio',\n",
       " 'conjugate',\n",
       " 'fromhex',\n",
       " 'hex',\n",
       " 'imag',\n",
       " 'is_integer',\n",
       " 'real']"
      ]
     },
     "execution_count": 85,
     "metadata": {},
     "output_type": "execute_result"
    }
   ],
   "source": [
    "dir(number_2_float)"
   ]
  },
  {
   "cell_type": "markdown",
   "id": "8d487241",
   "metadata": {},
   "source": [
    "## Complex Numbers"
   ]
  },
  {
   "cell_type": "code",
   "execution_count": 86,
   "id": "c622bebf",
   "metadata": {
    "ExecuteTime": {
     "end_time": "2023-07-30T08:39:51.024601Z",
     "start_time": "2023-07-30T08:39:51.020833Z"
    }
   },
   "outputs": [],
   "source": [
    "num_int = 15 # Int"
   ]
  },
  {
   "cell_type": "code",
   "execution_count": 87,
   "id": "b50e66ed",
   "metadata": {
    "ExecuteTime": {
     "end_time": "2023-07-30T08:39:51.263351Z",
     "start_time": "2023-07-30T08:39:51.257634Z"
    }
   },
   "outputs": [
    {
     "data": {
      "text/plain": [
       "int"
      ]
     },
     "execution_count": 87,
     "metadata": {},
     "output_type": "execute_result"
    }
   ],
   "source": [
    "type(num_int)"
   ]
  },
  {
   "cell_type": "code",
   "execution_count": 88,
   "id": "14b72267",
   "metadata": {
    "ExecuteTime": {
     "end_time": "2023-07-30T08:39:51.484588Z",
     "start_time": "2023-07-30T08:39:51.478237Z"
    }
   },
   "outputs": [],
   "source": [
    "num_float = 15.5 "
   ]
  },
  {
   "cell_type": "code",
   "execution_count": 89,
   "id": "21d4d088",
   "metadata": {
    "ExecuteTime": {
     "end_time": "2023-07-30T08:39:51.722138Z",
     "start_time": "2023-07-30T08:39:51.716325Z"
    }
   },
   "outputs": [
    {
     "data": {
      "text/plain": [
       "float"
      ]
     },
     "execution_count": 89,
     "metadata": {},
     "output_type": "execute_result"
    }
   ],
   "source": [
    "type(num_float)"
   ]
  },
  {
   "cell_type": "code",
   "execution_count": 90,
   "id": "8c31af50",
   "metadata": {
    "ExecuteTime": {
     "end_time": "2023-07-30T08:39:51.957957Z",
     "start_time": "2023-07-30T08:39:51.953158Z"
    }
   },
   "outputs": [],
   "source": [
    "complex_num = 4 + 3j "
   ]
  },
  {
   "cell_type": "code",
   "execution_count": 91,
   "id": "9efcd474",
   "metadata": {
    "ExecuteTime": {
     "end_time": "2023-07-30T08:39:52.211666Z",
     "start_time": "2023-07-30T08:39:52.203338Z"
    }
   },
   "outputs": [
    {
     "data": {
      "text/plain": [
       "complex"
      ]
     },
     "execution_count": 91,
     "metadata": {},
     "output_type": "execute_result"
    }
   ],
   "source": [
    "type(complex_num)"
   ]
  },
  {
   "cell_type": "code",
   "execution_count": 92,
   "id": "7e01bfb7",
   "metadata": {
    "ExecuteTime": {
     "end_time": "2023-07-30T08:39:52.429975Z",
     "start_time": "2023-07-30T08:39:52.424543Z"
    }
   },
   "outputs": [
    {
     "data": {
      "text/plain": [
       "4.0"
      ]
     },
     "execution_count": 92,
     "metadata": {},
     "output_type": "execute_result"
    }
   ],
   "source": [
    "complex_num.real"
   ]
  },
  {
   "cell_type": "code",
   "execution_count": 93,
   "id": "4304275f",
   "metadata": {
    "ExecuteTime": {
     "end_time": "2023-07-30T08:39:52.653258Z",
     "start_time": "2023-07-30T08:39:52.646417Z"
    }
   },
   "outputs": [
    {
     "data": {
      "text/plain": [
       "3.0"
      ]
     },
     "execution_count": 93,
     "metadata": {},
     "output_type": "execute_result"
    }
   ],
   "source": [
    "complex_num.imag"
   ]
  },
  {
   "cell_type": "markdown",
   "id": "6c5a7bdd",
   "metadata": {},
   "source": [
    "## Numeric Operation in Python"
   ]
  },
  {
   "cell_type": "code",
   "execution_count": 94,
   "id": "ff26db73",
   "metadata": {
    "ExecuteTime": {
     "end_time": "2023-07-30T08:39:53.143727Z",
     "start_time": "2023-07-30T08:39:53.140263Z"
    }
   },
   "outputs": [],
   "source": [
    "number_4 = 100 # Assigned 100 to a variable\n",
    "number_5 = 10 # Assigned 10 to a variable"
   ]
  },
  {
   "cell_type": "code",
   "execution_count": 95,
   "id": "d3edb158",
   "metadata": {
    "ExecuteTime": {
     "end_time": "2023-07-30T08:39:53.377888Z",
     "start_time": "2023-07-30T08:39:53.372104Z"
    }
   },
   "outputs": [
    {
     "data": {
      "text/plain": [
       "110"
      ]
     },
     "execution_count": 95,
     "metadata": {},
     "output_type": "execute_result"
    }
   ],
   "source": [
    "number_4 + number_5 # Addition "
   ]
  },
  {
   "cell_type": "code",
   "execution_count": 96,
   "id": "9e194acc",
   "metadata": {
    "ExecuteTime": {
     "end_time": "2023-07-30T08:39:53.632991Z",
     "start_time": "2023-07-30T08:39:53.626513Z"
    }
   },
   "outputs": [
    {
     "data": {
      "text/plain": [
       "90"
      ]
     },
     "execution_count": 96,
     "metadata": {},
     "output_type": "execute_result"
    }
   ],
   "source": [
    "number_4 - number_5 # Subtraction"
   ]
  },
  {
   "cell_type": "code",
   "execution_count": 97,
   "id": "ca9b4e0a",
   "metadata": {
    "ExecuteTime": {
     "end_time": "2023-07-30T08:39:53.867901Z",
     "start_time": "2023-07-30T08:39:53.859535Z"
    }
   },
   "outputs": [
    {
     "data": {
      "text/plain": [
       "1000"
      ]
     },
     "execution_count": 97,
     "metadata": {},
     "output_type": "execute_result"
    }
   ],
   "source": [
    "number_4 * number_5 # Multiplication "
   ]
  },
  {
   "cell_type": "code",
   "execution_count": 98,
   "id": "2d9fdf7d",
   "metadata": {
    "ExecuteTime": {
     "end_time": "2023-07-30T08:39:54.106702Z",
     "start_time": "2023-07-30T08:39:54.102405Z"
    }
   },
   "outputs": [
    {
     "data": {
      "text/plain": [
       "10.0"
      ]
     },
     "execution_count": 98,
     "metadata": {},
     "output_type": "execute_result"
    }
   ],
   "source": [
    "number_4 / number_5 # Division "
   ]
  },
  {
   "cell_type": "code",
   "execution_count": 99,
   "id": "c669e20e",
   "metadata": {
    "ExecuteTime": {
     "end_time": "2023-07-30T08:39:54.349881Z",
     "start_time": "2023-07-30T08:39:54.342933Z"
    }
   },
   "outputs": [
    {
     "data": {
      "text/plain": [
       "10"
      ]
     },
     "execution_count": 99,
     "metadata": {},
     "output_type": "execute_result"
    }
   ],
   "source": [
    "number_4 // number_5 # Floored Division"
   ]
  },
  {
   "cell_type": "code",
   "execution_count": 100,
   "id": "be96ff0a",
   "metadata": {
    "ExecuteTime": {
     "end_time": "2023-07-30T08:39:54.585813Z",
     "start_time": "2023-07-30T08:39:54.579243Z"
    }
   },
   "outputs": [
    {
     "data": {
      "text/plain": [
       "3.3333333333333335"
      ]
     },
     "execution_count": 100,
     "metadata": {},
     "output_type": "execute_result"
    }
   ],
   "source": [
    "10 / 3  "
   ]
  },
  {
   "cell_type": "code",
   "execution_count": 101,
   "id": "f8fcc61d",
   "metadata": {
    "ExecuteTime": {
     "end_time": "2023-07-30T08:39:54.837501Z",
     "start_time": "2023-07-30T08:39:54.828317Z"
    }
   },
   "outputs": [
    {
     "data": {
      "text/plain": [
       "0"
      ]
     },
     "execution_count": 101,
     "metadata": {},
     "output_type": "execute_result"
    }
   ],
   "source": [
    "number_4 % number_5 # Modulus  "
   ]
  },
  {
   "cell_type": "code",
   "execution_count": 102,
   "id": "cf151644",
   "metadata": {
    "ExecuteTime": {
     "end_time": "2023-07-30T08:39:55.060565Z",
     "start_time": "2023-07-30T08:39:55.054920Z"
    }
   },
   "outputs": [
    {
     "data": {
      "text/plain": [
       "4"
      ]
     },
     "execution_count": 102,
     "metadata": {},
     "output_type": "execute_result"
    }
   ],
   "source": [
    "100 % 8 "
   ]
  },
  {
   "cell_type": "markdown",
   "id": "d682f0e2",
   "metadata": {},
   "source": [
    "### Augmented Assignment "
   ]
  },
  {
   "cell_type": "code",
   "execution_count": 103,
   "id": "fdef1a44",
   "metadata": {
    "ExecuteTime": {
     "end_time": "2023-07-30T08:39:55.511711Z",
     "start_time": "2023-07-30T08:39:55.508749Z"
    }
   },
   "outputs": [],
   "source": [
    "# += -= *=  "
   ]
  },
  {
   "cell_type": "code",
   "execution_count": 104,
   "id": "3536c87f",
   "metadata": {
    "ExecuteTime": {
     "end_time": "2023-07-30T08:39:55.757996Z",
     "start_time": "2023-07-30T08:39:55.752654Z"
    }
   },
   "outputs": [],
   "source": [
    "number_6 = 10 "
   ]
  },
  {
   "cell_type": "code",
   "execution_count": 105,
   "id": "a9b9e8a8",
   "metadata": {
    "ExecuteTime": {
     "end_time": "2023-07-30T08:39:56.011869Z",
     "start_time": "2023-07-30T08:39:56.009247Z"
    }
   },
   "outputs": [],
   "source": [
    "number_6 = number_6 + 10 "
   ]
  },
  {
   "cell_type": "code",
   "execution_count": 106,
   "id": "b0a33a4f",
   "metadata": {
    "ExecuteTime": {
     "end_time": "2023-07-30T08:39:56.236450Z",
     "start_time": "2023-07-30T08:39:56.228662Z"
    }
   },
   "outputs": [
    {
     "data": {
      "text/plain": [
       "20"
      ]
     },
     "execution_count": 106,
     "metadata": {},
     "output_type": "execute_result"
    }
   ],
   "source": [
    "number_6"
   ]
  },
  {
   "cell_type": "code",
   "execution_count": 107,
   "id": "eb6a13b2",
   "metadata": {
    "ExecuteTime": {
     "end_time": "2023-07-30T08:39:56.472269Z",
     "start_time": "2023-07-30T08:39:56.465968Z"
    }
   },
   "outputs": [],
   "source": [
    "number_6 += 10  # Augmented Assignment "
   ]
  },
  {
   "cell_type": "code",
   "execution_count": 108,
   "id": "4253f433",
   "metadata": {
    "ExecuteTime": {
     "end_time": "2023-07-30T08:39:56.715407Z",
     "start_time": "2023-07-30T08:39:56.707896Z"
    }
   },
   "outputs": [
    {
     "data": {
      "text/plain": [
       "30"
      ]
     },
     "execution_count": 108,
     "metadata": {},
     "output_type": "execute_result"
    }
   ],
   "source": [
    "number_6"
   ]
  },
  {
   "cell_type": "code",
   "execution_count": 109,
   "id": "3fdee492",
   "metadata": {
    "ExecuteTime": {
     "end_time": "2023-07-30T08:39:56.952313Z",
     "start_time": "2023-07-30T08:39:56.942220Z"
    }
   },
   "outputs": [],
   "source": [
    "number_6 *= 10"
   ]
  },
  {
   "cell_type": "code",
   "execution_count": 110,
   "id": "5db2bac7",
   "metadata": {
    "ExecuteTime": {
     "end_time": "2023-07-30T08:39:57.176220Z",
     "start_time": "2023-07-30T08:39:57.162082Z"
    }
   },
   "outputs": [
    {
     "data": {
      "text/plain": [
       "300"
      ]
     },
     "execution_count": 110,
     "metadata": {},
     "output_type": "execute_result"
    }
   ],
   "source": [
    "number_6"
   ]
  },
  {
   "cell_type": "markdown",
   "id": "c50f49d5",
   "metadata": {},
   "source": [
    "## Introduction to Python Lists"
   ]
  },
  {
   "cell_type": "code",
   "execution_count": 111,
   "id": "3b079042",
   "metadata": {
    "ExecuteTime": {
     "end_time": "2023-07-30T08:39:57.641615Z",
     "start_time": "2023-07-30T08:39:57.636161Z"
    }
   },
   "outputs": [],
   "source": [
    "# It is mutable - changeable & modifiable\n",
    "# Elements inside a list have different data types \n",
    "# A list is sequential\n",
    "# Create a list using []"
   ]
  },
  {
   "cell_type": "markdown",
   "id": "4071d3ec",
   "metadata": {},
   "source": [
    "### Create a list "
   ]
  },
  {
   "cell_type": "code",
   "execution_count": 112,
   "id": "b64d2329",
   "metadata": {
    "ExecuteTime": {
     "end_time": "2023-07-30T08:39:58.116807Z",
     "start_time": "2023-07-30T08:39:58.109629Z"
    }
   },
   "outputs": [],
   "source": [
    "list_elements = ['Pablo', 2023, 'April', True, 456]"
   ]
  },
  {
   "cell_type": "code",
   "execution_count": 113,
   "id": "5d377f12",
   "metadata": {
    "ExecuteTime": {
     "end_time": "2023-07-30T08:39:58.345455Z",
     "start_time": "2023-07-30T08:39:58.340087Z"
    }
   },
   "outputs": [
    {
     "name": "stdout",
     "output_type": "stream",
     "text": [
      "['Pablo', 2023, 'April', True, 456]\n"
     ]
    }
   ],
   "source": [
    "print(list_elements)"
   ]
  },
  {
   "cell_type": "markdown",
   "id": "f2865aab",
   "metadata": {},
   "source": [
    "### Another way to create a list"
   ]
  },
  {
   "cell_type": "code",
   "execution_count": 114,
   "id": "907e3893",
   "metadata": {
    "ExecuteTime": {
     "end_time": "2023-07-30T08:39:58.824200Z",
     "start_time": "2023-07-30T08:39:58.819044Z"
    }
   },
   "outputs": [],
   "source": [
    "# A list function\n",
    "set_char = 'A set of characters'"
   ]
  },
  {
   "cell_type": "code",
   "execution_count": 115,
   "id": "ddaf52fb",
   "metadata": {
    "ExecuteTime": {
     "end_time": "2023-07-30T08:39:59.059297Z",
     "start_time": "2023-07-30T08:39:59.053247Z"
    }
   },
   "outputs": [
    {
     "data": {
      "text/plain": [
       "str"
      ]
     },
     "execution_count": 115,
     "metadata": {},
     "output_type": "execute_result"
    }
   ],
   "source": [
    "type(set_char)"
   ]
  },
  {
   "cell_type": "code",
   "execution_count": 116,
   "id": "a5933c37",
   "metadata": {
    "ExecuteTime": {
     "end_time": "2023-07-30T08:39:59.279481Z",
     "start_time": "2023-07-30T08:39:59.276295Z"
    }
   },
   "outputs": [],
   "source": [
    "set_char_list = list(set_char)"
   ]
  },
  {
   "cell_type": "code",
   "execution_count": 117,
   "id": "3cdd3a6c",
   "metadata": {
    "ExecuteTime": {
     "end_time": "2023-07-30T08:39:59.512793Z",
     "start_time": "2023-07-30T08:39:59.504353Z"
    }
   },
   "outputs": [
    {
     "data": {
      "text/plain": [
       "list"
      ]
     },
     "execution_count": 117,
     "metadata": {},
     "output_type": "execute_result"
    }
   ],
   "source": [
    "type(set_char_list)"
   ]
  },
  {
   "cell_type": "code",
   "execution_count": 118,
   "id": "32778def",
   "metadata": {
    "ExecuteTime": {
     "end_time": "2023-07-30T08:39:59.745242Z",
     "start_time": "2023-07-30T08:39:59.738493Z"
    }
   },
   "outputs": [
    {
     "name": "stdout",
     "output_type": "stream",
     "text": [
      "['A', ' ', 's', 'e', 't', ' ', 'o', 'f', ' ', 'c', 'h', 'a', 'r', 'a', 'c', 't', 'e', 'r', 's']\n"
     ]
    }
   ],
   "source": [
    "print(set_char_list)"
   ]
  },
  {
   "cell_type": "markdown",
   "id": "3199ce8a",
   "metadata": {},
   "source": [
    "### Create an empty list"
   ]
  },
  {
   "cell_type": "code",
   "execution_count": 119,
   "id": "1eaf22f9",
   "metadata": {
    "ExecuteTime": {
     "end_time": "2023-07-30T08:40:00.201126Z",
     "start_time": "2023-07-30T08:40:00.194719Z"
    }
   },
   "outputs": [],
   "source": [
    "empty_list = []"
   ]
  },
  {
   "cell_type": "code",
   "execution_count": 120,
   "id": "7fc7751e",
   "metadata": {
    "ExecuteTime": {
     "end_time": "2023-07-30T08:40:00.427697Z",
     "start_time": "2023-07-30T08:40:00.419080Z"
    }
   },
   "outputs": [
    {
     "data": {
      "text/plain": [
       "[]"
      ]
     },
     "execution_count": 120,
     "metadata": {},
     "output_type": "execute_result"
    }
   ],
   "source": [
    "empty_list"
   ]
  },
  {
   "cell_type": "code",
   "execution_count": 121,
   "id": "1853cb29",
   "metadata": {
    "ExecuteTime": {
     "end_time": "2023-07-30T08:40:00.660846Z",
     "start_time": "2023-07-30T08:40:00.657219Z"
    }
   },
   "outputs": [],
   "source": [
    "empty_list1 = list()"
   ]
  },
  {
   "cell_type": "code",
   "execution_count": 122,
   "id": "f97b0fb5",
   "metadata": {
    "ExecuteTime": {
     "end_time": "2023-07-30T08:40:00.881437Z",
     "start_time": "2023-07-30T08:40:00.875554Z"
    }
   },
   "outputs": [
    {
     "data": {
      "text/plain": [
       "[]"
      ]
     },
     "execution_count": 122,
     "metadata": {},
     "output_type": "execute_result"
    }
   ],
   "source": [
    "empty_list1"
   ]
  },
  {
   "cell_type": "markdown",
   "id": "2acab387",
   "metadata": {},
   "source": [
    "## Python List Methods"
   ]
  },
  {
   "cell_type": "code",
   "execution_count": 123,
   "id": "9e12bd41",
   "metadata": {
    "ExecuteTime": {
     "end_time": "2023-07-30T08:40:02.214075Z",
     "start_time": "2023-07-30T08:40:02.185945Z"
    }
   },
   "outputs": [
    {
     "data": {
      "text/plain": [
       "['__add__',\n",
       " '__class__',\n",
       " '__class_getitem__',\n",
       " '__contains__',\n",
       " '__delattr__',\n",
       " '__delitem__',\n",
       " '__dir__',\n",
       " '__doc__',\n",
       " '__eq__',\n",
       " '__format__',\n",
       " '__ge__',\n",
       " '__getattribute__',\n",
       " '__getitem__',\n",
       " '__gt__',\n",
       " '__hash__',\n",
       " '__iadd__',\n",
       " '__imul__',\n",
       " '__init__',\n",
       " '__init_subclass__',\n",
       " '__iter__',\n",
       " '__le__',\n",
       " '__len__',\n",
       " '__lt__',\n",
       " '__mul__',\n",
       " '__ne__',\n",
       " '__new__',\n",
       " '__reduce__',\n",
       " '__reduce_ex__',\n",
       " '__repr__',\n",
       " '__reversed__',\n",
       " '__rmul__',\n",
       " '__setattr__',\n",
       " '__setitem__',\n",
       " '__sizeof__',\n",
       " '__str__',\n",
       " '__subclasshook__',\n",
       " 'append',\n",
       " 'clear',\n",
       " 'copy',\n",
       " 'count',\n",
       " 'extend',\n",
       " 'index',\n",
       " 'insert',\n",
       " 'pop',\n",
       " 'remove',\n",
       " 'reverse',\n",
       " 'sort']"
      ]
     },
     "execution_count": 123,
     "metadata": {},
     "output_type": "execute_result"
    }
   ],
   "source": [
    "dir(list_numbers)"
   ]
  },
  {
   "cell_type": "code",
   "execution_count": 124,
   "id": "85e33b37",
   "metadata": {
    "ExecuteTime": {
     "end_time": "2023-07-30T08:40:02.445669Z",
     "start_time": "2023-07-30T08:40:02.440990Z"
    }
   },
   "outputs": [],
   "source": [
    "# Two types of methods: Dunder method or Magic method / Methods"
   ]
  },
  {
   "cell_type": "markdown",
   "id": "0d8290b3",
   "metadata": {},
   "source": [
    "### List Methods\n",
    "\n",
    "'append',\n",
    " 'clear',\n",
    " 'copy',\n",
    " 'count',\n",
    " 'extend',\n",
    " 'index',\n",
    " 'insert',\n",
    " 'pop',\n",
    " 'remove',\n",
    " 'reverse',\n",
    " 'sort'"
   ]
  },
  {
   "cell_type": "code",
   "execution_count": 125,
   "id": "974677e4",
   "metadata": {
    "ExecuteTime": {
     "end_time": "2023-07-30T08:40:02.878821Z",
     "start_time": "2023-07-30T08:40:02.874519Z"
    }
   },
   "outputs": [
    {
     "data": {
      "text/plain": [
       "[1, 2, 3, 4, 5]"
      ]
     },
     "execution_count": 125,
     "metadata": {},
     "output_type": "execute_result"
    }
   ],
   "source": [
    "# Add to a list - Methods\n",
    "# append, extend & insert\n",
    "list_numbers"
   ]
  },
  {
   "cell_type": "code",
   "execution_count": 126,
   "id": "7cbf5259",
   "metadata": {
    "ExecuteTime": {
     "end_time": "2023-07-30T08:40:03.097963Z",
     "start_time": "2023-07-30T08:40:03.091882Z"
    }
   },
   "outputs": [],
   "source": [
    "list_numbers.append(6) # Append method"
   ]
  },
  {
   "cell_type": "code",
   "execution_count": 127,
   "id": "ed1461cf",
   "metadata": {
    "ExecuteTime": {
     "end_time": "2023-07-30T08:40:03.338905Z",
     "start_time": "2023-07-30T08:40:03.329491Z"
    }
   },
   "outputs": [
    {
     "data": {
      "text/plain": [
       "[1, 2, 3, 4, 5, 6]"
      ]
     },
     "execution_count": 127,
     "metadata": {},
     "output_type": "execute_result"
    }
   ],
   "source": [
    "list_numbers"
   ]
  },
  {
   "cell_type": "code",
   "execution_count": 128,
   "id": "9e575a8a",
   "metadata": {
    "ExecuteTime": {
     "end_time": "2023-07-30T08:40:03.583832Z",
     "start_time": "2023-07-30T08:40:03.572199Z"
    }
   },
   "outputs": [],
   "source": [
    "# Insert, you can tell were to insert an element\n",
    "list_numbers.insert(5, 7) # Insert"
   ]
  },
  {
   "cell_type": "code",
   "execution_count": 129,
   "id": "47d5875b",
   "metadata": {
    "ExecuteTime": {
     "end_time": "2023-07-30T08:40:03.830132Z",
     "start_time": "2023-07-30T08:40:03.812326Z"
    }
   },
   "outputs": [
    {
     "data": {
      "text/plain": [
       "[1, 2, 3, 4, 5, 7, 6]"
      ]
     },
     "execution_count": 129,
     "metadata": {},
     "output_type": "execute_result"
    }
   ],
   "source": [
    "list_numbers"
   ]
  },
  {
   "cell_type": "code",
   "execution_count": 130,
   "id": "38d6caf1",
   "metadata": {
    "ExecuteTime": {
     "end_time": "2023-07-30T08:40:04.069003Z",
     "start_time": "2023-07-30T08:40:04.065246Z"
    }
   },
   "outputs": [],
   "source": [
    "# Extend method\n",
    "list_numbers1 = [8, 9, 10, 11, 12]"
   ]
  },
  {
   "cell_type": "code",
   "execution_count": 131,
   "id": "139c269d",
   "metadata": {
    "ExecuteTime": {
     "end_time": "2023-07-30T08:40:04.327040Z",
     "start_time": "2023-07-30T08:40:04.321200Z"
    }
   },
   "outputs": [],
   "source": [
    "list_numbers.extend(list_numbers1) # Extend method"
   ]
  },
  {
   "cell_type": "code",
   "execution_count": 132,
   "id": "7892c852",
   "metadata": {
    "ExecuteTime": {
     "end_time": "2023-07-30T08:40:04.560104Z",
     "start_time": "2023-07-30T08:40:04.546156Z"
    }
   },
   "outputs": [
    {
     "name": "stdout",
     "output_type": "stream",
     "text": [
      "[1, 2, 3, 4, 5, 7, 6, 8, 9, 10, 11, 12]\n"
     ]
    }
   ],
   "source": [
    "print(list_numbers)"
   ]
  },
  {
   "cell_type": "markdown",
   "id": "064a2548",
   "metadata": {},
   "source": [
    "### Accessing, Changing/Deleting from a List"
   ]
  },
  {
   "cell_type": "code",
   "execution_count": 133,
   "id": "31268f93",
   "metadata": {
    "ExecuteTime": {
     "end_time": "2023-07-30T08:40:05.113577Z",
     "start_time": "2023-07-30T08:40:05.091296Z"
    }
   },
   "outputs": [
    {
     "data": {
      "text/plain": [
       "[1, 2, 3, 4, 5, 7, 6, 8, 9, 10, 11, 12]"
      ]
     },
     "execution_count": 133,
     "metadata": {},
     "output_type": "execute_result"
    }
   ],
   "source": [
    "list_numbers"
   ]
  },
  {
   "cell_type": "code",
   "execution_count": 134,
   "id": "58194d0d",
   "metadata": {
    "ExecuteTime": {
     "end_time": "2023-07-30T08:40:05.319442Z",
     "start_time": "2023-07-30T08:40:05.312057Z"
    }
   },
   "outputs": [
    {
     "data": {
      "text/plain": [
       "[8, 9, 10, 11, 12]"
      ]
     },
     "execution_count": 134,
     "metadata": {},
     "output_type": "execute_result"
    }
   ],
   "source": [
    "list_numbers1"
   ]
  },
  {
   "cell_type": "code",
   "execution_count": 135,
   "id": "99b00c0d",
   "metadata": {
    "ExecuteTime": {
     "end_time": "2023-07-30T08:40:05.533755Z",
     "start_time": "2023-07-30T08:40:05.527825Z"
    }
   },
   "outputs": [
    {
     "data": {
      "text/plain": [
       "2"
      ]
     },
     "execution_count": 135,
     "metadata": {},
     "output_type": "execute_result"
    }
   ],
   "source": [
    "list_numbers[1] # Accessing elements using index"
   ]
  },
  {
   "cell_type": "code",
   "execution_count": 136,
   "id": "d095604c",
   "metadata": {
    "ExecuteTime": {
     "end_time": "2023-07-30T08:40:05.797248Z",
     "start_time": "2023-07-30T08:40:05.794143Z"
    }
   },
   "outputs": [],
   "source": [
    "# List the methods for deleting \n",
    "# clear, pop, remove & del"
   ]
  },
  {
   "cell_type": "code",
   "execution_count": 137,
   "id": "5e23f86d",
   "metadata": {
    "ExecuteTime": {
     "end_time": "2023-07-30T08:40:06.027659Z",
     "start_time": "2023-07-30T08:40:06.024656Z"
    }
   },
   "outputs": [],
   "source": [
    "list_numbers1.clear() # Makes it an empty list "
   ]
  },
  {
   "cell_type": "code",
   "execution_count": 138,
   "id": "f4887081",
   "metadata": {
    "ExecuteTime": {
     "end_time": "2023-07-30T08:40:06.278925Z",
     "start_time": "2023-07-30T08:40:06.266304Z"
    }
   },
   "outputs": [
    {
     "data": {
      "text/plain": [
       "[]"
      ]
     },
     "execution_count": 138,
     "metadata": {},
     "output_type": "execute_result"
    }
   ],
   "source": [
    "list_numbers1"
   ]
  },
  {
   "cell_type": "code",
   "execution_count": 139,
   "id": "7f1e4427",
   "metadata": {
    "ExecuteTime": {
     "end_time": "2023-07-30T08:40:06.447632Z",
     "start_time": "2023-07-30T08:40:06.439473Z"
    }
   },
   "outputs": [
    {
     "data": {
      "text/plain": [
       "[1, 2, 3, 4, 5, 7, 6, 8, 9, 10, 11, 12]"
      ]
     },
     "execution_count": 139,
     "metadata": {},
     "output_type": "execute_result"
    }
   ],
   "source": [
    "# pop method\n",
    "list_numbers"
   ]
  },
  {
   "cell_type": "code",
   "execution_count": 140,
   "id": "fc5a728c",
   "metadata": {
    "ExecuteTime": {
     "end_time": "2023-07-30T08:40:06.683278Z",
     "start_time": "2023-07-30T08:40:06.676740Z"
    }
   },
   "outputs": [
    {
     "data": {
      "text/plain": [
       "12"
      ]
     },
     "execution_count": 140,
     "metadata": {},
     "output_type": "execute_result"
    }
   ],
   "source": [
    "list_numbers.pop()"
   ]
  },
  {
   "cell_type": "code",
   "execution_count": 141,
   "id": "23a72ee6",
   "metadata": {
    "ExecuteTime": {
     "end_time": "2023-07-30T08:40:06.933109Z",
     "start_time": "2023-07-30T08:40:06.927532Z"
    }
   },
   "outputs": [
    {
     "data": {
      "text/plain": [
       "[1, 2, 3, 4, 5, 7, 6, 8, 9, 10, 11]"
      ]
     },
     "execution_count": 141,
     "metadata": {},
     "output_type": "execute_result"
    }
   ],
   "source": [
    "list_numbers"
   ]
  },
  {
   "cell_type": "code",
   "execution_count": 142,
   "id": "1e89229f",
   "metadata": {
    "ExecuteTime": {
     "end_time": "2023-07-30T08:40:07.155568Z",
     "start_time": "2023-07-30T08:40:07.145147Z"
    }
   },
   "outputs": [
    {
     "data": {
      "text/plain": [
       "11"
      ]
     },
     "execution_count": 142,
     "metadata": {},
     "output_type": "execute_result"
    }
   ],
   "source": [
    "list_numbers.pop(-1)"
   ]
  },
  {
   "cell_type": "code",
   "execution_count": 143,
   "id": "a06674a5",
   "metadata": {
    "ExecuteTime": {
     "end_time": "2023-07-30T08:40:07.414574Z",
     "start_time": "2023-07-30T08:40:07.405592Z"
    }
   },
   "outputs": [],
   "source": [
    "pop_num = list_numbers.pop(9)"
   ]
  },
  {
   "cell_type": "code",
   "execution_count": 144,
   "id": "8f0a13a2",
   "metadata": {
    "ExecuteTime": {
     "end_time": "2023-07-30T08:40:07.627108Z",
     "start_time": "2023-07-30T08:40:07.619363Z"
    }
   },
   "outputs": [
    {
     "name": "stdout",
     "output_type": "stream",
     "text": [
      "10\n"
     ]
    }
   ],
   "source": [
    "print(pop_num)"
   ]
  },
  {
   "cell_type": "code",
   "execution_count": 145,
   "id": "2dc65e98",
   "metadata": {
    "ExecuteTime": {
     "end_time": "2023-07-30T08:40:07.862596Z",
     "start_time": "2023-07-30T08:40:07.852410Z"
    }
   },
   "outputs": [
    {
     "data": {
      "text/plain": [
       "[1, 2, 3, 4, 5, 7, 6, 8, 9]"
      ]
     },
     "execution_count": 145,
     "metadata": {},
     "output_type": "execute_result"
    }
   ],
   "source": [
    "list_numbers"
   ]
  },
  {
   "cell_type": "code",
   "execution_count": 146,
   "id": "0c9cb547",
   "metadata": {
    "ExecuteTime": {
     "end_time": "2023-07-30T08:40:08.096398Z",
     "start_time": "2023-07-30T08:40:08.091679Z"
    }
   },
   "outputs": [],
   "source": [
    "# remove method\n",
    "list_numbers.remove(9)"
   ]
  },
  {
   "cell_type": "code",
   "execution_count": 147,
   "id": "abaca17f",
   "metadata": {
    "ExecuteTime": {
     "end_time": "2023-07-30T08:40:08.337942Z",
     "start_time": "2023-07-30T08:40:08.331754Z"
    }
   },
   "outputs": [
    {
     "data": {
      "text/plain": [
       "[1, 2, 3, 4, 5, 7, 6, 8]"
      ]
     },
     "execution_count": 147,
     "metadata": {},
     "output_type": "execute_result"
    }
   ],
   "source": [
    "list_numbers"
   ]
  },
  {
   "cell_type": "code",
   "execution_count": 148,
   "id": "e3c1d12c",
   "metadata": {
    "ExecuteTime": {
     "end_time": "2023-07-30T08:40:08.567150Z",
     "start_time": "2023-07-30T08:40:08.560577Z"
    }
   },
   "outputs": [],
   "source": [
    "# del method\n",
    "del list_numbers[-1]"
   ]
  },
  {
   "cell_type": "code",
   "execution_count": 149,
   "id": "fc1b24f4",
   "metadata": {
    "ExecuteTime": {
     "end_time": "2023-07-30T08:40:08.819819Z",
     "start_time": "2023-07-30T08:40:08.812295Z"
    }
   },
   "outputs": [
    {
     "data": {
      "text/plain": [
       "[1, 2, 3, 4, 5, 7, 6]"
      ]
     },
     "execution_count": 149,
     "metadata": {},
     "output_type": "execute_result"
    }
   ],
   "source": [
    "list_numbers"
   ]
  },
  {
   "cell_type": "code",
   "execution_count": 150,
   "id": "6772291d",
   "metadata": {
    "ExecuteTime": {
     "end_time": "2023-07-30T08:40:09.144229Z",
     "start_time": "2023-07-30T08:40:09.077433Z"
    }
   },
   "outputs": [
    {
     "ename": "IndexError",
     "evalue": "list assignment index out of range",
     "output_type": "error",
     "traceback": [
      "\u001b[0;31m---------------------------------------------------------------------------\u001b[0m",
      "\u001b[0;31mIndexError\u001b[0m                                Traceback (most recent call last)",
      "Cell \u001b[0;32mIn[150], line 1\u001b[0m\n\u001b[0;32m----> 1\u001b[0m \u001b[38;5;28;01mdel\u001b[39;00m list_numbers[\u001b[38;5;241m10\u001b[39m]\n",
      "\u001b[0;31mIndexError\u001b[0m: list assignment index out of range"
     ]
    }
   ],
   "source": [
    "del list_numbers[10]"
   ]
  },
  {
   "cell_type": "markdown",
   "id": "750e8175",
   "metadata": {},
   "source": [
    "### Organizing a list"
   ]
  },
  {
   "cell_type": "code",
   "execution_count": 151,
   "id": "dbd1e7d9",
   "metadata": {
    "ExecuteTime": {
     "end_time": "2023-07-30T08:40:09.563769Z",
     "start_time": "2023-07-30T08:40:09.551304Z"
    }
   },
   "outputs": [],
   "source": [
    "list_clubs = ['Spurs', 'Mancity', 'Westham', 'Leeds', 'Arsenal']\n",
    "list_cars = ['Chevrolet', 'Jaguar', 'Porche', 'Audi', 'Volkswagen']"
   ]
  },
  {
   "cell_type": "code",
   "execution_count": 152,
   "id": "f7a9b745",
   "metadata": {
    "ExecuteTime": {
     "end_time": "2023-07-30T08:40:09.840096Z",
     "start_time": "2023-07-30T08:40:09.812509Z"
    }
   },
   "outputs": [],
   "source": [
    "list_cars.sort() # Sorting Permanently "
   ]
  },
  {
   "cell_type": "code",
   "execution_count": 153,
   "id": "54f9d484",
   "metadata": {
    "ExecuteTime": {
     "end_time": "2023-07-30T08:40:10.022832Z",
     "start_time": "2023-07-30T08:40:10.017955Z"
    }
   },
   "outputs": [
    {
     "name": "stdout",
     "output_type": "stream",
     "text": [
      "['Audi', 'Chevrolet', 'Jaguar', 'Porche', 'Volkswagen']\n"
     ]
    }
   ],
   "source": [
    "print(list_cars)"
   ]
  },
  {
   "cell_type": "code",
   "execution_count": 154,
   "id": "a13e8b85",
   "metadata": {
    "ExecuteTime": {
     "end_time": "2023-07-30T08:40:10.267402Z",
     "start_time": "2023-07-30T08:40:10.260970Z"
    }
   },
   "outputs": [
    {
     "data": {
      "text/plain": [
       "140237692304064"
      ]
     },
     "execution_count": 154,
     "metadata": {},
     "output_type": "execute_result"
    }
   ],
   "source": [
    "id(list_cars)"
   ]
  },
  {
   "cell_type": "code",
   "execution_count": 155,
   "id": "75ad98a9",
   "metadata": {
    "ExecuteTime": {
     "end_time": "2023-07-30T08:40:10.494840Z",
     "start_time": "2023-07-30T08:40:10.490611Z"
    }
   },
   "outputs": [],
   "source": [
    "list_cars.sort(reverse=True)"
   ]
  },
  {
   "cell_type": "code",
   "execution_count": 156,
   "id": "35364c7c",
   "metadata": {
    "ExecuteTime": {
     "end_time": "2023-07-30T08:40:10.720277Z",
     "start_time": "2023-07-30T08:40:10.708087Z"
    }
   },
   "outputs": [
    {
     "name": "stdout",
     "output_type": "stream",
     "text": [
      "['Volkswagen', 'Porche', 'Jaguar', 'Chevrolet', 'Audi']\n"
     ]
    }
   ],
   "source": [
    "print(list_cars)"
   ]
  },
  {
   "cell_type": "code",
   "execution_count": 157,
   "id": "94527f1b",
   "metadata": {
    "ExecuteTime": {
     "end_time": "2023-07-30T08:40:10.951295Z",
     "start_time": "2023-07-30T08:40:10.944076Z"
    }
   },
   "outputs": [
    {
     "data": {
      "text/plain": [
       "140237692304064"
      ]
     },
     "execution_count": 157,
     "metadata": {},
     "output_type": "execute_result"
    }
   ],
   "source": [
    "id(list_cars)"
   ]
  },
  {
   "cell_type": "code",
   "execution_count": 158,
   "id": "2be2b2f9",
   "metadata": {
    "ExecuteTime": {
     "end_time": "2023-07-30T08:40:11.170570Z",
     "start_time": "2023-07-30T08:40:11.163986Z"
    }
   },
   "outputs": [
    {
     "data": {
      "text/plain": [
       "['Spurs', 'Mancity', 'Westham', 'Leeds', 'Arsenal']"
      ]
     },
     "execution_count": 158,
     "metadata": {},
     "output_type": "execute_result"
    }
   ],
   "source": [
    "list_clubs"
   ]
  },
  {
   "cell_type": "code",
   "execution_count": 159,
   "id": "59f63766",
   "metadata": {
    "ExecuteTime": {
     "end_time": "2023-07-30T08:40:11.432328Z",
     "start_time": "2023-07-30T08:40:11.426949Z"
    }
   },
   "outputs": [
    {
     "name": "stdout",
     "output_type": "stream",
     "text": [
      "Here is a sorted list\n",
      "['Arsenal', 'Leeds', 'Mancity', 'Spurs', 'Westham']\n"
     ]
    }
   ],
   "source": [
    "print('Here is a sorted list')\n",
    "print(sorted(list_clubs)) # Temporal sorting"
   ]
  },
  {
   "cell_type": "code",
   "execution_count": 160,
   "id": "d6a9d44b",
   "metadata": {
    "ExecuteTime": {
     "end_time": "2023-07-30T08:40:11.664362Z",
     "start_time": "2023-07-30T08:40:11.657878Z"
    }
   },
   "outputs": [
    {
     "data": {
      "text/plain": [
       "['Spurs', 'Mancity', 'Westham', 'Leeds', 'Arsenal']"
      ]
     },
     "execution_count": 160,
     "metadata": {},
     "output_type": "execute_result"
    }
   ],
   "source": [
    "list_clubs"
   ]
  },
  {
   "cell_type": "markdown",
   "id": "03769202",
   "metadata": {},
   "source": [
    "### List Slicing "
   ]
  },
  {
   "cell_type": "code",
   "execution_count": 161,
   "id": "d8b6d338",
   "metadata": {
    "ExecuteTime": {
     "end_time": "2023-07-30T08:40:12.128676Z",
     "start_time": "2023-07-30T08:40:12.120492Z"
    }
   },
   "outputs": [
    {
     "data": {
      "text/plain": [
       "'Audi'"
      ]
     },
     "execution_count": 161,
     "metadata": {},
     "output_type": "execute_result"
    }
   ],
   "source": [
    "list_cars[4]"
   ]
  },
  {
   "cell_type": "code",
   "execution_count": 162,
   "id": "1c77c28a",
   "metadata": {
    "ExecuteTime": {
     "end_time": "2023-07-30T08:40:12.380430Z",
     "start_time": "2023-07-30T08:40:12.372609Z"
    }
   },
   "outputs": [
    {
     "data": {
      "text/plain": [
       "['Volkswagen', 'Porche', 'Jaguar', 'Chevrolet', 'Audi']"
      ]
     },
     "execution_count": 162,
     "metadata": {},
     "output_type": "execute_result"
    }
   ],
   "source": [
    "list_cars[0:5]"
   ]
  },
  {
   "cell_type": "code",
   "execution_count": 163,
   "id": "5675eba2",
   "metadata": {
    "ExecuteTime": {
     "end_time": "2023-07-30T08:40:12.618436Z",
     "start_time": "2023-07-30T08:40:12.610461Z"
    }
   },
   "outputs": [
    {
     "data": {
      "text/plain": [
       "['Porche', 'Jaguar', 'Chevrolet']"
      ]
     },
     "execution_count": 163,
     "metadata": {},
     "output_type": "execute_result"
    }
   ],
   "source": [
    "list_cars[1:-1]"
   ]
  },
  {
   "cell_type": "markdown",
   "id": "fe7f1417",
   "metadata": {},
   "source": [
    "### Copying a list"
   ]
  },
  {
   "cell_type": "code",
   "execution_count": 164,
   "id": "68503808",
   "metadata": {
    "ExecuteTime": {
     "end_time": "2023-07-30T08:40:13.089158Z",
     "start_time": "2023-07-30T08:40:13.084511Z"
    }
   },
   "outputs": [],
   "source": [
    "list_cars_copy = list_cars.copy() # A copy of the initial list "
   ]
  },
  {
   "cell_type": "code",
   "execution_count": 165,
   "id": "bb4d0b4c",
   "metadata": {
    "ExecuteTime": {
     "end_time": "2023-07-30T08:40:13.325854Z",
     "start_time": "2023-07-30T08:40:13.319523Z"
    }
   },
   "outputs": [
    {
     "data": {
      "text/plain": [
       "['Volkswagen', 'Porche', 'Jaguar', 'Chevrolet', 'Audi']"
      ]
     },
     "execution_count": 165,
     "metadata": {},
     "output_type": "execute_result"
    }
   ],
   "source": [
    "list_cars_copy"
   ]
  },
  {
   "cell_type": "code",
   "execution_count": 166,
   "id": "dd998a65",
   "metadata": {
    "ExecuteTime": {
     "end_time": "2023-07-30T08:40:13.579024Z",
     "start_time": "2023-07-30T08:40:13.575723Z"
    }
   },
   "outputs": [],
   "source": [
    "list_cars_copy_slice = list_cars[:]"
   ]
  },
  {
   "cell_type": "code",
   "execution_count": 167,
   "id": "29b3da63",
   "metadata": {
    "ExecuteTime": {
     "end_time": "2023-07-30T08:40:13.849103Z",
     "start_time": "2023-07-30T08:40:13.842274Z"
    }
   },
   "outputs": [
    {
     "data": {
      "text/plain": [
       "['Volkswagen', 'Porche', 'Jaguar', 'Chevrolet', 'Audi']"
      ]
     },
     "execution_count": 167,
     "metadata": {},
     "output_type": "execute_result"
    }
   ],
   "source": [
    "list_cars_copy_slice"
   ]
  },
  {
   "cell_type": "markdown",
   "id": "b9f86b7b",
   "metadata": {},
   "source": [
    "## Tuples"
   ]
  },
  {
   "cell_type": "code",
   "execution_count": 168,
   "id": "74fde84c",
   "metadata": {
    "ExecuteTime": {
     "end_time": "2023-07-30T08:40:14.365399Z",
     "start_time": "2023-07-30T08:40:14.358784Z"
    }
   },
   "outputs": [],
   "source": [
    "# Data Structure\n",
    "# Sequenced \n",
    "# Immutable - Values are fixed and cannot changed \n",
    "# tuples has parentheses ()"
   ]
  },
  {
   "cell_type": "markdown",
   "id": "36c00acf",
   "metadata": {},
   "source": [
    "### Creating Tuples "
   ]
  },
  {
   "cell_type": "code",
   "execution_count": 169,
   "id": "9c32a4dd",
   "metadata": {
    "ExecuteTime": {
     "end_time": "2023-07-30T08:40:14.853265Z",
     "start_time": "2023-07-30T08:40:14.846288Z"
    }
   },
   "outputs": [],
   "source": [
    "tuple_numbers = 1,2,3,4,5,6,7,8,9,10 # One way to create a tuple"
   ]
  },
  {
   "cell_type": "code",
   "execution_count": 170,
   "id": "9e899a07",
   "metadata": {
    "ExecuteTime": {
     "end_time": "2023-07-30T08:40:15.111155Z",
     "start_time": "2023-07-30T08:40:15.105970Z"
    }
   },
   "outputs": [
    {
     "data": {
      "text/plain": [
       "tuple"
      ]
     },
     "execution_count": 170,
     "metadata": {},
     "output_type": "execute_result"
    }
   ],
   "source": [
    "type(tuple_numbers)"
   ]
  },
  {
   "cell_type": "code",
   "execution_count": 171,
   "id": "ebaf4d3f",
   "metadata": {
    "ExecuteTime": {
     "end_time": "2023-07-30T08:40:15.363416Z",
     "start_time": "2023-07-30T08:40:15.354425Z"
    }
   },
   "outputs": [
    {
     "name": "stdout",
     "output_type": "stream",
     "text": [
      "(1, 2, 3, 4, 5, 6, 7, 8, 9, 10)\n"
     ]
    }
   ],
   "source": [
    "print(tuple_numbers)"
   ]
  },
  {
   "cell_type": "code",
   "execution_count": 172,
   "id": "d96a79b6",
   "metadata": {
    "ExecuteTime": {
     "end_time": "2023-07-30T08:40:15.639120Z",
     "start_time": "2023-07-30T08:40:15.635259Z"
    }
   },
   "outputs": [],
   "source": [
    "tuple_names = ('Pablo', 'Mudia', 'Oselu', 'Miracle') # Another way to create a tuple"
   ]
  },
  {
   "cell_type": "code",
   "execution_count": 173,
   "id": "34210feb",
   "metadata": {
    "ExecuteTime": {
     "end_time": "2023-07-30T08:40:15.883491Z",
     "start_time": "2023-07-30T08:40:15.878115Z"
    }
   },
   "outputs": [
    {
     "name": "stdout",
     "output_type": "stream",
     "text": [
      "('Pablo', 'Mudia', 'Oselu', 'Miracle')\n"
     ]
    }
   ],
   "source": [
    "print(tuple_names)"
   ]
  },
  {
   "cell_type": "code",
   "execution_count": 174,
   "id": "ff7b715d",
   "metadata": {
    "ExecuteTime": {
     "end_time": "2023-07-30T08:40:16.153522Z",
     "start_time": "2023-07-30T08:40:16.144682Z"
    }
   },
   "outputs": [
    {
     "data": {
      "text/plain": [
       "['Volkswagen', 'Porche', 'Jaguar', 'Chevrolet', 'Audi']"
      ]
     },
     "execution_count": 174,
     "metadata": {},
     "output_type": "execute_result"
    }
   ],
   "source": [
    "list_cars_copy"
   ]
  },
  {
   "cell_type": "code",
   "execution_count": 175,
   "id": "109f59c8",
   "metadata": {
    "ExecuteTime": {
     "end_time": "2023-07-30T08:40:16.394131Z",
     "start_time": "2023-07-30T08:40:16.390142Z"
    }
   },
   "outputs": [],
   "source": [
    "tuple_cars_copy = tuple(list_cars_copy)"
   ]
  },
  {
   "cell_type": "code",
   "execution_count": 176,
   "id": "5cf6084b",
   "metadata": {
    "ExecuteTime": {
     "end_time": "2023-07-30T08:40:16.645154Z",
     "start_time": "2023-07-30T08:40:16.637019Z"
    }
   },
   "outputs": [
    {
     "data": {
      "text/plain": [
       "tuple"
      ]
     },
     "execution_count": 176,
     "metadata": {},
     "output_type": "execute_result"
    }
   ],
   "source": [
    "type(tuple_cars_copy)"
   ]
  },
  {
   "cell_type": "markdown",
   "id": "3f2d7937",
   "metadata": {},
   "source": [
    "## Tuple Functionalities"
   ]
  },
  {
   "cell_type": "code",
   "execution_count": 177,
   "id": "a39b5945",
   "metadata": {
    "ExecuteTime": {
     "end_time": "2023-07-30T08:40:17.147359Z",
     "start_time": "2023-07-30T08:40:17.136136Z"
    }
   },
   "outputs": [
    {
     "data": {
      "text/plain": [
       "('Volkswagen', 'Porche', 'Jaguar', 'Chevrolet', 'Audi')"
      ]
     },
     "execution_count": 177,
     "metadata": {},
     "output_type": "execute_result"
    }
   ],
   "source": [
    "tuple_cars_copy"
   ]
  },
  {
   "cell_type": "code",
   "execution_count": 178,
   "id": "f1b46be8",
   "metadata": {
    "ExecuteTime": {
     "end_time": "2023-07-30T08:40:17.366926Z",
     "start_time": "2023-07-30T08:40:17.359672Z"
    }
   },
   "outputs": [
    {
     "data": {
      "text/plain": [
       "['__add__',\n",
       " '__class__',\n",
       " '__class_getitem__',\n",
       " '__contains__',\n",
       " '__delattr__',\n",
       " '__dir__',\n",
       " '__doc__',\n",
       " '__eq__',\n",
       " '__format__',\n",
       " '__ge__',\n",
       " '__getattribute__',\n",
       " '__getitem__',\n",
       " '__getnewargs__',\n",
       " '__gt__',\n",
       " '__hash__',\n",
       " '__init__',\n",
       " '__init_subclass__',\n",
       " '__iter__',\n",
       " '__le__',\n",
       " '__len__',\n",
       " '__lt__',\n",
       " '__mul__',\n",
       " '__ne__',\n",
       " '__new__',\n",
       " '__reduce__',\n",
       " '__reduce_ex__',\n",
       " '__repr__',\n",
       " '__rmul__',\n",
       " '__setattr__',\n",
       " '__sizeof__',\n",
       " '__str__',\n",
       " '__subclasshook__',\n",
       " 'count',\n",
       " 'index']"
      ]
     },
     "execution_count": 178,
     "metadata": {},
     "output_type": "execute_result"
    }
   ],
   "source": [
    "dir(tuple_cars_copy)"
   ]
  },
  {
   "cell_type": "markdown",
   "id": "a4181799",
   "metadata": {},
   "source": [
    "### Tuple Methods\n",
    "\n",
    "'count', 'index'"
   ]
  },
  {
   "cell_type": "code",
   "execution_count": 179,
   "id": "c019bfcc",
   "metadata": {
    "ExecuteTime": {
     "end_time": "2023-07-30T08:40:17.893827Z",
     "start_time": "2023-07-30T08:40:17.888313Z"
    }
   },
   "outputs": [
    {
     "data": {
      "text/plain": [
       "1"
      ]
     },
     "execution_count": 179,
     "metadata": {},
     "output_type": "execute_result"
    }
   ],
   "source": [
    "tuple_cars_copy.count('Volkswagen') # It counts the number of elements as it matches the values in the tuple"
   ]
  },
  {
   "cell_type": "code",
   "execution_count": null,
   "id": "fe2b4b3e",
   "metadata": {},
   "outputs": [],
   "source": []
  },
  {
   "cell_type": "code",
   "execution_count": 180,
   "id": "7732366a",
   "metadata": {
    "ExecuteTime": {
     "end_time": "2023-07-30T08:40:18.401894Z",
     "start_time": "2023-07-30T08:40:18.394406Z"
    }
   },
   "outputs": [
    {
     "data": {
      "text/plain": [
       "4"
      ]
     },
     "execution_count": 180,
     "metadata": {},
     "output_type": "execute_result"
    }
   ],
   "source": [
    "tuple_numbers.index(5) # Finds the numerical position"
   ]
  },
  {
   "cell_type": "code",
   "execution_count": 181,
   "id": "6ee5b6c6",
   "metadata": {
    "ExecuteTime": {
     "end_time": "2023-07-30T08:40:18.652142Z",
     "start_time": "2023-07-30T08:40:18.647286Z"
    }
   },
   "outputs": [
    {
     "name": "stdout",
     "output_type": "stream",
     "text": [
      "(1, 2, 3, 4, 5, 6, 7, 8, 9, 10)\n"
     ]
    }
   ],
   "source": [
    "print(tuple_numbers)"
   ]
  },
  {
   "cell_type": "code",
   "execution_count": null,
   "id": "eb71c9a6",
   "metadata": {},
   "outputs": [],
   "source": []
  },
  {
   "cell_type": "code",
   "execution_count": 182,
   "id": "93d0a4d3",
   "metadata": {
    "ExecuteTime": {
     "end_time": "2023-07-30T08:40:19.202461Z",
     "start_time": "2023-07-30T08:40:19.157668Z"
    }
   },
   "outputs": [
    {
     "ename": "TypeError",
     "evalue": "'tuple' object does not support item assignment",
     "output_type": "error",
     "traceback": [
      "\u001b[0;31m---------------------------------------------------------------------------\u001b[0m",
      "\u001b[0;31mTypeError\u001b[0m                                 Traceback (most recent call last)",
      "Cell \u001b[0;32mIn[182], line 1\u001b[0m\n\u001b[0;32m----> 1\u001b[0m tuple_numbers[\u001b[38;5;241m0\u001b[39m] \u001b[38;5;241m=\u001b[39m \u001b[38;5;241m0\u001b[39m\n",
      "\u001b[0;31mTypeError\u001b[0m: 'tuple' object does not support item assignment"
     ]
    }
   ],
   "source": [
    "tuple_numbers[0] = 0 # Proof that tuples are immutable"
   ]
  },
  {
   "cell_type": "markdown",
   "id": "2e26e772",
   "metadata": {},
   "source": [
    "### Tuple Concatenation"
   ]
  },
  {
   "cell_type": "code",
   "execution_count": 183,
   "id": "a0a8805f",
   "metadata": {
    "ExecuteTime": {
     "end_time": "2023-07-30T08:40:19.654137Z",
     "start_time": "2023-07-30T08:40:19.630667Z"
    }
   },
   "outputs": [],
   "source": [
    "first_tuple = (1,2,3) # Create a tuple"
   ]
  },
  {
   "cell_type": "code",
   "execution_count": 184,
   "id": "0d526e0e",
   "metadata": {
    "ExecuteTime": {
     "end_time": "2023-07-30T08:40:19.865589Z",
     "start_time": "2023-07-30T08:40:19.855987Z"
    }
   },
   "outputs": [
    {
     "data": {
      "text/plain": [
       "140237692656192"
      ]
     },
     "execution_count": 184,
     "metadata": {},
     "output_type": "execute_result"
    }
   ],
   "source": [
    "id(first_tuple) # Checking id"
   ]
  },
  {
   "cell_type": "code",
   "execution_count": 185,
   "id": "10f152ec",
   "metadata": {
    "ExecuteTime": {
     "end_time": "2023-07-30T08:40:20.103024Z",
     "start_time": "2023-07-30T08:40:20.099618Z"
    }
   },
   "outputs": [],
   "source": [
    "second_tuple = (4,5,6) # Create another tuple"
   ]
  },
  {
   "cell_type": "code",
   "execution_count": 186,
   "id": "72899c86",
   "metadata": {
    "ExecuteTime": {
     "end_time": "2023-07-30T08:40:20.331571Z",
     "start_time": "2023-07-30T08:40:20.324357Z"
    }
   },
   "outputs": [
    {
     "data": {
      "text/plain": [
       "140237692466880"
      ]
     },
     "execution_count": 186,
     "metadata": {},
     "output_type": "execute_result"
    }
   ],
   "source": [
    "id(second_tuple)"
   ]
  },
  {
   "cell_type": "code",
   "execution_count": 187,
   "id": "cfcddbbc",
   "metadata": {
    "ExecuteTime": {
     "end_time": "2023-07-30T08:40:20.564765Z",
     "start_time": "2023-07-30T08:40:20.560747Z"
    }
   },
   "outputs": [],
   "source": [
    "first_tuple += (4,5,6)"
   ]
  },
  {
   "cell_type": "code",
   "execution_count": 188,
   "id": "07763048",
   "metadata": {
    "ExecuteTime": {
     "end_time": "2023-07-30T08:40:20.789065Z",
     "start_time": "2023-07-30T08:40:20.783037Z"
    }
   },
   "outputs": [
    {
     "data": {
      "text/plain": [
       "(1, 2, 3, 4, 5, 6)"
      ]
     },
     "execution_count": 188,
     "metadata": {},
     "output_type": "execute_result"
    }
   ],
   "source": [
    "first_tuple"
   ]
  },
  {
   "cell_type": "code",
   "execution_count": 189,
   "id": "d5c50caa",
   "metadata": {
    "ExecuteTime": {
     "end_time": "2023-07-30T08:40:21.014117Z",
     "start_time": "2023-07-30T08:40:21.007460Z"
    }
   },
   "outputs": [
    {
     "data": {
      "text/plain": [
       "140237692602016"
      ]
     },
     "execution_count": 189,
     "metadata": {},
     "output_type": "execute_result"
    }
   ],
   "source": [
    "id(first_tuple) # Concatenation creates a new object(Tuple)"
   ]
  },
  {
   "cell_type": "code",
   "execution_count": null,
   "id": "ac030744",
   "metadata": {},
   "outputs": [],
   "source": []
  },
  {
   "cell_type": "markdown",
   "id": "cd85807f",
   "metadata": {},
   "source": [
    "# Python Dictionary "
   ]
  },
  {
   "cell_type": "code",
   "execution_count": 190,
   "id": "a1eac17c",
   "metadata": {
    "ExecuteTime": {
     "end_time": "2023-07-30T08:40:21.720515Z",
     "start_time": "2023-07-30T08:40:21.715913Z"
    }
   },
   "outputs": [],
   "source": [
    "# List []\n",
    "# Tuple ()\n",
    "# Dictionary {}\n",
    "# Mutable \n",
    "# Key, Value pairs"
   ]
  },
  {
   "cell_type": "code",
   "execution_count": 191,
   "id": "081adf36",
   "metadata": {
    "ExecuteTime": {
     "end_time": "2023-07-30T08:40:21.999603Z",
     "start_time": "2023-07-30T08:40:21.992322Z"
    }
   },
   "outputs": [],
   "source": [
    "# Creating a Python dictionary\n",
    "profile = {'first_name': 'Pablo', \n",
    "           'last_name': 'Okwukogu',\n",
    "          'email': 'peter.okwukogu@gmail.com'}"
   ]
  },
  {
   "cell_type": "code",
   "execution_count": 192,
   "id": "b2e6a39f",
   "metadata": {
    "ExecuteTime": {
     "end_time": "2023-07-30T08:40:22.236724Z",
     "start_time": "2023-07-30T08:40:22.231840Z"
    }
   },
   "outputs": [
    {
     "name": "stdout",
     "output_type": "stream",
     "text": [
      "{'first_name': 'Pablo', 'last_name': 'Okwukogu', 'email': 'peter.okwukogu@gmail.com'}\n"
     ]
    }
   ],
   "source": [
    "print(profile)"
   ]
  },
  {
   "cell_type": "code",
   "execution_count": null,
   "id": "d4c9979f",
   "metadata": {},
   "outputs": [],
   "source": []
  },
  {
   "cell_type": "code",
   "execution_count": 193,
   "id": "03b283fb",
   "metadata": {
    "ExecuteTime": {
     "end_time": "2023-07-30T08:40:23.713124Z",
     "start_time": "2023-07-30T08:40:23.706156Z"
    }
   },
   "outputs": [],
   "source": [
    "# Using the dict function to create a dictionary\n",
    "profile_1 = dict(first_name = 'Mudia', \n",
    "                last_name = 'Imasuen',\n",
    "                role = 'Product Designer')"
   ]
  },
  {
   "cell_type": "code",
   "execution_count": 194,
   "id": "19c6088f",
   "metadata": {
    "ExecuteTime": {
     "end_time": "2023-07-30T08:40:24.469363Z",
     "start_time": "2023-07-30T08:40:24.462994Z"
    }
   },
   "outputs": [
    {
     "name": "stdout",
     "output_type": "stream",
     "text": [
      "{'first_name': 'Mudia', 'last_name': 'Imasuen', 'role': 'Product Designer'}\n"
     ]
    }
   ],
   "source": [
    "print(profile_1)"
   ]
  },
  {
   "cell_type": "code",
   "execution_count": 195,
   "id": "8931ffe9",
   "metadata": {
    "ExecuteTime": {
     "end_time": "2023-07-30T08:40:25.423710Z",
     "start_time": "2023-07-30T08:40:25.409657Z"
    }
   },
   "outputs": [
    {
     "data": {
      "text/plain": [
       "dict"
      ]
     },
     "execution_count": 195,
     "metadata": {},
     "output_type": "execute_result"
    }
   ],
   "source": [
    "type(profile_1)"
   ]
  },
  {
   "cell_type": "markdown",
   "id": "a818c794",
   "metadata": {},
   "source": [
    "## Accessing Dictionaries "
   ]
  },
  {
   "cell_type": "code",
   "execution_count": 196,
   "id": "2a811e6e",
   "metadata": {
    "ExecuteTime": {
     "end_time": "2023-07-30T08:40:27.377032Z",
     "start_time": "2023-07-30T08:40:27.374048Z"
    }
   },
   "outputs": [],
   "source": [
    "# Dict have key, value pairs\n",
    "# What is a key & what is a value"
   ]
  },
  {
   "cell_type": "code",
   "execution_count": 197,
   "id": "6b89687e",
   "metadata": {
    "ExecuteTime": {
     "end_time": "2023-07-30T08:40:27.701277Z",
     "start_time": "2023-07-30T08:40:27.696424Z"
    }
   },
   "outputs": [
    {
     "name": "stdout",
     "output_type": "stream",
     "text": [
      "{'first_name': 'Pablo', 'last_name': 'Okwukogu', 'email': 'peter.okwukogu@gmail.com'}\n"
     ]
    }
   ],
   "source": [
    "print(profile)"
   ]
  },
  {
   "cell_type": "code",
   "execution_count": 198,
   "id": "a1dbdaa2",
   "metadata": {
    "ExecuteTime": {
     "end_time": "2023-07-30T08:40:27.939374Z",
     "start_time": "2023-07-30T08:40:27.933782Z"
    }
   },
   "outputs": [
    {
     "data": {
      "text/plain": [
       "'Pablo'"
      ]
     },
     "execution_count": 198,
     "metadata": {},
     "output_type": "execute_result"
    }
   ],
   "source": [
    "profile['first_name'] # Accessing a dict using a key"
   ]
  },
  {
   "cell_type": "code",
   "execution_count": 199,
   "id": "6eaadaff",
   "metadata": {
    "ExecuteTime": {
     "end_time": "2023-07-30T08:40:28.377055Z",
     "start_time": "2023-07-30T08:40:28.369101Z"
    }
   },
   "outputs": [
    {
     "data": {
      "text/plain": [
       "True"
      ]
     },
     "execution_count": 199,
     "metadata": {},
     "output_type": "execute_result"
    }
   ],
   "source": [
    "'first_name' in profile # Confirming a key exists inside a dict"
   ]
  },
  {
   "cell_type": "code",
   "execution_count": 200,
   "id": "ed0bfdda",
   "metadata": {
    "ExecuteTime": {
     "end_time": "2023-07-30T08:40:28.748550Z",
     "start_time": "2023-07-30T08:40:28.722460Z"
    }
   },
   "outputs": [
    {
     "ename": "KeyError",
     "evalue": "'location'",
     "output_type": "error",
     "traceback": [
      "\u001b[0;31m---------------------------------------------------------------------------\u001b[0m",
      "\u001b[0;31mKeyError\u001b[0m                                  Traceback (most recent call last)",
      "Cell \u001b[0;32mIn[200], line 1\u001b[0m\n\u001b[0;32m----> 1\u001b[0m \u001b[43mprofile\u001b[49m\u001b[43m[\u001b[49m\u001b[38;5;124;43m'\u001b[39;49m\u001b[38;5;124;43mlocation\u001b[39;49m\u001b[38;5;124;43m'\u001b[39;49m\u001b[43m]\u001b[49m\n",
      "\u001b[0;31mKeyError\u001b[0m: 'location'"
     ]
    }
   ],
   "source": [
    "profile['location'] # Accessing a key that doesn't exist"
   ]
  },
  {
   "cell_type": "markdown",
   "id": "cdb0d377",
   "metadata": {},
   "source": [
    "## Dictionary Methods"
   ]
  },
  {
   "cell_type": "code",
   "execution_count": 201,
   "id": "d96346bd",
   "metadata": {
    "ExecuteTime": {
     "end_time": "2023-07-30T08:40:29.186525Z",
     "start_time": "2023-07-30T08:40:29.175546Z"
    }
   },
   "outputs": [
    {
     "data": {
      "text/plain": [
       "['__class__',\n",
       " '__class_getitem__',\n",
       " '__contains__',\n",
       " '__delattr__',\n",
       " '__delitem__',\n",
       " '__dir__',\n",
       " '__doc__',\n",
       " '__eq__',\n",
       " '__format__',\n",
       " '__ge__',\n",
       " '__getattribute__',\n",
       " '__getitem__',\n",
       " '__gt__',\n",
       " '__hash__',\n",
       " '__init__',\n",
       " '__init_subclass__',\n",
       " '__ior__',\n",
       " '__iter__',\n",
       " '__le__',\n",
       " '__len__',\n",
       " '__lt__',\n",
       " '__ne__',\n",
       " '__new__',\n",
       " '__or__',\n",
       " '__reduce__',\n",
       " '__reduce_ex__',\n",
       " '__repr__',\n",
       " '__reversed__',\n",
       " '__ror__',\n",
       " '__setattr__',\n",
       " '__setitem__',\n",
       " '__sizeof__',\n",
       " '__str__',\n",
       " '__subclasshook__',\n",
       " 'clear',\n",
       " 'copy',\n",
       " 'fromkeys',\n",
       " 'get',\n",
       " 'items',\n",
       " 'keys',\n",
       " 'pop',\n",
       " 'popitem',\n",
       " 'setdefault',\n",
       " 'update',\n",
       " 'values']"
      ]
     },
     "execution_count": 201,
     "metadata": {},
     "output_type": "execute_result"
    }
   ],
   "source": [
    "dir(profile)"
   ]
  },
  {
   "cell_type": "markdown",
   "id": "a8db145f",
   "metadata": {},
   "source": [
    "### Dictionary Functionalities"
   ]
  },
  {
   "cell_type": "markdown",
   "id": "be2f01e1",
   "metadata": {},
   "source": [
    "###  'clear', 'copy', 'fromkeys', 'get', 'items', 'keys', 'pop', 'popitem', 'setdefault', 'update', 'values'"
   ]
  },
  {
   "cell_type": "code",
   "execution_count": 202,
   "id": "74676e22",
   "metadata": {
    "ExecuteTime": {
     "end_time": "2023-07-30T08:40:29.914652Z",
     "start_time": "2023-07-30T08:40:29.910251Z"
    }
   },
   "outputs": [
    {
     "name": "stdout",
     "output_type": "stream",
     "text": [
      "This key is not available\n"
     ]
    }
   ],
   "source": [
    "# The get method\n",
    "print(profile.get('location', 'This key is not available')) # The get() method"
   ]
  },
  {
   "cell_type": "code",
   "execution_count": 203,
   "id": "ce10205f",
   "metadata": {
    "ExecuteTime": {
     "end_time": "2023-07-30T08:40:30.186589Z",
     "start_time": "2023-07-30T08:40:30.177944Z"
    }
   },
   "outputs": [
    {
     "data": {
      "text/plain": [
       "{'first_name': 'Pablo',\n",
       " 'last_name': 'Okwukogu',\n",
       " 'email': 'peter.okwukogu@gmail.com'}"
      ]
     },
     "execution_count": 203,
     "metadata": {},
     "output_type": "execute_result"
    }
   ],
   "source": [
    "profile"
   ]
  },
  {
   "cell_type": "code",
   "execution_count": 204,
   "id": "4e7e1b5d",
   "metadata": {
    "ExecuteTime": {
     "end_time": "2023-07-30T08:40:30.507729Z",
     "start_time": "2023-07-30T08:40:30.501817Z"
    }
   },
   "outputs": [],
   "source": [
    "# The copy method\n",
    "profile_copy = profile.copy() # The copy method "
   ]
  },
  {
   "cell_type": "code",
   "execution_count": 205,
   "id": "8580cfb4",
   "metadata": {
    "ExecuteTime": {
     "end_time": "2023-07-30T08:40:30.814463Z",
     "start_time": "2023-07-30T08:40:30.807921Z"
    }
   },
   "outputs": [
    {
     "data": {
      "text/plain": [
       "{'first_name': 'Pablo',\n",
       " 'last_name': 'Okwukogu',\n",
       " 'email': 'peter.okwukogu@gmail.com'}"
      ]
     },
     "execution_count": 205,
     "metadata": {},
     "output_type": "execute_result"
    }
   ],
   "source": [
    "profile_copy"
   ]
  },
  {
   "cell_type": "code",
   "execution_count": 206,
   "id": "8ee7d055",
   "metadata": {
    "ExecuteTime": {
     "end_time": "2023-07-30T08:40:31.076172Z",
     "start_time": "2023-07-30T08:40:31.069634Z"
    }
   },
   "outputs": [],
   "source": [
    "# The clear method\n",
    "profile_copy.clear() "
   ]
  },
  {
   "cell_type": "code",
   "execution_count": 207,
   "id": "77b62e6e",
   "metadata": {
    "ExecuteTime": {
     "end_time": "2023-07-30T08:40:31.348486Z",
     "start_time": "2023-07-30T08:40:31.341386Z"
    }
   },
   "outputs": [
    {
     "data": {
      "text/plain": [
       "{}"
      ]
     },
     "execution_count": 207,
     "metadata": {},
     "output_type": "execute_result"
    }
   ],
   "source": [
    "profile_copy"
   ]
  },
  {
   "cell_type": "code",
   "execution_count": 208,
   "id": "8de0901c",
   "metadata": {
    "ExecuteTime": {
     "end_time": "2023-07-30T08:40:31.600796Z",
     "start_time": "2023-07-30T08:40:31.592390Z"
    }
   },
   "outputs": [
    {
     "data": {
      "text/plain": [
       "{'first_name': 'Pablo',\n",
       " 'last_name': 'Okwukogu',\n",
       " 'email': 'peter.okwukogu@gmail.com'}"
      ]
     },
     "execution_count": 208,
     "metadata": {},
     "output_type": "execute_result"
    }
   ],
   "source": [
    "# items method\n",
    "profile"
   ]
  },
  {
   "cell_type": "code",
   "execution_count": 209,
   "id": "53a5c640",
   "metadata": {
    "ExecuteTime": {
     "end_time": "2023-07-30T08:40:31.859482Z",
     "start_time": "2023-07-30T08:40:31.854174Z"
    }
   },
   "outputs": [
    {
     "data": {
      "text/plain": [
       "dict_items([('first_name', 'Pablo'), ('last_name', 'Okwukogu'), ('email', 'peter.okwukogu@gmail.com')])"
      ]
     },
     "execution_count": 209,
     "metadata": {},
     "output_type": "execute_result"
    }
   ],
   "source": [
    "profile.items() "
   ]
  },
  {
   "cell_type": "code",
   "execution_count": 210,
   "id": "4a08f86e",
   "metadata": {
    "ExecuteTime": {
     "end_time": "2023-07-30T08:40:32.112349Z",
     "start_time": "2023-07-30T08:40:32.105193Z"
    }
   },
   "outputs": [
    {
     "data": {
      "text/plain": [
       "dict_keys(['first_name', 'last_name', 'email'])"
      ]
     },
     "execution_count": 210,
     "metadata": {},
     "output_type": "execute_result"
    }
   ],
   "source": [
    "# keys method\n",
    "profile.keys() "
   ]
  },
  {
   "cell_type": "code",
   "execution_count": 211,
   "id": "7b09d96a",
   "metadata": {
    "ExecuteTime": {
     "end_time": "2023-07-30T08:40:32.374461Z",
     "start_time": "2023-07-30T08:40:32.358227Z"
    }
   },
   "outputs": [
    {
     "data": {
      "text/plain": [
       "True"
      ]
     },
     "execution_count": 211,
     "metadata": {},
     "output_type": "execute_result"
    }
   ],
   "source": [
    "'email'in profile"
   ]
  },
  {
   "cell_type": "code",
   "execution_count": 212,
   "id": "32e5ac3b",
   "metadata": {
    "ExecuteTime": {
     "end_time": "2023-07-30T08:40:32.636192Z",
     "start_time": "2023-07-30T08:40:32.629200Z"
    }
   },
   "outputs": [
    {
     "data": {
      "text/plain": [
       "dict_values(['Pablo', 'Okwukogu', 'peter.okwukogu@gmail.com'])"
      ]
     },
     "execution_count": 212,
     "metadata": {},
     "output_type": "execute_result"
    }
   ],
   "source": [
    "# value method\n",
    "profile.values() "
   ]
  },
  {
   "cell_type": "code",
   "execution_count": 213,
   "id": "67783b6b",
   "metadata": {
    "ExecuteTime": {
     "end_time": "2023-07-30T08:40:32.885757Z",
     "start_time": "2023-07-30T08:40:32.879515Z"
    }
   },
   "outputs": [
    {
     "data": {
      "text/plain": [
       "'peter.okwukogu@gmail.com'"
      ]
     },
     "execution_count": 213,
     "metadata": {},
     "output_type": "execute_result"
    }
   ],
   "source": [
    "# pop\n",
    "profile.pop('email')"
   ]
  },
  {
   "cell_type": "code",
   "execution_count": 214,
   "id": "9de665bf",
   "metadata": {
    "ExecuteTime": {
     "end_time": "2023-07-30T08:40:33.160191Z",
     "start_time": "2023-07-30T08:40:33.152833Z"
    }
   },
   "outputs": [
    {
     "data": {
      "text/plain": [
       "{'first_name': 'Pablo', 'last_name': 'Okwukogu'}"
      ]
     },
     "execution_count": 214,
     "metadata": {},
     "output_type": "execute_result"
    }
   ],
   "source": [
    "profile"
   ]
  },
  {
   "cell_type": "code",
   "execution_count": 215,
   "id": "a3f81085",
   "metadata": {
    "ExecuteTime": {
     "end_time": "2023-07-30T08:40:33.413324Z",
     "start_time": "2023-07-30T08:40:33.406579Z"
    }
   },
   "outputs": [
    {
     "data": {
      "text/plain": [
       "'Not a key'"
      ]
     },
     "execution_count": 215,
     "metadata": {},
     "output_type": "execute_result"
    }
   ],
   "source": [
    "profile.pop('location', 'Not a key')"
   ]
  },
  {
   "cell_type": "code",
   "execution_count": 216,
   "id": "4bb3b994",
   "metadata": {
    "ExecuteTime": {
     "end_time": "2023-07-30T10:58:03.049470Z",
     "start_time": "2023-07-30T10:58:03.042932Z"
    }
   },
   "outputs": [
    {
     "data": {
      "text/plain": [
       "{'first_name': 'Pablo', 'last_name': 'Okwukogu'}"
      ]
     },
     "execution_count": 216,
     "metadata": {},
     "output_type": "execute_result"
    }
   ],
   "source": [
    "# popitem()\n",
    "profile"
   ]
  },
  {
   "cell_type": "code",
   "execution_count": 217,
   "id": "285c2682",
   "metadata": {
    "ExecuteTime": {
     "end_time": "2023-07-30T10:59:26.378968Z",
     "start_time": "2023-07-30T10:59:26.368986Z"
    }
   },
   "outputs": [
    {
     "data": {
      "text/plain": [
       "('last_name', 'Okwukogu')"
      ]
     },
     "execution_count": 217,
     "metadata": {},
     "output_type": "execute_result"
    }
   ],
   "source": [
    "profile.popitem()"
   ]
  },
  {
   "cell_type": "code",
   "execution_count": 218,
   "id": "26cd7e6e",
   "metadata": {
    "ExecuteTime": {
     "end_time": "2023-07-30T10:59:36.085902Z",
     "start_time": "2023-07-30T10:59:36.070787Z"
    }
   },
   "outputs": [
    {
     "data": {
      "text/plain": [
       "{'first_name': 'Pablo'}"
      ]
     },
     "execution_count": 218,
     "metadata": {},
     "output_type": "execute_result"
    }
   ],
   "source": [
    "profile"
   ]
  },
  {
   "cell_type": "code",
   "execution_count": 219,
   "id": "59429d2f",
   "metadata": {
    "ExecuteTime": {
     "end_time": "2023-07-30T11:01:31.873629Z",
     "start_time": "2023-07-30T11:01:31.858734Z"
    }
   },
   "outputs": [],
   "source": [
    "# update\n",
    "profile.update([('last_name', 'Okwukogu')])"
   ]
  },
  {
   "cell_type": "code",
   "execution_count": 220,
   "id": "3cf18560",
   "metadata": {
    "ExecuteTime": {
     "end_time": "2023-07-30T11:01:36.333454Z",
     "start_time": "2023-07-30T11:01:36.325816Z"
    }
   },
   "outputs": [
    {
     "data": {
      "text/plain": [
       "{'first_name': 'Pablo', 'last_name': 'Okwukogu'}"
      ]
     },
     "execution_count": 220,
     "metadata": {},
     "output_type": "execute_result"
    }
   ],
   "source": [
    "profile"
   ]
  },
  {
   "cell_type": "code",
   "execution_count": 221,
   "id": "20fe299f",
   "metadata": {
    "ExecuteTime": {
     "end_time": "2023-07-30T11:02:23.122623Z",
     "start_time": "2023-07-30T11:02:23.117003Z"
    }
   },
   "outputs": [],
   "source": [
    "profile.update([('email', 'ipablo@gmail.com')])"
   ]
  },
  {
   "cell_type": "code",
   "execution_count": 222,
   "id": "1897ca34",
   "metadata": {
    "ExecuteTime": {
     "end_time": "2023-07-30T11:02:29.606745Z",
     "start_time": "2023-07-30T11:02:29.585758Z"
    }
   },
   "outputs": [
    {
     "data": {
      "text/plain": [
       "{'first_name': 'Pablo', 'last_name': 'Okwukogu', 'email': 'ipablo@gmail.com'}"
      ]
     },
     "execution_count": 222,
     "metadata": {},
     "output_type": "execute_result"
    }
   ],
   "source": [
    "profile"
   ]
  },
  {
   "cell_type": "code",
   "execution_count": 223,
   "id": "3620d16a",
   "metadata": {
    "ExecuteTime": {
     "end_time": "2023-07-30T11:02:53.467780Z",
     "start_time": "2023-07-30T11:02:53.460409Z"
    }
   },
   "outputs": [],
   "source": [
    "profile.update([('email', 'ipablo.ml26@gmail.com')])"
   ]
  },
  {
   "cell_type": "code",
   "execution_count": 224,
   "id": "3ca180be",
   "metadata": {
    "ExecuteTime": {
     "end_time": "2023-07-30T11:02:57.792356Z",
     "start_time": "2023-07-30T11:02:57.783375Z"
    }
   },
   "outputs": [
    {
     "data": {
      "text/plain": [
       "{'first_name': 'Pablo',\n",
       " 'last_name': 'Okwukogu',\n",
       " 'email': 'ipablo.ml26@gmail.com'}"
      ]
     },
     "execution_count": 224,
     "metadata": {},
     "output_type": "execute_result"
    }
   ],
   "source": [
    "profile"
   ]
  },
  {
   "cell_type": "code",
   "execution_count": 225,
   "id": "81bdd3c9",
   "metadata": {
    "ExecuteTime": {
     "end_time": "2023-07-30T11:04:13.711233Z",
     "start_time": "2023-07-30T11:04:13.703723Z"
    }
   },
   "outputs": [],
   "source": [
    "# Modify your dictionary \n",
    "profile['location'] = 'Bahamas'"
   ]
  },
  {
   "cell_type": "code",
   "execution_count": 226,
   "id": "da4fa2ad",
   "metadata": {
    "ExecuteTime": {
     "end_time": "2023-07-30T11:04:18.023165Z",
     "start_time": "2023-07-30T11:04:18.011346Z"
    }
   },
   "outputs": [
    {
     "data": {
      "text/plain": [
       "{'first_name': 'Pablo',\n",
       " 'last_name': 'Okwukogu',\n",
       " 'email': 'ipablo.ml26@gmail.com',\n",
       " 'location': 'Bahamas'}"
      ]
     },
     "execution_count": 226,
     "metadata": {},
     "output_type": "execute_result"
    }
   ],
   "source": [
    "profile"
   ]
  },
  {
   "cell_type": "code",
   "execution_count": 227,
   "id": "3e87d6ea",
   "metadata": {
    "ExecuteTime": {
     "end_time": "2023-07-30T11:05:09.936951Z",
     "start_time": "2023-07-30T11:05:09.917691Z"
    }
   },
   "outputs": [],
   "source": [
    "# delete item from a dict\n",
    "del profile['email']"
   ]
  },
  {
   "cell_type": "code",
   "execution_count": 228,
   "id": "d5a36d57",
   "metadata": {
    "ExecuteTime": {
     "end_time": "2023-07-30T11:05:14.049233Z",
     "start_time": "2023-07-30T11:05:14.039907Z"
    }
   },
   "outputs": [
    {
     "data": {
      "text/plain": [
       "{'first_name': 'Pablo', 'last_name': 'Okwukogu', 'location': 'Bahamas'}"
      ]
     },
     "execution_count": 228,
     "metadata": {},
     "output_type": "execute_result"
    }
   ],
   "source": [
    "profile"
   ]
  },
  {
   "cell_type": "markdown",
   "id": "4ed282a0",
   "metadata": {},
   "source": [
    "## Python Sets"
   ]
  },
  {
   "cell_type": "code",
   "execution_count": 229,
   "id": "f025b6b1",
   "metadata": {
    "ExecuteTime": {
     "end_time": "2023-07-30T12:28:50.566894Z",
     "start_time": "2023-07-30T12:28:50.504659Z"
    }
   },
   "outputs": [],
   "source": [
    "# Sets are unordered collection of objects\n",
    "# Use sets to remove duplicates \n",
    "# Membership testing \n",
    "# Another to perform mathematical operations: Union, differences"
   ]
  },
  {
   "cell_type": "code",
   "execution_count": null,
   "id": "634dd080",
   "metadata": {},
   "outputs": [],
   "source": [
    "# Sets don't support indexing\n",
    "# Sets don't support slicing \n",
    "# Sets are mutable "
   ]
  },
  {
   "cell_type": "code",
   "execution_count": 230,
   "id": "d7a0cf13",
   "metadata": {
    "ExecuteTime": {
     "end_time": "2023-07-30T12:31:47.042114Z",
     "start_time": "2023-07-30T12:31:47.034470Z"
    }
   },
   "outputs": [],
   "source": [
    "# Create a set\n",
    "names_sets = {\"Pablo\", \"Kabir\", \"Mudia\", \"Pablo\", \"Tomi\", \"Kabir\"}"
   ]
  },
  {
   "cell_type": "code",
   "execution_count": 231,
   "id": "051b5447",
   "metadata": {
    "ExecuteTime": {
     "end_time": "2023-07-30T12:31:55.794355Z",
     "start_time": "2023-07-30T12:31:55.788337Z"
    }
   },
   "outputs": [
    {
     "data": {
      "text/plain": [
       "set"
      ]
     },
     "execution_count": 231,
     "metadata": {},
     "output_type": "execute_result"
    }
   ],
   "source": [
    "type(names_sets)"
   ]
  },
  {
   "cell_type": "code",
   "execution_count": 232,
   "id": "ee03cc14",
   "metadata": {
    "ExecuteTime": {
     "end_time": "2023-07-30T12:32:23.880130Z",
     "start_time": "2023-07-30T12:32:23.872791Z"
    }
   },
   "outputs": [
    {
     "name": "stdout",
     "output_type": "stream",
     "text": [
      "{'Pablo', 'Kabir', 'Tomi', 'Mudia'}\n"
     ]
    }
   ],
   "source": [
    "print(names_sets)"
   ]
  },
  {
   "cell_type": "code",
   "execution_count": 239,
   "id": "9aafd4d7",
   "metadata": {
    "ExecuteTime": {
     "end_time": "2023-07-30T12:34:53.242538Z",
     "start_time": "2023-07-30T12:34:53.236153Z"
    }
   },
   "outputs": [
    {
     "data": {
      "text/plain": [
       "{'Kabir', 'Mudia', 'Pablo', 'Tomi'}"
      ]
     },
     "execution_count": 239,
     "metadata": {},
     "output_type": "execute_result"
    }
   ],
   "source": [
    "names_sets"
   ]
  },
  {
   "cell_type": "code",
   "execution_count": 235,
   "id": "46bc54a3",
   "metadata": {
    "ExecuteTime": {
     "end_time": "2023-07-30T12:34:00.956097Z",
     "start_time": "2023-07-30T12:34:00.948760Z"
    }
   },
   "outputs": [
    {
     "data": {
      "text/plain": [
       "list"
      ]
     },
     "execution_count": 235,
     "metadata": {},
     "output_type": "execute_result"
    }
   ],
   "source": [
    "type(list_numbers)"
   ]
  },
  {
   "cell_type": "code",
   "execution_count": 236,
   "id": "efcf5aa0",
   "metadata": {
    "ExecuteTime": {
     "end_time": "2023-07-30T12:34:04.521069Z",
     "start_time": "2023-07-30T12:34:04.507739Z"
    }
   },
   "outputs": [],
   "source": [
    "# Use the set function \n",
    "list_numbers_set = set(list_numbers)"
   ]
  },
  {
   "cell_type": "code",
   "execution_count": 237,
   "id": "1d5e6770",
   "metadata": {
    "ExecuteTime": {
     "end_time": "2023-07-30T12:34:13.355679Z",
     "start_time": "2023-07-30T12:34:13.347660Z"
    }
   },
   "outputs": [
    {
     "data": {
      "text/plain": [
       "set"
      ]
     },
     "execution_count": 237,
     "metadata": {},
     "output_type": "execute_result"
    }
   ],
   "source": [
    "type(list_numbers_set)"
   ]
  },
  {
   "cell_type": "code",
   "execution_count": 238,
   "id": "ec8d89d0",
   "metadata": {
    "ExecuteTime": {
     "end_time": "2023-07-30T12:34:20.788575Z",
     "start_time": "2023-07-30T12:34:20.780786Z"
    }
   },
   "outputs": [
    {
     "data": {
      "text/plain": [
       "{1, 2, 3, 4, 5, 6, 7}"
      ]
     },
     "execution_count": 238,
     "metadata": {},
     "output_type": "execute_result"
    }
   ],
   "source": [
    "list_numbers_set"
   ]
  },
  {
   "cell_type": "code",
   "execution_count": null,
   "id": "631621c0",
   "metadata": {},
   "outputs": [],
   "source": []
  }
 ],
 "metadata": {
  "kernelspec": {
   "display_name": "Python 3 (ipykernel)",
   "language": "python",
   "name": "python3"
  },
  "language_info": {
   "codemirror_mode": {
    "name": "ipython",
    "version": 3
   },
   "file_extension": ".py",
   "mimetype": "text/x-python",
   "name": "python",
   "nbconvert_exporter": "python",
   "pygments_lexer": "ipython3",
   "version": "3.10.9"
  }
 },
 "nbformat": 4,
 "nbformat_minor": 5
}
