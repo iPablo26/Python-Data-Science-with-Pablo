{
 "cells": [
  {
   "cell_type": "markdown",
   "id": "41253dac",
   "metadata": {},
   "source": [
    "## Introduction to Data Analysis"
   ]
  },
  {
   "cell_type": "code",
   "execution_count": 2,
   "id": "b038aadb",
   "metadata": {
    "ExecuteTime": {
     "end_time": "2023-08-19T21:49:36.178218Z",
     "start_time": "2023-08-19T21:49:36.029162Z"
    }
   },
   "outputs": [
    {
     "name": "stdout",
     "output_type": "stream",
     "text": [
      "Data Analysis with Python.ipynb\r\n",
      "Learning Python for Data Science-Examples and Stuff.ipynb\r\n",
      "Learning Python for Data Science.ipynb\r\n",
      "Statistics with Python.ipynb\r\n"
     ]
    }
   ],
   "source": [
    "!ls "
   ]
  },
  {
   "cell_type": "markdown",
   "id": "7bd31a08",
   "metadata": {},
   "source": [
    "# Sourcing Data"
   ]
  },
  {
   "cell_type": "code",
   "execution_count": 3,
   "id": "f8413dcf",
   "metadata": {
    "ExecuteTime": {
     "end_time": "2023-08-19T21:49:39.173683Z",
     "start_time": "2023-08-19T21:49:37.979264Z"
    }
   },
   "outputs": [],
   "source": [
    "import pandas as pd # import libraries\n",
    "import numpy as np "
   ]
  },
  {
   "cell_type": "code",
   "execution_count": 7,
   "id": "6f3baf88",
   "metadata": {
    "ExecuteTime": {
     "end_time": "2023-08-19T21:53:10.061969Z",
     "start_time": "2023-08-19T21:53:10.047165Z"
    }
   },
   "outputs": [],
   "source": [
    "abalone = pd.read_csv('abalone.data', header=None)"
   ]
  },
  {
   "cell_type": "code",
   "execution_count": 8,
   "id": "8ddb9f49",
   "metadata": {
    "ExecuteTime": {
     "end_time": "2023-08-19T21:53:10.815881Z",
     "start_time": "2023-08-19T21:53:10.783589Z"
    }
   },
   "outputs": [
    {
     "data": {
      "text/html": [
       "<div>\n",
       "<style scoped>\n",
       "    .dataframe tbody tr th:only-of-type {\n",
       "        vertical-align: middle;\n",
       "    }\n",
       "\n",
       "    .dataframe tbody tr th {\n",
       "        vertical-align: top;\n",
       "    }\n",
       "\n",
       "    .dataframe thead th {\n",
       "        text-align: right;\n",
       "    }\n",
       "</style>\n",
       "<table border=\"1\" class=\"dataframe\">\n",
       "  <thead>\n",
       "    <tr style=\"text-align: right;\">\n",
       "      <th></th>\n",
       "      <th>0</th>\n",
       "      <th>1</th>\n",
       "      <th>2</th>\n",
       "      <th>3</th>\n",
       "      <th>4</th>\n",
       "      <th>5</th>\n",
       "      <th>6</th>\n",
       "      <th>7</th>\n",
       "      <th>8</th>\n",
       "    </tr>\n",
       "  </thead>\n",
       "  <tbody>\n",
       "    <tr>\n",
       "      <th>0</th>\n",
       "      <td>M</td>\n",
       "      <td>0.455</td>\n",
       "      <td>0.365</td>\n",
       "      <td>0.095</td>\n",
       "      <td>0.5140</td>\n",
       "      <td>0.2245</td>\n",
       "      <td>0.1010</td>\n",
       "      <td>0.150</td>\n",
       "      <td>15</td>\n",
       "    </tr>\n",
       "    <tr>\n",
       "      <th>1</th>\n",
       "      <td>M</td>\n",
       "      <td>0.350</td>\n",
       "      <td>0.265</td>\n",
       "      <td>0.090</td>\n",
       "      <td>0.2255</td>\n",
       "      <td>0.0995</td>\n",
       "      <td>0.0485</td>\n",
       "      <td>0.070</td>\n",
       "      <td>7</td>\n",
       "    </tr>\n",
       "    <tr>\n",
       "      <th>2</th>\n",
       "      <td>F</td>\n",
       "      <td>0.530</td>\n",
       "      <td>0.420</td>\n",
       "      <td>0.135</td>\n",
       "      <td>0.6770</td>\n",
       "      <td>0.2565</td>\n",
       "      <td>0.1415</td>\n",
       "      <td>0.210</td>\n",
       "      <td>9</td>\n",
       "    </tr>\n",
       "    <tr>\n",
       "      <th>3</th>\n",
       "      <td>M</td>\n",
       "      <td>0.440</td>\n",
       "      <td>0.365</td>\n",
       "      <td>0.125</td>\n",
       "      <td>0.5160</td>\n",
       "      <td>0.2155</td>\n",
       "      <td>0.1140</td>\n",
       "      <td>0.155</td>\n",
       "      <td>10</td>\n",
       "    </tr>\n",
       "    <tr>\n",
       "      <th>4</th>\n",
       "      <td>I</td>\n",
       "      <td>0.330</td>\n",
       "      <td>0.255</td>\n",
       "      <td>0.080</td>\n",
       "      <td>0.2050</td>\n",
       "      <td>0.0895</td>\n",
       "      <td>0.0395</td>\n",
       "      <td>0.055</td>\n",
       "      <td>7</td>\n",
       "    </tr>\n",
       "  </tbody>\n",
       "</table>\n",
       "</div>"
      ],
      "text/plain": [
       "   0      1      2      3       4       5       6      7   8\n",
       "0  M  0.455  0.365  0.095  0.5140  0.2245  0.1010  0.150  15\n",
       "1  M  0.350  0.265  0.090  0.2255  0.0995  0.0485  0.070   7\n",
       "2  F  0.530  0.420  0.135  0.6770  0.2565  0.1415  0.210   9\n",
       "3  M  0.440  0.365  0.125  0.5160  0.2155  0.1140  0.155  10\n",
       "4  I  0.330  0.255  0.080  0.2050  0.0895  0.0395  0.055   7"
      ]
     },
     "execution_count": 8,
     "metadata": {},
     "output_type": "execute_result"
    }
   ],
   "source": [
    "abalone.head() # Read/loaded the dataset into a dataframe"
   ]
  },
  {
   "cell_type": "code",
   "execution_count": 9,
   "id": "7063132b",
   "metadata": {
    "ExecuteTime": {
     "end_time": "2023-08-19T21:53:11.560033Z",
     "start_time": "2023-08-19T21:53:11.508645Z"
    }
   },
   "outputs": [],
   "source": [
    "# Name the abalone col\n",
    "abalone.columns = [\n",
    "    'Sex', 'Length', 'Diameter', 'Height', 'Whole weight', 'Shucked weight',\n",
    "    'Viscera weight', 'Shell weight', 'Rings'\n",
    "]"
   ]
  },
  {
   "cell_type": "code",
   "execution_count": 10,
   "id": "7b842f31",
   "metadata": {
    "ExecuteTime": {
     "end_time": "2023-08-19T21:53:12.181346Z",
     "start_time": "2023-08-19T21:53:12.158473Z"
    }
   },
   "outputs": [
    {
     "data": {
      "text/html": [
       "<div>\n",
       "<style scoped>\n",
       "    .dataframe tbody tr th:only-of-type {\n",
       "        vertical-align: middle;\n",
       "    }\n",
       "\n",
       "    .dataframe tbody tr th {\n",
       "        vertical-align: top;\n",
       "    }\n",
       "\n",
       "    .dataframe thead th {\n",
       "        text-align: right;\n",
       "    }\n",
       "</style>\n",
       "<table border=\"1\" class=\"dataframe\">\n",
       "  <thead>\n",
       "    <tr style=\"text-align: right;\">\n",
       "      <th></th>\n",
       "      <th>Sex</th>\n",
       "      <th>Length</th>\n",
       "      <th>Diameter</th>\n",
       "      <th>Height</th>\n",
       "      <th>Whole weight</th>\n",
       "      <th>Shucked weight</th>\n",
       "      <th>Viscera weight</th>\n",
       "      <th>Shell weight</th>\n",
       "      <th>Rings</th>\n",
       "    </tr>\n",
       "  </thead>\n",
       "  <tbody>\n",
       "    <tr>\n",
       "      <th>0</th>\n",
       "      <td>M</td>\n",
       "      <td>0.455</td>\n",
       "      <td>0.365</td>\n",
       "      <td>0.095</td>\n",
       "      <td>0.5140</td>\n",
       "      <td>0.2245</td>\n",
       "      <td>0.1010</td>\n",
       "      <td>0.150</td>\n",
       "      <td>15</td>\n",
       "    </tr>\n",
       "    <tr>\n",
       "      <th>1</th>\n",
       "      <td>M</td>\n",
       "      <td>0.350</td>\n",
       "      <td>0.265</td>\n",
       "      <td>0.090</td>\n",
       "      <td>0.2255</td>\n",
       "      <td>0.0995</td>\n",
       "      <td>0.0485</td>\n",
       "      <td>0.070</td>\n",
       "      <td>7</td>\n",
       "    </tr>\n",
       "    <tr>\n",
       "      <th>2</th>\n",
       "      <td>F</td>\n",
       "      <td>0.530</td>\n",
       "      <td>0.420</td>\n",
       "      <td>0.135</td>\n",
       "      <td>0.6770</td>\n",
       "      <td>0.2565</td>\n",
       "      <td>0.1415</td>\n",
       "      <td>0.210</td>\n",
       "      <td>9</td>\n",
       "    </tr>\n",
       "    <tr>\n",
       "      <th>3</th>\n",
       "      <td>M</td>\n",
       "      <td>0.440</td>\n",
       "      <td>0.365</td>\n",
       "      <td>0.125</td>\n",
       "      <td>0.5160</td>\n",
       "      <td>0.2155</td>\n",
       "      <td>0.1140</td>\n",
       "      <td>0.155</td>\n",
       "      <td>10</td>\n",
       "    </tr>\n",
       "    <tr>\n",
       "      <th>4</th>\n",
       "      <td>I</td>\n",
       "      <td>0.330</td>\n",
       "      <td>0.255</td>\n",
       "      <td>0.080</td>\n",
       "      <td>0.2050</td>\n",
       "      <td>0.0895</td>\n",
       "      <td>0.0395</td>\n",
       "      <td>0.055</td>\n",
       "      <td>7</td>\n",
       "    </tr>\n",
       "  </tbody>\n",
       "</table>\n",
       "</div>"
      ],
      "text/plain": [
       "  Sex  Length  Diameter  Height  Whole weight  Shucked weight  Viscera weight  \\\n",
       "0   M   0.455     0.365   0.095        0.5140          0.2245          0.1010   \n",
       "1   M   0.350     0.265   0.090        0.2255          0.0995          0.0485   \n",
       "2   F   0.530     0.420   0.135        0.6770          0.2565          0.1415   \n",
       "3   M   0.440     0.365   0.125        0.5160          0.2155          0.1140   \n",
       "4   I   0.330     0.255   0.080        0.2050          0.0895          0.0395   \n",
       "\n",
       "   Shell weight  Rings  \n",
       "0         0.150     15  \n",
       "1         0.070      7  \n",
       "2         0.210      9  \n",
       "3         0.155     10  \n",
       "4         0.055      7  "
      ]
     },
     "execution_count": 10,
     "metadata": {},
     "output_type": "execute_result"
    }
   ],
   "source": [
    "abalone.head()"
   ]
  },
  {
   "cell_type": "markdown",
   "id": "cd2283e6",
   "metadata": {},
   "source": [
    "## Sourcing Data from Kaggle"
   ]
  },
  {
   "cell_type": "code",
   "execution_count": 11,
   "id": "37ba5a18",
   "metadata": {
    "ExecuteTime": {
     "end_time": "2023-08-19T21:54:22.142407Z",
     "start_time": "2023-08-19T21:54:22.114805Z"
    }
   },
   "outputs": [],
   "source": [
    "titanic_data = pd.read_csv('train.csv') # Loaded the dataframe into this variable"
   ]
  },
  {
   "cell_type": "code",
   "execution_count": 12,
   "id": "5ae6dfe8",
   "metadata": {
    "ExecuteTime": {
     "end_time": "2023-08-19T21:54:22.368598Z",
     "start_time": "2023-08-19T21:54:22.347150Z"
    }
   },
   "outputs": [
    {
     "data": {
      "text/plain": [
       "(891, 12)"
      ]
     },
     "execution_count": 12,
     "metadata": {},
     "output_type": "execute_result"
    }
   ],
   "source": [
    "titanic_data.shape # Looking at the dimension of the dataframe "
   ]
  },
  {
   "cell_type": "code",
   "execution_count": 13,
   "id": "7cb3047b",
   "metadata": {
    "ExecuteTime": {
     "end_time": "2023-08-19T21:54:22.580080Z",
     "start_time": "2023-08-19T21:54:22.563706Z"
    }
   },
   "outputs": [
    {
     "data": {
      "text/plain": [
       "Index(['PassengerId', 'Survived', 'Pclass', 'Name', 'Sex', 'Age', 'SibSp',\n",
       "       'Parch', 'Ticket', 'Fare', 'Cabin', 'Embarked'],\n",
       "      dtype='object')"
      ]
     },
     "execution_count": 13,
     "metadata": {},
     "output_type": "execute_result"
    }
   ],
   "source": [
    "titanic_data.columns # Attribute for reading column names"
   ]
  },
  {
   "cell_type": "code",
   "execution_count": 14,
   "id": "532c1b3f",
   "metadata": {
    "ExecuteTime": {
     "end_time": "2023-08-19T21:54:22.810946Z",
     "start_time": "2023-08-19T21:54:22.776094Z"
    }
   },
   "outputs": [
    {
     "data": {
      "text/html": [
       "<div>\n",
       "<style scoped>\n",
       "    .dataframe tbody tr th:only-of-type {\n",
       "        vertical-align: middle;\n",
       "    }\n",
       "\n",
       "    .dataframe tbody tr th {\n",
       "        vertical-align: top;\n",
       "    }\n",
       "\n",
       "    .dataframe thead th {\n",
       "        text-align: right;\n",
       "    }\n",
       "</style>\n",
       "<table border=\"1\" class=\"dataframe\">\n",
       "  <thead>\n",
       "    <tr style=\"text-align: right;\">\n",
       "      <th></th>\n",
       "      <th>PassengerId</th>\n",
       "      <th>Survived</th>\n",
       "      <th>Pclass</th>\n",
       "      <th>Name</th>\n",
       "      <th>Sex</th>\n",
       "      <th>Age</th>\n",
       "      <th>SibSp</th>\n",
       "      <th>Parch</th>\n",
       "      <th>Ticket</th>\n",
       "      <th>Fare</th>\n",
       "      <th>Cabin</th>\n",
       "      <th>Embarked</th>\n",
       "    </tr>\n",
       "  </thead>\n",
       "  <tbody>\n",
       "    <tr>\n",
       "      <th>0</th>\n",
       "      <td>1</td>\n",
       "      <td>0</td>\n",
       "      <td>3</td>\n",
       "      <td>Braund, Mr. Owen Harris</td>\n",
       "      <td>male</td>\n",
       "      <td>22.0</td>\n",
       "      <td>1</td>\n",
       "      <td>0</td>\n",
       "      <td>A/5 21171</td>\n",
       "      <td>7.2500</td>\n",
       "      <td>NaN</td>\n",
       "      <td>S</td>\n",
       "    </tr>\n",
       "    <tr>\n",
       "      <th>1</th>\n",
       "      <td>2</td>\n",
       "      <td>1</td>\n",
       "      <td>1</td>\n",
       "      <td>Cumings, Mrs. John Bradley (Florence Briggs Th...</td>\n",
       "      <td>female</td>\n",
       "      <td>38.0</td>\n",
       "      <td>1</td>\n",
       "      <td>0</td>\n",
       "      <td>PC 17599</td>\n",
       "      <td>71.2833</td>\n",
       "      <td>C85</td>\n",
       "      <td>C</td>\n",
       "    </tr>\n",
       "    <tr>\n",
       "      <th>2</th>\n",
       "      <td>3</td>\n",
       "      <td>1</td>\n",
       "      <td>3</td>\n",
       "      <td>Heikkinen, Miss. Laina</td>\n",
       "      <td>female</td>\n",
       "      <td>26.0</td>\n",
       "      <td>0</td>\n",
       "      <td>0</td>\n",
       "      <td>STON/O2. 3101282</td>\n",
       "      <td>7.9250</td>\n",
       "      <td>NaN</td>\n",
       "      <td>S</td>\n",
       "    </tr>\n",
       "    <tr>\n",
       "      <th>3</th>\n",
       "      <td>4</td>\n",
       "      <td>1</td>\n",
       "      <td>1</td>\n",
       "      <td>Futrelle, Mrs. Jacques Heath (Lily May Peel)</td>\n",
       "      <td>female</td>\n",
       "      <td>35.0</td>\n",
       "      <td>1</td>\n",
       "      <td>0</td>\n",
       "      <td>113803</td>\n",
       "      <td>53.1000</td>\n",
       "      <td>C123</td>\n",
       "      <td>S</td>\n",
       "    </tr>\n",
       "    <tr>\n",
       "      <th>4</th>\n",
       "      <td>5</td>\n",
       "      <td>0</td>\n",
       "      <td>3</td>\n",
       "      <td>Allen, Mr. William Henry</td>\n",
       "      <td>male</td>\n",
       "      <td>35.0</td>\n",
       "      <td>0</td>\n",
       "      <td>0</td>\n",
       "      <td>373450</td>\n",
       "      <td>8.0500</td>\n",
       "      <td>NaN</td>\n",
       "      <td>S</td>\n",
       "    </tr>\n",
       "  </tbody>\n",
       "</table>\n",
       "</div>"
      ],
      "text/plain": [
       "   PassengerId  Survived  Pclass  \\\n",
       "0            1         0       3   \n",
       "1            2         1       1   \n",
       "2            3         1       3   \n",
       "3            4         1       1   \n",
       "4            5         0       3   \n",
       "\n",
       "                                                Name     Sex   Age  SibSp  \\\n",
       "0                            Braund, Mr. Owen Harris    male  22.0      1   \n",
       "1  Cumings, Mrs. John Bradley (Florence Briggs Th...  female  38.0      1   \n",
       "2                             Heikkinen, Miss. Laina  female  26.0      0   \n",
       "3       Futrelle, Mrs. Jacques Heath (Lily May Peel)  female  35.0      1   \n",
       "4                           Allen, Mr. William Henry    male  35.0      0   \n",
       "\n",
       "   Parch            Ticket     Fare Cabin Embarked  \n",
       "0      0         A/5 21171   7.2500   NaN        S  \n",
       "1      0          PC 17599  71.2833   C85        C  \n",
       "2      0  STON/O2. 3101282   7.9250   NaN        S  \n",
       "3      0            113803  53.1000  C123        S  \n",
       "4      0            373450   8.0500   NaN        S  "
      ]
     },
     "execution_count": 14,
     "metadata": {},
     "output_type": "execute_result"
    }
   ],
   "source": [
    "titanic_data.head() # First five rows"
   ]
  },
  {
   "cell_type": "code",
   "execution_count": 15,
   "id": "d03fda26",
   "metadata": {
    "ExecuteTime": {
     "end_time": "2023-08-19T21:54:22.991922Z",
     "start_time": "2023-08-19T21:54:22.964992Z"
    }
   },
   "outputs": [
    {
     "name": "stdout",
     "output_type": "stream",
     "text": [
      "<class 'pandas.core.frame.DataFrame'>\n",
      "RangeIndex: 891 entries, 0 to 890\n",
      "Data columns (total 12 columns):\n",
      " #   Column       Non-Null Count  Dtype  \n",
      "---  ------       --------------  -----  \n",
      " 0   PassengerId  891 non-null    int64  \n",
      " 1   Survived     891 non-null    int64  \n",
      " 2   Pclass       891 non-null    int64  \n",
      " 3   Name         891 non-null    object \n",
      " 4   Sex          891 non-null    object \n",
      " 5   Age          714 non-null    float64\n",
      " 6   SibSp        891 non-null    int64  \n",
      " 7   Parch        891 non-null    int64  \n",
      " 8   Ticket       891 non-null    object \n",
      " 9   Fare         891 non-null    float64\n",
      " 10  Cabin        204 non-null    object \n",
      " 11  Embarked     889 non-null    object \n",
      "dtypes: float64(2), int64(5), object(5)\n",
      "memory usage: 83.7+ KB\n"
     ]
    }
   ],
   "source": [
    "titanic_data.info() # Summary of the dataframe"
   ]
  },
  {
   "cell_type": "markdown",
   "id": "0ec16554",
   "metadata": {},
   "source": [
    "## Pandas Data Structure"
   ]
  },
  {
   "cell_type": "code",
   "execution_count": 16,
   "id": "4ab2cabe",
   "metadata": {
    "ExecuteTime": {
     "end_time": "2023-08-19T21:54:23.988267Z",
     "start_time": "2023-08-19T21:54:23.976758Z"
    }
   },
   "outputs": [],
   "source": [
    "# At the core: Two data structures \n",
    "# DataFrame - 2D - Rows and columns \n",
    "# Series - 1D - Columns "
   ]
  },
  {
   "cell_type": "code",
   "execution_count": 17,
   "id": "8bff1438",
   "metadata": {
    "ExecuteTime": {
     "end_time": "2023-08-19T21:54:24.254275Z",
     "start_time": "2023-08-19T21:54:24.198947Z"
    }
   },
   "outputs": [
    {
     "data": {
      "text/html": [
       "<div>\n",
       "<style scoped>\n",
       "    .dataframe tbody tr th:only-of-type {\n",
       "        vertical-align: middle;\n",
       "    }\n",
       "\n",
       "    .dataframe tbody tr th {\n",
       "        vertical-align: top;\n",
       "    }\n",
       "\n",
       "    .dataframe thead th {\n",
       "        text-align: right;\n",
       "    }\n",
       "</style>\n",
       "<table border=\"1\" class=\"dataframe\">\n",
       "  <thead>\n",
       "    <tr style=\"text-align: right;\">\n",
       "      <th></th>\n",
       "      <th>PassengerId</th>\n",
       "      <th>Survived</th>\n",
       "      <th>Pclass</th>\n",
       "      <th>Name</th>\n",
       "      <th>Sex</th>\n",
       "      <th>Age</th>\n",
       "      <th>SibSp</th>\n",
       "      <th>Parch</th>\n",
       "      <th>Ticket</th>\n",
       "      <th>Fare</th>\n",
       "      <th>Cabin</th>\n",
       "      <th>Embarked</th>\n",
       "    </tr>\n",
       "  </thead>\n",
       "  <tbody>\n",
       "    <tr>\n",
       "      <th>0</th>\n",
       "      <td>1</td>\n",
       "      <td>0</td>\n",
       "      <td>3</td>\n",
       "      <td>Braund, Mr. Owen Harris</td>\n",
       "      <td>male</td>\n",
       "      <td>22.0</td>\n",
       "      <td>1</td>\n",
       "      <td>0</td>\n",
       "      <td>A/5 21171</td>\n",
       "      <td>7.2500</td>\n",
       "      <td>NaN</td>\n",
       "      <td>S</td>\n",
       "    </tr>\n",
       "    <tr>\n",
       "      <th>1</th>\n",
       "      <td>2</td>\n",
       "      <td>1</td>\n",
       "      <td>1</td>\n",
       "      <td>Cumings, Mrs. John Bradley (Florence Briggs Th...</td>\n",
       "      <td>female</td>\n",
       "      <td>38.0</td>\n",
       "      <td>1</td>\n",
       "      <td>0</td>\n",
       "      <td>PC 17599</td>\n",
       "      <td>71.2833</td>\n",
       "      <td>C85</td>\n",
       "      <td>C</td>\n",
       "    </tr>\n",
       "    <tr>\n",
       "      <th>2</th>\n",
       "      <td>3</td>\n",
       "      <td>1</td>\n",
       "      <td>3</td>\n",
       "      <td>Heikkinen, Miss. Laina</td>\n",
       "      <td>female</td>\n",
       "      <td>26.0</td>\n",
       "      <td>0</td>\n",
       "      <td>0</td>\n",
       "      <td>STON/O2. 3101282</td>\n",
       "      <td>7.9250</td>\n",
       "      <td>NaN</td>\n",
       "      <td>S</td>\n",
       "    </tr>\n",
       "    <tr>\n",
       "      <th>3</th>\n",
       "      <td>4</td>\n",
       "      <td>1</td>\n",
       "      <td>1</td>\n",
       "      <td>Futrelle, Mrs. Jacques Heath (Lily May Peel)</td>\n",
       "      <td>female</td>\n",
       "      <td>35.0</td>\n",
       "      <td>1</td>\n",
       "      <td>0</td>\n",
       "      <td>113803</td>\n",
       "      <td>53.1000</td>\n",
       "      <td>C123</td>\n",
       "      <td>S</td>\n",
       "    </tr>\n",
       "    <tr>\n",
       "      <th>4</th>\n",
       "      <td>5</td>\n",
       "      <td>0</td>\n",
       "      <td>3</td>\n",
       "      <td>Allen, Mr. William Henry</td>\n",
       "      <td>male</td>\n",
       "      <td>35.0</td>\n",
       "      <td>0</td>\n",
       "      <td>0</td>\n",
       "      <td>373450</td>\n",
       "      <td>8.0500</td>\n",
       "      <td>NaN</td>\n",
       "      <td>S</td>\n",
       "    </tr>\n",
       "  </tbody>\n",
       "</table>\n",
       "</div>"
      ],
      "text/plain": [
       "   PassengerId  Survived  Pclass  \\\n",
       "0            1         0       3   \n",
       "1            2         1       1   \n",
       "2            3         1       3   \n",
       "3            4         1       1   \n",
       "4            5         0       3   \n",
       "\n",
       "                                                Name     Sex   Age  SibSp  \\\n",
       "0                            Braund, Mr. Owen Harris    male  22.0      1   \n",
       "1  Cumings, Mrs. John Bradley (Florence Briggs Th...  female  38.0      1   \n",
       "2                             Heikkinen, Miss. Laina  female  26.0      0   \n",
       "3       Futrelle, Mrs. Jacques Heath (Lily May Peel)  female  35.0      1   \n",
       "4                           Allen, Mr. William Henry    male  35.0      0   \n",
       "\n",
       "   Parch            Ticket     Fare Cabin Embarked  \n",
       "0      0         A/5 21171   7.2500   NaN        S  \n",
       "1      0          PC 17599  71.2833   C85        C  \n",
       "2      0  STON/O2. 3101282   7.9250   NaN        S  \n",
       "3      0            113803  53.1000  C123        S  \n",
       "4      0            373450   8.0500   NaN        S  "
      ]
     },
     "execution_count": 17,
     "metadata": {},
     "output_type": "execute_result"
    }
   ],
   "source": [
    "titanic_data.head() # DataFrame"
   ]
  },
  {
   "cell_type": "code",
   "execution_count": 18,
   "id": "676f7c9d",
   "metadata": {
    "ExecuteTime": {
     "end_time": "2023-08-19T21:54:24.449135Z",
     "start_time": "2023-08-19T21:54:24.433001Z"
    }
   },
   "outputs": [
    {
     "data": {
      "text/plain": [
       "(891, 12)"
      ]
     },
     "execution_count": 18,
     "metadata": {},
     "output_type": "execute_result"
    }
   ],
   "source": [
    "titanic_data.shape\n",
    "# Axis 0 = Rows, Axis 1 = Columns"
   ]
  },
  {
   "cell_type": "code",
   "execution_count": 19,
   "id": "44290011",
   "metadata": {
    "ExecuteTime": {
     "end_time": "2023-08-19T21:54:24.991664Z",
     "start_time": "2023-08-19T21:54:24.974808Z"
    }
   },
   "outputs": [
    {
     "data": {
      "text/plain": [
       "pandas.core.frame.DataFrame"
      ]
     },
     "execution_count": 19,
     "metadata": {},
     "output_type": "execute_result"
    }
   ],
   "source": [
    "type(titanic_data)"
   ]
  },
  {
   "cell_type": "code",
   "execution_count": 20,
   "id": "6c62edcb",
   "metadata": {
    "ExecuteTime": {
     "end_time": "2023-08-19T21:54:25.290273Z",
     "start_time": "2023-08-19T21:54:25.278179Z"
    }
   },
   "outputs": [
    {
     "data": {
      "text/plain": [
       "0      male\n",
       "1    female\n",
       "2    female\n",
       "3    female\n",
       "4      male\n",
       "Name: Sex, dtype: object"
      ]
     },
     "execution_count": 20,
     "metadata": {},
     "output_type": "execute_result"
    }
   ],
   "source": [
    "titanic_data['Sex'].head() "
   ]
  },
  {
   "cell_type": "code",
   "execution_count": 21,
   "id": "4d4f63f5",
   "metadata": {
    "ExecuteTime": {
     "end_time": "2023-08-19T21:54:25.725474Z",
     "start_time": "2023-08-19T21:54:25.713957Z"
    }
   },
   "outputs": [],
   "source": [
    "series_titanic = titanic_data['Sex']"
   ]
  },
  {
   "cell_type": "code",
   "execution_count": 22,
   "id": "f478b8e1",
   "metadata": {
    "ExecuteTime": {
     "end_time": "2023-08-19T21:54:26.037407Z",
     "start_time": "2023-08-19T21:54:26.031599Z"
    }
   },
   "outputs": [
    {
     "data": {
      "text/plain": [
       "(891,)"
      ]
     },
     "execution_count": 22,
     "metadata": {},
     "output_type": "execute_result"
    }
   ],
   "source": [
    "series_titanic.shape"
   ]
  },
  {
   "cell_type": "markdown",
   "id": "c2ac0026",
   "metadata": {},
   "source": [
    "## Analysis of Extra-marital affairs"
   ]
  },
  {
   "cell_type": "code",
   "execution_count": 33,
   "id": "7057df94",
   "metadata": {
    "ExecuteTime": {
     "end_time": "2023-08-19T21:56:58.709187Z",
     "start_time": "2023-08-19T21:56:58.698456Z"
    }
   },
   "outputs": [],
   "source": [
    "# Sourcing data \n",
    "# https://vincentarelbundock.github.io/Rdatasets/datasets.html"
   ]
  },
  {
   "cell_type": "code",
   "execution_count": 34,
   "id": "22cdb51c",
   "metadata": {
    "ExecuteTime": {
     "end_time": "2023-08-19T21:56:58.893291Z",
     "start_time": "2023-08-19T21:56:58.881535Z"
    }
   },
   "outputs": [],
   "source": [
    "import pandas as pd # Data Manipulation\n",
    "import numpy as np # Numerical Analysis\n",
    "import seaborn as sns # Charts & Graphs\n",
    "import statistics as st # Statistics "
   ]
  },
  {
   "cell_type": "code",
   "execution_count": 35,
   "id": "c3a5bfdc",
   "metadata": {
    "ExecuteTime": {
     "end_time": "2023-08-19T21:56:59.092470Z",
     "start_time": "2023-08-19T21:56:59.076035Z"
    }
   },
   "outputs": [],
   "source": [
    "data_affairs = pd.read_csv('Affairs.csv') # Read into a dataframe "
   ]
  },
  {
   "cell_type": "code",
   "execution_count": 36,
   "id": "66e2cfd0",
   "metadata": {
    "ExecuteTime": {
     "end_time": "2023-08-19T21:56:59.328399Z",
     "start_time": "2023-08-19T21:56:59.316548Z"
    }
   },
   "outputs": [
    {
     "data": {
      "text/plain": [
       "(601, 10)"
      ]
     },
     "execution_count": 36,
     "metadata": {},
     "output_type": "execute_result"
    }
   ],
   "source": [
    "data_affairs.shape # Rows & Columns"
   ]
  },
  {
   "cell_type": "code",
   "execution_count": 37,
   "id": "4164933c",
   "metadata": {
    "ExecuteTime": {
     "end_time": "2023-08-19T21:56:59.559303Z",
     "start_time": "2023-08-19T21:56:59.481011Z"
    }
   },
   "outputs": [
    {
     "data": {
      "text/html": [
       "<div>\n",
       "<style scoped>\n",
       "    .dataframe tbody tr th:only-of-type {\n",
       "        vertical-align: middle;\n",
       "    }\n",
       "\n",
       "    .dataframe tbody tr th {\n",
       "        vertical-align: top;\n",
       "    }\n",
       "\n",
       "    .dataframe thead th {\n",
       "        text-align: right;\n",
       "    }\n",
       "</style>\n",
       "<table border=\"1\" class=\"dataframe\">\n",
       "  <thead>\n",
       "    <tr style=\"text-align: right;\">\n",
       "      <th></th>\n",
       "      <th>Unnamed: 0</th>\n",
       "      <th>affairs</th>\n",
       "      <th>gender</th>\n",
       "      <th>age</th>\n",
       "      <th>yearsmarried</th>\n",
       "      <th>children</th>\n",
       "      <th>religiousness</th>\n",
       "      <th>education</th>\n",
       "      <th>occupation</th>\n",
       "      <th>rating</th>\n",
       "    </tr>\n",
       "  </thead>\n",
       "  <tbody>\n",
       "    <tr>\n",
       "      <th>0</th>\n",
       "      <td>4</td>\n",
       "      <td>0</td>\n",
       "      <td>male</td>\n",
       "      <td>37.0</td>\n",
       "      <td>10.00</td>\n",
       "      <td>no</td>\n",
       "      <td>3</td>\n",
       "      <td>18</td>\n",
       "      <td>7</td>\n",
       "      <td>4</td>\n",
       "    </tr>\n",
       "    <tr>\n",
       "      <th>1</th>\n",
       "      <td>5</td>\n",
       "      <td>0</td>\n",
       "      <td>female</td>\n",
       "      <td>27.0</td>\n",
       "      <td>4.00</td>\n",
       "      <td>no</td>\n",
       "      <td>4</td>\n",
       "      <td>14</td>\n",
       "      <td>6</td>\n",
       "      <td>4</td>\n",
       "    </tr>\n",
       "    <tr>\n",
       "      <th>2</th>\n",
       "      <td>11</td>\n",
       "      <td>0</td>\n",
       "      <td>female</td>\n",
       "      <td>32.0</td>\n",
       "      <td>15.00</td>\n",
       "      <td>yes</td>\n",
       "      <td>1</td>\n",
       "      <td>12</td>\n",
       "      <td>1</td>\n",
       "      <td>4</td>\n",
       "    </tr>\n",
       "    <tr>\n",
       "      <th>3</th>\n",
       "      <td>16</td>\n",
       "      <td>0</td>\n",
       "      <td>male</td>\n",
       "      <td>57.0</td>\n",
       "      <td>15.00</td>\n",
       "      <td>yes</td>\n",
       "      <td>5</td>\n",
       "      <td>18</td>\n",
       "      <td>6</td>\n",
       "      <td>5</td>\n",
       "    </tr>\n",
       "    <tr>\n",
       "      <th>4</th>\n",
       "      <td>23</td>\n",
       "      <td>0</td>\n",
       "      <td>male</td>\n",
       "      <td>22.0</td>\n",
       "      <td>0.75</td>\n",
       "      <td>no</td>\n",
       "      <td>2</td>\n",
       "      <td>17</td>\n",
       "      <td>6</td>\n",
       "      <td>3</td>\n",
       "    </tr>\n",
       "  </tbody>\n",
       "</table>\n",
       "</div>"
      ],
      "text/plain": [
       "   Unnamed: 0  affairs  gender   age  yearsmarried children  religiousness  \\\n",
       "0           4        0    male  37.0         10.00       no              3   \n",
       "1           5        0  female  27.0          4.00       no              4   \n",
       "2          11        0  female  32.0         15.00      yes              1   \n",
       "3          16        0    male  57.0         15.00      yes              5   \n",
       "4          23        0    male  22.0          0.75       no              2   \n",
       "\n",
       "   education  occupation  rating  \n",
       "0         18           7       4  \n",
       "1         14           6       4  \n",
       "2         12           1       4  \n",
       "3         18           6       5  \n",
       "4         17           6       3  "
      ]
     },
     "execution_count": 37,
     "metadata": {},
     "output_type": "execute_result"
    }
   ],
   "source": [
    "data_affairs.head() # First 5 rows "
   ]
  },
  {
   "cell_type": "code",
   "execution_count": 38,
   "id": "33581bac",
   "metadata": {
    "ExecuteTime": {
     "end_time": "2023-08-19T21:56:59.698302Z",
     "start_time": "2023-08-19T21:56:59.672304Z"
    }
   },
   "outputs": [
    {
     "name": "stdout",
     "output_type": "stream",
     "text": [
      "<class 'pandas.core.frame.DataFrame'>\n",
      "RangeIndex: 601 entries, 0 to 600\n",
      "Data columns (total 10 columns):\n",
      " #   Column         Non-Null Count  Dtype  \n",
      "---  ------         --------------  -----  \n",
      " 0   Unnamed: 0     601 non-null    int64  \n",
      " 1   affairs        601 non-null    int64  \n",
      " 2   gender         601 non-null    object \n",
      " 3   age            601 non-null    float64\n",
      " 4   yearsmarried   601 non-null    float64\n",
      " 5   children       601 non-null    object \n",
      " 6   religiousness  601 non-null    int64  \n",
      " 7   education      601 non-null    int64  \n",
      " 8   occupation     601 non-null    int64  \n",
      " 9   rating         601 non-null    int64  \n",
      "dtypes: float64(2), int64(6), object(2)\n",
      "memory usage: 47.1+ KB\n"
     ]
    }
   ],
   "source": [
    "data_affairs.info() # Conscise Summary"
   ]
  },
  {
   "cell_type": "code",
   "execution_count": 39,
   "id": "1bcaa5cd",
   "metadata": {
    "ExecuteTime": {
     "end_time": "2023-08-19T21:56:59.876864Z",
     "start_time": "2023-08-19T21:56:59.865869Z"
    }
   },
   "outputs": [
    {
     "data": {
      "text/plain": [
       "0     4\n",
       "1     5\n",
       "2    11\n",
       "3    16\n",
       "4    23\n",
       "5    29\n",
       "6    44\n",
       "7    45\n",
       "8    47\n",
       "9    49\n",
       "Name: Unnamed: 0, dtype: int64"
      ]
     },
     "execution_count": 39,
     "metadata": {},
     "output_type": "execute_result"
    }
   ],
   "source": [
    "data_affairs['Unnamed: 0'].head(10)  "
   ]
  },
  {
   "cell_type": "code",
   "execution_count": 40,
   "id": "25c222cb",
   "metadata": {
    "ExecuteTime": {
     "end_time": "2023-08-19T21:57:00.080090Z",
     "start_time": "2023-08-19T21:57:00.062899Z"
    }
   },
   "outputs": [],
   "source": [
    "data_affairs_1 = data_affairs.rename(columns={'Unnamed: 0': 'ID'}) # Renaming the 'Unnamed: 0' column"
   ]
  },
  {
   "cell_type": "code",
   "execution_count": 41,
   "id": "ddcc0ba4",
   "metadata": {
    "ExecuteTime": {
     "end_time": "2023-08-19T21:57:00.301121Z",
     "start_time": "2023-08-19T21:57:00.275528Z"
    }
   },
   "outputs": [
    {
     "data": {
      "text/html": [
       "<div>\n",
       "<style scoped>\n",
       "    .dataframe tbody tr th:only-of-type {\n",
       "        vertical-align: middle;\n",
       "    }\n",
       "\n",
       "    .dataframe tbody tr th {\n",
       "        vertical-align: top;\n",
       "    }\n",
       "\n",
       "    .dataframe thead th {\n",
       "        text-align: right;\n",
       "    }\n",
       "</style>\n",
       "<table border=\"1\" class=\"dataframe\">\n",
       "  <thead>\n",
       "    <tr style=\"text-align: right;\">\n",
       "      <th></th>\n",
       "      <th>ID</th>\n",
       "      <th>affairs</th>\n",
       "      <th>gender</th>\n",
       "      <th>age</th>\n",
       "      <th>yearsmarried</th>\n",
       "      <th>children</th>\n",
       "      <th>religiousness</th>\n",
       "      <th>education</th>\n",
       "      <th>occupation</th>\n",
       "      <th>rating</th>\n",
       "    </tr>\n",
       "  </thead>\n",
       "  <tbody>\n",
       "    <tr>\n",
       "      <th>0</th>\n",
       "      <td>4</td>\n",
       "      <td>0</td>\n",
       "      <td>male</td>\n",
       "      <td>37.0</td>\n",
       "      <td>10.00</td>\n",
       "      <td>no</td>\n",
       "      <td>3</td>\n",
       "      <td>18</td>\n",
       "      <td>7</td>\n",
       "      <td>4</td>\n",
       "    </tr>\n",
       "    <tr>\n",
       "      <th>1</th>\n",
       "      <td>5</td>\n",
       "      <td>0</td>\n",
       "      <td>female</td>\n",
       "      <td>27.0</td>\n",
       "      <td>4.00</td>\n",
       "      <td>no</td>\n",
       "      <td>4</td>\n",
       "      <td>14</td>\n",
       "      <td>6</td>\n",
       "      <td>4</td>\n",
       "    </tr>\n",
       "    <tr>\n",
       "      <th>2</th>\n",
       "      <td>11</td>\n",
       "      <td>0</td>\n",
       "      <td>female</td>\n",
       "      <td>32.0</td>\n",
       "      <td>15.00</td>\n",
       "      <td>yes</td>\n",
       "      <td>1</td>\n",
       "      <td>12</td>\n",
       "      <td>1</td>\n",
       "      <td>4</td>\n",
       "    </tr>\n",
       "    <tr>\n",
       "      <th>3</th>\n",
       "      <td>16</td>\n",
       "      <td>0</td>\n",
       "      <td>male</td>\n",
       "      <td>57.0</td>\n",
       "      <td>15.00</td>\n",
       "      <td>yes</td>\n",
       "      <td>5</td>\n",
       "      <td>18</td>\n",
       "      <td>6</td>\n",
       "      <td>5</td>\n",
       "    </tr>\n",
       "    <tr>\n",
       "      <th>4</th>\n",
       "      <td>23</td>\n",
       "      <td>0</td>\n",
       "      <td>male</td>\n",
       "      <td>22.0</td>\n",
       "      <td>0.75</td>\n",
       "      <td>no</td>\n",
       "      <td>2</td>\n",
       "      <td>17</td>\n",
       "      <td>6</td>\n",
       "      <td>3</td>\n",
       "    </tr>\n",
       "  </tbody>\n",
       "</table>\n",
       "</div>"
      ],
      "text/plain": [
       "   ID  affairs  gender   age  yearsmarried children  religiousness  education  \\\n",
       "0   4        0    male  37.0         10.00       no              3         18   \n",
       "1   5        0  female  27.0          4.00       no              4         14   \n",
       "2  11        0  female  32.0         15.00      yes              1         12   \n",
       "3  16        0    male  57.0         15.00      yes              5         18   \n",
       "4  23        0    male  22.0          0.75       no              2         17   \n",
       "\n",
       "   occupation  rating  \n",
       "0           7       4  \n",
       "1           6       4  \n",
       "2           1       4  \n",
       "3           6       5  \n",
       "4           6       3  "
      ]
     },
     "execution_count": 41,
     "metadata": {},
     "output_type": "execute_result"
    }
   ],
   "source": [
    "data_affairs_1.head() "
   ]
  },
  {
   "cell_type": "code",
   "execution_count": 42,
   "id": "67325f23",
   "metadata": {
    "ExecuteTime": {
     "end_time": "2023-08-19T21:57:00.715458Z",
     "start_time": "2023-08-19T21:57:00.705863Z"
    }
   },
   "outputs": [
    {
     "name": "stdout",
     "output_type": "stream",
     "text": [
      "<class 'pandas.core.frame.DataFrame'>\n",
      "RangeIndex: 601 entries, 0 to 600\n",
      "Data columns (total 10 columns):\n",
      " #   Column         Non-Null Count  Dtype  \n",
      "---  ------         --------------  -----  \n",
      " 0   ID             601 non-null    int64  \n",
      " 1   affairs        601 non-null    int64  \n",
      " 2   gender         601 non-null    object \n",
      " 3   age            601 non-null    float64\n",
      " 4   yearsmarried   601 non-null    float64\n",
      " 5   children       601 non-null    object \n",
      " 6   religiousness  601 non-null    int64  \n",
      " 7   education      601 non-null    int64  \n",
      " 8   occupation     601 non-null    int64  \n",
      " 9   rating         601 non-null    int64  \n",
      "dtypes: float64(2), int64(6), object(2)\n",
      "memory usage: 47.1+ KB\n"
     ]
    }
   ],
   "source": [
    "data_affairs_1.info() "
   ]
  },
  {
   "cell_type": "code",
   "execution_count": 43,
   "id": "f1f7a6ba",
   "metadata": {
    "ExecuteTime": {
     "end_time": "2023-08-19T22:07:59.408714Z",
     "start_time": "2023-08-19T22:07:59.368897Z"
    }
   },
   "outputs": [
    {
     "data": {
      "text/plain": [
       "0     4\n",
       "1     5\n",
       "2    11\n",
       "3    16\n",
       "4    23\n",
       "Name: ID, dtype: int64"
      ]
     },
     "execution_count": 43,
     "metadata": {},
     "output_type": "execute_result"
    }
   ],
   "source": [
    "data_affairs_1['ID'].head() # first 5 rows/observations"
   ]
  },
  {
   "cell_type": "code",
   "execution_count": 44,
   "id": "2f3af5f9",
   "metadata": {
    "ExecuteTime": {
     "end_time": "2023-08-19T22:09:35.317589Z",
     "start_time": "2023-08-19T22:09:35.295956Z"
    }
   },
   "outputs": [
    {
     "data": {
      "text/plain": [
       "0    0\n",
       "1    0\n",
       "2    0\n",
       "3    0\n",
       "4    0\n",
       "Name: affairs, dtype: int64"
      ]
     },
     "execution_count": 44,
     "metadata": {},
     "output_type": "execute_result"
    }
   ],
   "source": [
    "# Look at the affairs column\n",
    "data_affairs_1['affairs'].head() "
   ]
  },
  {
   "cell_type": "code",
   "execution_count": 45,
   "id": "988453ae",
   "metadata": {
    "ExecuteTime": {
     "end_time": "2023-08-19T22:10:26.727505Z",
     "start_time": "2023-08-19T22:10:26.702611Z"
    }
   },
   "outputs": [
    {
     "data": {
      "text/plain": [
       "596    1\n",
       "597    7\n",
       "598    2\n",
       "599    2\n",
       "600    1\n",
       "Name: affairs, dtype: int64"
      ]
     },
     "execution_count": 45,
     "metadata": {},
     "output_type": "execute_result"
    }
   ],
   "source": [
    "data_affairs_1['affairs'].tail() # last 5 rows/observations"
   ]
  },
  {
   "cell_type": "code",
   "execution_count": 46,
   "id": "23ae6ee3",
   "metadata": {
    "ExecuteTime": {
     "end_time": "2023-08-19T22:14:51.351058Z",
     "start_time": "2023-08-19T22:14:51.338454Z"
    }
   },
   "outputs": [],
   "source": [
    "# create a dict\n",
    "replace_affairs = {0 : 'none', 1 : 'once', 2 : 'twice',\n",
    "                   3: '3 times', 7 : '4–10 times', \n",
    "                   12 : 'monthly/weekly/daily'}"
   ]
  },
  {
   "cell_type": "code",
   "execution_count": 47,
   "id": "0d9979ac",
   "metadata": {
    "ExecuteTime": {
     "end_time": "2023-08-19T22:14:59.212358Z",
     "start_time": "2023-08-19T22:14:59.206035Z"
    }
   },
   "outputs": [
    {
     "name": "stdout",
     "output_type": "stream",
     "text": [
      "{0: 'none', 1: 'once', 2: 'twice', 3: '3 times', 7: '4–10 times', 12: 'monthly/weekly/daily'}\n"
     ]
    }
   ],
   "source": [
    "print(replace_affairs)"
   ]
  },
  {
   "cell_type": "code",
   "execution_count": 48,
   "id": "d4b5425b",
   "metadata": {
    "ExecuteTime": {
     "end_time": "2023-08-19T22:15:32.591050Z",
     "start_time": "2023-08-19T22:15:32.550329Z"
    }
   },
   "outputs": [
    {
     "data": {
      "text/plain": [
       "array([ 0,  3,  7, 12,  1,  2])"
      ]
     },
     "execution_count": 48,
     "metadata": {},
     "output_type": "execute_result"
    }
   ],
   "source": [
    "data_affairs_1['affairs'].unique() # checking unique values"
   ]
  },
  {
   "cell_type": "code",
   "execution_count": 49,
   "id": "60e0f0de",
   "metadata": {
    "ExecuteTime": {
     "end_time": "2023-08-19T22:17:40.913503Z",
     "start_time": "2023-08-19T22:17:40.857950Z"
    }
   },
   "outputs": [],
   "source": [
    "data_affairs_1['affairs'] = data_affairs_1['affairs'].replace(replace_affairs)"
   ]
  },
  {
   "cell_type": "code",
   "execution_count": 50,
   "id": "002e4a21",
   "metadata": {
    "ExecuteTime": {
     "end_time": "2023-08-19T22:18:02.343282Z",
     "start_time": "2023-08-19T22:18:02.320227Z"
    }
   },
   "outputs": [
    {
     "data": {
      "text/plain": [
       "0    none\n",
       "1    none\n",
       "2    none\n",
       "3    none\n",
       "4    none\n",
       "Name: affairs, dtype: object"
      ]
     },
     "execution_count": 50,
     "metadata": {},
     "output_type": "execute_result"
    }
   ],
   "source": [
    "data_affairs_1['affairs'].head() "
   ]
  },
  {
   "cell_type": "code",
   "execution_count": 51,
   "id": "ea98c27a",
   "metadata": {
    "ExecuteTime": {
     "end_time": "2023-08-19T22:18:31.579756Z",
     "start_time": "2023-08-19T22:18:31.569664Z"
    }
   },
   "outputs": [
    {
     "data": {
      "text/plain": [
       "596          once\n",
       "597    4–10 times\n",
       "598         twice\n",
       "599         twice\n",
       "600          once\n",
       "Name: affairs, dtype: object"
      ]
     },
     "execution_count": 51,
     "metadata": {},
     "output_type": "execute_result"
    }
   ],
   "source": [
    "data_affairs_1['affairs'].tail() "
   ]
  },
  {
   "cell_type": "code",
   "execution_count": 52,
   "id": "c576790d",
   "metadata": {
    "ExecuteTime": {
     "end_time": "2023-08-19T22:19:12.240793Z",
     "start_time": "2023-08-19T22:19:12.215994Z"
    }
   },
   "outputs": [
    {
     "data": {
      "text/html": [
       "<div>\n",
       "<style scoped>\n",
       "    .dataframe tbody tr th:only-of-type {\n",
       "        vertical-align: middle;\n",
       "    }\n",
       "\n",
       "    .dataframe tbody tr th {\n",
       "        vertical-align: top;\n",
       "    }\n",
       "\n",
       "    .dataframe thead th {\n",
       "        text-align: right;\n",
       "    }\n",
       "</style>\n",
       "<table border=\"1\" class=\"dataframe\">\n",
       "  <thead>\n",
       "    <tr style=\"text-align: right;\">\n",
       "      <th></th>\n",
       "      <th>ID</th>\n",
       "      <th>affairs</th>\n",
       "      <th>gender</th>\n",
       "      <th>age</th>\n",
       "      <th>yearsmarried</th>\n",
       "      <th>children</th>\n",
       "      <th>religiousness</th>\n",
       "      <th>education</th>\n",
       "      <th>occupation</th>\n",
       "      <th>rating</th>\n",
       "    </tr>\n",
       "  </thead>\n",
       "  <tbody>\n",
       "    <tr>\n",
       "      <th>0</th>\n",
       "      <td>4</td>\n",
       "      <td>none</td>\n",
       "      <td>male</td>\n",
       "      <td>37.0</td>\n",
       "      <td>10.00</td>\n",
       "      <td>no</td>\n",
       "      <td>3</td>\n",
       "      <td>18</td>\n",
       "      <td>7</td>\n",
       "      <td>4</td>\n",
       "    </tr>\n",
       "    <tr>\n",
       "      <th>1</th>\n",
       "      <td>5</td>\n",
       "      <td>none</td>\n",
       "      <td>female</td>\n",
       "      <td>27.0</td>\n",
       "      <td>4.00</td>\n",
       "      <td>no</td>\n",
       "      <td>4</td>\n",
       "      <td>14</td>\n",
       "      <td>6</td>\n",
       "      <td>4</td>\n",
       "    </tr>\n",
       "    <tr>\n",
       "      <th>2</th>\n",
       "      <td>11</td>\n",
       "      <td>none</td>\n",
       "      <td>female</td>\n",
       "      <td>32.0</td>\n",
       "      <td>15.00</td>\n",
       "      <td>yes</td>\n",
       "      <td>1</td>\n",
       "      <td>12</td>\n",
       "      <td>1</td>\n",
       "      <td>4</td>\n",
       "    </tr>\n",
       "    <tr>\n",
       "      <th>3</th>\n",
       "      <td>16</td>\n",
       "      <td>none</td>\n",
       "      <td>male</td>\n",
       "      <td>57.0</td>\n",
       "      <td>15.00</td>\n",
       "      <td>yes</td>\n",
       "      <td>5</td>\n",
       "      <td>18</td>\n",
       "      <td>6</td>\n",
       "      <td>5</td>\n",
       "    </tr>\n",
       "    <tr>\n",
       "      <th>4</th>\n",
       "      <td>23</td>\n",
       "      <td>none</td>\n",
       "      <td>male</td>\n",
       "      <td>22.0</td>\n",
       "      <td>0.75</td>\n",
       "      <td>no</td>\n",
       "      <td>2</td>\n",
       "      <td>17</td>\n",
       "      <td>6</td>\n",
       "      <td>3</td>\n",
       "    </tr>\n",
       "  </tbody>\n",
       "</table>\n",
       "</div>"
      ],
      "text/plain": [
       "   ID affairs  gender   age  yearsmarried children  religiousness  education  \\\n",
       "0   4    none    male  37.0         10.00       no              3         18   \n",
       "1   5    none  female  27.0          4.00       no              4         14   \n",
       "2  11    none  female  32.0         15.00      yes              1         12   \n",
       "3  16    none    male  57.0         15.00      yes              5         18   \n",
       "4  23    none    male  22.0          0.75       no              2         17   \n",
       "\n",
       "   occupation  rating  \n",
       "0           7       4  \n",
       "1           6       4  \n",
       "2           1       4  \n",
       "3           6       5  \n",
       "4           6       3  "
      ]
     },
     "execution_count": 52,
     "metadata": {},
     "output_type": "execute_result"
    }
   ],
   "source": [
    "data_affairs_1.head()"
   ]
  },
  {
   "cell_type": "code",
   "execution_count": 53,
   "id": "e7109386",
   "metadata": {
    "ExecuteTime": {
     "end_time": "2023-08-19T22:19:28.115861Z",
     "start_time": "2023-08-19T22:19:28.101910Z"
    }
   },
   "outputs": [
    {
     "name": "stdout",
     "output_type": "stream",
     "text": [
      "<class 'pandas.core.frame.DataFrame'>\n",
      "RangeIndex: 601 entries, 0 to 600\n",
      "Data columns (total 10 columns):\n",
      " #   Column         Non-Null Count  Dtype  \n",
      "---  ------         --------------  -----  \n",
      " 0   ID             601 non-null    int64  \n",
      " 1   affairs        601 non-null    object \n",
      " 2   gender         601 non-null    object \n",
      " 3   age            601 non-null    float64\n",
      " 4   yearsmarried   601 non-null    float64\n",
      " 5   children       601 non-null    object \n",
      " 6   religiousness  601 non-null    int64  \n",
      " 7   education      601 non-null    int64  \n",
      " 8   occupation     601 non-null    int64  \n",
      " 9   rating         601 non-null    int64  \n",
      "dtypes: float64(2), int64(5), object(3)\n",
      "memory usage: 47.1+ KB\n"
     ]
    }
   ],
   "source": [
    "data_affairs_1.info()"
   ]
  },
  {
   "cell_type": "code",
   "execution_count": null,
   "id": "1daf7d41",
   "metadata": {},
   "outputs": [],
   "source": []
  }
 ],
 "metadata": {
  "kernelspec": {
   "display_name": "Python 3 (ipykernel)",
   "language": "python",
   "name": "python3"
  },
  "language_info": {
   "codemirror_mode": {
    "name": "ipython",
    "version": 3
   },
   "file_extension": ".py",
   "mimetype": "text/x-python",
   "name": "python",
   "nbconvert_exporter": "python",
   "pygments_lexer": "ipython3",
   "version": "3.10.9"
  }
 },
 "nbformat": 4,
 "nbformat_minor": 5
}
