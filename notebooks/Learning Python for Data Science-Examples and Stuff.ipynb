{
 "cells": [
  {
   "cell_type": "code",
   "execution_count": 1,
   "id": "d979ffb9",
   "metadata": {
    "ExecuteTime": {
     "end_time": "2023-03-09T15:08:36.665407Z",
     "start_time": "2023-03-09T15:08:34.872785Z"
    }
   },
   "outputs": [],
   "source": [
    "import numpy as np "
   ]
  },
  {
   "cell_type": "code",
   "execution_count": 2,
   "id": "4d0bb1c9",
   "metadata": {
    "ExecuteTime": {
     "end_time": "2023-03-09T15:08:36.684755Z",
     "start_time": "2023-03-09T15:08:36.669629Z"
    }
   },
   "outputs": [
    {
     "data": {
      "text/plain": [
       "array([4, 5, 2])"
      ]
     },
     "execution_count": 2,
     "metadata": {},
     "output_type": "execute_result"
    }
   ],
   "source": [
    "np.array([True, 1, 2]) + np.array([3, 4, False])"
   ]
  },
  {
   "cell_type": "code",
   "execution_count": 3,
   "id": "a81b7fd5",
   "metadata": {
    "ExecuteTime": {
     "end_time": "2023-03-09T15:08:36.692499Z",
     "start_time": "2023-03-09T15:08:36.686975Z"
    }
   },
   "outputs": [],
   "source": [
    "# creating arrays from lists\n",
    "height = [1.56, 1.78, 1.91, 1.83, 1.69]\n",
    "weight = [78, 67, 95, 48, 45]"
   ]
  },
  {
   "cell_type": "code",
   "execution_count": 4,
   "id": "240017bc",
   "metadata": {
    "ExecuteTime": {
     "end_time": "2023-03-09T15:08:37.638284Z",
     "start_time": "2023-03-09T15:08:37.633233Z"
    }
   },
   "outputs": [],
   "source": [
    "np_weight = np.array(weight)\n",
    "np_height = np.array(height)"
   ]
  },
  {
   "cell_type": "code",
   "execution_count": 5,
   "id": "34b299b0",
   "metadata": {
    "ExecuteTime": {
     "end_time": "2023-03-09T15:08:38.328940Z",
     "start_time": "2023-03-09T15:08:38.321864Z"
    }
   },
   "outputs": [
    {
     "data": {
      "text/plain": [
       "array([1.56, 1.78, 1.91, 1.83, 1.69])"
      ]
     },
     "execution_count": 5,
     "metadata": {},
     "output_type": "execute_result"
    }
   ],
   "source": [
    "np_height"
   ]
  },
  {
   "cell_type": "code",
   "execution_count": 6,
   "id": "513b373b",
   "metadata": {
    "ExecuteTime": {
     "end_time": "2023-03-09T15:08:39.165387Z",
     "start_time": "2023-03-09T15:08:39.160254Z"
    }
   },
   "outputs": [],
   "source": [
    "# Append two lists\n",
    "list_2 = height.append(weight)"
   ]
  },
  {
   "cell_type": "code",
   "execution_count": 7,
   "id": "68c8d792",
   "metadata": {
    "ExecuteTime": {
     "end_time": "2023-03-09T15:08:39.701983Z",
     "start_time": "2023-03-09T15:08:39.694411Z"
    }
   },
   "outputs": [
    {
     "name": "stdout",
     "output_type": "stream",
     "text": [
      "None\n"
     ]
    }
   ],
   "source": [
    "print(list_2)"
   ]
  },
  {
   "cell_type": "code",
   "execution_count": 8,
   "id": "695dc6ff",
   "metadata": {
    "ExecuteTime": {
     "end_time": "2023-03-09T15:09:14.239444Z",
     "start_time": "2023-03-09T15:09:14.232357Z"
    }
   },
   "outputs": [
    {
     "data": {
      "text/plain": [
       "[78, 67, 95, 48, 45]"
      ]
     },
     "execution_count": 8,
     "metadata": {},
     "output_type": "execute_result"
    }
   ],
   "source": [
    "weight"
   ]
  },
  {
   "cell_type": "code",
   "execution_count": 9,
   "id": "5fdf3d45",
   "metadata": {
    "ExecuteTime": {
     "end_time": "2023-03-09T15:44:36.083134Z",
     "start_time": "2023-03-09T15:44:36.071061Z"
    }
   },
   "outputs": [],
   "source": [
    "height_weight = [[1.56, 1.78, 1.91, 1.83, 1.69],[78, 67, 95, 48, 45]]"
   ]
  },
  {
   "cell_type": "code",
   "execution_count": 10,
   "id": "ed9eba1c",
   "metadata": {
    "ExecuteTime": {
     "end_time": "2023-03-09T15:44:40.359677Z",
     "start_time": "2023-03-09T15:44:40.351088Z"
    }
   },
   "outputs": [
    {
     "data": {
      "text/plain": [
       "[[1.56, 1.78, 1.91, 1.83, 1.69], [78, 67, 95, 48, 45]]"
      ]
     },
     "execution_count": 10,
     "metadata": {},
     "output_type": "execute_result"
    }
   ],
   "source": [
    "height_weight"
   ]
  },
  {
   "cell_type": "code",
   "execution_count": 11,
   "id": "37c9c153",
   "metadata": {
    "ExecuteTime": {
     "end_time": "2023-03-09T15:45:10.876189Z",
     "start_time": "2023-03-09T15:45:10.858571Z"
    }
   },
   "outputs": [],
   "source": [
    "np_2D = np.array(height_weight)"
   ]
  },
  {
   "cell_type": "code",
   "execution_count": 12,
   "id": "780a0e93",
   "metadata": {
    "ExecuteTime": {
     "end_time": "2023-03-09T15:45:14.770856Z",
     "start_time": "2023-03-09T15:45:14.756673Z"
    }
   },
   "outputs": [
    {
     "data": {
      "text/plain": [
       "array([[ 1.56,  1.78,  1.91,  1.83,  1.69],\n",
       "       [78.  , 67.  , 95.  , 48.  , 45.  ]])"
      ]
     },
     "execution_count": 12,
     "metadata": {},
     "output_type": "execute_result"
    }
   ],
   "source": [
    "np_2D"
   ]
  },
  {
   "cell_type": "code",
   "execution_count": 15,
   "id": "4437fa77",
   "metadata": {
    "ExecuteTime": {
     "end_time": "2023-03-09T15:45:50.636200Z",
     "start_time": "2023-03-09T15:45:50.629240Z"
    }
   },
   "outputs": [
    {
     "data": {
      "text/plain": [
       "95.0"
      ]
     },
     "execution_count": 15,
     "metadata": {},
     "output_type": "execute_result"
    }
   ],
   "source": [
    "np_2D[1][2]"
   ]
  },
  {
   "cell_type": "code",
   "execution_count": 21,
   "id": "1abb5aea",
   "metadata": {
    "ExecuteTime": {
     "end_time": "2023-03-09T15:52:24.728413Z",
     "start_time": "2023-03-09T15:52:24.720659Z"
    }
   },
   "outputs": [
    {
     "data": {
      "text/plain": [
       "48.0"
      ]
     },
     "execution_count": 21,
     "metadata": {},
     "output_type": "execute_result"
    }
   ],
   "source": [
    "np_2D[1, 3]"
   ]
  },
  {
   "cell_type": "code",
   "execution_count": 22,
   "id": "516b435a",
   "metadata": {
    "ExecuteTime": {
     "end_time": "2023-03-09T16:04:34.228813Z",
     "start_time": "2023-03-09T16:04:34.220396Z"
    }
   },
   "outputs": [
    {
     "data": {
      "text/plain": [
       "39.78"
      ]
     },
     "execution_count": 22,
     "metadata": {},
     "output_type": "execute_result"
    }
   ],
   "source": [
    "np.mean(np_2D[:, 0])"
   ]
  },
  {
   "cell_type": "code",
   "execution_count": 16,
   "id": "a9f22181",
   "metadata": {
    "ExecuteTime": {
     "end_time": "2023-03-09T15:47:48.759739Z",
     "start_time": "2023-03-09T15:47:48.752891Z"
    }
   },
   "outputs": [
    {
     "data": {
      "text/plain": [
       "array(['a', 'c'], dtype='<U1')"
      ]
     },
     "execution_count": 16,
     "metadata": {},
     "output_type": "execute_result"
    }
   ],
   "source": [
    "# regular list of lists\n",
    "x = [[\"a\", \"b\"], [\"c\", \"d\"]]\n",
    "[x[0][0], x[1][0]]\n",
    "\n",
    "# numpy\n",
    "import numpy as np\n",
    "np_x = np.array(x)\n",
    "np_x[:, 0]"
   ]
  },
  {
   "cell_type": "code",
   "execution_count": 17,
   "id": "b23e97fe",
   "metadata": {
    "ExecuteTime": {
     "end_time": "2023-03-09T15:48:16.680348Z",
     "start_time": "2023-03-09T15:48:16.673373Z"
    }
   },
   "outputs": [
    {
     "data": {
      "text/plain": [
       "array([['a', 'b'],\n",
       "       ['c', 'd']], dtype='<U1')"
      ]
     },
     "execution_count": 17,
     "metadata": {},
     "output_type": "execute_result"
    }
   ],
   "source": [
    "np_x"
   ]
  },
  {
   "cell_type": "code",
   "execution_count": null,
   "id": "ae827703",
   "metadata": {},
   "outputs": [],
   "source": []
  }
 ],
 "metadata": {
  "kernelspec": {
   "display_name": "Python 3 (ipykernel)",
   "language": "python",
   "name": "python3"
  },
  "language_info": {
   "codemirror_mode": {
    "name": "ipython",
    "version": 3
   },
   "file_extension": ".py",
   "mimetype": "text/x-python",
   "name": "python",
   "nbconvert_exporter": "python",
   "pygments_lexer": "ipython3",
   "version": "3.9.13"
  }
 },
 "nbformat": 4,
 "nbformat_minor": 5
}
