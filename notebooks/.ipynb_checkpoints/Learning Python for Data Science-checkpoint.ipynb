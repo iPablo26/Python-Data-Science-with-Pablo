{
 "cells": [
  {
   "cell_type": "markdown",
   "id": "9df3ef41",
   "metadata": {},
   "source": [
    "# Introduction to Python"
   ]
  },
  {
   "cell_type": "markdown",
   "id": "7c568bb7",
   "metadata": {},
   "source": [
    "### Documentation \n",
    "\n",
    "1. Comments\n",
    "\n",
    "2. PEP8 - Style Guide\n",
    "\n",
    "3. Reading Python Docs"
   ]
  },
  {
   "cell_type": "code",
   "execution_count": 3,
   "id": "a6b6bb56",
   "metadata": {
    "ExecuteTime": {
     "end_time": "2023-09-05T19:50:58.905393Z",
     "start_time": "2023-09-05T19:50:58.902104Z"
    }
   },
   "outputs": [],
   "source": [
    "# Creating an arithmetic abstraction\n",
    "# Created a comment"
   ]
  },
  {
   "cell_type": "code",
   "execution_count": 4,
   "id": "a0247a79",
   "metadata": {
    "ExecuteTime": {
     "end_time": "2023-09-05T19:50:59.119380Z",
     "start_time": "2023-09-05T19:50:59.113073Z"
    }
   },
   "outputs": [],
   "source": [
    "add = 6 + 9 # Assigning a value to add (an addition of 6 + 9) <-- Comment"
   ]
  },
  {
   "cell_type": "code",
   "execution_count": 5,
   "id": "517d3eaf",
   "metadata": {
    "ExecuteTime": {
     "end_time": "2023-09-05T19:50:59.368856Z",
     "start_time": "2023-09-05T19:50:59.365708Z"
    }
   },
   "outputs": [],
   "source": [
    "# Comment out"
   ]
  },
  {
   "cell_type": "code",
   "execution_count": 6,
   "id": "0b9e1e59",
   "metadata": {
    "ExecuteTime": {
     "end_time": "2023-09-05T19:50:59.609088Z",
     "start_time": "2023-09-05T19:50:59.605440Z"
    }
   },
   "outputs": [],
   "source": [
    "# print(add) - Commented out this code"
   ]
  },
  {
   "cell_type": "code",
   "execution_count": 7,
   "id": "24716e42",
   "metadata": {
    "ExecuteTime": {
     "end_time": "2023-09-05T19:50:59.832367Z",
     "start_time": "2023-09-05T19:50:59.821562Z"
    }
   },
   "outputs": [],
   "source": [
    "age = 40 # Assigning an age value to age"
   ]
  },
  {
   "cell_type": "code",
   "execution_count": 8,
   "id": "1c28e43c",
   "metadata": {
    "ExecuteTime": {
     "end_time": "2023-09-05T19:51:00.047986Z",
     "start_time": "2023-09-05T19:51:00.045055Z"
    }
   },
   "outputs": [],
   "source": [
    "# Assigning an age value to age - Bad commenting\n",
    "age = 40 "
   ]
  },
  {
   "cell_type": "markdown",
   "id": "48dbf6b4",
   "metadata": {},
   "source": [
    "### Python's Style Guide"
   ]
  },
  {
   "cell_type": "code",
   "execution_count": 83,
   "id": "d0b1ef34",
   "metadata": {
    "ExecuteTime": {
     "end_time": "2023-05-02T12:03:11.477611Z",
     "start_time": "2023-05-02T12:03:11.472859Z"
    }
   },
   "outputs": [],
   "source": [
    "# # Aligned with opening delimiter.\n",
    "foo = long_function_name(var_one, var_two,\n",
    "                           var_three, var_four)"
   ]
  },
  {
   "cell_type": "code",
   "execution_count": null,
   "id": "3e25f5ca",
   "metadata": {
    "ExecuteTime": {
     "end_time": "2023-05-02T12:02:14.060023Z",
     "start_time": "2023-05-02T12:02:14.060004Z"
    }
   },
   "outputs": [],
   "source": [
    "# Add 4 spaces (an extra level of indentation) to distinguish arguments from the rest.\n",
    "def long_function_name(\n",
    "        var_one, var_two, var_three,\n",
    "        var_four):\n",
    "    print(var_one)"
   ]
  },
  {
   "cell_type": "code",
   "execution_count": null,
   "id": "5bf38d05",
   "metadata": {
    "ExecuteTime": {
     "end_time": "2023-05-02T12:02:14.062860Z",
     "start_time": "2023-05-02T12:02:14.062836Z"
    }
   },
   "outputs": [],
   "source": [
    "# Wrong:\n",
    "\n",
    "# Arguments on first line forbidden when not using vertical alignment.\n",
    "foo = long_function_name(var_one, var_two,\n",
    "                         var_three, var_four)\n",
    "\n",
    "# Further indentation required as indentation is not distinguishable.\n",
    "def long_function_name(\n",
    "    var_one, var_two, var_three,\n",
    "    var_four):\n",
    "    print(var_one)"
   ]
  },
  {
   "cell_type": "markdown",
   "id": "d63726f1",
   "metadata": {},
   "source": [
    "## Reading Python Documentation "
   ]
  },
  {
   "cell_type": "code",
   "execution_count": 9,
   "id": "23dca896",
   "metadata": {
    "ExecuteTime": {
     "end_time": "2023-09-05T19:51:07.468674Z",
     "start_time": "2023-09-05T19:51:07.432110Z"
    }
   },
   "outputs": [],
   "source": [
    "boy = \"Pablo\""
   ]
  },
  {
   "cell_type": "code",
   "execution_count": 10,
   "id": "f3f831d4",
   "metadata": {
    "ExecuteTime": {
     "end_time": "2023-09-05T19:51:07.591192Z",
     "start_time": "2023-09-05T19:51:07.577523Z"
    }
   },
   "outputs": [
    {
     "data": {
      "text/plain": [
       "5"
      ]
     },
     "execution_count": 10,
     "metadata": {},
     "output_type": "execute_result"
    }
   ],
   "source": [
    "len(boy)"
   ]
  },
  {
   "cell_type": "code",
   "execution_count": 11,
   "id": "bb7d541d",
   "metadata": {
    "ExecuteTime": {
     "end_time": "2023-09-05T19:51:07.808906Z",
     "start_time": "2023-09-05T19:51:07.804007Z"
    }
   },
   "outputs": [
    {
     "name": "stdout",
     "output_type": "stream",
     "text": [
      "\n"
     ]
    }
   ],
   "source": [
    "print()"
   ]
  },
  {
   "cell_type": "markdown",
   "id": "5435f6d0",
   "metadata": {},
   "source": [
    "## Variables & Data Types"
   ]
  },
  {
   "cell_type": "code",
   "execution_count": 12,
   "id": "e948223a",
   "metadata": {
    "ExecuteTime": {
     "end_time": "2023-09-05T19:51:08.235208Z",
     "start_time": "2023-09-05T19:51:08.230202Z"
    }
   },
   "outputs": [],
   "source": [
    "first_var = \"My first line of code\" # first_var assigned a value"
   ]
  },
  {
   "cell_type": "code",
   "execution_count": 13,
   "id": "3d183989",
   "metadata": {
    "ExecuteTime": {
     "end_time": "2023-09-05T19:51:08.473230Z",
     "start_time": "2023-09-05T19:51:08.468540Z"
    }
   },
   "outputs": [
    {
     "name": "stdout",
     "output_type": "stream",
     "text": [
      "My first line of code\n"
     ]
    }
   ],
   "source": [
    "print(first_var) # prints to stream the variable value"
   ]
  },
  {
   "cell_type": "code",
   "execution_count": 14,
   "id": "7c6b86e4",
   "metadata": {
    "ExecuteTime": {
     "end_time": "2023-09-05T19:51:08.731598Z",
     "start_time": "2023-09-05T19:51:08.724356Z"
    }
   },
   "outputs": [
    {
     "data": {
      "text/plain": [
       "'My first line of code'"
      ]
     },
     "execution_count": 14,
     "metadata": {},
     "output_type": "execute_result"
    }
   ],
   "source": [
    "first_var "
   ]
  },
  {
   "cell_type": "markdown",
   "id": "4c0e5f0e",
   "metadata": {},
   "source": [
    "## Rules for creating variables & variable names"
   ]
  },
  {
   "cell_type": "code",
   "execution_count": 15,
   "id": "2d9a17eb",
   "metadata": {
    "ExecuteTime": {
     "end_time": "2023-09-05T19:51:09.125755Z",
     "start_time": "2023-09-05T19:51:09.121265Z"
    }
   },
   "outputs": [],
   "source": [
    "# 1. Variables can only contain letters, numbers and underscores\n",
    "# You cannot create a variable starting with a number "
   ]
  },
  {
   "cell_type": "code",
   "execution_count": 16,
   "id": "766cac19",
   "metadata": {
    "ExecuteTime": {
     "end_time": "2023-09-05T19:51:09.331924Z",
     "start_time": "2023-09-05T19:51:09.327480Z"
    }
   },
   "outputs": [],
   "source": [
    "second_2 = \"Trying out a second time\" # creating a variable"
   ]
  },
  {
   "cell_type": "code",
   "execution_count": 17,
   "id": "c47d4d2d",
   "metadata": {
    "ExecuteTime": {
     "end_time": "2023-09-05T19:51:09.542109Z",
     "start_time": "2023-09-05T19:51:09.535363Z"
    }
   },
   "outputs": [
    {
     "name": "stdout",
     "output_type": "stream",
     "text": [
      "Trying out a second time\n"
     ]
    }
   ],
   "source": [
    "print(second_2)"
   ]
  },
  {
   "cell_type": "code",
   "execution_count": 18,
   "id": "34ad12f3",
   "metadata": {
    "ExecuteTime": {
     "end_time": "2023-09-05T19:51:09.756697Z",
     "start_time": "2023-09-05T19:51:09.751877Z"
    }
   },
   "outputs": [
    {
     "ename": "SyntaxError",
     "evalue": "invalid decimal literal (498188808.py, line 1)",
     "output_type": "error",
     "traceback": [
      "\u001b[0;36m  Cell \u001b[0;32mIn[18], line 1\u001b[0;36m\u001b[0m\n\u001b[0;31m    2code = \"Tearing apart\" # breaking a variable naming rule\u001b[0m\n\u001b[0m    ^\u001b[0m\n\u001b[0;31mSyntaxError\u001b[0m\u001b[0;31m:\u001b[0m invalid decimal literal\n"
     ]
    }
   ],
   "source": [
    "2code = \"Tearing apart\" # breaking a variable naming rule "
   ]
  },
  {
   "cell_type": "code",
   "execution_count": 19,
   "id": "48edfbcb",
   "metadata": {
    "ExecuteTime": {
     "end_time": "2023-09-05T19:51:09.962584Z",
     "start_time": "2023-09-05T19:51:09.953217Z"
    }
   },
   "outputs": [],
   "source": [
    "_2_second = \"Trying again\" # Making up the rules "
   ]
  },
  {
   "cell_type": "code",
   "execution_count": 20,
   "id": "9d11ff23",
   "metadata": {
    "ExecuteTime": {
     "end_time": "2023-09-05T19:51:10.169260Z",
     "start_time": "2023-09-05T19:51:10.165168Z"
    }
   },
   "outputs": [
    {
     "name": "stdout",
     "output_type": "stream",
     "text": [
      "Trying again\n"
     ]
    }
   ],
   "source": [
    "print(_2_second)"
   ]
  },
  {
   "cell_type": "code",
   "execution_count": 21,
   "id": "0f2aa32a",
   "metadata": {
    "ExecuteTime": {
     "end_time": "2023-09-05T19:51:10.402569Z",
     "start_time": "2023-09-05T19:51:10.396823Z"
    }
   },
   "outputs": [],
   "source": [
    "# 2. Avoid spaces when creating variable names "
   ]
  },
  {
   "cell_type": "code",
   "execution_count": 22,
   "id": "2c0875d7",
   "metadata": {
    "ExecuteTime": {
     "end_time": "2023-09-05T19:51:10.604350Z",
     "start_time": "2023-09-05T19:51:10.599140Z"
    }
   },
   "outputs": [
    {
     "ename": "SyntaxError",
     "evalue": "invalid syntax (2559974020.py, line 1)",
     "output_type": "error",
     "traceback": [
      "\u001b[0;36m  Cell \u001b[0;32mIn[22], line 1\u001b[0;36m\u001b[0m\n\u001b[0;31m    third var = \"Avoiding spaces\"\u001b[0m\n\u001b[0m          ^\u001b[0m\n\u001b[0;31mSyntaxError\u001b[0m\u001b[0;31m:\u001b[0m invalid syntax\n"
     ]
    }
   ],
   "source": [
    "third var = \"Avoiding spaces\""
   ]
  },
  {
   "cell_type": "code",
   "execution_count": 23,
   "id": "87bdec90",
   "metadata": {
    "ExecuteTime": {
     "end_time": "2023-09-05T19:51:10.835787Z",
     "start_time": "2023-09-05T19:51:10.831910Z"
    }
   },
   "outputs": [],
   "source": [
    "third_var = \"Made up for the space\""
   ]
  },
  {
   "cell_type": "code",
   "execution_count": 24,
   "id": "c84fa452",
   "metadata": {
    "ExecuteTime": {
     "end_time": "2023-09-05T19:51:11.053716Z",
     "start_time": "2023-09-05T19:51:11.050357Z"
    }
   },
   "outputs": [
    {
     "name": "stdout",
     "output_type": "stream",
     "text": [
      "Made up for the space\n"
     ]
    }
   ],
   "source": [
    "print(third_var)"
   ]
  },
  {
   "cell_type": "code",
   "execution_count": 25,
   "id": "1f0de7c2",
   "metadata": {
    "ExecuteTime": {
     "end_time": "2023-09-05T19:51:11.299480Z",
     "start_time": "2023-09-05T19:51:11.294882Z"
    }
   },
   "outputs": [],
   "source": [
    "# 3. Variable names should be intuitive/understandable "
   ]
  },
  {
   "cell_type": "code",
   "execution_count": 26,
   "id": "5b15cb01",
   "metadata": {
    "ExecuteTime": {
     "end_time": "2023-09-05T19:51:11.495060Z",
     "start_time": "2023-09-05T19:51:11.492106Z"
    }
   },
   "outputs": [],
   "source": [
    "my_name = \"Pablo\" # Name of instructor "
   ]
  },
  {
   "cell_type": "code",
   "execution_count": 27,
   "id": "73514d18",
   "metadata": {
    "ExecuteTime": {
     "end_time": "2023-09-05T19:51:11.727778Z",
     "start_time": "2023-09-05T19:51:11.714041Z"
    }
   },
   "outputs": [],
   "source": [
    "m_n = \"Pablo\""
   ]
  },
  {
   "cell_type": "code",
   "execution_count": 28,
   "id": "ba4ebebf",
   "metadata": {
    "ExecuteTime": {
     "end_time": "2023-09-05T19:51:11.918921Z",
     "start_time": "2023-09-05T19:51:11.915536Z"
    }
   },
   "outputs": [],
   "source": [
    "# 4. Avoid using Python keywords/reserved names "
   ]
  },
  {
   "cell_type": "code",
   "execution_count": 29,
   "id": "fe97416a",
   "metadata": {
    "ExecuteTime": {
     "end_time": "2023-09-05T19:51:12.135117Z",
     "start_time": "2023-09-05T19:51:12.125975Z"
    }
   },
   "outputs": [],
   "source": [
    "list_numbers = [1,2,3,4,5]"
   ]
  },
  {
   "cell_type": "code",
   "execution_count": 30,
   "id": "ce107e16",
   "metadata": {
    "ExecuteTime": {
     "end_time": "2023-09-05T19:51:12.348007Z",
     "start_time": "2023-09-05T19:51:12.343382Z"
    }
   },
   "outputs": [
    {
     "name": "stdout",
     "output_type": "stream",
     "text": [
      "[1, 2, 3, 4, 5]\n"
     ]
    }
   ],
   "source": [
    "print(list_numbers)"
   ]
  },
  {
   "cell_type": "code",
   "execution_count": 31,
   "id": "99ff74e6",
   "metadata": {
    "ExecuteTime": {
     "end_time": "2023-09-05T19:51:12.558528Z",
     "start_time": "2023-09-05T19:51:12.552547Z"
    }
   },
   "outputs": [
    {
     "data": {
      "text/plain": [
       "15"
      ]
     },
     "execution_count": 31,
     "metadata": {},
     "output_type": "execute_result"
    }
   ],
   "source": [
    "sum(list_numbers) # Returns the total of all numbers within a collection "
   ]
  },
  {
   "cell_type": "code",
   "execution_count": 32,
   "id": "50acbefb",
   "metadata": {
    "ExecuteTime": {
     "end_time": "2023-09-05T19:51:12.779736Z",
     "start_time": "2023-09-05T19:51:12.775816Z"
    }
   },
   "outputs": [],
   "source": [
    "sum = [34, 45, 67, 87]"
   ]
  },
  {
   "cell_type": "code",
   "execution_count": 33,
   "id": "c71cd36e",
   "metadata": {
    "ExecuteTime": {
     "end_time": "2023-09-05T19:51:13.107136Z",
     "start_time": "2023-09-05T19:51:12.995684Z"
    }
   },
   "outputs": [
    {
     "data": {
      "text/plain": [
       "[34, 45, 67, 87]"
      ]
     },
     "execution_count": 33,
     "metadata": {},
     "output_type": "execute_result"
    }
   ],
   "source": [
    "sum "
   ]
  },
  {
   "cell_type": "code",
   "execution_count": 34,
   "id": "77844917",
   "metadata": {
    "ExecuteTime": {
     "end_time": "2023-09-05T19:51:13.262694Z",
     "start_time": "2023-09-05T19:51:13.250407Z"
    }
   },
   "outputs": [],
   "source": [
    "age_list = [34, 56, 98, 100]"
   ]
  },
  {
   "cell_type": "code",
   "execution_count": 35,
   "id": "ca93d740",
   "metadata": {
    "ExecuteTime": {
     "end_time": "2023-09-05T19:51:14.343679Z",
     "start_time": "2023-09-05T19:51:13.427528Z"
    }
   },
   "outputs": [
    {
     "ename": "TypeError",
     "evalue": "'list' object is not callable",
     "output_type": "error",
     "traceback": [
      "\u001b[0;31m---------------------------------------------------------------------------\u001b[0m",
      "\u001b[0;31mTypeError\u001b[0m                                 Traceback (most recent call last)",
      "Cell \u001b[0;32mIn[35], line 1\u001b[0m\n\u001b[0;32m----> 1\u001b[0m \u001b[38;5;28;43msum\u001b[39;49m\u001b[43m(\u001b[49m\u001b[43mage_list\u001b[49m\u001b[43m)\u001b[49m\n",
      "\u001b[0;31mTypeError\u001b[0m: 'list' object is not callable"
     ]
    }
   ],
   "source": [
    "sum(age_list)"
   ]
  },
  {
   "cell_type": "code",
   "execution_count": null,
   "id": "6b42ab93",
   "metadata": {
    "ExecuteTime": {
     "end_time": "2023-09-05T19:51:14.347244Z",
     "start_time": "2023-09-05T19:51:14.347221Z"
    }
   },
   "outputs": [],
   "source": [
    "# 5. Less confusion "
   ]
  },
  {
   "cell_type": "code",
   "execution_count": null,
   "id": "b4540f1e",
   "metadata": {
    "ExecuteTime": {
     "end_time": "2023-09-05T19:51:14.348911Z",
     "start_time": "2023-09-05T19:51:14.348892Z"
    }
   },
   "outputs": [],
   "source": [
    "# 0 O l 1 "
   ]
  },
  {
   "cell_type": "markdown",
   "id": "d850ca16",
   "metadata": {},
   "source": [
    "## Data Types"
   ]
  },
  {
   "cell_type": "code",
   "execution_count": 36,
   "id": "e3537e9d",
   "metadata": {
    "ExecuteTime": {
     "end_time": "2023-09-05T19:51:14.567025Z",
     "start_time": "2023-09-05T19:51:14.563029Z"
    }
   },
   "outputs": [],
   "source": [
    "# Strings - A string is a series of characters \n",
    "# Anything inside a single, double & triple quotes\n",
    "# A letter, Series of letters, Single word"
   ]
  },
  {
   "cell_type": "code",
   "execution_count": 37,
   "id": "cfd4f473",
   "metadata": {
    "ExecuteTime": {
     "end_time": "2023-09-05T19:51:14.818268Z",
     "start_time": "2023-09-05T19:51:14.815744Z"
    }
   },
   "outputs": [],
   "source": [
    "footballer_name = 'Messi' # Assigned a value to a variable "
   ]
  },
  {
   "cell_type": "code",
   "execution_count": 38,
   "id": "92217e8b",
   "metadata": {
    "ExecuteTime": {
     "end_time": "2023-09-05T19:51:15.037780Z",
     "start_time": "2023-09-05T19:51:15.028200Z"
    }
   },
   "outputs": [
    {
     "data": {
      "text/plain": [
       "'Messi'"
      ]
     },
     "execution_count": 38,
     "metadata": {},
     "output_type": "execute_result"
    }
   ],
   "source": [
    "footballer_name"
   ]
  },
  {
   "cell_type": "code",
   "execution_count": 39,
   "id": "7e753c1e",
   "metadata": {
    "ExecuteTime": {
     "end_time": "2023-09-05T19:51:15.246844Z",
     "start_time": "2023-09-05T19:51:15.243729Z"
    }
   },
   "outputs": [],
   "source": [
    "first_f_name = \"Lionel\" # A string with double quotes "
   ]
  },
  {
   "cell_type": "code",
   "execution_count": 40,
   "id": "df38c447",
   "metadata": {
    "ExecuteTime": {
     "end_time": "2023-09-05T19:51:15.724381Z",
     "start_time": "2023-09-05T19:51:15.718307Z"
    }
   },
   "outputs": [
    {
     "data": {
      "text/plain": [
       "'Lionel'"
      ]
     },
     "execution_count": 40,
     "metadata": {},
     "output_type": "execute_result"
    }
   ],
   "source": [
    "first_f_name"
   ]
  },
  {
   "cell_type": "code",
   "execution_count": 41,
   "id": "8f4cf2e0",
   "metadata": {
    "ExecuteTime": {
     "end_time": "2023-09-05T19:51:15.883739Z",
     "start_time": "2023-09-05T19:51:15.874592Z"
    }
   },
   "outputs": [],
   "source": [
    "club_name = \"\"\" PSG \"\"\""
   ]
  },
  {
   "cell_type": "code",
   "execution_count": 42,
   "id": "ccdc51e0",
   "metadata": {
    "ExecuteTime": {
     "end_time": "2023-09-05T19:51:15.978150Z",
     "start_time": "2023-09-05T19:51:15.968362Z"
    }
   },
   "outputs": [
    {
     "data": {
      "text/plain": [
       "' PSG '"
      ]
     },
     "execution_count": 42,
     "metadata": {},
     "output_type": "execute_result"
    }
   ],
   "source": [
    "club_name"
   ]
  },
  {
   "cell_type": "code",
   "execution_count": 43,
   "id": "09af6d5b",
   "metadata": {
    "ExecuteTime": {
     "end_time": "2023-09-05T19:51:16.195059Z",
     "start_time": "2023-09-05T19:51:16.182243Z"
    }
   },
   "outputs": [
    {
     "ename": "SyntaxError",
     "evalue": "unterminated string literal (detected at line 2) (3770023912.py, line 2)",
     "output_type": "error",
     "traceback": [
      "\u001b[0;36m  Cell \u001b[0;32mIn[43], line 2\u001b[0;36m\u001b[0m\n\u001b[0;31m    history_messi = 'Messi's preferred foot is left'\u001b[0m\n\u001b[0m                                                   ^\u001b[0m\n\u001b[0;31mSyntaxError\u001b[0m\u001b[0;31m:\u001b[0m unterminated string literal (detected at line 2)\n"
     ]
    }
   ],
   "source": [
    "# Why a single quote instead of a double quote \n",
    "history_messi = 'Messi's preferred foot is left'"
   ]
  },
  {
   "cell_type": "code",
   "execution_count": 44,
   "id": "a38a8b48",
   "metadata": {
    "ExecuteTime": {
     "end_time": "2023-09-05T19:51:16.385437Z",
     "start_time": "2023-09-05T19:51:16.380392Z"
    }
   },
   "outputs": [],
   "source": [
    "history_messi = \"Messi's preferred foot is left\""
   ]
  },
  {
   "cell_type": "code",
   "execution_count": 45,
   "id": "ed48aad6",
   "metadata": {
    "ExecuteTime": {
     "end_time": "2023-09-05T19:51:16.600757Z",
     "start_time": "2023-09-05T19:51:16.595971Z"
    }
   },
   "outputs": [],
   "source": [
    "history_messi = 'Messi\\'s preferred foot is left'"
   ]
  },
  {
   "cell_type": "code",
   "execution_count": 46,
   "id": "2166140f",
   "metadata": {
    "ExecuteTime": {
     "end_time": "2023-09-05T19:51:16.816252Z",
     "start_time": "2023-09-05T19:51:16.811653Z"
    }
   },
   "outputs": [
    {
     "data": {
      "text/plain": [
       "\"Messi's preferred foot is left\""
      ]
     },
     "execution_count": 46,
     "metadata": {},
     "output_type": "execute_result"
    }
   ],
   "source": [
    "history_messi"
   ]
  },
  {
   "cell_type": "markdown",
   "id": "66864bf1",
   "metadata": {},
   "source": [
    "## String Methods"
   ]
  },
  {
   "cell_type": "code",
   "execution_count": 47,
   "id": "91f08c0a",
   "metadata": {
    "ExecuteTime": {
     "end_time": "2023-09-05T19:51:17.275388Z",
     "start_time": "2023-09-05T19:51:17.267413Z"
    }
   },
   "outputs": [
    {
     "data": {
      "text/plain": [
       "['__add__',\n",
       " '__class__',\n",
       " '__contains__',\n",
       " '__delattr__',\n",
       " '__dir__',\n",
       " '__doc__',\n",
       " '__eq__',\n",
       " '__format__',\n",
       " '__ge__',\n",
       " '__getattribute__',\n",
       " '__getitem__',\n",
       " '__getnewargs__',\n",
       " '__gt__',\n",
       " '__hash__',\n",
       " '__init__',\n",
       " '__init_subclass__',\n",
       " '__iter__',\n",
       " '__le__',\n",
       " '__len__',\n",
       " '__lt__',\n",
       " '__mod__',\n",
       " '__mul__',\n",
       " '__ne__',\n",
       " '__new__',\n",
       " '__reduce__',\n",
       " '__reduce_ex__',\n",
       " '__repr__',\n",
       " '__rmod__',\n",
       " '__rmul__',\n",
       " '__setattr__',\n",
       " '__sizeof__',\n",
       " '__str__',\n",
       " '__subclasshook__',\n",
       " 'capitalize',\n",
       " 'casefold',\n",
       " 'center',\n",
       " 'count',\n",
       " 'encode',\n",
       " 'endswith',\n",
       " 'expandtabs',\n",
       " 'find',\n",
       " 'format',\n",
       " 'format_map',\n",
       " 'index',\n",
       " 'isalnum',\n",
       " 'isalpha',\n",
       " 'isascii',\n",
       " 'isdecimal',\n",
       " 'isdigit',\n",
       " 'isidentifier',\n",
       " 'islower',\n",
       " 'isnumeric',\n",
       " 'isprintable',\n",
       " 'isspace',\n",
       " 'istitle',\n",
       " 'isupper',\n",
       " 'join',\n",
       " 'ljust',\n",
       " 'lower',\n",
       " 'lstrip',\n",
       " 'maketrans',\n",
       " 'partition',\n",
       " 'removeprefix',\n",
       " 'removesuffix',\n",
       " 'replace',\n",
       " 'rfind',\n",
       " 'rindex',\n",
       " 'rjust',\n",
       " 'rpartition',\n",
       " 'rsplit',\n",
       " 'rstrip',\n",
       " 'split',\n",
       " 'splitlines',\n",
       " 'startswith',\n",
       " 'strip',\n",
       " 'swapcase',\n",
       " 'title',\n",
       " 'translate',\n",
       " 'upper',\n",
       " 'zfill']"
      ]
     },
     "execution_count": 47,
     "metadata": {},
     "output_type": "execute_result"
    }
   ],
   "source": [
    "dir(footballer_name)"
   ]
  },
  {
   "cell_type": "markdown",
   "id": "71aebdc4",
   "metadata": {},
   "source": [
    "### String methods \n",
    "\n",
    "'capitalize',\n",
    " 'casefold',\n",
    " 'center',\n",
    " 'count',\n",
    " 'encode',\n",
    " 'endswith',\n",
    " 'expandtabs',\n",
    " 'find',\n",
    " 'format',\n",
    " 'format_map',\n",
    " 'index',\n",
    " 'isalnum',\n",
    " 'isalpha',\n",
    " 'isascii',\n",
    " 'isdecimal',\n",
    " 'isdigit',\n",
    " 'isidentifier',\n",
    " 'islower',\n",
    " 'isnumeric',\n",
    " 'isprintable',\n",
    " 'isspace',\n",
    " 'istitle',\n",
    " 'isupper',\n",
    " 'join',\n",
    " 'ljust',\n",
    " 'lower',\n",
    " 'lstrip',\n",
    " 'maketrans',\n",
    " 'partition',\n",
    " 'removeprefix',\n",
    " 'removesuffix',\n",
    " 'replace',\n",
    " 'rfind',\n",
    " 'rindex',\n",
    " 'rjust',\n",
    " 'rpartition',\n",
    " 'rsplit',\n",
    " 'rstrip',\n",
    " 'split',\n",
    " 'splitlines',\n",
    " 'startswith',\n",
    " 'strip',\n",
    " 'swapcase',\n",
    " 'title',\n",
    " 'translate',\n",
    " 'upper',\n",
    " 'zfill'"
   ]
  },
  {
   "cell_type": "code",
   "execution_count": 48,
   "id": "84486e1c",
   "metadata": {
    "ExecuteTime": {
     "end_time": "2023-09-05T19:51:17.715520Z",
     "start_time": "2023-09-05T19:51:17.709697Z"
    }
   },
   "outputs": [
    {
     "data": {
      "text/plain": [
       "2"
      ]
     },
     "execution_count": 48,
     "metadata": {},
     "output_type": "execute_result"
    }
   ],
   "source": [
    "footballer_name.count('s')"
   ]
  },
  {
   "cell_type": "code",
   "execution_count": 49,
   "id": "27cc01d8",
   "metadata": {
    "ExecuteTime": {
     "end_time": "2023-09-05T19:51:17.929464Z",
     "start_time": "2023-09-05T19:51:17.919279Z"
    }
   },
   "outputs": [
    {
     "data": {
      "text/plain": [
       "'MESSI'"
      ]
     },
     "execution_count": 49,
     "metadata": {},
     "output_type": "execute_result"
    }
   ],
   "source": [
    "footballer_name.upper() "
   ]
  },
  {
   "cell_type": "code",
   "execution_count": 50,
   "id": "77800f72",
   "metadata": {
    "ExecuteTime": {
     "end_time": "2023-09-05T19:51:18.143117Z",
     "start_time": "2023-09-05T19:51:18.139463Z"
    }
   },
   "outputs": [
    {
     "name": "stdout",
     "output_type": "stream",
     "text": [
      "Messi's preferred foot is left\n"
     ]
    }
   ],
   "source": [
    "print(history_messi)"
   ]
  },
  {
   "cell_type": "code",
   "execution_count": 51,
   "id": "8e5f6b0a",
   "metadata": {
    "ExecuteTime": {
     "end_time": "2023-09-05T19:51:18.433545Z",
     "start_time": "2023-09-05T19:51:18.424438Z"
    }
   },
   "outputs": [
    {
     "data": {
      "text/plain": [
       "[\"Messi's\", 'preferred', 'foot', 'is', 'left']"
      ]
     },
     "execution_count": 51,
     "metadata": {},
     "output_type": "execute_result"
    }
   ],
   "source": [
    "history_messi.split()"
   ]
  },
  {
   "cell_type": "code",
   "execution_count": 52,
   "id": "33c092e6",
   "metadata": {
    "ExecuteTime": {
     "end_time": "2023-09-05T19:51:18.573967Z",
     "start_time": "2023-09-05T19:51:18.564242Z"
    }
   },
   "outputs": [
    {
     "data": {
      "text/plain": [
       "\"Messi's\""
      ]
     },
     "execution_count": 52,
     "metadata": {},
     "output_type": "execute_result"
    }
   ],
   "source": [
    "history_messi.split()[0]"
   ]
  },
  {
   "cell_type": "markdown",
   "id": "b63ab046",
   "metadata": {},
   "source": [
    "## String Formatting"
   ]
  },
  {
   "cell_type": "code",
   "execution_count": 53,
   "id": "514c4e4e",
   "metadata": {
    "ExecuteTime": {
     "end_time": "2023-09-05T19:51:18.982234Z",
     "start_time": "2023-09-05T19:51:18.977886Z"
    }
   },
   "outputs": [],
   "source": [
    "# String substitution \n",
    "jumper = \"Ronaldo\"\n",
    "age = 38 "
   ]
  },
  {
   "cell_type": "markdown",
   "id": "f7ab42cf",
   "metadata": {},
   "source": [
    "### f-strings"
   ]
  },
  {
   "cell_type": "code",
   "execution_count": 54,
   "id": "e4f15353",
   "metadata": {
    "ExecuteTime": {
     "end_time": "2023-09-05T19:51:19.424665Z",
     "start_time": "2023-09-05T19:51:19.418487Z"
    }
   },
   "outputs": [
    {
     "name": "stdout",
     "output_type": "stream",
     "text": [
      "Ronaldo is one of the greatest footballers of all time, and he is only 38 years-old\n"
     ]
    }
   ],
   "source": [
    "print(\n",
    "    f\"{jumper} is one of the greatest footballers of all time, and he is only {age} years-old\"\n",
    ")"
   ]
  },
  {
   "cell_type": "code",
   "execution_count": 55,
   "id": "16a8fc12",
   "metadata": {
    "ExecuteTime": {
     "end_time": "2023-09-05T19:51:19.646109Z",
     "start_time": "2023-09-05T19:51:19.639279Z"
    }
   },
   "outputs": [
    {
     "name": "stdout",
     "output_type": "stream",
     "text": [
      "RONALDO is one of the greatest footballers of all time, and he is only 38 years-old\n"
     ]
    }
   ],
   "source": [
    "print(\n",
    "    f\"{jumper.upper()} is one of the greatest footballers of all time, and he is only {age} years-old\"\n",
    ")"
   ]
  },
  {
   "cell_type": "markdown",
   "id": "eedaa5da",
   "metadata": {},
   "source": [
    "### String Formatting with .format()"
   ]
  },
  {
   "cell_type": "code",
   "execution_count": 56,
   "id": "f3a3a3a4",
   "metadata": {
    "ExecuteTime": {
     "end_time": "2023-09-05T19:51:20.067632Z",
     "start_time": "2023-09-05T19:51:20.062522Z"
    }
   },
   "outputs": [
    {
     "name": "stdout",
     "output_type": "stream",
     "text": [
      "Ronaldo\n"
     ]
    }
   ],
   "source": [
    "print(jumper)"
   ]
  },
  {
   "cell_type": "code",
   "execution_count": 57,
   "id": "891aff50",
   "metadata": {
    "ExecuteTime": {
     "end_time": "2023-09-05T19:51:20.311059Z",
     "start_time": "2023-09-05T19:51:20.304012Z"
    }
   },
   "outputs": [
    {
     "name": "stdout",
     "output_type": "stream",
     "text": [
      "38\n"
     ]
    }
   ],
   "source": [
    "print(age)"
   ]
  },
  {
   "cell_type": "code",
   "execution_count": 58,
   "id": "8e6e7e75",
   "metadata": {
    "ExecuteTime": {
     "end_time": "2023-09-05T19:51:20.512287Z",
     "start_time": "2023-09-05T19:51:20.508919Z"
    }
   },
   "outputs": [],
   "source": [
    "height = 6.3 "
   ]
  },
  {
   "cell_type": "code",
   "execution_count": 59,
   "id": "4bdc1d27",
   "metadata": {
    "ExecuteTime": {
     "end_time": "2023-09-05T19:51:20.730917Z",
     "start_time": "2023-09-05T19:51:20.725067Z"
    }
   },
   "outputs": [
    {
     "name": "stdout",
     "output_type": "stream",
     "text": [
      "Who is one of the greatest athletes of all time; Ronaldo. How old is he? 38.\n"
     ]
    }
   ],
   "source": [
    "print(\n",
    "    \"Who is one of the greatest athletes of all time; {}. How old is he? {}.\".\n",
    "    format(jumper, age))"
   ]
  },
  {
   "cell_type": "markdown",
   "id": "6102b80a",
   "metadata": {},
   "source": [
    "## String Concatenation"
   ]
  },
  {
   "cell_type": "code",
   "execution_count": 60,
   "id": "4b6474ca",
   "metadata": {
    "ExecuteTime": {
     "end_time": "2023-09-05T19:51:21.167255Z",
     "start_time": "2023-09-05T19:51:21.163877Z"
    }
   },
   "outputs": [],
   "source": [
    "var1 = 'My name is' # String concatenation "
   ]
  },
  {
   "cell_type": "code",
   "execution_count": 61,
   "id": "70532b1f",
   "metadata": {
    "ExecuteTime": {
     "end_time": "2023-09-05T19:51:21.382185Z",
     "start_time": "2023-09-05T19:51:21.378931Z"
    }
   },
   "outputs": [],
   "source": [
    "var2 = 'Pablo' # full_name = var1 + ' ' + var2 "
   ]
  },
  {
   "cell_type": "code",
   "execution_count": 62,
   "id": "af6dbdc7",
   "metadata": {
    "ExecuteTime": {
     "end_time": "2023-09-05T19:51:21.599937Z",
     "start_time": "2023-09-05T19:51:21.596020Z"
    }
   },
   "outputs": [
    {
     "data": {
      "text/plain": [
       "'My name isPablo'"
      ]
     },
     "execution_count": 62,
     "metadata": {},
     "output_type": "execute_result"
    }
   ],
   "source": [
    "var1 + var2 # Concatenating both variables  "
   ]
  },
  {
   "cell_type": "code",
   "execution_count": 63,
   "id": "b72a2a9c",
   "metadata": {
    "ExecuteTime": {
     "end_time": "2023-09-05T19:51:21.814094Z",
     "start_time": "2023-09-05T19:51:21.809302Z"
    }
   },
   "outputs": [
    {
     "data": {
      "text/plain": [
       "'My name is Pablo'"
      ]
     },
     "execution_count": 63,
     "metadata": {},
     "output_type": "execute_result"
    }
   ],
   "source": [
    "var1 + ' ' + var2 "
   ]
  },
  {
   "cell_type": "markdown",
   "id": "463b8b3e",
   "metadata": {},
   "source": [
    "### The Join method"
   ]
  },
  {
   "cell_type": "code",
   "execution_count": 64,
   "id": "810c166c",
   "metadata": {
    "ExecuteTime": {
     "end_time": "2023-09-05T19:51:22.257049Z",
     "start_time": "2023-09-05T19:51:22.250214Z"
    }
   },
   "outputs": [
    {
     "data": {
      "text/plain": [
       "'My name isPablo'"
      ]
     },
     "execution_count": 64,
     "metadata": {},
     "output_type": "execute_result"
    }
   ],
   "source": [
    "''.join([var1, var2]) # The join method "
   ]
  },
  {
   "cell_type": "code",
   "execution_count": 65,
   "id": "c1fb761d",
   "metadata": {
    "ExecuteTime": {
     "end_time": "2023-09-05T19:51:22.475485Z",
     "start_time": "2023-09-05T19:51:22.464002Z"
    }
   },
   "outputs": [
    {
     "data": {
      "text/plain": [
       "'My name is Pablo'"
      ]
     },
     "execution_count": 65,
     "metadata": {},
     "output_type": "execute_result"
    }
   ],
   "source": [
    "' '.join([var1, var2])"
   ]
  },
  {
   "cell_type": "markdown",
   "id": "c258d912",
   "metadata": {},
   "source": [
    "## String Slicing "
   ]
  },
  {
   "cell_type": "code",
   "execution_count": 66,
   "id": "5badb060",
   "metadata": {
    "ExecuteTime": {
     "end_time": "2023-09-05T19:51:22.961685Z",
     "start_time": "2023-09-05T19:51:22.956588Z"
    }
   },
   "outputs": [],
   "source": [
    "name = 'Pablo' # String slicing "
   ]
  },
  {
   "cell_type": "code",
   "execution_count": 67,
   "id": "0cfc84dc",
   "metadata": {
    "ExecuteTime": {
     "end_time": "2023-09-05T19:51:23.160070Z",
     "start_time": "2023-09-05T19:51:23.154420Z"
    }
   },
   "outputs": [
    {
     "data": {
      "text/plain": [
       "'Pab'"
      ]
     },
     "execution_count": 67,
     "metadata": {},
     "output_type": "execute_result"
    }
   ],
   "source": [
    "name[0:3]"
   ]
  },
  {
   "cell_type": "code",
   "execution_count": 68,
   "id": "b68c5798",
   "metadata": {
    "ExecuteTime": {
     "end_time": "2023-09-05T19:51:23.388694Z",
     "start_time": "2023-09-05T19:51:23.382037Z"
    }
   },
   "outputs": [
    {
     "data": {
      "text/plain": [
       "'This is a Python Tutor'"
      ]
     },
     "execution_count": 68,
     "metadata": {},
     "output_type": "execute_result"
    }
   ],
   "source": [
    "'This is a Python Tutorials'[0:-4]"
   ]
  },
  {
   "cell_type": "code",
   "execution_count": 69,
   "id": "e8b09b4e",
   "metadata": {
    "ExecuteTime": {
     "end_time": "2023-09-05T19:51:23.646504Z",
     "start_time": "2023-09-05T19:51:23.641560Z"
    }
   },
   "outputs": [
    {
     "data": {
      "text/plain": [
       "'Pab'"
      ]
     },
     "execution_count": 69,
     "metadata": {},
     "output_type": "execute_result"
    }
   ],
   "source": [
    "name[0:3]"
   ]
  },
  {
   "cell_type": "code",
   "execution_count": 70,
   "id": "35996f78",
   "metadata": {
    "ExecuteTime": {
     "end_time": "2023-09-05T19:51:23.896695Z",
     "start_time": "2023-09-05T19:51:23.873474Z"
    }
   },
   "outputs": [
    {
     "data": {
      "text/plain": [
       "'This is a Python Tu'"
      ]
     },
     "execution_count": 70,
     "metadata": {},
     "output_type": "execute_result"
    }
   ],
   "source": [
    "'This is a Python Tutorial'[:-6]"
   ]
  },
  {
   "cell_type": "markdown",
   "id": "37bf8695",
   "metadata": {},
   "source": [
    "## Numeric Data Types"
   ]
  },
  {
   "cell_type": "code",
   "execution_count": 71,
   "id": "09eebf92",
   "metadata": {
    "ExecuteTime": {
     "end_time": "2023-09-05T19:51:24.274202Z",
     "start_time": "2023-09-05T19:51:24.265481Z"
    }
   },
   "outputs": [],
   "source": [
    "# Int - Integer\n",
    "# float - Float\n",
    "# Complex"
   ]
  },
  {
   "cell_type": "code",
   "execution_count": 72,
   "id": "39383888",
   "metadata": {
    "ExecuteTime": {
     "end_time": "2023-09-05T19:51:24.471242Z",
     "start_time": "2023-09-05T19:51:24.467566Z"
    }
   },
   "outputs": [],
   "source": [
    "number_1 = 10 # Assigned a value of type int to a variable number_1"
   ]
  },
  {
   "cell_type": "code",
   "execution_count": 73,
   "id": "2cd4397c",
   "metadata": {
    "ExecuteTime": {
     "end_time": "2023-09-05T19:51:24.740096Z",
     "start_time": "2023-09-05T19:51:24.700776Z"
    }
   },
   "outputs": [
    {
     "name": "stdout",
     "output_type": "stream",
     "text": [
      "10\n"
     ]
    }
   ],
   "source": [
    "print(number_1)"
   ]
  },
  {
   "cell_type": "code",
   "execution_count": 74,
   "id": "024cdea7",
   "metadata": {
    "ExecuteTime": {
     "end_time": "2023-09-05T19:51:24.947537Z",
     "start_time": "2023-09-05T19:51:24.940847Z"
    }
   },
   "outputs": [
    {
     "data": {
      "text/plain": [
       "int"
      ]
     },
     "execution_count": 74,
     "metadata": {},
     "output_type": "execute_result"
    }
   ],
   "source": [
    "type(number_1)"
   ]
  },
  {
   "cell_type": "code",
   "execution_count": 75,
   "id": "97fb8a5c",
   "metadata": {
    "ExecuteTime": {
     "end_time": "2023-09-05T19:51:25.278284Z",
     "start_time": "2023-09-05T19:51:25.269549Z"
    }
   },
   "outputs": [
    {
     "data": {
      "text/plain": [
       "['__abs__',\n",
       " '__add__',\n",
       " '__and__',\n",
       " '__bool__',\n",
       " '__ceil__',\n",
       " '__class__',\n",
       " '__delattr__',\n",
       " '__dir__',\n",
       " '__divmod__',\n",
       " '__doc__',\n",
       " '__eq__',\n",
       " '__float__',\n",
       " '__floor__',\n",
       " '__floordiv__',\n",
       " '__format__',\n",
       " '__ge__',\n",
       " '__getattribute__',\n",
       " '__getnewargs__',\n",
       " '__gt__',\n",
       " '__hash__',\n",
       " '__index__',\n",
       " '__init__',\n",
       " '__init_subclass__',\n",
       " '__int__',\n",
       " '__invert__',\n",
       " '__le__',\n",
       " '__lshift__',\n",
       " '__lt__',\n",
       " '__mod__',\n",
       " '__mul__',\n",
       " '__ne__',\n",
       " '__neg__',\n",
       " '__new__',\n",
       " '__or__',\n",
       " '__pos__',\n",
       " '__pow__',\n",
       " '__radd__',\n",
       " '__rand__',\n",
       " '__rdivmod__',\n",
       " '__reduce__',\n",
       " '__reduce_ex__',\n",
       " '__repr__',\n",
       " '__rfloordiv__',\n",
       " '__rlshift__',\n",
       " '__rmod__',\n",
       " '__rmul__',\n",
       " '__ror__',\n",
       " '__round__',\n",
       " '__rpow__',\n",
       " '__rrshift__',\n",
       " '__rshift__',\n",
       " '__rsub__',\n",
       " '__rtruediv__',\n",
       " '__rxor__',\n",
       " '__setattr__',\n",
       " '__sizeof__',\n",
       " '__str__',\n",
       " '__sub__',\n",
       " '__subclasshook__',\n",
       " '__truediv__',\n",
       " '__trunc__',\n",
       " '__xor__',\n",
       " 'as_integer_ratio',\n",
       " 'bit_count',\n",
       " 'bit_length',\n",
       " 'conjugate',\n",
       " 'denominator',\n",
       " 'from_bytes',\n",
       " 'imag',\n",
       " 'numerator',\n",
       " 'real',\n",
       " 'to_bytes']"
      ]
     },
     "execution_count": 75,
     "metadata": {},
     "output_type": "execute_result"
    }
   ],
   "source": [
    "dir(number_1)"
   ]
  },
  {
   "cell_type": "markdown",
   "id": "1209de2b",
   "metadata": {},
   "source": [
    "### Int Methods\n",
    "\n",
    "'as_integer_ratio',\n",
    " 'bit_length',\n",
    " 'conjugate',\n",
    " 'denominator',\n",
    " 'from_bytes',\n",
    " 'imag',\n",
    " 'numerator',\n",
    " 'real',\n",
    " 'to_bytes'"
   ]
  },
  {
   "cell_type": "code",
   "execution_count": 76,
   "id": "7317f454",
   "metadata": {
    "ExecuteTime": {
     "end_time": "2023-09-05T19:51:25.654260Z",
     "start_time": "2023-09-05T19:51:25.651457Z"
    }
   },
   "outputs": [],
   "source": [
    "number_2 = '10'"
   ]
  },
  {
   "cell_type": "code",
   "execution_count": 77,
   "id": "ed5b63b7",
   "metadata": {
    "ExecuteTime": {
     "end_time": "2023-09-05T19:51:25.878820Z",
     "start_time": "2023-09-05T19:51:25.870340Z"
    }
   },
   "outputs": [
    {
     "data": {
      "text/plain": [
       "str"
      ]
     },
     "execution_count": 77,
     "metadata": {},
     "output_type": "execute_result"
    }
   ],
   "source": [
    "type(number_2)"
   ]
  },
  {
   "cell_type": "code",
   "execution_count": 78,
   "id": "7f18a784",
   "metadata": {
    "ExecuteTime": {
     "end_time": "2023-09-05T19:51:26.103451Z",
     "start_time": "2023-09-05T19:51:26.100403Z"
    }
   },
   "outputs": [],
   "source": [
    "number_2 = int(number_2)"
   ]
  },
  {
   "cell_type": "code",
   "execution_count": 79,
   "id": "34e09509",
   "metadata": {
    "ExecuteTime": {
     "end_time": "2023-09-05T19:51:26.335043Z",
     "start_time": "2023-09-05T19:51:26.327967Z"
    }
   },
   "outputs": [
    {
     "data": {
      "text/plain": [
       "int"
      ]
     },
     "execution_count": 79,
     "metadata": {},
     "output_type": "execute_result"
    }
   ],
   "source": [
    "type(number_2)"
   ]
  },
  {
   "cell_type": "markdown",
   "id": "b4f7fc50",
   "metadata": {},
   "source": [
    "## Floats"
   ]
  },
  {
   "cell_type": "code",
   "execution_count": 80,
   "id": "e59eb716",
   "metadata": {
    "ExecuteTime": {
     "end_time": "2023-09-05T19:51:26.809481Z",
     "start_time": "2023-09-05T19:51:26.802451Z"
    }
   },
   "outputs": [
    {
     "data": {
      "text/plain": [
       "10"
      ]
     },
     "execution_count": 80,
     "metadata": {},
     "output_type": "execute_result"
    }
   ],
   "source": [
    "# 10\n",
    "number_1"
   ]
  },
  {
   "cell_type": "code",
   "execution_count": 81,
   "id": "5a99b3f1",
   "metadata": {
    "ExecuteTime": {
     "end_time": "2023-09-05T19:51:27.052262Z",
     "start_time": "2023-09-05T19:51:27.038847Z"
    }
   },
   "outputs": [],
   "source": [
    "number_3 = 10.0 # Assigned the value 10.0 (float) to the variable number_3 "
   ]
  },
  {
   "cell_type": "code",
   "execution_count": 82,
   "id": "861111f7",
   "metadata": {
    "ExecuteTime": {
     "end_time": "2023-09-05T19:51:27.266526Z",
     "start_time": "2023-09-05T19:51:27.260312Z"
    }
   },
   "outputs": [
    {
     "data": {
      "text/plain": [
       "float"
      ]
     },
     "execution_count": 82,
     "metadata": {},
     "output_type": "execute_result"
    }
   ],
   "source": [
    "type(number_3)"
   ]
  },
  {
   "cell_type": "code",
   "execution_count": 83,
   "id": "e8d6d2ee",
   "metadata": {
    "ExecuteTime": {
     "end_time": "2023-09-05T19:51:27.502185Z",
     "start_time": "2023-09-05T19:51:27.497671Z"
    }
   },
   "outputs": [
    {
     "data": {
      "text/plain": [
       "int"
      ]
     },
     "execution_count": 83,
     "metadata": {},
     "output_type": "execute_result"
    }
   ],
   "source": [
    "type(number_2) "
   ]
  },
  {
   "cell_type": "code",
   "execution_count": 84,
   "id": "17bd9a42",
   "metadata": {
    "ExecuteTime": {
     "end_time": "2023-09-05T19:51:27.743470Z",
     "start_time": "2023-09-05T19:51:27.736922Z"
    }
   },
   "outputs": [],
   "source": [
    "number_2_float = float(number_2)"
   ]
  },
  {
   "cell_type": "code",
   "execution_count": 85,
   "id": "fb5e10a7",
   "metadata": {
    "ExecuteTime": {
     "end_time": "2023-09-05T19:51:27.958070Z",
     "start_time": "2023-09-05T19:51:27.950228Z"
    }
   },
   "outputs": [
    {
     "data": {
      "text/plain": [
       "float"
      ]
     },
     "execution_count": 85,
     "metadata": {},
     "output_type": "execute_result"
    }
   ],
   "source": [
    "type(number_2_float)"
   ]
  },
  {
   "cell_type": "code",
   "execution_count": 86,
   "id": "d9be91ee",
   "metadata": {
    "ExecuteTime": {
     "end_time": "2023-09-05T19:51:28.207322Z",
     "start_time": "2023-09-05T19:51:28.200791Z"
    }
   },
   "outputs": [
    {
     "data": {
      "text/plain": [
       "10.0"
      ]
     },
     "execution_count": 86,
     "metadata": {},
     "output_type": "execute_result"
    }
   ],
   "source": [
    "number_2_float"
   ]
  },
  {
   "cell_type": "code",
   "execution_count": 87,
   "id": "bcd81d09",
   "metadata": {
    "ExecuteTime": {
     "end_time": "2023-09-05T19:51:28.426226Z",
     "start_time": "2023-09-05T19:51:28.419042Z"
    }
   },
   "outputs": [
    {
     "data": {
      "text/plain": [
       "['__abs__',\n",
       " '__add__',\n",
       " '__bool__',\n",
       " '__ceil__',\n",
       " '__class__',\n",
       " '__delattr__',\n",
       " '__dir__',\n",
       " '__divmod__',\n",
       " '__doc__',\n",
       " '__eq__',\n",
       " '__float__',\n",
       " '__floor__',\n",
       " '__floordiv__',\n",
       " '__format__',\n",
       " '__ge__',\n",
       " '__getattribute__',\n",
       " '__getformat__',\n",
       " '__getnewargs__',\n",
       " '__gt__',\n",
       " '__hash__',\n",
       " '__init__',\n",
       " '__init_subclass__',\n",
       " '__int__',\n",
       " '__le__',\n",
       " '__lt__',\n",
       " '__mod__',\n",
       " '__mul__',\n",
       " '__ne__',\n",
       " '__neg__',\n",
       " '__new__',\n",
       " '__pos__',\n",
       " '__pow__',\n",
       " '__radd__',\n",
       " '__rdivmod__',\n",
       " '__reduce__',\n",
       " '__reduce_ex__',\n",
       " '__repr__',\n",
       " '__rfloordiv__',\n",
       " '__rmod__',\n",
       " '__rmul__',\n",
       " '__round__',\n",
       " '__rpow__',\n",
       " '__rsub__',\n",
       " '__rtruediv__',\n",
       " '__setattr__',\n",
       " '__setformat__',\n",
       " '__sizeof__',\n",
       " '__str__',\n",
       " '__sub__',\n",
       " '__subclasshook__',\n",
       " '__truediv__',\n",
       " '__trunc__',\n",
       " 'as_integer_ratio',\n",
       " 'conjugate',\n",
       " 'fromhex',\n",
       " 'hex',\n",
       " 'imag',\n",
       " 'is_integer',\n",
       " 'real']"
      ]
     },
     "execution_count": 87,
     "metadata": {},
     "output_type": "execute_result"
    }
   ],
   "source": [
    "dir(number_2_float)"
   ]
  },
  {
   "cell_type": "markdown",
   "id": "8d487241",
   "metadata": {},
   "source": [
    "## Complex Numbers"
   ]
  },
  {
   "cell_type": "code",
   "execution_count": 88,
   "id": "c622bebf",
   "metadata": {
    "ExecuteTime": {
     "end_time": "2023-09-05T19:51:28.913610Z",
     "start_time": "2023-09-05T19:51:28.909299Z"
    }
   },
   "outputs": [],
   "source": [
    "num_int = 15 # Int"
   ]
  },
  {
   "cell_type": "code",
   "execution_count": 89,
   "id": "b50e66ed",
   "metadata": {
    "ExecuteTime": {
     "end_time": "2023-09-05T19:51:29.159592Z",
     "start_time": "2023-09-05T19:51:29.152009Z"
    }
   },
   "outputs": [
    {
     "data": {
      "text/plain": [
       "int"
      ]
     },
     "execution_count": 89,
     "metadata": {},
     "output_type": "execute_result"
    }
   ],
   "source": [
    "type(num_int)"
   ]
  },
  {
   "cell_type": "code",
   "execution_count": 90,
   "id": "14b72267",
   "metadata": {
    "ExecuteTime": {
     "end_time": "2023-09-05T19:51:29.401241Z",
     "start_time": "2023-09-05T19:51:29.397910Z"
    }
   },
   "outputs": [],
   "source": [
    "num_float = 15.5 "
   ]
  },
  {
   "cell_type": "code",
   "execution_count": 91,
   "id": "21d4d088",
   "metadata": {
    "ExecuteTime": {
     "end_time": "2023-09-05T19:51:29.636703Z",
     "start_time": "2023-09-05T19:51:29.631187Z"
    }
   },
   "outputs": [
    {
     "data": {
      "text/plain": [
       "float"
      ]
     },
     "execution_count": 91,
     "metadata": {},
     "output_type": "execute_result"
    }
   ],
   "source": [
    "type(num_float)"
   ]
  },
  {
   "cell_type": "code",
   "execution_count": 92,
   "id": "8c31af50",
   "metadata": {
    "ExecuteTime": {
     "end_time": "2023-09-05T19:51:29.870517Z",
     "start_time": "2023-09-05T19:51:29.866656Z"
    }
   },
   "outputs": [],
   "source": [
    "complex_num = 4 + 3j "
   ]
  },
  {
   "cell_type": "code",
   "execution_count": 93,
   "id": "9efcd474",
   "metadata": {
    "ExecuteTime": {
     "end_time": "2023-09-05T19:51:30.133888Z",
     "start_time": "2023-09-05T19:51:30.126982Z"
    }
   },
   "outputs": [
    {
     "data": {
      "text/plain": [
       "complex"
      ]
     },
     "execution_count": 93,
     "metadata": {},
     "output_type": "execute_result"
    }
   ],
   "source": [
    "type(complex_num)"
   ]
  },
  {
   "cell_type": "code",
   "execution_count": 94,
   "id": "7e01bfb7",
   "metadata": {
    "ExecuteTime": {
     "end_time": "2023-09-05T19:51:30.359254Z",
     "start_time": "2023-09-05T19:51:30.351649Z"
    }
   },
   "outputs": [
    {
     "data": {
      "text/plain": [
       "4.0"
      ]
     },
     "execution_count": 94,
     "metadata": {},
     "output_type": "execute_result"
    }
   ],
   "source": [
    "complex_num.real"
   ]
  },
  {
   "cell_type": "code",
   "execution_count": 95,
   "id": "4304275f",
   "metadata": {
    "ExecuteTime": {
     "end_time": "2023-09-05T19:51:30.610336Z",
     "start_time": "2023-09-05T19:51:30.598434Z"
    }
   },
   "outputs": [
    {
     "data": {
      "text/plain": [
       "3.0"
      ]
     },
     "execution_count": 95,
     "metadata": {},
     "output_type": "execute_result"
    }
   ],
   "source": [
    "complex_num.imag"
   ]
  },
  {
   "cell_type": "markdown",
   "id": "6c5a7bdd",
   "metadata": {},
   "source": [
    "## Numeric Operation in Python"
   ]
  },
  {
   "cell_type": "code",
   "execution_count": 96,
   "id": "ff26db73",
   "metadata": {
    "ExecuteTime": {
     "end_time": "2023-09-05T19:51:31.080242Z",
     "start_time": "2023-09-05T19:51:31.076333Z"
    }
   },
   "outputs": [],
   "source": [
    "number_4 = 100 # Assigned 100 to a variable\n",
    "number_5 = 10 # Assigned 10 to a variable"
   ]
  },
  {
   "cell_type": "code",
   "execution_count": 97,
   "id": "d3edb158",
   "metadata": {
    "ExecuteTime": {
     "end_time": "2023-09-05T19:51:31.337346Z",
     "start_time": "2023-09-05T19:51:31.331014Z"
    }
   },
   "outputs": [
    {
     "data": {
      "text/plain": [
       "110"
      ]
     },
     "execution_count": 97,
     "metadata": {},
     "output_type": "execute_result"
    }
   ],
   "source": [
    "number_4 + number_5 # Addition "
   ]
  },
  {
   "cell_type": "code",
   "execution_count": 98,
   "id": "9e194acc",
   "metadata": {
    "ExecuteTime": {
     "end_time": "2023-09-05T19:51:31.581608Z",
     "start_time": "2023-09-05T19:51:31.575275Z"
    }
   },
   "outputs": [
    {
     "data": {
      "text/plain": [
       "90"
      ]
     },
     "execution_count": 98,
     "metadata": {},
     "output_type": "execute_result"
    }
   ],
   "source": [
    "number_4 - number_5 # Subtraction"
   ]
  },
  {
   "cell_type": "code",
   "execution_count": 99,
   "id": "ca9b4e0a",
   "metadata": {
    "ExecuteTime": {
     "end_time": "2023-09-05T19:51:31.834224Z",
     "start_time": "2023-09-05T19:51:31.828919Z"
    }
   },
   "outputs": [
    {
     "data": {
      "text/plain": [
       "1000"
      ]
     },
     "execution_count": 99,
     "metadata": {},
     "output_type": "execute_result"
    }
   ],
   "source": [
    "number_4 * number_5 # Multiplication "
   ]
  },
  {
   "cell_type": "code",
   "execution_count": 100,
   "id": "2d9fdf7d",
   "metadata": {
    "ExecuteTime": {
     "end_time": "2023-09-05T19:51:32.072832Z",
     "start_time": "2023-09-05T19:51:32.066625Z"
    }
   },
   "outputs": [
    {
     "data": {
      "text/plain": [
       "10.0"
      ]
     },
     "execution_count": 100,
     "metadata": {},
     "output_type": "execute_result"
    }
   ],
   "source": [
    "number_4 / number_5 # Division "
   ]
  },
  {
   "cell_type": "code",
   "execution_count": 101,
   "id": "c669e20e",
   "metadata": {
    "ExecuteTime": {
     "end_time": "2023-09-05T19:51:32.310942Z",
     "start_time": "2023-09-05T19:51:32.305359Z"
    }
   },
   "outputs": [
    {
     "data": {
      "text/plain": [
       "10"
      ]
     },
     "execution_count": 101,
     "metadata": {},
     "output_type": "execute_result"
    }
   ],
   "source": [
    "number_4 // number_5 # Floored Division"
   ]
  },
  {
   "cell_type": "code",
   "execution_count": 102,
   "id": "be96ff0a",
   "metadata": {
    "ExecuteTime": {
     "end_time": "2023-09-05T19:51:32.545135Z",
     "start_time": "2023-09-05T19:51:32.539558Z"
    }
   },
   "outputs": [
    {
     "data": {
      "text/plain": [
       "3.3333333333333335"
      ]
     },
     "execution_count": 102,
     "metadata": {},
     "output_type": "execute_result"
    }
   ],
   "source": [
    "10 / 3  "
   ]
  },
  {
   "cell_type": "code",
   "execution_count": 103,
   "id": "f8fcc61d",
   "metadata": {
    "ExecuteTime": {
     "end_time": "2023-09-05T19:51:32.768591Z",
     "start_time": "2023-09-05T19:51:32.763042Z"
    }
   },
   "outputs": [
    {
     "data": {
      "text/plain": [
       "0"
      ]
     },
     "execution_count": 103,
     "metadata": {},
     "output_type": "execute_result"
    }
   ],
   "source": [
    "number_4 % number_5 # Modulus  "
   ]
  },
  {
   "cell_type": "code",
   "execution_count": 104,
   "id": "cf151644",
   "metadata": {
    "ExecuteTime": {
     "end_time": "2023-09-05T19:51:33.009436Z",
     "start_time": "2023-09-05T19:51:33.002541Z"
    }
   },
   "outputs": [
    {
     "data": {
      "text/plain": [
       "4"
      ]
     },
     "execution_count": 104,
     "metadata": {},
     "output_type": "execute_result"
    }
   ],
   "source": [
    "100 % 8 "
   ]
  },
  {
   "cell_type": "markdown",
   "id": "d682f0e2",
   "metadata": {},
   "source": [
    "### Augmented Assignment "
   ]
  },
  {
   "cell_type": "code",
   "execution_count": 105,
   "id": "fdef1a44",
   "metadata": {
    "ExecuteTime": {
     "end_time": "2023-09-05T19:51:33.553159Z",
     "start_time": "2023-09-05T19:51:33.549465Z"
    }
   },
   "outputs": [],
   "source": [
    "# += -= *=  "
   ]
  },
  {
   "cell_type": "code",
   "execution_count": 106,
   "id": "3536c87f",
   "metadata": {
    "ExecuteTime": {
     "end_time": "2023-09-05T19:51:33.764759Z",
     "start_time": "2023-09-05T19:51:33.761374Z"
    }
   },
   "outputs": [],
   "source": [
    "number_6 = 10 "
   ]
  },
  {
   "cell_type": "code",
   "execution_count": 107,
   "id": "a9b9e8a8",
   "metadata": {
    "ExecuteTime": {
     "end_time": "2023-09-05T19:51:33.991998Z",
     "start_time": "2023-09-05T19:51:33.987362Z"
    }
   },
   "outputs": [],
   "source": [
    "number_6 = number_6 + 10 "
   ]
  },
  {
   "cell_type": "code",
   "execution_count": 108,
   "id": "b0a33a4f",
   "metadata": {
    "ExecuteTime": {
     "end_time": "2023-09-05T19:51:34.239159Z",
     "start_time": "2023-09-05T19:51:34.233046Z"
    }
   },
   "outputs": [
    {
     "data": {
      "text/plain": [
       "20"
      ]
     },
     "execution_count": 108,
     "metadata": {},
     "output_type": "execute_result"
    }
   ],
   "source": [
    "number_6"
   ]
  },
  {
   "cell_type": "code",
   "execution_count": 109,
   "id": "eb6a13b2",
   "metadata": {
    "ExecuteTime": {
     "end_time": "2023-09-05T19:51:34.484702Z",
     "start_time": "2023-09-05T19:51:34.479926Z"
    }
   },
   "outputs": [],
   "source": [
    "number_6 += 10  # Augmented Assignment "
   ]
  },
  {
   "cell_type": "code",
   "execution_count": 110,
   "id": "4253f433",
   "metadata": {
    "ExecuteTime": {
     "end_time": "2023-09-05T19:51:34.717711Z",
     "start_time": "2023-09-05T19:51:34.711718Z"
    }
   },
   "outputs": [
    {
     "data": {
      "text/plain": [
       "30"
      ]
     },
     "execution_count": 110,
     "metadata": {},
     "output_type": "execute_result"
    }
   ],
   "source": [
    "number_6"
   ]
  },
  {
   "cell_type": "code",
   "execution_count": 111,
   "id": "3fdee492",
   "metadata": {
    "ExecuteTime": {
     "end_time": "2023-09-05T19:51:34.940995Z",
     "start_time": "2023-09-05T19:51:34.933208Z"
    }
   },
   "outputs": [],
   "source": [
    "number_6 *= 10"
   ]
  },
  {
   "cell_type": "code",
   "execution_count": 112,
   "id": "5db2bac7",
   "metadata": {
    "ExecuteTime": {
     "end_time": "2023-09-05T19:51:35.189117Z",
     "start_time": "2023-09-05T19:51:35.181481Z"
    }
   },
   "outputs": [
    {
     "data": {
      "text/plain": [
       "300"
      ]
     },
     "execution_count": 112,
     "metadata": {},
     "output_type": "execute_result"
    }
   ],
   "source": [
    "number_6"
   ]
  },
  {
   "cell_type": "markdown",
   "id": "c50f49d5",
   "metadata": {},
   "source": [
    "## Introduction to Python Lists"
   ]
  },
  {
   "cell_type": "code",
   "execution_count": 113,
   "id": "3b079042",
   "metadata": {
    "ExecuteTime": {
     "end_time": "2023-09-05T19:51:35.651279Z",
     "start_time": "2023-09-05T19:51:35.646751Z"
    }
   },
   "outputs": [],
   "source": [
    "# It is mutable - changeable & modifiable\n",
    "# Elements inside a list have different data types \n",
    "# A list is sequential\n",
    "# Create a list using []"
   ]
  },
  {
   "cell_type": "markdown",
   "id": "4071d3ec",
   "metadata": {},
   "source": [
    "### Create a list "
   ]
  },
  {
   "cell_type": "code",
   "execution_count": 114,
   "id": "b64d2329",
   "metadata": {
    "ExecuteTime": {
     "end_time": "2023-09-05T19:51:36.147493Z",
     "start_time": "2023-09-05T19:51:36.143322Z"
    }
   },
   "outputs": [],
   "source": [
    "list_elements = ['Pablo', 2023, 'April', True, 456]"
   ]
  },
  {
   "cell_type": "code",
   "execution_count": 115,
   "id": "5d377f12",
   "metadata": {
    "ExecuteTime": {
     "end_time": "2023-09-05T19:51:36.383686Z",
     "start_time": "2023-09-05T19:51:36.378212Z"
    }
   },
   "outputs": [
    {
     "name": "stdout",
     "output_type": "stream",
     "text": [
      "['Pablo', 2023, 'April', True, 456]\n"
     ]
    }
   ],
   "source": [
    "print(list_elements)"
   ]
  },
  {
   "cell_type": "markdown",
   "id": "f2865aab",
   "metadata": {},
   "source": [
    "### Another way to create a list"
   ]
  },
  {
   "cell_type": "code",
   "execution_count": 116,
   "id": "907e3893",
   "metadata": {
    "ExecuteTime": {
     "end_time": "2023-09-05T19:51:36.844342Z",
     "start_time": "2023-09-05T19:51:36.840697Z"
    }
   },
   "outputs": [],
   "source": [
    "# A list function\n",
    "set_char = 'A set of characters'"
   ]
  },
  {
   "cell_type": "code",
   "execution_count": 117,
   "id": "ddaf52fb",
   "metadata": {
    "ExecuteTime": {
     "end_time": "2023-09-05T19:51:37.073847Z",
     "start_time": "2023-09-05T19:51:37.068131Z"
    }
   },
   "outputs": [
    {
     "data": {
      "text/plain": [
       "str"
      ]
     },
     "execution_count": 117,
     "metadata": {},
     "output_type": "execute_result"
    }
   ],
   "source": [
    "type(set_char)"
   ]
  },
  {
   "cell_type": "code",
   "execution_count": 118,
   "id": "a5933c37",
   "metadata": {
    "ExecuteTime": {
     "end_time": "2023-09-05T19:51:37.317617Z",
     "start_time": "2023-09-05T19:51:37.314924Z"
    }
   },
   "outputs": [],
   "source": [
    "set_char_list = list(set_char)"
   ]
  },
  {
   "cell_type": "code",
   "execution_count": 119,
   "id": "3cdd3a6c",
   "metadata": {
    "ExecuteTime": {
     "end_time": "2023-09-05T19:51:37.564292Z",
     "start_time": "2023-09-05T19:51:37.542140Z"
    }
   },
   "outputs": [
    {
     "data": {
      "text/plain": [
       "list"
      ]
     },
     "execution_count": 119,
     "metadata": {},
     "output_type": "execute_result"
    }
   ],
   "source": [
    "type(set_char_list)"
   ]
  },
  {
   "cell_type": "code",
   "execution_count": 120,
   "id": "32778def",
   "metadata": {
    "ExecuteTime": {
     "end_time": "2023-09-05T19:51:37.809725Z",
     "start_time": "2023-09-05T19:51:37.799751Z"
    }
   },
   "outputs": [
    {
     "name": "stdout",
     "output_type": "stream",
     "text": [
      "['A', ' ', 's', 'e', 't', ' ', 'o', 'f', ' ', 'c', 'h', 'a', 'r', 'a', 'c', 't', 'e', 'r', 's']\n"
     ]
    }
   ],
   "source": [
    "print(set_char_list)"
   ]
  },
  {
   "cell_type": "markdown",
   "id": "3199ce8a",
   "metadata": {},
   "source": [
    "### Create an empty list"
   ]
  },
  {
   "cell_type": "code",
   "execution_count": 121,
   "id": "1eaf22f9",
   "metadata": {
    "ExecuteTime": {
     "end_time": "2023-09-05T19:51:38.258473Z",
     "start_time": "2023-09-05T19:51:38.251098Z"
    }
   },
   "outputs": [],
   "source": [
    "empty_list = []"
   ]
  },
  {
   "cell_type": "code",
   "execution_count": 122,
   "id": "7fc7751e",
   "metadata": {
    "ExecuteTime": {
     "end_time": "2023-09-05T19:51:38.517538Z",
     "start_time": "2023-09-05T19:51:38.510691Z"
    }
   },
   "outputs": [
    {
     "data": {
      "text/plain": [
       "[]"
      ]
     },
     "execution_count": 122,
     "metadata": {},
     "output_type": "execute_result"
    }
   ],
   "source": [
    "empty_list"
   ]
  },
  {
   "cell_type": "code",
   "execution_count": 123,
   "id": "1853cb29",
   "metadata": {
    "ExecuteTime": {
     "end_time": "2023-09-05T19:51:38.734992Z",
     "start_time": "2023-09-05T19:51:38.730042Z"
    }
   },
   "outputs": [],
   "source": [
    "empty_list1 = list()"
   ]
  },
  {
   "cell_type": "code",
   "execution_count": 124,
   "id": "f97b0fb5",
   "metadata": {
    "ExecuteTime": {
     "end_time": "2023-09-05T19:51:38.989785Z",
     "start_time": "2023-09-05T19:51:38.983348Z"
    }
   },
   "outputs": [
    {
     "data": {
      "text/plain": [
       "[]"
      ]
     },
     "execution_count": 124,
     "metadata": {},
     "output_type": "execute_result"
    }
   ],
   "source": [
    "empty_list1"
   ]
  },
  {
   "cell_type": "markdown",
   "id": "2acab387",
   "metadata": {},
   "source": [
    "## Python List Methods"
   ]
  },
  {
   "cell_type": "code",
   "execution_count": 125,
   "id": "9e12bd41",
   "metadata": {
    "ExecuteTime": {
     "end_time": "2023-09-05T19:51:39.446723Z",
     "start_time": "2023-09-05T19:51:39.440201Z"
    }
   },
   "outputs": [
    {
     "data": {
      "text/plain": [
       "['__add__',\n",
       " '__class__',\n",
       " '__class_getitem__',\n",
       " '__contains__',\n",
       " '__delattr__',\n",
       " '__delitem__',\n",
       " '__dir__',\n",
       " '__doc__',\n",
       " '__eq__',\n",
       " '__format__',\n",
       " '__ge__',\n",
       " '__getattribute__',\n",
       " '__getitem__',\n",
       " '__gt__',\n",
       " '__hash__',\n",
       " '__iadd__',\n",
       " '__imul__',\n",
       " '__init__',\n",
       " '__init_subclass__',\n",
       " '__iter__',\n",
       " '__le__',\n",
       " '__len__',\n",
       " '__lt__',\n",
       " '__mul__',\n",
       " '__ne__',\n",
       " '__new__',\n",
       " '__reduce__',\n",
       " '__reduce_ex__',\n",
       " '__repr__',\n",
       " '__reversed__',\n",
       " '__rmul__',\n",
       " '__setattr__',\n",
       " '__setitem__',\n",
       " '__sizeof__',\n",
       " '__str__',\n",
       " '__subclasshook__',\n",
       " 'append',\n",
       " 'clear',\n",
       " 'copy',\n",
       " 'count',\n",
       " 'extend',\n",
       " 'index',\n",
       " 'insert',\n",
       " 'pop',\n",
       " 'remove',\n",
       " 'reverse',\n",
       " 'sort']"
      ]
     },
     "execution_count": 125,
     "metadata": {},
     "output_type": "execute_result"
    }
   ],
   "source": [
    "dir(list_numbers)"
   ]
  },
  {
   "cell_type": "code",
   "execution_count": 126,
   "id": "85e33b37",
   "metadata": {
    "ExecuteTime": {
     "end_time": "2023-09-05T19:51:39.686962Z",
     "start_time": "2023-09-05T19:51:39.683424Z"
    }
   },
   "outputs": [],
   "source": [
    "# Two types of methods: Dunder method or Magic method / Methods"
   ]
  },
  {
   "cell_type": "markdown",
   "id": "0d8290b3",
   "metadata": {},
   "source": [
    "### List Methods\n",
    "\n",
    "'append',\n",
    " 'clear',\n",
    " 'copy',\n",
    " 'count',\n",
    " 'extend',\n",
    " 'index',\n",
    " 'insert',\n",
    " 'pop',\n",
    " 'remove',\n",
    " 'reverse',\n",
    " 'sort'"
   ]
  },
  {
   "cell_type": "code",
   "execution_count": 127,
   "id": "974677e4",
   "metadata": {
    "ExecuteTime": {
     "end_time": "2023-09-05T19:51:40.154304Z",
     "start_time": "2023-09-05T19:51:40.146766Z"
    }
   },
   "outputs": [
    {
     "data": {
      "text/plain": [
       "[1, 2, 3, 4, 5]"
      ]
     },
     "execution_count": 127,
     "metadata": {},
     "output_type": "execute_result"
    }
   ],
   "source": [
    "# Add to a list - Methods\n",
    "# append, extend & insert\n",
    "list_numbers"
   ]
  },
  {
   "cell_type": "code",
   "execution_count": 128,
   "id": "7cbf5259",
   "metadata": {
    "ExecuteTime": {
     "end_time": "2023-09-05T19:51:40.427912Z",
     "start_time": "2023-09-05T19:51:40.424080Z"
    }
   },
   "outputs": [],
   "source": [
    "list_numbers.append(6) # Append method"
   ]
  },
  {
   "cell_type": "code",
   "execution_count": 129,
   "id": "ed1461cf",
   "metadata": {
    "ExecuteTime": {
     "end_time": "2023-09-05T19:51:40.681007Z",
     "start_time": "2023-09-05T19:51:40.675410Z"
    }
   },
   "outputs": [
    {
     "data": {
      "text/plain": [
       "[1, 2, 3, 4, 5, 6]"
      ]
     },
     "execution_count": 129,
     "metadata": {},
     "output_type": "execute_result"
    }
   ],
   "source": [
    "list_numbers"
   ]
  },
  {
   "cell_type": "code",
   "execution_count": 130,
   "id": "9e575a8a",
   "metadata": {
    "ExecuteTime": {
     "end_time": "2023-09-05T19:51:40.931506Z",
     "start_time": "2023-09-05T19:51:40.927218Z"
    }
   },
   "outputs": [],
   "source": [
    "# Insert, you can tell were to insert an element\n",
    "list_numbers.insert(5, 7) # Insert"
   ]
  },
  {
   "cell_type": "code",
   "execution_count": 131,
   "id": "47d5875b",
   "metadata": {
    "ExecuteTime": {
     "end_time": "2023-09-05T19:51:41.173589Z",
     "start_time": "2023-09-05T19:51:41.165064Z"
    }
   },
   "outputs": [
    {
     "data": {
      "text/plain": [
       "[1, 2, 3, 4, 5, 7, 6]"
      ]
     },
     "execution_count": 131,
     "metadata": {},
     "output_type": "execute_result"
    }
   ],
   "source": [
    "list_numbers"
   ]
  },
  {
   "cell_type": "code",
   "execution_count": 132,
   "id": "38d6caf1",
   "metadata": {
    "ExecuteTime": {
     "end_time": "2023-09-05T19:51:41.411091Z",
     "start_time": "2023-09-05T19:51:41.408122Z"
    }
   },
   "outputs": [],
   "source": [
    "# Extend method\n",
    "list_numbers1 = [8, 9, 10, 11, 12]"
   ]
  },
  {
   "cell_type": "code",
   "execution_count": 133,
   "id": "139c269d",
   "metadata": {
    "ExecuteTime": {
     "end_time": "2023-09-05T19:51:41.632808Z",
     "start_time": "2023-09-05T19:51:41.628832Z"
    }
   },
   "outputs": [],
   "source": [
    "list_numbers.extend(list_numbers1) # Extend method"
   ]
  },
  {
   "cell_type": "code",
   "execution_count": 134,
   "id": "7892c852",
   "metadata": {
    "ExecuteTime": {
     "end_time": "2023-09-05T19:51:41.848053Z",
     "start_time": "2023-09-05T19:51:41.844767Z"
    }
   },
   "outputs": [
    {
     "name": "stdout",
     "output_type": "stream",
     "text": [
      "[1, 2, 3, 4, 5, 7, 6, 8, 9, 10, 11, 12]\n"
     ]
    }
   ],
   "source": [
    "print(list_numbers)"
   ]
  },
  {
   "cell_type": "markdown",
   "id": "064a2548",
   "metadata": {},
   "source": [
    "### Accessing, Changing/Deleting from a List"
   ]
  },
  {
   "cell_type": "code",
   "execution_count": 135,
   "id": "31268f93",
   "metadata": {
    "ExecuteTime": {
     "end_time": "2023-09-05T19:51:42.341721Z",
     "start_time": "2023-09-05T19:51:42.334513Z"
    }
   },
   "outputs": [
    {
     "data": {
      "text/plain": [
       "[1, 2, 3, 4, 5, 7, 6, 8, 9, 10, 11, 12]"
      ]
     },
     "execution_count": 135,
     "metadata": {},
     "output_type": "execute_result"
    }
   ],
   "source": [
    "list_numbers"
   ]
  },
  {
   "cell_type": "code",
   "execution_count": 136,
   "id": "58194d0d",
   "metadata": {
    "ExecuteTime": {
     "end_time": "2023-09-05T19:51:42.587371Z",
     "start_time": "2023-09-05T19:51:42.581690Z"
    }
   },
   "outputs": [
    {
     "data": {
      "text/plain": [
       "[8, 9, 10, 11, 12]"
      ]
     },
     "execution_count": 136,
     "metadata": {},
     "output_type": "execute_result"
    }
   ],
   "source": [
    "list_numbers1"
   ]
  },
  {
   "cell_type": "code",
   "execution_count": 137,
   "id": "99b00c0d",
   "metadata": {
    "ExecuteTime": {
     "end_time": "2023-09-05T19:51:42.844239Z",
     "start_time": "2023-09-05T19:51:42.831765Z"
    }
   },
   "outputs": [
    {
     "data": {
      "text/plain": [
       "2"
      ]
     },
     "execution_count": 137,
     "metadata": {},
     "output_type": "execute_result"
    }
   ],
   "source": [
    "list_numbers[1] # Accessing elements using index"
   ]
  },
  {
   "cell_type": "code",
   "execution_count": 138,
   "id": "d095604c",
   "metadata": {
    "ExecuteTime": {
     "end_time": "2023-09-05T19:51:43.068628Z",
     "start_time": "2023-09-05T19:51:43.064886Z"
    }
   },
   "outputs": [],
   "source": [
    "# List the methods for deleting \n",
    "# clear, pop, remove & del"
   ]
  },
  {
   "cell_type": "code",
   "execution_count": 139,
   "id": "5e23f86d",
   "metadata": {
    "ExecuteTime": {
     "end_time": "2023-09-05T19:51:43.658507Z",
     "start_time": "2023-09-05T19:51:43.654481Z"
    }
   },
   "outputs": [],
   "source": [
    "list_numbers1.clear() # Makes it an empty list "
   ]
  },
  {
   "cell_type": "code",
   "execution_count": 140,
   "id": "f4887081",
   "metadata": {
    "ExecuteTime": {
     "end_time": "2023-09-05T19:51:43.939337Z",
     "start_time": "2023-09-05T19:51:43.934233Z"
    }
   },
   "outputs": [
    {
     "data": {
      "text/plain": [
       "[]"
      ]
     },
     "execution_count": 140,
     "metadata": {},
     "output_type": "execute_result"
    }
   ],
   "source": [
    "list_numbers1"
   ]
  },
  {
   "cell_type": "code",
   "execution_count": 141,
   "id": "7f1e4427",
   "metadata": {
    "ExecuteTime": {
     "end_time": "2023-09-05T19:51:44.174616Z",
     "start_time": "2023-09-05T19:51:44.166544Z"
    }
   },
   "outputs": [
    {
     "data": {
      "text/plain": [
       "[1, 2, 3, 4, 5, 7, 6, 8, 9, 10, 11, 12]"
      ]
     },
     "execution_count": 141,
     "metadata": {},
     "output_type": "execute_result"
    }
   ],
   "source": [
    "# pop method\n",
    "list_numbers"
   ]
  },
  {
   "cell_type": "code",
   "execution_count": 142,
   "id": "fc5a728c",
   "metadata": {
    "ExecuteTime": {
     "end_time": "2023-09-05T19:51:44.396756Z",
     "start_time": "2023-09-05T19:51:44.379852Z"
    }
   },
   "outputs": [
    {
     "data": {
      "text/plain": [
       "12"
      ]
     },
     "execution_count": 142,
     "metadata": {},
     "output_type": "execute_result"
    }
   ],
   "source": [
    "list_numbers.pop()"
   ]
  },
  {
   "cell_type": "code",
   "execution_count": 143,
   "id": "23a72ee6",
   "metadata": {
    "ExecuteTime": {
     "end_time": "2023-09-05T19:51:44.635043Z",
     "start_time": "2023-09-05T19:51:44.628600Z"
    }
   },
   "outputs": [
    {
     "data": {
      "text/plain": [
       "[1, 2, 3, 4, 5, 7, 6, 8, 9, 10, 11]"
      ]
     },
     "execution_count": 143,
     "metadata": {},
     "output_type": "execute_result"
    }
   ],
   "source": [
    "list_numbers"
   ]
  },
  {
   "cell_type": "code",
   "execution_count": 144,
   "id": "1e89229f",
   "metadata": {
    "ExecuteTime": {
     "end_time": "2023-09-05T19:51:44.893415Z",
     "start_time": "2023-09-05T19:51:44.883308Z"
    }
   },
   "outputs": [
    {
     "data": {
      "text/plain": [
       "11"
      ]
     },
     "execution_count": 144,
     "metadata": {},
     "output_type": "execute_result"
    }
   ],
   "source": [
    "list_numbers.pop(-1)"
   ]
  },
  {
   "cell_type": "code",
   "execution_count": 145,
   "id": "a06674a5",
   "metadata": {
    "ExecuteTime": {
     "end_time": "2023-09-05T19:51:45.128689Z",
     "start_time": "2023-09-05T19:51:45.124264Z"
    }
   },
   "outputs": [],
   "source": [
    "pop_num = list_numbers.pop(9)"
   ]
  },
  {
   "cell_type": "code",
   "execution_count": 146,
   "id": "8f0a13a2",
   "metadata": {
    "ExecuteTime": {
     "end_time": "2023-09-05T19:51:45.429561Z",
     "start_time": "2023-09-05T19:51:45.425857Z"
    }
   },
   "outputs": [
    {
     "name": "stdout",
     "output_type": "stream",
     "text": [
      "10\n"
     ]
    }
   ],
   "source": [
    "print(pop_num)"
   ]
  },
  {
   "cell_type": "code",
   "execution_count": 147,
   "id": "2dc65e98",
   "metadata": {
    "ExecuteTime": {
     "end_time": "2023-09-05T19:51:45.637696Z",
     "start_time": "2023-09-05T19:51:45.620082Z"
    }
   },
   "outputs": [
    {
     "data": {
      "text/plain": [
       "[1, 2, 3, 4, 5, 7, 6, 8, 9]"
      ]
     },
     "execution_count": 147,
     "metadata": {},
     "output_type": "execute_result"
    }
   ],
   "source": [
    "list_numbers"
   ]
  },
  {
   "cell_type": "code",
   "execution_count": 148,
   "id": "0c9cb547",
   "metadata": {
    "ExecuteTime": {
     "end_time": "2023-09-05T19:51:45.861587Z",
     "start_time": "2023-09-05T19:51:45.859355Z"
    }
   },
   "outputs": [],
   "source": [
    "# remove method\n",
    "list_numbers.remove(9)"
   ]
  },
  {
   "cell_type": "code",
   "execution_count": 149,
   "id": "abaca17f",
   "metadata": {
    "ExecuteTime": {
     "end_time": "2023-09-05T19:51:46.099566Z",
     "start_time": "2023-09-05T19:51:46.095605Z"
    }
   },
   "outputs": [
    {
     "data": {
      "text/plain": [
       "[1, 2, 3, 4, 5, 7, 6, 8]"
      ]
     },
     "execution_count": 149,
     "metadata": {},
     "output_type": "execute_result"
    }
   ],
   "source": [
    "list_numbers"
   ]
  },
  {
   "cell_type": "code",
   "execution_count": 150,
   "id": "e3c1d12c",
   "metadata": {
    "ExecuteTime": {
     "end_time": "2023-09-05T19:51:46.358667Z",
     "start_time": "2023-09-05T19:51:46.355995Z"
    }
   },
   "outputs": [],
   "source": [
    "# del method\n",
    "del list_numbers[-1]"
   ]
  },
  {
   "cell_type": "code",
   "execution_count": 151,
   "id": "fc1b24f4",
   "metadata": {
    "ExecuteTime": {
     "end_time": "2023-09-05T19:51:46.620549Z",
     "start_time": "2023-09-05T19:51:46.615501Z"
    }
   },
   "outputs": [
    {
     "data": {
      "text/plain": [
       "[1, 2, 3, 4, 5, 7, 6]"
      ]
     },
     "execution_count": 151,
     "metadata": {},
     "output_type": "execute_result"
    }
   ],
   "source": [
    "list_numbers"
   ]
  },
  {
   "cell_type": "code",
   "execution_count": 152,
   "id": "6772291d",
   "metadata": {
    "ExecuteTime": {
     "end_time": "2023-09-05T19:51:46.878160Z",
     "start_time": "2023-09-05T19:51:46.859721Z"
    }
   },
   "outputs": [
    {
     "ename": "IndexError",
     "evalue": "list assignment index out of range",
     "output_type": "error",
     "traceback": [
      "\u001b[0;31m---------------------------------------------------------------------------\u001b[0m",
      "\u001b[0;31mIndexError\u001b[0m                                Traceback (most recent call last)",
      "Cell \u001b[0;32mIn[152], line 1\u001b[0m\n\u001b[0;32m----> 1\u001b[0m \u001b[38;5;28;01mdel\u001b[39;00m list_numbers[\u001b[38;5;241m10\u001b[39m]\n",
      "\u001b[0;31mIndexError\u001b[0m: list assignment index out of range"
     ]
    }
   ],
   "source": [
    "del list_numbers[10]"
   ]
  },
  {
   "cell_type": "markdown",
   "id": "750e8175",
   "metadata": {},
   "source": [
    "### Organizing a list"
   ]
  },
  {
   "cell_type": "code",
   "execution_count": 153,
   "id": "dbd1e7d9",
   "metadata": {
    "ExecuteTime": {
     "end_time": "2023-09-05T19:51:47.364585Z",
     "start_time": "2023-09-05T19:51:47.359709Z"
    }
   },
   "outputs": [],
   "source": [
    "list_clubs = ['Spurs', 'Mancity', 'Westham', 'Leeds', 'Arsenal']\n",
    "list_cars = ['Chevrolet', 'Jaguar', 'Porche', 'Audi', 'Volkswagen']"
   ]
  },
  {
   "cell_type": "code",
   "execution_count": 154,
   "id": "f7a9b745",
   "metadata": {
    "ExecuteTime": {
     "end_time": "2023-09-05T19:51:47.634748Z",
     "start_time": "2023-09-05T19:51:47.630707Z"
    }
   },
   "outputs": [],
   "source": [
    "list_cars.sort() # Sorting Permanently "
   ]
  },
  {
   "cell_type": "code",
   "execution_count": 155,
   "id": "54f9d484",
   "metadata": {
    "ExecuteTime": {
     "end_time": "2023-09-05T19:51:47.907226Z",
     "start_time": "2023-09-05T19:51:47.901122Z"
    }
   },
   "outputs": [
    {
     "name": "stdout",
     "output_type": "stream",
     "text": [
      "['Audi', 'Chevrolet', 'Jaguar', 'Porche', 'Volkswagen']\n"
     ]
    }
   ],
   "source": [
    "print(list_cars)"
   ]
  },
  {
   "cell_type": "code",
   "execution_count": 156,
   "id": "a13e8b85",
   "metadata": {
    "ExecuteTime": {
     "end_time": "2023-09-05T19:51:48.147157Z",
     "start_time": "2023-09-05T19:51:48.141601Z"
    }
   },
   "outputs": [
    {
     "data": {
      "text/plain": [
       "140223725968192"
      ]
     },
     "execution_count": 156,
     "metadata": {},
     "output_type": "execute_result"
    }
   ],
   "source": [
    "id(list_cars)"
   ]
  },
  {
   "cell_type": "code",
   "execution_count": 157,
   "id": "75ad98a9",
   "metadata": {
    "ExecuteTime": {
     "end_time": "2023-09-05T19:51:48.413533Z",
     "start_time": "2023-09-05T19:51:48.402285Z"
    }
   },
   "outputs": [],
   "source": [
    "list_cars.sort(reverse=True)"
   ]
  },
  {
   "cell_type": "code",
   "execution_count": 158,
   "id": "35364c7c",
   "metadata": {
    "ExecuteTime": {
     "end_time": "2023-09-05T19:51:48.714869Z",
     "start_time": "2023-09-05T19:51:48.705440Z"
    }
   },
   "outputs": [
    {
     "name": "stdout",
     "output_type": "stream",
     "text": [
      "['Volkswagen', 'Porche', 'Jaguar', 'Chevrolet', 'Audi']\n"
     ]
    }
   ],
   "source": [
    "print(list_cars)"
   ]
  },
  {
   "cell_type": "code",
   "execution_count": 159,
   "id": "94527f1b",
   "metadata": {
    "ExecuteTime": {
     "end_time": "2023-09-05T19:51:48.921136Z",
     "start_time": "2023-09-05T19:51:48.914140Z"
    }
   },
   "outputs": [
    {
     "data": {
      "text/plain": [
       "140223725968192"
      ]
     },
     "execution_count": 159,
     "metadata": {},
     "output_type": "execute_result"
    }
   ],
   "source": [
    "id(list_cars)"
   ]
  },
  {
   "cell_type": "code",
   "execution_count": 160,
   "id": "2be2b2f9",
   "metadata": {
    "ExecuteTime": {
     "end_time": "2023-09-05T19:51:49.111684Z",
     "start_time": "2023-09-05T19:51:49.106248Z"
    }
   },
   "outputs": [
    {
     "data": {
      "text/plain": [
       "['Spurs', 'Mancity', 'Westham', 'Leeds', 'Arsenal']"
      ]
     },
     "execution_count": 160,
     "metadata": {},
     "output_type": "execute_result"
    }
   ],
   "source": [
    "list_clubs"
   ]
  },
  {
   "cell_type": "code",
   "execution_count": 161,
   "id": "59f63766",
   "metadata": {
    "ExecuteTime": {
     "end_time": "2023-09-05T19:51:49.383566Z",
     "start_time": "2023-09-05T19:51:49.377153Z"
    }
   },
   "outputs": [
    {
     "name": "stdout",
     "output_type": "stream",
     "text": [
      "Here is a sorted list\n",
      "['Arsenal', 'Leeds', 'Mancity', 'Spurs', 'Westham']\n"
     ]
    }
   ],
   "source": [
    "print('Here is a sorted list')\n",
    "print(sorted(list_clubs)) # Temporal sorting"
   ]
  },
  {
   "cell_type": "code",
   "execution_count": 162,
   "id": "d6a9d44b",
   "metadata": {
    "ExecuteTime": {
     "end_time": "2023-09-05T19:51:49.600295Z",
     "start_time": "2023-09-05T19:51:49.595338Z"
    }
   },
   "outputs": [
    {
     "data": {
      "text/plain": [
       "['Spurs', 'Mancity', 'Westham', 'Leeds', 'Arsenal']"
      ]
     },
     "execution_count": 162,
     "metadata": {},
     "output_type": "execute_result"
    }
   ],
   "source": [
    "list_clubs"
   ]
  },
  {
   "cell_type": "markdown",
   "id": "03769202",
   "metadata": {},
   "source": [
    "### List Slicing "
   ]
  },
  {
   "cell_type": "code",
   "execution_count": 163,
   "id": "d8b6d338",
   "metadata": {
    "ExecuteTime": {
     "end_time": "2023-09-05T19:51:50.109354Z",
     "start_time": "2023-09-05T19:51:50.098619Z"
    }
   },
   "outputs": [
    {
     "data": {
      "text/plain": [
       "'Audi'"
      ]
     },
     "execution_count": 163,
     "metadata": {},
     "output_type": "execute_result"
    }
   ],
   "source": [
    "list_cars[4]"
   ]
  },
  {
   "cell_type": "code",
   "execution_count": 164,
   "id": "1c77c28a",
   "metadata": {
    "ExecuteTime": {
     "end_time": "2023-09-05T19:51:50.349534Z",
     "start_time": "2023-09-05T19:51:50.344460Z"
    }
   },
   "outputs": [
    {
     "data": {
      "text/plain": [
       "['Volkswagen', 'Porche', 'Jaguar', 'Chevrolet', 'Audi']"
      ]
     },
     "execution_count": 164,
     "metadata": {},
     "output_type": "execute_result"
    }
   ],
   "source": [
    "list_cars[0:5]"
   ]
  },
  {
   "cell_type": "code",
   "execution_count": 165,
   "id": "5675eba2",
   "metadata": {
    "ExecuteTime": {
     "end_time": "2023-09-05T19:51:50.601037Z",
     "start_time": "2023-09-05T19:51:50.596659Z"
    }
   },
   "outputs": [
    {
     "data": {
      "text/plain": [
       "['Porche', 'Jaguar', 'Chevrolet']"
      ]
     },
     "execution_count": 165,
     "metadata": {},
     "output_type": "execute_result"
    }
   ],
   "source": [
    "list_cars[1:-1]"
   ]
  },
  {
   "cell_type": "markdown",
   "id": "fe7f1417",
   "metadata": {},
   "source": [
    "### Copying a list"
   ]
  },
  {
   "cell_type": "code",
   "execution_count": 166,
   "id": "68503808",
   "metadata": {
    "ExecuteTime": {
     "end_time": "2023-09-05T19:51:51.144383Z",
     "start_time": "2023-09-05T19:51:51.140958Z"
    }
   },
   "outputs": [],
   "source": [
    "list_cars_copy = list_cars.copy() # A copy of the initial list "
   ]
  },
  {
   "cell_type": "code",
   "execution_count": 167,
   "id": "bb4d0b4c",
   "metadata": {
    "ExecuteTime": {
     "end_time": "2023-09-05T19:51:51.397593Z",
     "start_time": "2023-09-05T19:51:51.391916Z"
    }
   },
   "outputs": [
    {
     "data": {
      "text/plain": [
       "['Volkswagen', 'Porche', 'Jaguar', 'Chevrolet', 'Audi']"
      ]
     },
     "execution_count": 167,
     "metadata": {},
     "output_type": "execute_result"
    }
   ],
   "source": [
    "list_cars_copy"
   ]
  },
  {
   "cell_type": "code",
   "execution_count": 168,
   "id": "dd998a65",
   "metadata": {
    "ExecuteTime": {
     "end_time": "2023-09-05T19:51:51.700252Z",
     "start_time": "2023-09-05T19:51:51.696782Z"
    }
   },
   "outputs": [],
   "source": [
    "list_cars_copy_slice = list_cars[:]"
   ]
  },
  {
   "cell_type": "code",
   "execution_count": 169,
   "id": "29b3da63",
   "metadata": {
    "ExecuteTime": {
     "end_time": "2023-09-05T19:51:51.924298Z",
     "start_time": "2023-09-05T19:51:51.918198Z"
    }
   },
   "outputs": [
    {
     "data": {
      "text/plain": [
       "['Volkswagen', 'Porche', 'Jaguar', 'Chevrolet', 'Audi']"
      ]
     },
     "execution_count": 169,
     "metadata": {},
     "output_type": "execute_result"
    }
   ],
   "source": [
    "list_cars_copy_slice"
   ]
  },
  {
   "cell_type": "markdown",
   "id": "b9f86b7b",
   "metadata": {},
   "source": [
    "## Tuples"
   ]
  },
  {
   "cell_type": "code",
   "execution_count": 170,
   "id": "74fde84c",
   "metadata": {
    "ExecuteTime": {
     "end_time": "2023-09-05T19:51:52.430028Z",
     "start_time": "2023-09-05T19:51:52.426315Z"
    }
   },
   "outputs": [],
   "source": [
    "# Data Structure\n",
    "# Sequenced \n",
    "# Immutable - Values are fixed and cannot changed \n",
    "# tuples has parentheses ()"
   ]
  },
  {
   "cell_type": "markdown",
   "id": "36c00acf",
   "metadata": {},
   "source": [
    "### Creating Tuples "
   ]
  },
  {
   "cell_type": "code",
   "execution_count": 171,
   "id": "9c32a4dd",
   "metadata": {
    "ExecuteTime": {
     "end_time": "2023-09-05T19:51:52.938277Z",
     "start_time": "2023-09-05T19:51:52.932443Z"
    }
   },
   "outputs": [],
   "source": [
    "tuple_numbers = 1,2,3,4,5,6,7,8,9,10 # One way to create a tuple"
   ]
  },
  {
   "cell_type": "code",
   "execution_count": 172,
   "id": "9e899a07",
   "metadata": {
    "ExecuteTime": {
     "end_time": "2023-09-05T19:51:53.215694Z",
     "start_time": "2023-09-05T19:51:53.177731Z"
    }
   },
   "outputs": [
    {
     "data": {
      "text/plain": [
       "tuple"
      ]
     },
     "execution_count": 172,
     "metadata": {},
     "output_type": "execute_result"
    }
   ],
   "source": [
    "type(tuple_numbers)"
   ]
  },
  {
   "cell_type": "code",
   "execution_count": 173,
   "id": "ebaf4d3f",
   "metadata": {
    "ExecuteTime": {
     "end_time": "2023-09-05T19:51:53.472504Z",
     "start_time": "2023-09-05T19:51:53.461362Z"
    }
   },
   "outputs": [
    {
     "name": "stdout",
     "output_type": "stream",
     "text": [
      "(1, 2, 3, 4, 5, 6, 7, 8, 9, 10)\n"
     ]
    }
   ],
   "source": [
    "print(tuple_numbers)"
   ]
  },
  {
   "cell_type": "code",
   "execution_count": 174,
   "id": "d96a79b6",
   "metadata": {
    "ExecuteTime": {
     "end_time": "2023-09-05T19:51:53.741000Z",
     "start_time": "2023-09-05T19:51:53.737483Z"
    }
   },
   "outputs": [],
   "source": [
    "tuple_names = ('Pablo', 'Mudia', 'Oselu', 'Miracle') # Another way to create a tuple"
   ]
  },
  {
   "cell_type": "code",
   "execution_count": 175,
   "id": "34210feb",
   "metadata": {
    "ExecuteTime": {
     "end_time": "2023-09-05T19:51:53.984586Z",
     "start_time": "2023-09-05T19:51:53.980673Z"
    }
   },
   "outputs": [
    {
     "name": "stdout",
     "output_type": "stream",
     "text": [
      "('Pablo', 'Mudia', 'Oselu', 'Miracle')\n"
     ]
    }
   ],
   "source": [
    "print(tuple_names)"
   ]
  },
  {
   "cell_type": "code",
   "execution_count": 176,
   "id": "ff7b715d",
   "metadata": {
    "ExecuteTime": {
     "end_time": "2023-09-05T19:51:54.243454Z",
     "start_time": "2023-09-05T19:51:54.236299Z"
    }
   },
   "outputs": [
    {
     "data": {
      "text/plain": [
       "['Volkswagen', 'Porche', 'Jaguar', 'Chevrolet', 'Audi']"
      ]
     },
     "execution_count": 176,
     "metadata": {},
     "output_type": "execute_result"
    }
   ],
   "source": [
    "list_cars_copy"
   ]
  },
  {
   "cell_type": "code",
   "execution_count": 177,
   "id": "109f59c8",
   "metadata": {
    "ExecuteTime": {
     "end_time": "2023-09-05T19:51:54.475376Z",
     "start_time": "2023-09-05T19:51:54.470670Z"
    }
   },
   "outputs": [],
   "source": [
    "tuple_cars_copy = tuple(list_cars_copy)"
   ]
  },
  {
   "cell_type": "code",
   "execution_count": 178,
   "id": "5cf6084b",
   "metadata": {
    "ExecuteTime": {
     "end_time": "2023-09-05T19:51:54.764725Z",
     "start_time": "2023-09-05T19:51:54.758749Z"
    }
   },
   "outputs": [
    {
     "data": {
      "text/plain": [
       "tuple"
      ]
     },
     "execution_count": 178,
     "metadata": {},
     "output_type": "execute_result"
    }
   ],
   "source": [
    "type(tuple_cars_copy)"
   ]
  },
  {
   "cell_type": "markdown",
   "id": "3f2d7937",
   "metadata": {},
   "source": [
    "## Tuple Functionalities"
   ]
  },
  {
   "cell_type": "code",
   "execution_count": 179,
   "id": "a39b5945",
   "metadata": {
    "ExecuteTime": {
     "end_time": "2023-09-05T19:51:55.854151Z",
     "start_time": "2023-09-05T19:51:55.848389Z"
    }
   },
   "outputs": [
    {
     "data": {
      "text/plain": [
       "('Volkswagen', 'Porche', 'Jaguar', 'Chevrolet', 'Audi')"
      ]
     },
     "execution_count": 179,
     "metadata": {},
     "output_type": "execute_result"
    }
   ],
   "source": [
    "tuple_cars_copy"
   ]
  },
  {
   "cell_type": "code",
   "execution_count": 180,
   "id": "f1b46be8",
   "metadata": {
    "ExecuteTime": {
     "end_time": "2023-09-05T19:51:56.378299Z",
     "start_time": "2023-09-05T19:51:56.283337Z"
    }
   },
   "outputs": [
    {
     "data": {
      "text/plain": [
       "['__add__',\n",
       " '__class__',\n",
       " '__class_getitem__',\n",
       " '__contains__',\n",
       " '__delattr__',\n",
       " '__dir__',\n",
       " '__doc__',\n",
       " '__eq__',\n",
       " '__format__',\n",
       " '__ge__',\n",
       " '__getattribute__',\n",
       " '__getitem__',\n",
       " '__getnewargs__',\n",
       " '__gt__',\n",
       " '__hash__',\n",
       " '__init__',\n",
       " '__init_subclass__',\n",
       " '__iter__',\n",
       " '__le__',\n",
       " '__len__',\n",
       " '__lt__',\n",
       " '__mul__',\n",
       " '__ne__',\n",
       " '__new__',\n",
       " '__reduce__',\n",
       " '__reduce_ex__',\n",
       " '__repr__',\n",
       " '__rmul__',\n",
       " '__setattr__',\n",
       " '__sizeof__',\n",
       " '__str__',\n",
       " '__subclasshook__',\n",
       " 'count',\n",
       " 'index']"
      ]
     },
     "execution_count": 180,
     "metadata": {},
     "output_type": "execute_result"
    }
   ],
   "source": [
    "dir(tuple_cars_copy)"
   ]
  },
  {
   "cell_type": "markdown",
   "id": "a4181799",
   "metadata": {},
   "source": [
    "### Tuple Methods\n",
    "\n",
    "'count', 'index'"
   ]
  },
  {
   "cell_type": "code",
   "execution_count": 181,
   "id": "c019bfcc",
   "metadata": {
    "ExecuteTime": {
     "end_time": "2023-09-05T19:51:56.963517Z",
     "start_time": "2023-09-05T19:51:56.958582Z"
    }
   },
   "outputs": [
    {
     "data": {
      "text/plain": [
       "1"
      ]
     },
     "execution_count": 181,
     "metadata": {},
     "output_type": "execute_result"
    }
   ],
   "source": [
    "tuple_cars_copy.count('Volkswagen') # It counts the number of elements as it matches the values in the tuple"
   ]
  },
  {
   "cell_type": "code",
   "execution_count": null,
   "id": "fe2b4b3e",
   "metadata": {},
   "outputs": [],
   "source": []
  },
  {
   "cell_type": "code",
   "execution_count": 182,
   "id": "7732366a",
   "metadata": {
    "ExecuteTime": {
     "end_time": "2023-09-05T19:51:57.453390Z",
     "start_time": "2023-09-05T19:51:57.445808Z"
    }
   },
   "outputs": [
    {
     "data": {
      "text/plain": [
       "4"
      ]
     },
     "execution_count": 182,
     "metadata": {},
     "output_type": "execute_result"
    }
   ],
   "source": [
    "tuple_numbers.index(5) # Finds the numerical position"
   ]
  },
  {
   "cell_type": "code",
   "execution_count": 183,
   "id": "6ee5b6c6",
   "metadata": {
    "ExecuteTime": {
     "end_time": "2023-09-05T19:51:57.715715Z",
     "start_time": "2023-09-05T19:51:57.708789Z"
    }
   },
   "outputs": [
    {
     "name": "stdout",
     "output_type": "stream",
     "text": [
      "(1, 2, 3, 4, 5, 6, 7, 8, 9, 10)\n"
     ]
    }
   ],
   "source": [
    "print(tuple_numbers)"
   ]
  },
  {
   "cell_type": "code",
   "execution_count": null,
   "id": "eb71c9a6",
   "metadata": {},
   "outputs": [],
   "source": []
  },
  {
   "cell_type": "code",
   "execution_count": 184,
   "id": "93d0a4d3",
   "metadata": {
    "ExecuteTime": {
     "end_time": "2023-09-05T19:51:58.216465Z",
     "start_time": "2023-09-05T19:51:58.196969Z"
    }
   },
   "outputs": [
    {
     "ename": "TypeError",
     "evalue": "'tuple' object does not support item assignment",
     "output_type": "error",
     "traceback": [
      "\u001b[0;31m---------------------------------------------------------------------------\u001b[0m",
      "\u001b[0;31mTypeError\u001b[0m                                 Traceback (most recent call last)",
      "Cell \u001b[0;32mIn[184], line 1\u001b[0m\n\u001b[0;32m----> 1\u001b[0m tuple_numbers[\u001b[38;5;241m0\u001b[39m] \u001b[38;5;241m=\u001b[39m \u001b[38;5;241m0\u001b[39m\n",
      "\u001b[0;31mTypeError\u001b[0m: 'tuple' object does not support item assignment"
     ]
    }
   ],
   "source": [
    "tuple_numbers[0] = 0 # Proof that tuples are immutable"
   ]
  },
  {
   "cell_type": "markdown",
   "id": "2e26e772",
   "metadata": {},
   "source": [
    "### Tuple Concatenation"
   ]
  },
  {
   "cell_type": "code",
   "execution_count": 185,
   "id": "a0a8805f",
   "metadata": {
    "ExecuteTime": {
     "end_time": "2023-09-05T19:52:05.791249Z",
     "start_time": "2023-09-05T19:52:05.787688Z"
    }
   },
   "outputs": [],
   "source": [
    "first_tuple = (1,2,3) # Create a tuple"
   ]
  },
  {
   "cell_type": "code",
   "execution_count": 186,
   "id": "0d526e0e",
   "metadata": {
    "ExecuteTime": {
     "end_time": "2023-09-05T19:52:06.277561Z",
     "start_time": "2023-09-05T19:52:06.211478Z"
    }
   },
   "outputs": [
    {
     "data": {
      "text/plain": [
       "140223726472384"
      ]
     },
     "execution_count": 186,
     "metadata": {},
     "output_type": "execute_result"
    }
   ],
   "source": [
    "id(first_tuple) # Checking id"
   ]
  },
  {
   "cell_type": "code",
   "execution_count": 187,
   "id": "10f152ec",
   "metadata": {
    "ExecuteTime": {
     "end_time": "2023-09-05T19:52:11.550550Z",
     "start_time": "2023-09-05T19:52:11.540393Z"
    }
   },
   "outputs": [],
   "source": [
    "second_tuple = (4,5,6) # Create another tuple"
   ]
  },
  {
   "cell_type": "code",
   "execution_count": 188,
   "id": "72899c86",
   "metadata": {
    "ExecuteTime": {
     "end_time": "2023-09-05T19:52:12.209620Z",
     "start_time": "2023-09-05T19:52:12.198206Z"
    }
   },
   "outputs": [
    {
     "data": {
      "text/plain": [
       "140223726503808"
      ]
     },
     "execution_count": 188,
     "metadata": {},
     "output_type": "execute_result"
    }
   ],
   "source": [
    "id(second_tuple)"
   ]
  },
  {
   "cell_type": "code",
   "execution_count": 189,
   "id": "cfcddbbc",
   "metadata": {
    "ExecuteTime": {
     "end_time": "2023-09-05T19:52:23.290450Z",
     "start_time": "2023-09-05T19:52:23.274329Z"
    }
   },
   "outputs": [],
   "source": [
    "first_tuple += (4,5,6)"
   ]
  },
  {
   "cell_type": "code",
   "execution_count": 190,
   "id": "07763048",
   "metadata": {
    "ExecuteTime": {
     "end_time": "2023-09-05T19:52:23.905330Z",
     "start_time": "2023-09-05T19:52:23.900599Z"
    }
   },
   "outputs": [
    {
     "data": {
      "text/plain": [
       "(1, 2, 3, 4, 5, 6)"
      ]
     },
     "execution_count": 190,
     "metadata": {},
     "output_type": "execute_result"
    }
   ],
   "source": [
    "first_tuple"
   ]
  },
  {
   "cell_type": "code",
   "execution_count": 191,
   "id": "d5c50caa",
   "metadata": {
    "ExecuteTime": {
     "end_time": "2023-09-05T19:52:25.411111Z",
     "start_time": "2023-09-05T19:52:25.406764Z"
    }
   },
   "outputs": [
    {
     "data": {
      "text/plain": [
       "140223726040256"
      ]
     },
     "execution_count": 191,
     "metadata": {},
     "output_type": "execute_result"
    }
   ],
   "source": [
    "id(first_tuple) # Concatenation creates a new object(Tuple)"
   ]
  },
  {
   "cell_type": "code",
   "execution_count": null,
   "id": "ac030744",
   "metadata": {},
   "outputs": [],
   "source": []
  },
  {
   "cell_type": "markdown",
   "id": "cd85807f",
   "metadata": {},
   "source": [
    "# Python Dictionary "
   ]
  },
  {
   "cell_type": "code",
   "execution_count": 192,
   "id": "a1eac17c",
   "metadata": {
    "ExecuteTime": {
     "end_time": "2023-09-05T19:52:26.949258Z",
     "start_time": "2023-09-05T19:52:26.943849Z"
    }
   },
   "outputs": [],
   "source": [
    "# List []\n",
    "# Tuple ()\n",
    "# Dictionary {}\n",
    "# Mutable \n",
    "# Key, Value pairs"
   ]
  },
  {
   "cell_type": "code",
   "execution_count": 193,
   "id": "081adf36",
   "metadata": {
    "ExecuteTime": {
     "end_time": "2023-09-05T19:52:27.232809Z",
     "start_time": "2023-09-05T19:52:27.224938Z"
    }
   },
   "outputs": [],
   "source": [
    "# Creating a Python dictionary\n",
    "profile = {'first_name': 'Pablo', \n",
    "           'last_name': 'Okwukogu',\n",
    "          'email': 'peter.okwukogu@gmail.com'}"
   ]
  },
  {
   "cell_type": "code",
   "execution_count": 194,
   "id": "b2e6a39f",
   "metadata": {
    "ExecuteTime": {
     "end_time": "2023-09-05T19:52:28.158073Z",
     "start_time": "2023-09-05T19:52:28.116684Z"
    }
   },
   "outputs": [
    {
     "name": "stdout",
     "output_type": "stream",
     "text": [
      "{'first_name': 'Pablo', 'last_name': 'Okwukogu', 'email': 'peter.okwukogu@gmail.com'}\n"
     ]
    }
   ],
   "source": [
    "print(profile)"
   ]
  },
  {
   "cell_type": "code",
   "execution_count": null,
   "id": "d4c9979f",
   "metadata": {},
   "outputs": [],
   "source": []
  },
  {
   "cell_type": "code",
   "execution_count": 195,
   "id": "03b283fb",
   "metadata": {
    "ExecuteTime": {
     "end_time": "2023-09-05T19:52:28.627137Z",
     "start_time": "2023-09-05T19:52:28.623323Z"
    }
   },
   "outputs": [],
   "source": [
    "# Using the dict function to create a dictionary\n",
    "profile_1 = dict(first_name = 'Mudia', \n",
    "                last_name = 'Imasuen',\n",
    "                role = 'Product Designer')"
   ]
  },
  {
   "cell_type": "code",
   "execution_count": 196,
   "id": "19c6088f",
   "metadata": {
    "ExecuteTime": {
     "end_time": "2023-09-05T19:52:28.880120Z",
     "start_time": "2023-09-05T19:52:28.875624Z"
    }
   },
   "outputs": [
    {
     "name": "stdout",
     "output_type": "stream",
     "text": [
      "{'first_name': 'Mudia', 'last_name': 'Imasuen', 'role': 'Product Designer'}\n"
     ]
    }
   ],
   "source": [
    "print(profile_1)"
   ]
  },
  {
   "cell_type": "code",
   "execution_count": 197,
   "id": "8931ffe9",
   "metadata": {
    "ExecuteTime": {
     "end_time": "2023-09-05T19:52:29.112051Z",
     "start_time": "2023-09-05T19:52:29.104348Z"
    }
   },
   "outputs": [
    {
     "data": {
      "text/plain": [
       "dict"
      ]
     },
     "execution_count": 197,
     "metadata": {},
     "output_type": "execute_result"
    }
   ],
   "source": [
    "type(profile_1)"
   ]
  },
  {
   "cell_type": "markdown",
   "id": "a818c794",
   "metadata": {},
   "source": [
    "## Accessing Dictionaries "
   ]
  },
  {
   "cell_type": "code",
   "execution_count": 198,
   "id": "2a811e6e",
   "metadata": {
    "ExecuteTime": {
     "end_time": "2023-09-05T19:52:29.586128Z",
     "start_time": "2023-09-05T19:52:29.582225Z"
    }
   },
   "outputs": [],
   "source": [
    "# Dict have key, value pairs\n",
    "# What is a key & what is a value"
   ]
  },
  {
   "cell_type": "code",
   "execution_count": 199,
   "id": "6b89687e",
   "metadata": {
    "ExecuteTime": {
     "end_time": "2023-09-05T19:52:29.819703Z",
     "start_time": "2023-09-05T19:52:29.815612Z"
    }
   },
   "outputs": [
    {
     "name": "stdout",
     "output_type": "stream",
     "text": [
      "{'first_name': 'Pablo', 'last_name': 'Okwukogu', 'email': 'peter.okwukogu@gmail.com'}\n"
     ]
    }
   ],
   "source": [
    "print(profile)"
   ]
  },
  {
   "cell_type": "code",
   "execution_count": 200,
   "id": "a1dbdaa2",
   "metadata": {
    "ExecuteTime": {
     "end_time": "2023-09-05T19:52:30.119991Z",
     "start_time": "2023-09-05T19:52:30.111956Z"
    }
   },
   "outputs": [
    {
     "data": {
      "text/plain": [
       "'Pablo'"
      ]
     },
     "execution_count": 200,
     "metadata": {},
     "output_type": "execute_result"
    }
   ],
   "source": [
    "profile['first_name'] # Accessing a dict using a key"
   ]
  },
  {
   "cell_type": "code",
   "execution_count": 201,
   "id": "6eaadaff",
   "metadata": {
    "ExecuteTime": {
     "end_time": "2023-09-05T19:52:30.324639Z",
     "start_time": "2023-09-05T19:52:30.316382Z"
    }
   },
   "outputs": [
    {
     "data": {
      "text/plain": [
       "True"
      ]
     },
     "execution_count": 201,
     "metadata": {},
     "output_type": "execute_result"
    }
   ],
   "source": [
    "'first_name' in profile # Confirming a key exists inside a dict"
   ]
  },
  {
   "cell_type": "code",
   "execution_count": 202,
   "id": "ed0bfdda",
   "metadata": {
    "ExecuteTime": {
     "end_time": "2023-09-05T19:52:30.566867Z",
     "start_time": "2023-09-05T19:52:30.534836Z"
    }
   },
   "outputs": [
    {
     "ename": "KeyError",
     "evalue": "'location'",
     "output_type": "error",
     "traceback": [
      "\u001b[0;31m---------------------------------------------------------------------------\u001b[0m",
      "\u001b[0;31mKeyError\u001b[0m                                  Traceback (most recent call last)",
      "Cell \u001b[0;32mIn[202], line 1\u001b[0m\n\u001b[0;32m----> 1\u001b[0m \u001b[43mprofile\u001b[49m\u001b[43m[\u001b[49m\u001b[38;5;124;43m'\u001b[39;49m\u001b[38;5;124;43mlocation\u001b[39;49m\u001b[38;5;124;43m'\u001b[39;49m\u001b[43m]\u001b[49m\n",
      "\u001b[0;31mKeyError\u001b[0m: 'location'"
     ]
    }
   ],
   "source": [
    "profile['location'] # Accessing a key that doesn't exist"
   ]
  },
  {
   "cell_type": "markdown",
   "id": "cdb0d377",
   "metadata": {},
   "source": [
    "## Dictionary Methods"
   ]
  },
  {
   "cell_type": "code",
   "execution_count": 203,
   "id": "d96346bd",
   "metadata": {
    "ExecuteTime": {
     "end_time": "2023-09-05T19:52:31.029989Z",
     "start_time": "2023-09-05T19:52:31.022327Z"
    }
   },
   "outputs": [
    {
     "data": {
      "text/plain": [
       "['__class__',\n",
       " '__class_getitem__',\n",
       " '__contains__',\n",
       " '__delattr__',\n",
       " '__delitem__',\n",
       " '__dir__',\n",
       " '__doc__',\n",
       " '__eq__',\n",
       " '__format__',\n",
       " '__ge__',\n",
       " '__getattribute__',\n",
       " '__getitem__',\n",
       " '__gt__',\n",
       " '__hash__',\n",
       " '__init__',\n",
       " '__init_subclass__',\n",
       " '__ior__',\n",
       " '__iter__',\n",
       " '__le__',\n",
       " '__len__',\n",
       " '__lt__',\n",
       " '__ne__',\n",
       " '__new__',\n",
       " '__or__',\n",
       " '__reduce__',\n",
       " '__reduce_ex__',\n",
       " '__repr__',\n",
       " '__reversed__',\n",
       " '__ror__',\n",
       " '__setattr__',\n",
       " '__setitem__',\n",
       " '__sizeof__',\n",
       " '__str__',\n",
       " '__subclasshook__',\n",
       " 'clear',\n",
       " 'copy',\n",
       " 'fromkeys',\n",
       " 'get',\n",
       " 'items',\n",
       " 'keys',\n",
       " 'pop',\n",
       " 'popitem',\n",
       " 'setdefault',\n",
       " 'update',\n",
       " 'values']"
      ]
     },
     "execution_count": 203,
     "metadata": {},
     "output_type": "execute_result"
    }
   ],
   "source": [
    "dir(profile)"
   ]
  },
  {
   "cell_type": "markdown",
   "id": "a8db145f",
   "metadata": {},
   "source": [
    "### Dictionary Functionalities"
   ]
  },
  {
   "cell_type": "markdown",
   "id": "be2f01e1",
   "metadata": {},
   "source": [
    "###  'clear', 'copy', 'fromkeys', 'get', 'items', 'keys', 'pop', 'popitem', 'setdefault', 'update', 'values'"
   ]
  },
  {
   "cell_type": "code",
   "execution_count": 204,
   "id": "74676e22",
   "metadata": {
    "ExecuteTime": {
     "end_time": "2023-09-05T19:52:31.743050Z",
     "start_time": "2023-09-05T19:52:31.737187Z"
    }
   },
   "outputs": [
    {
     "name": "stdout",
     "output_type": "stream",
     "text": [
      "This key is not available\n"
     ]
    }
   ],
   "source": [
    "# The get method\n",
    "print(profile.get('location', 'This key is not available')) # The get() method"
   ]
  },
  {
   "cell_type": "code",
   "execution_count": 205,
   "id": "ce10205f",
   "metadata": {
    "ExecuteTime": {
     "end_time": "2023-09-05T19:52:32.004105Z",
     "start_time": "2023-09-05T19:52:31.995253Z"
    }
   },
   "outputs": [
    {
     "data": {
      "text/plain": [
       "{'first_name': 'Pablo',\n",
       " 'last_name': 'Okwukogu',\n",
       " 'email': 'peter.okwukogu@gmail.com'}"
      ]
     },
     "execution_count": 205,
     "metadata": {},
     "output_type": "execute_result"
    }
   ],
   "source": [
    "profile"
   ]
  },
  {
   "cell_type": "code",
   "execution_count": 206,
   "id": "4e7e1b5d",
   "metadata": {
    "ExecuteTime": {
     "end_time": "2023-09-05T19:52:32.256422Z",
     "start_time": "2023-09-05T19:52:32.251658Z"
    }
   },
   "outputs": [],
   "source": [
    "# The copy method\n",
    "profile_copy = profile.copy() # The copy method "
   ]
  },
  {
   "cell_type": "code",
   "execution_count": 207,
   "id": "8580cfb4",
   "metadata": {
    "ExecuteTime": {
     "end_time": "2023-09-05T19:52:32.506966Z",
     "start_time": "2023-09-05T19:52:32.502751Z"
    }
   },
   "outputs": [
    {
     "data": {
      "text/plain": [
       "{'first_name': 'Pablo',\n",
       " 'last_name': 'Okwukogu',\n",
       " 'email': 'peter.okwukogu@gmail.com'}"
      ]
     },
     "execution_count": 207,
     "metadata": {},
     "output_type": "execute_result"
    }
   ],
   "source": [
    "profile_copy"
   ]
  },
  {
   "cell_type": "code",
   "execution_count": 208,
   "id": "8ee7d055",
   "metadata": {
    "ExecuteTime": {
     "end_time": "2023-09-05T19:52:32.752519Z",
     "start_time": "2023-09-05T19:52:32.749533Z"
    }
   },
   "outputs": [],
   "source": [
    "# The clear method\n",
    "profile_copy.clear() "
   ]
  },
  {
   "cell_type": "code",
   "execution_count": 209,
   "id": "77b62e6e",
   "metadata": {
    "ExecuteTime": {
     "end_time": "2023-09-05T19:52:35.485037Z",
     "start_time": "2023-09-05T19:52:35.474836Z"
    }
   },
   "outputs": [
    {
     "data": {
      "text/plain": [
       "{}"
      ]
     },
     "execution_count": 209,
     "metadata": {},
     "output_type": "execute_result"
    }
   ],
   "source": [
    "profile_copy"
   ]
  },
  {
   "cell_type": "code",
   "execution_count": 210,
   "id": "8de0901c",
   "metadata": {
    "ExecuteTime": {
     "end_time": "2023-09-05T19:52:35.766997Z",
     "start_time": "2023-09-05T19:52:35.754876Z"
    }
   },
   "outputs": [
    {
     "data": {
      "text/plain": [
       "{'first_name': 'Pablo',\n",
       " 'last_name': 'Okwukogu',\n",
       " 'email': 'peter.okwukogu@gmail.com'}"
      ]
     },
     "execution_count": 210,
     "metadata": {},
     "output_type": "execute_result"
    }
   ],
   "source": [
    "# items method\n",
    "profile"
   ]
  },
  {
   "cell_type": "code",
   "execution_count": 211,
   "id": "53a5c640",
   "metadata": {
    "ExecuteTime": {
     "end_time": "2023-09-05T19:52:36.013797Z",
     "start_time": "2023-09-05T19:52:36.008576Z"
    }
   },
   "outputs": [
    {
     "data": {
      "text/plain": [
       "dict_items([('first_name', 'Pablo'), ('last_name', 'Okwukogu'), ('email', 'peter.okwukogu@gmail.com')])"
      ]
     },
     "execution_count": 211,
     "metadata": {},
     "output_type": "execute_result"
    }
   ],
   "source": [
    "profile.items() "
   ]
  },
  {
   "cell_type": "code",
   "execution_count": 212,
   "id": "4a08f86e",
   "metadata": {
    "ExecuteTime": {
     "end_time": "2023-09-05T19:52:36.275193Z",
     "start_time": "2023-09-05T19:52:36.267994Z"
    }
   },
   "outputs": [
    {
     "data": {
      "text/plain": [
       "dict_keys(['first_name', 'last_name', 'email'])"
      ]
     },
     "execution_count": 212,
     "metadata": {},
     "output_type": "execute_result"
    }
   ],
   "source": [
    "# keys method\n",
    "profile.keys() "
   ]
  },
  {
   "cell_type": "code",
   "execution_count": 213,
   "id": "7b09d96a",
   "metadata": {
    "ExecuteTime": {
     "end_time": "2023-09-05T19:52:36.536876Z",
     "start_time": "2023-09-05T19:52:36.528866Z"
    }
   },
   "outputs": [
    {
     "data": {
      "text/plain": [
       "True"
      ]
     },
     "execution_count": 213,
     "metadata": {},
     "output_type": "execute_result"
    }
   ],
   "source": [
    "'email'in profile"
   ]
  },
  {
   "cell_type": "code",
   "execution_count": 214,
   "id": "32e5ac3b",
   "metadata": {
    "ExecuteTime": {
     "end_time": "2023-09-05T19:52:36.770536Z",
     "start_time": "2023-09-05T19:52:36.764297Z"
    }
   },
   "outputs": [
    {
     "data": {
      "text/plain": [
       "dict_values(['Pablo', 'Okwukogu', 'peter.okwukogu@gmail.com'])"
      ]
     },
     "execution_count": 214,
     "metadata": {},
     "output_type": "execute_result"
    }
   ],
   "source": [
    "# value method\n",
    "profile.values() "
   ]
  },
  {
   "cell_type": "code",
   "execution_count": 215,
   "id": "67783b6b",
   "metadata": {
    "ExecuteTime": {
     "end_time": "2023-09-05T19:52:37.018794Z",
     "start_time": "2023-09-05T19:52:37.008468Z"
    }
   },
   "outputs": [
    {
     "data": {
      "text/plain": [
       "'peter.okwukogu@gmail.com'"
      ]
     },
     "execution_count": 215,
     "metadata": {},
     "output_type": "execute_result"
    }
   ],
   "source": [
    "# pop\n",
    "profile.pop('email')"
   ]
  },
  {
   "cell_type": "code",
   "execution_count": 216,
   "id": "9de665bf",
   "metadata": {
    "ExecuteTime": {
     "end_time": "2023-09-05T19:52:37.239924Z",
     "start_time": "2023-09-05T19:52:37.227495Z"
    }
   },
   "outputs": [
    {
     "data": {
      "text/plain": [
       "{'first_name': 'Pablo', 'last_name': 'Okwukogu'}"
      ]
     },
     "execution_count": 216,
     "metadata": {},
     "output_type": "execute_result"
    }
   ],
   "source": [
    "profile"
   ]
  },
  {
   "cell_type": "code",
   "execution_count": 217,
   "id": "a3f81085",
   "metadata": {
    "ExecuteTime": {
     "end_time": "2023-09-05T19:52:37.468257Z",
     "start_time": "2023-09-05T19:52:37.463085Z"
    }
   },
   "outputs": [
    {
     "data": {
      "text/plain": [
       "'Not a key'"
      ]
     },
     "execution_count": 217,
     "metadata": {},
     "output_type": "execute_result"
    }
   ],
   "source": [
    "profile.pop('location', 'Not a key')"
   ]
  },
  {
   "cell_type": "code",
   "execution_count": 218,
   "id": "4bb3b994",
   "metadata": {
    "ExecuteTime": {
     "end_time": "2023-09-05T19:52:37.689864Z",
     "start_time": "2023-09-05T19:52:37.683294Z"
    }
   },
   "outputs": [
    {
     "data": {
      "text/plain": [
       "{'first_name': 'Pablo', 'last_name': 'Okwukogu'}"
      ]
     },
     "execution_count": 218,
     "metadata": {},
     "output_type": "execute_result"
    }
   ],
   "source": [
    "# popitem()\n",
    "profile"
   ]
  },
  {
   "cell_type": "code",
   "execution_count": 219,
   "id": "285c2682",
   "metadata": {
    "ExecuteTime": {
     "end_time": "2023-09-05T19:52:37.928448Z",
     "start_time": "2023-09-05T19:52:37.922285Z"
    }
   },
   "outputs": [
    {
     "data": {
      "text/plain": [
       "('last_name', 'Okwukogu')"
      ]
     },
     "execution_count": 219,
     "metadata": {},
     "output_type": "execute_result"
    }
   ],
   "source": [
    "profile.popitem()"
   ]
  },
  {
   "cell_type": "code",
   "execution_count": 220,
   "id": "26cd7e6e",
   "metadata": {
    "ExecuteTime": {
     "end_time": "2023-09-05T19:52:38.165942Z",
     "start_time": "2023-09-05T19:52:38.155429Z"
    }
   },
   "outputs": [
    {
     "data": {
      "text/plain": [
       "{'first_name': 'Pablo'}"
      ]
     },
     "execution_count": 220,
     "metadata": {},
     "output_type": "execute_result"
    }
   ],
   "source": [
    "profile"
   ]
  },
  {
   "cell_type": "code",
   "execution_count": 221,
   "id": "59429d2f",
   "metadata": {
    "ExecuteTime": {
     "end_time": "2023-09-05T19:52:38.415090Z",
     "start_time": "2023-09-05T19:52:38.411222Z"
    }
   },
   "outputs": [],
   "source": [
    "# update\n",
    "profile.update([('last_name', 'Okwukogu')])"
   ]
  },
  {
   "cell_type": "code",
   "execution_count": 222,
   "id": "3cf18560",
   "metadata": {
    "ExecuteTime": {
     "end_time": "2023-09-05T19:52:38.615552Z",
     "start_time": "2023-09-05T19:52:38.608596Z"
    }
   },
   "outputs": [
    {
     "data": {
      "text/plain": [
       "{'first_name': 'Pablo', 'last_name': 'Okwukogu'}"
      ]
     },
     "execution_count": 222,
     "metadata": {},
     "output_type": "execute_result"
    }
   ],
   "source": [
    "profile"
   ]
  },
  {
   "cell_type": "code",
   "execution_count": 223,
   "id": "20fe299f",
   "metadata": {
    "ExecuteTime": {
     "end_time": "2023-09-05T19:52:38.850864Z",
     "start_time": "2023-09-05T19:52:38.846154Z"
    }
   },
   "outputs": [],
   "source": [
    "profile.update([('email', 'ipablo@gmail.com')])"
   ]
  },
  {
   "cell_type": "code",
   "execution_count": 224,
   "id": "1897ca34",
   "metadata": {
    "ExecuteTime": {
     "end_time": "2023-09-05T19:52:39.071412Z",
     "start_time": "2023-09-05T19:52:39.066848Z"
    }
   },
   "outputs": [
    {
     "data": {
      "text/plain": [
       "{'first_name': 'Pablo', 'last_name': 'Okwukogu', 'email': 'ipablo@gmail.com'}"
      ]
     },
     "execution_count": 224,
     "metadata": {},
     "output_type": "execute_result"
    }
   ],
   "source": [
    "profile"
   ]
  },
  {
   "cell_type": "code",
   "execution_count": 225,
   "id": "3620d16a",
   "metadata": {
    "ExecuteTime": {
     "end_time": "2023-09-05T19:52:39.324716Z",
     "start_time": "2023-09-05T19:52:39.320385Z"
    }
   },
   "outputs": [],
   "source": [
    "profile.update([('email', 'ipablo.ml26@gmail.com')])"
   ]
  },
  {
   "cell_type": "code",
   "execution_count": 226,
   "id": "3ca180be",
   "metadata": {
    "ExecuteTime": {
     "end_time": "2023-09-05T19:52:39.567992Z",
     "start_time": "2023-09-05T19:52:39.562271Z"
    }
   },
   "outputs": [
    {
     "data": {
      "text/plain": [
       "{'first_name': 'Pablo',\n",
       " 'last_name': 'Okwukogu',\n",
       " 'email': 'ipablo.ml26@gmail.com'}"
      ]
     },
     "execution_count": 226,
     "metadata": {},
     "output_type": "execute_result"
    }
   ],
   "source": [
    "profile"
   ]
  },
  {
   "cell_type": "code",
   "execution_count": 227,
   "id": "81bdd3c9",
   "metadata": {
    "ExecuteTime": {
     "end_time": "2023-09-05T19:52:39.817675Z",
     "start_time": "2023-09-05T19:52:39.812735Z"
    }
   },
   "outputs": [],
   "source": [
    "# Modify your dictionary \n",
    "profile['location'] = 'Bahamas'"
   ]
  },
  {
   "cell_type": "code",
   "execution_count": 228,
   "id": "da4fa2ad",
   "metadata": {
    "ExecuteTime": {
     "end_time": "2023-09-05T19:52:40.059326Z",
     "start_time": "2023-09-05T19:52:40.053117Z"
    }
   },
   "outputs": [
    {
     "data": {
      "text/plain": [
       "{'first_name': 'Pablo',\n",
       " 'last_name': 'Okwukogu',\n",
       " 'email': 'ipablo.ml26@gmail.com',\n",
       " 'location': 'Bahamas'}"
      ]
     },
     "execution_count": 228,
     "metadata": {},
     "output_type": "execute_result"
    }
   ],
   "source": [
    "profile"
   ]
  },
  {
   "cell_type": "code",
   "execution_count": 229,
   "id": "3e87d6ea",
   "metadata": {
    "ExecuteTime": {
     "end_time": "2023-09-05T19:52:40.306207Z",
     "start_time": "2023-09-05T19:52:40.299604Z"
    }
   },
   "outputs": [],
   "source": [
    "# delete item from a dict\n",
    "del profile['email']"
   ]
  },
  {
   "cell_type": "code",
   "execution_count": 230,
   "id": "d5a36d57",
   "metadata": {
    "ExecuteTime": {
     "end_time": "2023-09-05T19:52:40.536394Z",
     "start_time": "2023-09-05T19:52:40.527529Z"
    }
   },
   "outputs": [
    {
     "data": {
      "text/plain": [
       "{'first_name': 'Pablo', 'last_name': 'Okwukogu', 'location': 'Bahamas'}"
      ]
     },
     "execution_count": 230,
     "metadata": {},
     "output_type": "execute_result"
    }
   ],
   "source": [
    "profile"
   ]
  },
  {
   "cell_type": "markdown",
   "id": "4ed282a0",
   "metadata": {},
   "source": [
    "## Python Sets"
   ]
  },
  {
   "cell_type": "code",
   "execution_count": 231,
   "id": "f025b6b1",
   "metadata": {
    "ExecuteTime": {
     "end_time": "2023-09-05T19:52:41.012906Z",
     "start_time": "2023-09-05T19:52:41.009374Z"
    }
   },
   "outputs": [],
   "source": [
    "# Sets are unordered collection of objects\n",
    "# Use sets to remove duplicates \n",
    "# Membership testing \n",
    "# Another to perform mathematical operations: Union, differences"
   ]
  },
  {
   "cell_type": "code",
   "execution_count": 232,
   "id": "634dd080",
   "metadata": {
    "ExecuteTime": {
     "end_time": "2023-09-05T19:52:41.250921Z",
     "start_time": "2023-09-05T19:52:41.244343Z"
    }
   },
   "outputs": [],
   "source": [
    "# Sets don't support indexing\n",
    "# Sets don't support slicing \n",
    "# Sets are mutable "
   ]
  },
  {
   "cell_type": "code",
   "execution_count": 233,
   "id": "d7a0cf13",
   "metadata": {
    "ExecuteTime": {
     "end_time": "2023-09-05T19:52:41.487621Z",
     "start_time": "2023-09-05T19:52:41.483335Z"
    }
   },
   "outputs": [],
   "source": [
    "# Create a set\n",
    "names_sets = {\"Pablo\", \"Kabir\", \"Mudia\", \"Pablo\", \"Tomi\", \"Kabir\"}"
   ]
  },
  {
   "cell_type": "code",
   "execution_count": 234,
   "id": "051b5447",
   "metadata": {
    "ExecuteTime": {
     "end_time": "2023-09-05T19:52:41.726790Z",
     "start_time": "2023-09-05T19:52:41.716776Z"
    }
   },
   "outputs": [
    {
     "data": {
      "text/plain": [
       "set"
      ]
     },
     "execution_count": 234,
     "metadata": {},
     "output_type": "execute_result"
    }
   ],
   "source": [
    "type(names_sets)"
   ]
  },
  {
   "cell_type": "code",
   "execution_count": 235,
   "id": "ee03cc14",
   "metadata": {
    "ExecuteTime": {
     "end_time": "2023-09-05T19:52:41.947298Z",
     "start_time": "2023-09-05T19:52:41.943208Z"
    }
   },
   "outputs": [
    {
     "name": "stdout",
     "output_type": "stream",
     "text": [
      "{'Mudia', 'Tomi', 'Pablo', 'Kabir'}\n"
     ]
    }
   ],
   "source": [
    "print(names_sets)"
   ]
  },
  {
   "cell_type": "code",
   "execution_count": 236,
   "id": "9aafd4d7",
   "metadata": {
    "ExecuteTime": {
     "end_time": "2023-09-05T19:52:42.170967Z",
     "start_time": "2023-09-05T19:52:42.166482Z"
    }
   },
   "outputs": [
    {
     "data": {
      "text/plain": [
       "{'Kabir', 'Mudia', 'Pablo', 'Tomi'}"
      ]
     },
     "execution_count": 236,
     "metadata": {},
     "output_type": "execute_result"
    }
   ],
   "source": [
    "names_sets"
   ]
  },
  {
   "cell_type": "code",
   "execution_count": 237,
   "id": "46bc54a3",
   "metadata": {
    "ExecuteTime": {
     "end_time": "2023-09-05T19:52:42.423325Z",
     "start_time": "2023-09-05T19:52:42.417091Z"
    }
   },
   "outputs": [
    {
     "data": {
      "text/plain": [
       "list"
      ]
     },
     "execution_count": 237,
     "metadata": {},
     "output_type": "execute_result"
    }
   ],
   "source": [
    "type(list_numbers)"
   ]
  },
  {
   "cell_type": "code",
   "execution_count": 238,
   "id": "efcf5aa0",
   "metadata": {
    "ExecuteTime": {
     "end_time": "2023-09-05T19:52:42.661347Z",
     "start_time": "2023-09-05T19:52:42.658035Z"
    }
   },
   "outputs": [],
   "source": [
    "# Use the set function \n",
    "list_numbers_set = set(list_numbers)"
   ]
  },
  {
   "cell_type": "code",
   "execution_count": 239,
   "id": "1d5e6770",
   "metadata": {
    "ExecuteTime": {
     "end_time": "2023-09-05T19:52:42.903289Z",
     "start_time": "2023-09-05T19:52:42.898860Z"
    }
   },
   "outputs": [
    {
     "data": {
      "text/plain": [
       "set"
      ]
     },
     "execution_count": 239,
     "metadata": {},
     "output_type": "execute_result"
    }
   ],
   "source": [
    "type(list_numbers_set)"
   ]
  },
  {
   "cell_type": "code",
   "execution_count": 240,
   "id": "ec8d89d0",
   "metadata": {
    "ExecuteTime": {
     "end_time": "2023-09-05T19:52:43.171947Z",
     "start_time": "2023-09-05T19:52:43.163287Z"
    }
   },
   "outputs": [
    {
     "data": {
      "text/plain": [
       "{1, 2, 3, 4, 5, 6, 7}"
      ]
     },
     "execution_count": 240,
     "metadata": {},
     "output_type": "execute_result"
    }
   ],
   "source": [
    "list_numbers_set"
   ]
  },
  {
   "cell_type": "markdown",
   "id": "3e1dfcc9",
   "metadata": {},
   "source": [
    "## Acessing items in a Set"
   ]
  },
  {
   "cell_type": "code",
   "execution_count": 241,
   "id": "1b09903f",
   "metadata": {
    "ExecuteTime": {
     "end_time": "2023-09-05T19:52:43.603284Z",
     "start_time": "2023-09-05T19:52:43.597003Z"
    }
   },
   "outputs": [
    {
     "data": {
      "text/plain": [
       "{'Kabir', 'Mudia', 'Pablo', 'Tomi'}"
      ]
     },
     "execution_count": 241,
     "metadata": {},
     "output_type": "execute_result"
    }
   ],
   "source": [
    "names_sets"
   ]
  },
  {
   "cell_type": "code",
   "execution_count": 242,
   "id": "eee001ba",
   "metadata": {
    "ExecuteTime": {
     "end_time": "2023-09-05T19:52:43.868262Z",
     "start_time": "2023-09-05T19:52:43.856822Z"
    }
   },
   "outputs": [
    {
     "data": {
      "text/plain": [
       "{1, 2, 3, 4, 5, 6, 7}"
      ]
     },
     "execution_count": 242,
     "metadata": {},
     "output_type": "execute_result"
    }
   ],
   "source": [
    "list_numbers_set"
   ]
  },
  {
   "cell_type": "code",
   "execution_count": 243,
   "id": "af242a08",
   "metadata": {
    "ExecuteTime": {
     "end_time": "2023-09-05T19:52:44.091678Z",
     "start_time": "2023-09-05T19:52:44.087462Z"
    }
   },
   "outputs": [],
   "source": [
    "# Sets don't allow for slicing\n",
    "# Sets allow for iterartions "
   ]
  },
  {
   "cell_type": "code",
   "execution_count": 244,
   "id": "6373834e",
   "metadata": {
    "ExecuteTime": {
     "end_time": "2023-09-05T19:52:44.343740Z",
     "start_time": "2023-09-05T19:52:44.338818Z"
    }
   },
   "outputs": [
    {
     "name": "stdout",
     "output_type": "stream",
     "text": [
      "Mudia\n",
      "Tomi\n",
      "Pablo\n",
      "Kabir\n"
     ]
    }
   ],
   "source": [
    "for names in names_sets:\n",
    "    print(names)"
   ]
  },
  {
   "cell_type": "markdown",
   "id": "6c4ce3fa",
   "metadata": {},
   "source": [
    "## Modify/Change/Add items to a Set"
   ]
  },
  {
   "cell_type": "code",
   "execution_count": 245,
   "id": "ef5bae5c",
   "metadata": {
    "ExecuteTime": {
     "end_time": "2023-09-05T19:52:44.822625Z",
     "start_time": "2023-09-05T19:52:44.816496Z"
    }
   },
   "outputs": [
    {
     "data": {
      "text/plain": [
       "['__and__',\n",
       " '__class__',\n",
       " '__class_getitem__',\n",
       " '__contains__',\n",
       " '__delattr__',\n",
       " '__dir__',\n",
       " '__doc__',\n",
       " '__eq__',\n",
       " '__format__',\n",
       " '__ge__',\n",
       " '__getattribute__',\n",
       " '__gt__',\n",
       " '__hash__',\n",
       " '__iand__',\n",
       " '__init__',\n",
       " '__init_subclass__',\n",
       " '__ior__',\n",
       " '__isub__',\n",
       " '__iter__',\n",
       " '__ixor__',\n",
       " '__le__',\n",
       " '__len__',\n",
       " '__lt__',\n",
       " '__ne__',\n",
       " '__new__',\n",
       " '__or__',\n",
       " '__rand__',\n",
       " '__reduce__',\n",
       " '__reduce_ex__',\n",
       " '__repr__',\n",
       " '__ror__',\n",
       " '__rsub__',\n",
       " '__rxor__',\n",
       " '__setattr__',\n",
       " '__sizeof__',\n",
       " '__str__',\n",
       " '__sub__',\n",
       " '__subclasshook__',\n",
       " '__xor__',\n",
       " 'add',\n",
       " 'clear',\n",
       " 'copy',\n",
       " 'difference',\n",
       " 'difference_update',\n",
       " 'discard',\n",
       " 'intersection',\n",
       " 'intersection_update',\n",
       " 'isdisjoint',\n",
       " 'issubset',\n",
       " 'issuperset',\n",
       " 'pop',\n",
       " 'remove',\n",
       " 'symmetric_difference',\n",
       " 'symmetric_difference_update',\n",
       " 'union',\n",
       " 'update']"
      ]
     },
     "execution_count": 245,
     "metadata": {},
     "output_type": "execute_result"
    }
   ],
   "source": [
    "dir(names_sets)"
   ]
  },
  {
   "cell_type": "code",
   "execution_count": 246,
   "id": "91b36164",
   "metadata": {
    "ExecuteTime": {
     "end_time": "2023-09-05T19:52:45.049569Z",
     "start_time": "2023-09-05T19:52:45.045007Z"
    }
   },
   "outputs": [],
   "source": [
    "#'add' & 'update'"
   ]
  },
  {
   "cell_type": "code",
   "execution_count": 247,
   "id": "39143180",
   "metadata": {
    "ExecuteTime": {
     "end_time": "2023-09-05T19:52:45.418706Z",
     "start_time": "2023-09-05T19:52:45.275630Z"
    }
   },
   "outputs": [
    {
     "data": {
      "text/plain": [
       "{'Kabir', 'Mudia', 'Pablo', 'Tobi', 'Tomi'}"
      ]
     },
     "execution_count": 247,
     "metadata": {},
     "output_type": "execute_result"
    }
   ],
   "source": [
    "names_sets.add('Tobi') # adding an item to the set \n",
    "names_sets"
   ]
  },
  {
   "cell_type": "code",
   "execution_count": 248,
   "id": "8cbdecca",
   "metadata": {
    "ExecuteTime": {
     "end_time": "2023-09-05T19:52:45.530984Z",
     "start_time": "2023-09-05T19:52:45.512740Z"
    }
   },
   "outputs": [
    {
     "ename": "TypeError",
     "evalue": "set.add() takes exactly one argument (2 given)",
     "output_type": "error",
     "traceback": [
      "\u001b[0;31m---------------------------------------------------------------------------\u001b[0m",
      "\u001b[0;31mTypeError\u001b[0m                                 Traceback (most recent call last)",
      "Cell \u001b[0;32mIn[248], line 1\u001b[0m\n\u001b[0;32m----> 1\u001b[0m \u001b[43mnames_sets\u001b[49m\u001b[38;5;241;43m.\u001b[39;49m\u001b[43madd\u001b[49m\u001b[43m(\u001b[49m\u001b[38;5;124;43m'\u001b[39;49m\u001b[38;5;124;43mTony\u001b[39;49m\u001b[38;5;124;43m'\u001b[39;49m\u001b[43m,\u001b[49m\u001b[43m \u001b[49m\u001b[38;5;124;43m'\u001b[39;49m\u001b[38;5;124;43mGideon\u001b[39;49m\u001b[38;5;124;43m'\u001b[39;49m\u001b[43m)\u001b[49m\n",
      "\u001b[0;31mTypeError\u001b[0m: set.add() takes exactly one argument (2 given)"
     ]
    }
   ],
   "source": [
    "names_sets.add('Tony', 'Gideon') # the add method doesn't work for multiple items"
   ]
  },
  {
   "cell_type": "code",
   "execution_count": 249,
   "id": "56179284",
   "metadata": {
    "ExecuteTime": {
     "end_time": "2023-09-05T19:52:45.752330Z",
     "start_time": "2023-09-05T19:52:45.748473Z"
    }
   },
   "outputs": [],
   "source": [
    "names_sets.update(['Tony', 'Gideon']) # the update method works for multiple items"
   ]
  },
  {
   "cell_type": "code",
   "execution_count": 250,
   "id": "bbf7a770",
   "metadata": {
    "ExecuteTime": {
     "end_time": "2023-09-05T19:52:46.008078Z",
     "start_time": "2023-09-05T19:52:45.992394Z"
    }
   },
   "outputs": [
    {
     "data": {
      "text/plain": [
       "{'Gideon', 'Kabir', 'Mudia', 'Pablo', 'Tobi', 'Tomi', 'Tony'}"
      ]
     },
     "execution_count": 250,
     "metadata": {},
     "output_type": "execute_result"
    }
   ],
   "source": [
    "names_sets"
   ]
  },
  {
   "cell_type": "code",
   "execution_count": 251,
   "id": "38f1b3a0",
   "metadata": {
    "ExecuteTime": {
     "end_time": "2023-09-05T19:52:46.231915Z",
     "start_time": "2023-09-05T19:52:46.226365Z"
    }
   },
   "outputs": [],
   "source": [
    "names_sets = {'Kabir', 'Mudia', 'Pablo', 'Tobi', 'Tomi'}"
   ]
  },
  {
   "cell_type": "code",
   "execution_count": 252,
   "id": "fb268751",
   "metadata": {
    "ExecuteTime": {
     "end_time": "2023-09-05T19:52:46.483898Z",
     "start_time": "2023-09-05T19:52:46.478860Z"
    }
   },
   "outputs": [
    {
     "data": {
      "text/plain": [
       "{'Kabir', 'Mudia', 'Pablo', 'Tobi', 'Tomi'}"
      ]
     },
     "execution_count": 252,
     "metadata": {},
     "output_type": "execute_result"
    }
   ],
   "source": [
    "names_sets"
   ]
  },
  {
   "cell_type": "code",
   "execution_count": 253,
   "id": "e5bb068e",
   "metadata": {
    "ExecuteTime": {
     "end_time": "2023-09-05T19:52:46.739202Z",
     "start_time": "2023-09-05T19:52:46.735376Z"
    }
   },
   "outputs": [],
   "source": [
    "names_sets.update(['Tony', 'Gideon']) # the update method works for multiple items"
   ]
  },
  {
   "cell_type": "code",
   "execution_count": 254,
   "id": "9be2ba4b",
   "metadata": {
    "ExecuteTime": {
     "end_time": "2023-09-05T19:52:46.962596Z",
     "start_time": "2023-09-05T19:52:46.957733Z"
    }
   },
   "outputs": [
    {
     "data": {
      "text/plain": [
       "{'Gideon', 'Kabir', 'Mudia', 'Pablo', 'Tobi', 'Tomi', 'Tony'}"
      ]
     },
     "execution_count": 254,
     "metadata": {},
     "output_type": "execute_result"
    }
   ],
   "source": [
    "names_sets"
   ]
  },
  {
   "cell_type": "markdown",
   "id": "eda759e0",
   "metadata": {},
   "source": [
    "## remove(), discard() & pop(), clear() & del"
   ]
  },
  {
   "cell_type": "code",
   "execution_count": 255,
   "id": "8c25e8ea",
   "metadata": {
    "ExecuteTime": {
     "end_time": "2023-09-05T19:52:47.449731Z",
     "start_time": "2023-09-05T19:52:47.443607Z"
    }
   },
   "outputs": [
    {
     "data": {
      "text/plain": [
       "{'Gideon', 'Kabir', 'Mudia', 'Pablo', 'Tobi', 'Tomi', 'Tony'}"
      ]
     },
     "execution_count": 255,
     "metadata": {},
     "output_type": "execute_result"
    }
   ],
   "source": [
    "names_sets"
   ]
  },
  {
   "cell_type": "code",
   "execution_count": 256,
   "id": "ad35bb56",
   "metadata": {
    "ExecuteTime": {
     "end_time": "2023-09-05T19:52:47.704026Z",
     "start_time": "2023-09-05T19:52:47.698584Z"
    }
   },
   "outputs": [
    {
     "data": {
      "text/plain": [
       "{'Kabir', 'Mudia', 'Pablo', 'Tobi', 'Tomi', 'Tony'}"
      ]
     },
     "execution_count": 256,
     "metadata": {},
     "output_type": "execute_result"
    }
   ],
   "source": [
    "names_sets.remove('Gideon') # removes an element \n",
    "names_sets"
   ]
  },
  {
   "cell_type": "code",
   "execution_count": 257,
   "id": "e711a548",
   "metadata": {
    "ExecuteTime": {
     "end_time": "2023-09-05T19:52:47.952463Z",
     "start_time": "2023-09-05T19:52:47.930640Z"
    }
   },
   "outputs": [
    {
     "ename": "KeyError",
     "evalue": "'Gideon'",
     "output_type": "error",
     "traceback": [
      "\u001b[0;31m---------------------------------------------------------------------------\u001b[0m",
      "\u001b[0;31mKeyError\u001b[0m                                  Traceback (most recent call last)",
      "Cell \u001b[0;32mIn[257], line 1\u001b[0m\n\u001b[0;32m----> 1\u001b[0m \u001b[43mnames_sets\u001b[49m\u001b[38;5;241;43m.\u001b[39;49m\u001b[43mremove\u001b[49m\u001b[43m(\u001b[49m\u001b[38;5;124;43m'\u001b[39;49m\u001b[38;5;124;43mGideon\u001b[39;49m\u001b[38;5;124;43m'\u001b[39;49m\u001b[43m)\u001b[49m\n",
      "\u001b[0;31mKeyError\u001b[0m: 'Gideon'"
     ]
    }
   ],
   "source": [
    "names_sets.remove('Gideon')"
   ]
  },
  {
   "cell_type": "code",
   "execution_count": 258,
   "id": "7a8ff87b",
   "metadata": {
    "ExecuteTime": {
     "end_time": "2023-09-05T19:52:48.166416Z",
     "start_time": "2023-09-05T19:52:48.159811Z"
    }
   },
   "outputs": [],
   "source": [
    "names_sets.discard('Gideon') # attempts to remove an element without errors"
   ]
  },
  {
   "cell_type": "code",
   "execution_count": 259,
   "id": "b24d9803",
   "metadata": {
    "ExecuteTime": {
     "end_time": "2023-09-05T19:52:48.389326Z",
     "start_time": "2023-09-05T19:52:48.386081Z"
    }
   },
   "outputs": [],
   "source": [
    "names_sets.discard('Kabir')"
   ]
  },
  {
   "cell_type": "code",
   "execution_count": 260,
   "id": "16d2e00b",
   "metadata": {
    "ExecuteTime": {
     "end_time": "2023-09-05T19:52:48.625328Z",
     "start_time": "2023-09-05T19:52:48.617118Z"
    }
   },
   "outputs": [
    {
     "data": {
      "text/plain": [
       "{'Mudia', 'Pablo', 'Tobi', 'Tomi', 'Tony'}"
      ]
     },
     "execution_count": 260,
     "metadata": {},
     "output_type": "execute_result"
    }
   ],
   "source": [
    "names_sets"
   ]
  },
  {
   "cell_type": "code",
   "execution_count": 261,
   "id": "a07e8dbd",
   "metadata": {
    "ExecuteTime": {
     "end_time": "2023-09-05T19:52:48.868924Z",
     "start_time": "2023-09-05T19:52:48.863140Z"
    }
   },
   "outputs": [
    {
     "data": {
      "text/plain": [
       "'Tony'"
      ]
     },
     "execution_count": 261,
     "metadata": {},
     "output_type": "execute_result"
    }
   ],
   "source": [
    "names_sets.pop() # pop reemoves an arbitrary element "
   ]
  },
  {
   "cell_type": "code",
   "execution_count": 262,
   "id": "716cd8a7",
   "metadata": {
    "ExecuteTime": {
     "end_time": "2023-09-05T19:52:49.102901Z",
     "start_time": "2023-09-05T19:52:49.096662Z"
    }
   },
   "outputs": [
    {
     "data": {
      "text/plain": [
       "{'Mudia', 'Pablo', 'Tobi', 'Tomi'}"
      ]
     },
     "execution_count": 262,
     "metadata": {},
     "output_type": "execute_result"
    }
   ],
   "source": [
    "names_sets"
   ]
  },
  {
   "cell_type": "code",
   "execution_count": 263,
   "id": "d2cc16b6",
   "metadata": {
    "ExecuteTime": {
     "end_time": "2023-09-05T19:52:49.342038Z",
     "start_time": "2023-09-05T19:52:49.338803Z"
    }
   },
   "outputs": [],
   "source": [
    "names_sets.clear() # empties the set"
   ]
  },
  {
   "cell_type": "code",
   "execution_count": 264,
   "id": "451f2ff4",
   "metadata": {
    "ExecuteTime": {
     "end_time": "2023-09-05T19:52:49.587247Z",
     "start_time": "2023-09-05T19:52:49.574648Z"
    }
   },
   "outputs": [
    {
     "data": {
      "text/plain": [
       "set()"
      ]
     },
     "execution_count": 264,
     "metadata": {},
     "output_type": "execute_result"
    }
   ],
   "source": [
    "names_sets"
   ]
  },
  {
   "cell_type": "code",
   "execution_count": 265,
   "id": "81729b88",
   "metadata": {
    "ExecuteTime": {
     "end_time": "2023-09-05T19:52:49.835228Z",
     "start_time": "2023-09-05T19:52:49.831562Z"
    }
   },
   "outputs": [],
   "source": [
    "del names_sets"
   ]
  },
  {
   "cell_type": "code",
   "execution_count": 266,
   "id": "6d553fa3",
   "metadata": {
    "ExecuteTime": {
     "end_time": "2023-09-05T19:52:50.092144Z",
     "start_time": "2023-09-05T19:52:50.068560Z"
    }
   },
   "outputs": [
    {
     "ename": "NameError",
     "evalue": "name 'names_sets' is not defined",
     "output_type": "error",
     "traceback": [
      "\u001b[0;31m---------------------------------------------------------------------------\u001b[0m",
      "\u001b[0;31mNameError\u001b[0m                                 Traceback (most recent call last)",
      "Cell \u001b[0;32mIn[266], line 1\u001b[0m\n\u001b[0;32m----> 1\u001b[0m \u001b[43mnames_sets\u001b[49m\n",
      "\u001b[0;31mNameError\u001b[0m: name 'names_sets' is not defined"
     ]
    }
   ],
   "source": [
    "names_sets "
   ]
  },
  {
   "cell_type": "markdown",
   "id": "0868aaa5",
   "metadata": {},
   "source": [
    "## Set Operations: union(), intersection(), difference()"
   ]
  },
  {
   "cell_type": "code",
   "execution_count": 267,
   "id": "4beff348",
   "metadata": {
    "ExecuteTime": {
     "end_time": "2023-09-05T19:52:50.552512Z",
     "start_time": "2023-09-05T19:52:50.543278Z"
    }
   },
   "outputs": [],
   "source": [
    "name_persons = {'Pablo', 'Salisu', 'Joy', 'Tomi', 41, 26}\n",
    "age_persons = {41, 26, 23, 37, 'Salisu', 'Tomi'}"
   ]
  },
  {
   "cell_type": "code",
   "execution_count": 268,
   "id": "955cbc3c",
   "metadata": {
    "ExecuteTime": {
     "end_time": "2023-09-05T19:52:50.769602Z",
     "start_time": "2023-09-05T19:52:50.762972Z"
    }
   },
   "outputs": [
    {
     "data": {
      "text/plain": [
       "{26, 41, 'Joy', 'Pablo', 'Salisu', 'Tomi'}"
      ]
     },
     "execution_count": 268,
     "metadata": {},
     "output_type": "execute_result"
    }
   ],
   "source": [
    "name_persons"
   ]
  },
  {
   "cell_type": "code",
   "execution_count": 269,
   "id": "63fe5b40",
   "metadata": {
    "ExecuteTime": {
     "end_time": "2023-09-05T19:52:51.008573Z",
     "start_time": "2023-09-05T19:52:51.003664Z"
    }
   },
   "outputs": [
    {
     "data": {
      "text/plain": [
       "{23, 26, 37, 41, 'Joy', 'Pablo', 'Salisu', 'Tomi'}"
      ]
     },
     "execution_count": 269,
     "metadata": {},
     "output_type": "execute_result"
    }
   ],
   "source": [
    "# Use the union operator/method\n",
    "name_persons.union(age_persons)"
   ]
  },
  {
   "cell_type": "code",
   "execution_count": 270,
   "id": "1d0d0ddd",
   "metadata": {
    "ExecuteTime": {
     "end_time": "2023-09-05T19:52:51.290657Z",
     "start_time": "2023-09-05T19:52:51.282338Z"
    }
   },
   "outputs": [
    {
     "data": {
      "text/plain": [
       "{26, 41, 'Joy', 'Pablo', 'Salisu', 'Tomi'}"
      ]
     },
     "execution_count": 270,
     "metadata": {},
     "output_type": "execute_result"
    }
   ],
   "source": [
    "name_persons"
   ]
  },
  {
   "cell_type": "code",
   "execution_count": 271,
   "id": "4d16edbc",
   "metadata": {
    "ExecuteTime": {
     "end_time": "2023-09-05T19:52:51.600137Z",
     "start_time": "2023-09-05T19:52:51.596031Z"
    }
   },
   "outputs": [],
   "source": [
    "new_set = name_persons.union(age_persons)"
   ]
  },
  {
   "cell_type": "code",
   "execution_count": 272,
   "id": "28109298",
   "metadata": {
    "ExecuteTime": {
     "end_time": "2023-09-05T19:52:51.879353Z",
     "start_time": "2023-09-05T19:52:51.873232Z"
    }
   },
   "outputs": [
    {
     "data": {
      "text/plain": [
       "{23, 26, 37, 41, 'Joy', 'Pablo', 'Salisu', 'Tomi'}"
      ]
     },
     "execution_count": 272,
     "metadata": {},
     "output_type": "execute_result"
    }
   ],
   "source": [
    "new_set"
   ]
  },
  {
   "cell_type": "code",
   "execution_count": 273,
   "id": "572ec68c",
   "metadata": {
    "ExecuteTime": {
     "end_time": "2023-09-05T19:52:52.093932Z",
     "start_time": "2023-09-05T19:52:52.087161Z"
    }
   },
   "outputs": [],
   "source": [
    "# Use intersection "
   ]
  },
  {
   "cell_type": "code",
   "execution_count": 274,
   "id": "48ce3f66",
   "metadata": {
    "ExecuteTime": {
     "end_time": "2023-09-05T19:52:52.314469Z",
     "start_time": "2023-09-05T19:52:52.309285Z"
    }
   },
   "outputs": [
    {
     "data": {
      "text/plain": [
       "{26, 41, 'Joy', 'Pablo', 'Salisu', 'Tomi'}"
      ]
     },
     "execution_count": 274,
     "metadata": {},
     "output_type": "execute_result"
    }
   ],
   "source": [
    "name_persons"
   ]
  },
  {
   "cell_type": "code",
   "execution_count": 275,
   "id": "34aa0afe",
   "metadata": {
    "ExecuteTime": {
     "end_time": "2023-09-05T19:52:52.564256Z",
     "start_time": "2023-09-05T19:52:52.549221Z"
    }
   },
   "outputs": [
    {
     "data": {
      "text/plain": [
       "{23, 26, 37, 41, 'Salisu', 'Tomi'}"
      ]
     },
     "execution_count": 275,
     "metadata": {},
     "output_type": "execute_result"
    }
   ],
   "source": [
    "age_persons"
   ]
  },
  {
   "cell_type": "code",
   "execution_count": 276,
   "id": "416b8240",
   "metadata": {
    "ExecuteTime": {
     "end_time": "2023-09-05T19:52:52.750602Z",
     "start_time": "2023-09-05T19:52:52.741666Z"
    }
   },
   "outputs": [],
   "source": [
    "new_intersect = name_persons.intersection(age_persons)"
   ]
  },
  {
   "cell_type": "code",
   "execution_count": 277,
   "id": "a3aee12c",
   "metadata": {
    "ExecuteTime": {
     "end_time": "2023-09-05T19:52:52.974761Z",
     "start_time": "2023-09-05T19:52:52.967582Z"
    }
   },
   "outputs": [
    {
     "data": {
      "text/plain": [
       "{26, 41, 'Salisu', 'Tomi'}"
      ]
     },
     "execution_count": 277,
     "metadata": {},
     "output_type": "execute_result"
    }
   ],
   "source": [
    "new_intersect"
   ]
  },
  {
   "cell_type": "code",
   "execution_count": 278,
   "id": "dd85f841",
   "metadata": {
    "ExecuteTime": {
     "end_time": "2023-09-05T19:52:53.217741Z",
     "start_time": "2023-09-05T19:52:53.211122Z"
    }
   },
   "outputs": [],
   "source": [
    "# use difference"
   ]
  },
  {
   "cell_type": "code",
   "execution_count": 279,
   "id": "7a541671",
   "metadata": {
    "ExecuteTime": {
     "end_time": "2023-09-05T19:52:53.430264Z",
     "start_time": "2023-09-05T19:52:53.399931Z"
    }
   },
   "outputs": [
    {
     "data": {
      "text/plain": [
       "{26, 41, 'Joy', 'Pablo', 'Salisu', 'Tomi'}"
      ]
     },
     "execution_count": 279,
     "metadata": {},
     "output_type": "execute_result"
    }
   ],
   "source": [
    "name_persons"
   ]
  },
  {
   "cell_type": "code",
   "execution_count": 280,
   "id": "f3473d78",
   "metadata": {
    "ExecuteTime": {
     "end_time": "2023-09-05T19:52:53.718048Z",
     "start_time": "2023-09-05T19:52:53.712593Z"
    }
   },
   "outputs": [
    {
     "data": {
      "text/plain": [
       "{23, 26, 37, 41, 'Salisu', 'Tomi'}"
      ]
     },
     "execution_count": 280,
     "metadata": {},
     "output_type": "execute_result"
    }
   ],
   "source": [
    "age_persons"
   ]
  },
  {
   "cell_type": "code",
   "execution_count": 281,
   "id": "c1834900",
   "metadata": {
    "ExecuteTime": {
     "end_time": "2023-09-05T19:52:53.873314Z",
     "start_time": "2023-09-05T19:52:53.867234Z"
    }
   },
   "outputs": [],
   "source": [
    "new_diff = name_persons.difference(age_persons)"
   ]
  },
  {
   "cell_type": "code",
   "execution_count": 282,
   "id": "4b79b05e",
   "metadata": {
    "ExecuteTime": {
     "end_time": "2023-09-05T19:52:54.076367Z",
     "start_time": "2023-09-05T19:52:54.071196Z"
    }
   },
   "outputs": [
    {
     "data": {
      "text/plain": [
       "{'Joy', 'Pablo'}"
      ]
     },
     "execution_count": 282,
     "metadata": {},
     "output_type": "execute_result"
    }
   ],
   "source": [
    "new_diff"
   ]
  },
  {
   "cell_type": "markdown",
   "id": "c0a96ea6",
   "metadata": {},
   "source": [
    "## The Boolean Operations & Conditional Statements"
   ]
  },
  {
   "cell_type": "code",
   "execution_count": 283,
   "id": "d949c59a",
   "metadata": {
    "ExecuteTime": {
     "end_time": "2023-09-05T19:52:54.586760Z",
     "start_time": "2023-09-05T19:52:54.582444Z"
    }
   },
   "outputs": [],
   "source": [
    "# What is a boolean ops \n",
    "# Yes or a No\n",
    "# True or False - Boolean Values \n",
    "# True or False mapping - Rule "
   ]
  },
  {
   "cell_type": "code",
   "execution_count": 284,
   "id": "f22fcfce",
   "metadata": {
    "ExecuteTime": {
     "end_time": "2023-09-05T19:52:54.813344Z",
     "start_time": "2023-09-05T19:52:54.806271Z"
    }
   },
   "outputs": [
    {
     "data": {
      "text/plain": [
       "True"
      ]
     },
     "execution_count": 284,
     "metadata": {},
     "output_type": "execute_result"
    }
   ],
   "source": [
    "True == 1 "
   ]
  },
  {
   "cell_type": "code",
   "execution_count": 285,
   "id": "50841ea0",
   "metadata": {
    "ExecuteTime": {
     "end_time": "2023-09-05T19:52:55.058278Z",
     "start_time": "2023-09-05T19:52:55.043733Z"
    }
   },
   "outputs": [
    {
     "data": {
      "text/plain": [
       "True"
      ]
     },
     "execution_count": 285,
     "metadata": {},
     "output_type": "execute_result"
    }
   ],
   "source": [
    "False == 0"
   ]
  },
  {
   "cell_type": "markdown",
   "id": "4028f80d",
   "metadata": {},
   "source": [
    "## The bool() function"
   ]
  },
  {
   "cell_type": "code",
   "execution_count": 286,
   "id": "0efd36bf",
   "metadata": {
    "ExecuteTime": {
     "end_time": "2023-09-05T19:52:55.512756Z",
     "start_time": "2023-09-05T19:52:55.508943Z"
    }
   },
   "outputs": [],
   "source": [
    "# Anything greater than zero should be casted as True"
   ]
  },
  {
   "cell_type": "code",
   "execution_count": 287,
   "id": "abb3d7b0",
   "metadata": {
    "ExecuteTime": {
     "end_time": "2023-09-05T19:52:55.737793Z",
     "start_time": "2023-09-05T19:52:55.730542Z"
    }
   },
   "outputs": [
    {
     "data": {
      "text/plain": [
       "True"
      ]
     },
     "execution_count": 287,
     "metadata": {},
     "output_type": "execute_result"
    }
   ],
   "source": [
    "bool('Pablo')"
   ]
  },
  {
   "cell_type": "code",
   "execution_count": 288,
   "id": "849987a9",
   "metadata": {
    "ExecuteTime": {
     "end_time": "2023-09-05T19:52:55.982558Z",
     "start_time": "2023-09-05T19:52:55.974902Z"
    }
   },
   "outputs": [
    {
     "data": {
      "text/plain": [
       "True"
      ]
     },
     "execution_count": 288,
     "metadata": {},
     "output_type": "execute_result"
    }
   ],
   "source": [
    "bool('0')"
   ]
  },
  {
   "cell_type": "code",
   "execution_count": 289,
   "id": "0d532aa3",
   "metadata": {
    "ExecuteTime": {
     "end_time": "2023-09-05T19:52:56.202364Z",
     "start_time": "2023-09-05T19:52:56.191595Z"
    }
   },
   "outputs": [
    {
     "data": {
      "text/plain": [
       "False"
      ]
     },
     "execution_count": 289,
     "metadata": {},
     "output_type": "execute_result"
    }
   ],
   "source": [
    "bool([])"
   ]
  },
  {
   "cell_type": "code",
   "execution_count": 290,
   "id": "8a9d57bb",
   "metadata": {
    "ExecuteTime": {
     "end_time": "2023-09-05T19:52:56.475778Z",
     "start_time": "2023-09-05T19:52:56.453332Z"
    }
   },
   "outputs": [
    {
     "data": {
      "text/plain": [
       "False"
      ]
     },
     "execution_count": 290,
     "metadata": {},
     "output_type": "execute_result"
    }
   ],
   "source": [
    "bool(0)"
   ]
  },
  {
   "cell_type": "code",
   "execution_count": 291,
   "id": "13690dae",
   "metadata": {
    "ExecuteTime": {
     "end_time": "2023-09-05T19:52:56.671223Z",
     "start_time": "2023-09-05T19:52:56.664258Z"
    }
   },
   "outputs": [
    {
     "data": {
      "text/plain": [
       "False"
      ]
     },
     "execution_count": 291,
     "metadata": {},
     "output_type": "execute_result"
    }
   ],
   "source": [
    "bool('')"
   ]
  },
  {
   "cell_type": "code",
   "execution_count": 292,
   "id": "56698b5e",
   "metadata": {
    "ExecuteTime": {
     "end_time": "2023-09-05T19:52:56.916992Z",
     "start_time": "2023-09-05T19:52:56.910323Z"
    }
   },
   "outputs": [
    {
     "data": {
      "text/plain": [
       "True"
      ]
     },
     "execution_count": 292,
     "metadata": {},
     "output_type": "execute_result"
    }
   ],
   "source": [
    "bool([12])"
   ]
  },
  {
   "cell_type": "code",
   "execution_count": null,
   "id": "44bd98f5",
   "metadata": {},
   "outputs": [],
   "source": []
  },
  {
   "cell_type": "markdown",
   "id": "06c8a5f0",
   "metadata": {},
   "source": [
    "## Conditional Statements"
   ]
  },
  {
   "cell_type": "code",
   "execution_count": null,
   "id": "4d8dad7c",
   "metadata": {},
   "outputs": [],
   "source": [
    "# Control flow \n",
    "# if, elif & else"
   ]
  },
  {
   "cell_type": "markdown",
   "id": "efb2af50",
   "metadata": {},
   "source": [
    "### Comparison Operators "
   ]
  },
  {
   "cell_type": "code",
   "execution_count": 293,
   "id": "1cea79af",
   "metadata": {
    "ExecuteTime": {
     "end_time": "2023-09-05T20:22:13.509699Z",
     "start_time": "2023-09-05T20:22:13.498452Z"
    }
   },
   "outputs": [],
   "source": [
    "# > - Greater Than: It is True if the value on the left is greater than the value on the right\n",
    "num_1 = 12 \n",
    "num_2 = 9 "
   ]
  },
  {
   "cell_type": "code",
   "execution_count": 294,
   "id": "0107fb4b",
   "metadata": {
    "ExecuteTime": {
     "end_time": "2023-09-05T20:22:56.612301Z",
     "start_time": "2023-09-05T20:22:56.603367Z"
    }
   },
   "outputs": [
    {
     "data": {
      "text/plain": [
       "True"
      ]
     },
     "execution_count": 294,
     "metadata": {},
     "output_type": "execute_result"
    }
   ],
   "source": [
    "num_1 > num_2 "
   ]
  },
  {
   "cell_type": "code",
   "execution_count": null,
   "id": "42455804",
   "metadata": {},
   "outputs": [],
   "source": [
    "# < - Less than: It is True if the value on the left is less than the value on the right"
   ]
  },
  {
   "cell_type": "code",
   "execution_count": 295,
   "id": "1e9ae623",
   "metadata": {
    "ExecuteTime": {
     "end_time": "2023-09-05T20:24:32.391604Z",
     "start_time": "2023-09-05T20:24:32.384045Z"
    }
   },
   "outputs": [
    {
     "data": {
      "text/plain": [
       "True"
      ]
     },
     "execution_count": 295,
     "metadata": {},
     "output_type": "execute_result"
    }
   ],
   "source": [
    "num_2 < num_1 "
   ]
  },
  {
   "cell_type": "code",
   "execution_count": 296,
   "id": "07f14406",
   "metadata": {
    "ExecuteTime": {
     "end_time": "2023-09-05T20:24:51.785213Z",
     "start_time": "2023-09-05T20:24:51.774435Z"
    }
   },
   "outputs": [
    {
     "data": {
      "text/plain": [
       "False"
      ]
     },
     "execution_count": 296,
     "metadata": {},
     "output_type": "execute_result"
    }
   ],
   "source": [
    "num_1 < num_2 "
   ]
  },
  {
   "cell_type": "code",
   "execution_count": 297,
   "id": "e59c0ad0",
   "metadata": {
    "ExecuteTime": {
     "end_time": "2023-09-05T20:26:33.141848Z",
     "start_time": "2023-09-05T20:26:33.055982Z"
    }
   },
   "outputs": [],
   "source": [
    "# == - Equal to: It is True only when both values(left and right) are equal \n",
    "num_3 = 10\n",
    "num_4 = 10 "
   ]
  },
  {
   "cell_type": "code",
   "execution_count": 298,
   "id": "8d124d08",
   "metadata": {
    "ExecuteTime": {
     "end_time": "2023-09-05T20:26:50.631327Z",
     "start_time": "2023-09-05T20:26:50.624324Z"
    }
   },
   "outputs": [
    {
     "data": {
      "text/plain": [
       "True"
      ]
     },
     "execution_count": 298,
     "metadata": {},
     "output_type": "execute_result"
    }
   ],
   "source": [
    "num_3 == num_4 "
   ]
  },
  {
   "cell_type": "code",
   "execution_count": 299,
   "id": "af46e1d6",
   "metadata": {
    "ExecuteTime": {
     "end_time": "2023-09-05T20:27:11.038325Z",
     "start_time": "2023-09-05T20:27:11.019809Z"
    }
   },
   "outputs": [
    {
     "data": {
      "text/plain": [
       "False"
      ]
     },
     "execution_count": 299,
     "metadata": {},
     "output_type": "execute_result"
    }
   ],
   "source": [
    "num_1 == num_4"
   ]
  },
  {
   "cell_type": "code",
   "execution_count": null,
   "id": "46dc3810",
   "metadata": {},
   "outputs": [],
   "source": [
    "# != - Not Equal to: It is True when the value on the left is not equal to the value on the right"
   ]
  },
  {
   "cell_type": "code",
   "execution_count": 300,
   "id": "2af2bdd3",
   "metadata": {
    "ExecuteTime": {
     "end_time": "2023-09-05T20:40:36.311471Z",
     "start_time": "2023-09-05T20:40:36.302709Z"
    }
   },
   "outputs": [
    {
     "data": {
      "text/plain": [
       "True"
      ]
     },
     "execution_count": 300,
     "metadata": {},
     "output_type": "execute_result"
    }
   ],
   "source": [
    "num_1 != num_4 "
   ]
  },
  {
   "cell_type": "code",
   "execution_count": 301,
   "id": "14e35272",
   "metadata": {
    "ExecuteTime": {
     "end_time": "2023-09-05T20:42:35.379758Z",
     "start_time": "2023-09-05T20:42:35.369683Z"
    }
   },
   "outputs": [
    {
     "data": {
      "text/plain": [
       "True"
      ]
     },
     "execution_count": 301,
     "metadata": {},
     "output_type": "execute_result"
    }
   ],
   "source": [
    "# >= - Greater Than or Equal to: It is True when the value on the left is greater than or \n",
    "# equal to the value on the right \n",
    "num_1 >= num_2"
   ]
  },
  {
   "cell_type": "code",
   "execution_count": 302,
   "id": "30abe9d0",
   "metadata": {
    "ExecuteTime": {
     "end_time": "2023-09-05T20:43:09.723320Z",
     "start_time": "2023-09-05T20:43:09.704482Z"
    }
   },
   "outputs": [
    {
     "data": {
      "text/plain": [
       "True"
      ]
     },
     "execution_count": 302,
     "metadata": {},
     "output_type": "execute_result"
    }
   ],
   "source": [
    "num_3 >= num_4"
   ]
  },
  {
   "cell_type": "code",
   "execution_count": 303,
   "id": "1651e9a1",
   "metadata": {
    "ExecuteTime": {
     "end_time": "2023-09-05T20:45:29.658264Z",
     "start_time": "2023-09-05T20:45:29.647497Z"
    }
   },
   "outputs": [
    {
     "data": {
      "text/plain": [
       "True"
      ]
     },
     "execution_count": 303,
     "metadata": {},
     "output_type": "execute_result"
    }
   ],
   "source": [
    "# <= - Less Than or Equal to: It is True when the value on the left is less \n",
    "# than or equal to the value on the right\n",
    "num_2 <= num_1 "
   ]
  },
  {
   "cell_type": "code",
   "execution_count": 304,
   "id": "f5120616",
   "metadata": {
    "ExecuteTime": {
     "end_time": "2023-09-05T20:46:07.808768Z",
     "start_time": "2023-09-05T20:46:07.797779Z"
    }
   },
   "outputs": [
    {
     "data": {
      "text/plain": [
       "True"
      ]
     },
     "execution_count": 304,
     "metadata": {},
     "output_type": "execute_result"
    }
   ],
   "source": [
    "num_3 <= num_4"
   ]
  },
  {
   "cell_type": "code",
   "execution_count": null,
   "id": "920cbcaa",
   "metadata": {},
   "outputs": [],
   "source": []
  },
  {
   "cell_type": "markdown",
   "id": "fdbebdfc",
   "metadata": {},
   "source": [
    "## A Simple Conditional Statement"
   ]
  },
  {
   "cell_type": "code",
   "execution_count": 1,
   "id": "4c970e14",
   "metadata": {
    "ExecuteTime": {
     "end_time": "2023-09-17T13:13:33.093620Z",
     "start_time": "2023-09-17T13:13:33.078293Z"
    }
   },
   "outputs": [],
   "source": [
    "# Username\n",
    "# Password \n",
    "# Evaluated as True "
   ]
  },
  {
   "cell_type": "code",
   "execution_count": 2,
   "id": "7558131c",
   "metadata": {
    "ExecuteTime": {
     "end_time": "2023-09-17T13:13:33.107725Z",
     "start_time": "2023-09-17T13:13:33.101346Z"
    }
   },
   "outputs": [],
   "source": [
    "watching_my_channel = True \n",
    "# if statement will execute if the condition is true \n",
    "# if <expression>:\n",
    "    #indentation - does something"
   ]
  },
  {
   "cell_type": "code",
   "execution_count": 3,
   "id": "ec95cf83",
   "metadata": {
    "ExecuteTime": {
     "end_time": "2023-09-17T13:13:33.126552Z",
     "start_time": "2023-09-17T13:13:33.113049Z"
    }
   },
   "outputs": [
    {
     "name": "stdout",
     "output_type": "stream",
     "text": [
      "You are learning Python\n"
     ]
    }
   ],
   "source": [
    "# A simple conditional statement \n",
    "if watching_my_channel:\n",
    "    print(\"You are learning Python\")"
   ]
  },
  {
   "cell_type": "code",
   "execution_count": 4,
   "id": "9256b628",
   "metadata": {
    "ExecuteTime": {
     "end_time": "2023-09-17T13:13:33.140539Z",
     "start_time": "2023-09-17T13:13:33.135371Z"
    }
   },
   "outputs": [],
   "source": [
    "# Else Statement: This will evaluate if it is False"
   ]
  },
  {
   "cell_type": "code",
   "execution_count": 5,
   "id": "ca84f0e0",
   "metadata": {
    "ExecuteTime": {
     "end_time": "2023-09-17T13:13:33.161037Z",
     "start_time": "2023-09-17T13:13:33.154047Z"
    }
   },
   "outputs": [],
   "source": [
    "watching_my_channel = False "
   ]
  },
  {
   "cell_type": "code",
   "execution_count": 6,
   "id": "7117cf1d",
   "metadata": {
    "ExecuteTime": {
     "end_time": "2023-09-17T13:13:33.185516Z",
     "start_time": "2023-09-17T13:13:33.170298Z"
    }
   },
   "outputs": [
    {
     "name": "stdout",
     "output_type": "stream",
     "text": [
      "You are on the wrong channel\n"
     ]
    }
   ],
   "source": [
    "if watching_my_channel:\n",
    "    print(\"You are learning Python\")\n",
    "else: \n",
    "    print(\"You are on the wrong channel\")"
   ]
  },
  {
   "cell_type": "markdown",
   "id": "8abfdaa0",
   "metadata": {},
   "source": [
    "### Elif Statement"
   ]
  },
  {
   "cell_type": "code",
   "execution_count": 15,
   "id": "0c783d27",
   "metadata": {
    "ExecuteTime": {
     "end_time": "2023-09-17T13:25:43.470516Z",
     "start_time": "2023-09-17T13:25:43.461325Z"
    }
   },
   "outputs": [
    {
     "name": "stdout",
     "output_type": "stream",
     "text": [
      "This is for kids only\n"
     ]
    }
   ],
   "source": [
    "age_kid = 25\n",
    "if age_kid <= 9:\n",
    "    print(\"Let the kid into the cinema\")\n",
    "elif age_kid <= 15:\n",
    "    print(\"Take him to the teenage section\")\n",
    "elif age_kid <= 18:\n",
    "    print(\"Go to the adult section\")\n",
    "else:\n",
    "    print(\"This is for kids only\")"
   ]
  },
  {
   "cell_type": "markdown",
   "id": "3bd882b5",
   "metadata": {},
   "source": [
    "### Nesting Conditional Statements"
   ]
  },
  {
   "cell_type": "code",
   "execution_count": 29,
   "id": "11547f2d",
   "metadata": {
    "ExecuteTime": {
     "end_time": "2023-09-17T14:09:58.531717Z",
     "start_time": "2023-09-17T14:09:58.526526Z"
    }
   },
   "outputs": [],
   "source": [
    "age = 15 \n",
    "grade = 50"
   ]
  },
  {
   "cell_type": "code",
   "execution_count": 30,
   "id": "721f8b12",
   "metadata": {
    "ExecuteTime": {
     "end_time": "2023-09-17T14:09:59.620342Z",
     "start_time": "2023-09-17T14:09:59.611730Z"
    }
   },
   "outputs": [
    {
     "name": "stdout",
     "output_type": "stream",
     "text": [
      "Young student with average grade\n"
     ]
    }
   ],
   "source": [
    "if age < 18: # Check the age of the person \n",
    "    if grade >= 90: \n",
    "        print(\"Young student with awesome grade\")\n",
    "    elif grade >= 70:\n",
    "        print(\"Young student with good grade\")\n",
    "    else: \n",
    "        print(\"Young student with average grade\")\n",
    "else: # This will execute if the age is older\n",
    "    if grade >= 90:\n",
    "        print(\"Adult student with awesome grade\")\n",
    "    elif grade >= 70:\n",
    "        print(\"Adult student with good grade\")\n",
    "    else:\n",
    "        print(\"Adult student with average grade\")"
   ]
  },
  {
   "cell_type": "markdown",
   "id": "3da17d94",
   "metadata": {},
   "source": [
    "### Logical Operators"
   ]
  },
  {
   "cell_type": "code",
   "execution_count": 1,
   "id": "5511ebf8",
   "metadata": {
    "ExecuteTime": {
     "end_time": "2023-09-18T08:10:26.910826Z",
     "start_time": "2023-09-18T08:10:26.906392Z"
    }
   },
   "outputs": [],
   "source": [
    "# Rules \n",
    "# and - It is True if the values on the left and on the right are True "
   ]
  },
  {
   "cell_type": "code",
   "execution_count": 2,
   "id": "55461ca7",
   "metadata": {
    "ExecuteTime": {
     "end_time": "2023-09-18T08:14:48.954969Z",
     "start_time": "2023-09-18T08:14:48.945118Z"
    }
   },
   "outputs": [
    {
     "name": "stdout",
     "output_type": "stream",
     "text": [
      "You are good to go\n"
     ]
    }
   ],
   "source": [
    "# A simple illustration of a logical operator \n",
    "age = 20 \n",
    "food = 'Eba' \n",
    "if age >= 20 and food in ['Ewa', 'Amala']:\n",
    "    print('You too like food')\n",
    "elif age >= 20 and food in ['Eba', 'Beans']:\n",
    "    print('You are good to go')\n",
    "else: \n",
    "    print('You are not hungry yet')"
   ]
  },
  {
   "cell_type": "code",
   "execution_count": null,
   "id": "3054c8b4",
   "metadata": {},
   "outputs": [],
   "source": [
    "# Rules \n",
    "# or - It is True if either values on the left and on the right are True"
   ]
  },
  {
   "cell_type": "code",
   "execution_count": 5,
   "id": "ccea97d4",
   "metadata": {
    "ExecuteTime": {
     "end_time": "2023-09-19T12:21:32.494961Z",
     "start_time": "2023-09-19T12:21:32.487474Z"
    }
   },
   "outputs": [
    {
     "name": "stdout",
     "output_type": "stream",
     "text": [
      "You are not hungry yet\n"
     ]
    }
   ],
   "source": [
    "age = 20 # This checked out = True\n",
    "food = 'Eba' \n",
    "if age >= 20 or food in ['Ewa', 'Amala']:\n",
    "    print('You too like food')\n",
    "elif age >= 37 or food in ['Jollof', 'Beans']:\n",
    "    print('You are good to go')\n",
    "else: \n",
    "    print('You are not hungry yet')"
   ]
  },
  {
   "cell_type": "code",
   "execution_count": null,
   "id": "4b889add",
   "metadata": {},
   "outputs": [],
   "source": [
    "# Greater than or equal to >= - logical operator "
   ]
  },
  {
   "cell_type": "code",
   "execution_count": null,
   "id": "3f9b24cf",
   "metadata": {},
   "outputs": [],
   "source": [
    "# Rules\n",
    "# not - True if the the value is false(It inverts the True value)"
   ]
  },
  {
   "cell_type": "code",
   "execution_count": 6,
   "id": "b6f56936",
   "metadata": {
    "ExecuteTime": {
     "end_time": "2023-09-20T13:08:21.095453Z",
     "start_time": "2023-09-20T13:08:21.076321Z"
    }
   },
   "outputs": [
    {
     "name": "stdout",
     "output_type": "stream",
     "text": [
      "Open the gates\n"
     ]
    }
   ],
   "source": [
    "i_coming_home = False \n",
    "if not i_coming_home: \n",
    "    print('Open the gates')"
   ]
  },
  {
   "cell_type": "code",
   "execution_count": 7,
   "id": "66447ac7",
   "metadata": {
    "ExecuteTime": {
     "end_time": "2023-09-20T13:09:10.804308Z",
     "start_time": "2023-09-20T13:09:10.764747Z"
    }
   },
   "outputs": [],
   "source": [
    "is_cold = False "
   ]
  },
  {
   "cell_type": "code",
   "execution_count": 8,
   "id": "580598b3",
   "metadata": {
    "ExecuteTime": {
     "end_time": "2023-09-20T13:09:32.357617Z",
     "start_time": "2023-09-20T13:09:32.353606Z"
    }
   },
   "outputs": [],
   "source": [
    "is_not_cold = not is_cold # not inverts the True state to False"
   ]
  },
  {
   "cell_type": "code",
   "execution_count": 9,
   "id": "3133d6f2",
   "metadata": {
    "ExecuteTime": {
     "end_time": "2023-09-20T13:09:37.911793Z",
     "start_time": "2023-09-20T13:09:37.879685Z"
    }
   },
   "outputs": [
    {
     "data": {
      "text/plain": [
       "True"
      ]
     },
     "execution_count": 9,
     "metadata": {},
     "output_type": "execute_result"
    }
   ],
   "source": [
    "is_not_cold"
   ]
  },
  {
   "cell_type": "markdown",
   "id": "09065648",
   "metadata": {},
   "source": [
    "### Special Operators"
   ]
  },
  {
   "cell_type": "code",
   "execution_count": 2,
   "id": "9c84359f",
   "metadata": {
    "ExecuteTime": {
     "end_time": "2023-09-22T10:16:56.402786Z",
     "start_time": "2023-09-22T10:16:56.399427Z"
    }
   },
   "outputs": [],
   "source": [
    "# is \n",
    "# Rule - It is True when the values on the left and right are identical"
   ]
  },
  {
   "cell_type": "code",
   "execution_count": 3,
   "id": "a5d41dfc",
   "metadata": {
    "ExecuteTime": {
     "end_time": "2023-09-22T10:16:56.964123Z",
     "start_time": "2023-09-22T10:16:56.959335Z"
    }
   },
   "outputs": [],
   "source": [
    "num_list = [10, 8, 5] # This is a list\n",
    "num_list2 = [10, 8, 5] "
   ]
  },
  {
   "cell_type": "code",
   "execution_count": 4,
   "id": "950cdad1",
   "metadata": {
    "ExecuteTime": {
     "end_time": "2023-09-22T10:16:57.583189Z",
     "start_time": "2023-09-22T10:16:57.574655Z"
    }
   },
   "outputs": [
    {
     "data": {
      "text/plain": [
       "True"
      ]
     },
     "execution_count": 4,
     "metadata": {},
     "output_type": "execute_result"
    }
   ],
   "source": [
    "num_list == num_list2 # They are equal "
   ]
  },
  {
   "cell_type": "code",
   "execution_count": 5,
   "id": "0f32767f",
   "metadata": {
    "ExecuteTime": {
     "end_time": "2023-09-22T10:17:00.283789Z",
     "start_time": "2023-09-22T10:17:00.276929Z"
    }
   },
   "outputs": [
    {
     "data": {
      "text/plain": [
       "False"
      ]
     },
     "execution_count": 5,
     "metadata": {},
     "output_type": "execute_result"
    }
   ],
   "source": [
    "# Are they identical?\n",
    "num_list is num_list2"
   ]
  },
  {
   "cell_type": "code",
   "execution_count": 6,
   "id": "312fb085",
   "metadata": {
    "ExecuteTime": {
     "end_time": "2023-09-22T10:17:01.199341Z",
     "start_time": "2023-09-22T10:17:01.193036Z"
    }
   },
   "outputs": [
    {
     "data": {
      "text/plain": [
       "140255773818752"
      ]
     },
     "execution_count": 6,
     "metadata": {},
     "output_type": "execute_result"
    }
   ],
   "source": [
    "id(num_list)"
   ]
  },
  {
   "cell_type": "code",
   "execution_count": 7,
   "id": "0a7dd8d2",
   "metadata": {
    "ExecuteTime": {
     "end_time": "2023-09-22T10:17:02.121965Z",
     "start_time": "2023-09-22T10:17:02.108271Z"
    }
   },
   "outputs": [
    {
     "data": {
      "text/plain": [
       "140255784948736"
      ]
     },
     "execution_count": 7,
     "metadata": {},
     "output_type": "execute_result"
    }
   ],
   "source": [
    "id(num_list2)"
   ]
  },
  {
   "cell_type": "code",
   "execution_count": 8,
   "id": "393d11ec",
   "metadata": {
    "ExecuteTime": {
     "end_time": "2023-09-22T10:17:04.556686Z",
     "start_time": "2023-09-22T10:17:04.553450Z"
    }
   },
   "outputs": [],
   "source": [
    "# create two strings\n",
    "num_string = 'num_list'\n",
    "num_string2 = 'num_list'"
   ]
  },
  {
   "cell_type": "code",
   "execution_count": 9,
   "id": "374615a4",
   "metadata": {
    "ExecuteTime": {
     "end_time": "2023-09-22T10:17:05.885050Z",
     "start_time": "2023-09-22T10:17:05.879557Z"
    }
   },
   "outputs": [
    {
     "data": {
      "text/plain": [
       "True"
      ]
     },
     "execution_count": 9,
     "metadata": {},
     "output_type": "execute_result"
    }
   ],
   "source": [
    "num_string == num_string2"
   ]
  },
  {
   "cell_type": "code",
   "execution_count": 10,
   "id": "07aa2473",
   "metadata": {
    "ExecuteTime": {
     "end_time": "2023-09-22T10:17:06.792605Z",
     "start_time": "2023-09-22T10:17:06.788345Z"
    }
   },
   "outputs": [
    {
     "data": {
      "text/plain": [
       "True"
      ]
     },
     "execution_count": 10,
     "metadata": {},
     "output_type": "execute_result"
    }
   ],
   "source": [
    "num_string is num_string2"
   ]
  },
  {
   "cell_type": "code",
   "execution_count": null,
   "id": "a4a2df3b",
   "metadata": {},
   "outputs": [],
   "source": [
    "num_list # This is a list/ is mutable/ a list will be assigned new memory \n",
    "num_string # This is a string/ is immutable/ python reuses the object"
   ]
  }
 ],
 "metadata": {
  "kernelspec": {
   "display_name": "Python 3 (ipykernel)",
   "language": "python",
   "name": "python3"
  },
  "language_info": {
   "codemirror_mode": {
    "name": "ipython",
    "version": 3
   },
   "file_extension": ".py",
   "mimetype": "text/x-python",
   "name": "python",
   "nbconvert_exporter": "python",
   "pygments_lexer": "ipython3",
   "version": "3.10.9"
  }
 },
 "nbformat": 4,
 "nbformat_minor": 5
}
