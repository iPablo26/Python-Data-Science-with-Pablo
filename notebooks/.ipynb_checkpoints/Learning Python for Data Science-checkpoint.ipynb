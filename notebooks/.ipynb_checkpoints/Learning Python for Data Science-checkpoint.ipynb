{
 "cells": [
  {
   "cell_type": "markdown",
   "id": "9df3ef41",
   "metadata": {},
   "source": [
    "# Introduction to Python"
   ]
  },
  {
   "cell_type": "markdown",
   "id": "7c568bb7",
   "metadata": {},
   "source": [
    "### Documentation \n",
    "\n",
    "1. Comments\n",
    "\n",
    "2. PEP8 - Style Guide\n",
    "\n",
    "3. Reading Python Docs"
   ]
  },
  {
   "cell_type": "code",
   "execution_count": 1,
   "id": "a6b6bb56",
   "metadata": {
    "ExecuteTime": {
     "end_time": "2023-08-15T05:29:08.205300Z",
     "start_time": "2023-08-15T05:29:08.198447Z"
    }
   },
   "outputs": [],
   "source": [
    "# Creating an arithmetic abstraction\n",
    "# Created a comment"
   ]
  },
  {
   "cell_type": "code",
   "execution_count": 2,
   "id": "a0247a79",
   "metadata": {
    "ExecuteTime": {
     "end_time": "2023-08-15T05:29:08.233179Z",
     "start_time": "2023-08-15T05:29:08.220379Z"
    }
   },
   "outputs": [],
   "source": [
    "add = 6 + 9 # Assigning a value to add (an addition of 6 + 9) <-- Comment"
   ]
  },
  {
   "cell_type": "code",
   "execution_count": 3,
   "id": "517d3eaf",
   "metadata": {
    "ExecuteTime": {
     "end_time": "2023-08-15T05:29:08.383742Z",
     "start_time": "2023-08-15T05:29:08.375634Z"
    }
   },
   "outputs": [],
   "source": [
    "# Comment out"
   ]
  },
  {
   "cell_type": "code",
   "execution_count": 4,
   "id": "0b9e1e59",
   "metadata": {
    "ExecuteTime": {
     "end_time": "2023-08-15T05:29:08.434511Z",
     "start_time": "2023-08-15T05:29:08.393164Z"
    }
   },
   "outputs": [],
   "source": [
    "# print(add) - Commented out this code"
   ]
  },
  {
   "cell_type": "code",
   "execution_count": 5,
   "id": "24716e42",
   "metadata": {
    "ExecuteTime": {
     "end_time": "2023-08-15T05:29:08.442690Z",
     "start_time": "2023-08-15T05:29:08.438879Z"
    }
   },
   "outputs": [],
   "source": [
    "age = 40 # Assigning an age value to age"
   ]
  },
  {
   "cell_type": "code",
   "execution_count": 6,
   "id": "1c28e43c",
   "metadata": {
    "ExecuteTime": {
     "end_time": "2023-08-15T05:29:08.451755Z",
     "start_time": "2023-08-15T05:29:08.449223Z"
    }
   },
   "outputs": [],
   "source": [
    "# Assigning an age value to age - Bad commenting\n",
    "age = 40 "
   ]
  },
  {
   "cell_type": "markdown",
   "id": "48dbf6b4",
   "metadata": {},
   "source": [
    "### Python's Style Guide"
   ]
  },
  {
   "cell_type": "code",
   "execution_count": 83,
   "id": "d0b1ef34",
   "metadata": {
    "ExecuteTime": {
     "end_time": "2023-05-02T12:03:11.477611Z",
     "start_time": "2023-05-02T12:03:11.472859Z"
    }
   },
   "outputs": [],
   "source": [
    "# # Aligned with opening delimiter.\n",
    "foo = long_function_name(var_one, var_two,\n",
    "                           var_three, var_four)"
   ]
  },
  {
   "cell_type": "code",
   "execution_count": null,
   "id": "3e25f5ca",
   "metadata": {
    "ExecuteTime": {
     "end_time": "2023-05-02T12:02:14.060023Z",
     "start_time": "2023-05-02T12:02:14.060004Z"
    }
   },
   "outputs": [],
   "source": [
    "# Add 4 spaces (an extra level of indentation) to distinguish arguments from the rest.\n",
    "def long_function_name(\n",
    "        var_one, var_two, var_three,\n",
    "        var_four):\n",
    "    print(var_one)"
   ]
  },
  {
   "cell_type": "code",
   "execution_count": null,
   "id": "5bf38d05",
   "metadata": {
    "ExecuteTime": {
     "end_time": "2023-05-02T12:02:14.062860Z",
     "start_time": "2023-05-02T12:02:14.062836Z"
    }
   },
   "outputs": [],
   "source": [
    "# Wrong:\n",
    "\n",
    "# Arguments on first line forbidden when not using vertical alignment.\n",
    "foo = long_function_name(var_one, var_two,\n",
    "                         var_three, var_four)\n",
    "\n",
    "# Further indentation required as indentation is not distinguishable.\n",
    "def long_function_name(\n",
    "    var_one, var_two, var_three,\n",
    "    var_four):\n",
    "    print(var_one)"
   ]
  },
  {
   "cell_type": "markdown",
   "id": "d63726f1",
   "metadata": {},
   "source": [
    "## Reading Python Documentation "
   ]
  },
  {
   "cell_type": "code",
   "execution_count": 7,
   "id": "23dca896",
   "metadata": {
    "ExecuteTime": {
     "end_time": "2023-08-15T05:29:08.461292Z",
     "start_time": "2023-08-15T05:29:08.455359Z"
    }
   },
   "outputs": [],
   "source": [
    "boy = \"Pablo\""
   ]
  },
  {
   "cell_type": "code",
   "execution_count": 8,
   "id": "f3f831d4",
   "metadata": {
    "ExecuteTime": {
     "end_time": "2023-08-15T05:29:08.474810Z",
     "start_time": "2023-08-15T05:29:08.464175Z"
    }
   },
   "outputs": [
    {
     "data": {
      "text/plain": [
       "5"
      ]
     },
     "execution_count": 8,
     "metadata": {},
     "output_type": "execute_result"
    }
   ],
   "source": [
    "len(boy)"
   ]
  },
  {
   "cell_type": "code",
   "execution_count": 9,
   "id": "bb7d541d",
   "metadata": {
    "ExecuteTime": {
     "end_time": "2023-08-15T05:29:08.489904Z",
     "start_time": "2023-08-15T05:29:08.483052Z"
    }
   },
   "outputs": [
    {
     "name": "stdout",
     "output_type": "stream",
     "text": [
      "\n"
     ]
    }
   ],
   "source": [
    "print()"
   ]
  },
  {
   "cell_type": "markdown",
   "id": "5435f6d0",
   "metadata": {},
   "source": [
    "## Variables & Data Types"
   ]
  },
  {
   "cell_type": "code",
   "execution_count": 10,
   "id": "e948223a",
   "metadata": {
    "ExecuteTime": {
     "end_time": "2023-08-15T05:29:08.505055Z",
     "start_time": "2023-08-15T05:29:08.492730Z"
    }
   },
   "outputs": [],
   "source": [
    "first_var = \"My first line of code\" # first_var assigned a value"
   ]
  },
  {
   "cell_type": "code",
   "execution_count": 11,
   "id": "3d183989",
   "metadata": {
    "ExecuteTime": {
     "end_time": "2023-08-15T05:29:08.525306Z",
     "start_time": "2023-08-15T05:29:08.507900Z"
    }
   },
   "outputs": [
    {
     "name": "stdout",
     "output_type": "stream",
     "text": [
      "My first line of code\n"
     ]
    }
   ],
   "source": [
    "print(first_var) # prints to stream the variable value"
   ]
  },
  {
   "cell_type": "code",
   "execution_count": 12,
   "id": "7c6b86e4",
   "metadata": {
    "ExecuteTime": {
     "end_time": "2023-08-15T05:29:08.544005Z",
     "start_time": "2023-08-15T05:29:08.537688Z"
    }
   },
   "outputs": [
    {
     "data": {
      "text/plain": [
       "'My first line of code'"
      ]
     },
     "execution_count": 12,
     "metadata": {},
     "output_type": "execute_result"
    }
   ],
   "source": [
    "first_var "
   ]
  },
  {
   "cell_type": "markdown",
   "id": "4c0e5f0e",
   "metadata": {},
   "source": [
    "## Rules for creating variables & variable names"
   ]
  },
  {
   "cell_type": "code",
   "execution_count": 13,
   "id": "2d9a17eb",
   "metadata": {
    "ExecuteTime": {
     "end_time": "2023-08-15T05:29:08.554471Z",
     "start_time": "2023-08-15T05:29:08.550850Z"
    }
   },
   "outputs": [],
   "source": [
    "# 1. Variables can only contain letters, numbers and underscores\n",
    "# You cannot create a variable starting with a number "
   ]
  },
  {
   "cell_type": "code",
   "execution_count": 14,
   "id": "766cac19",
   "metadata": {
    "ExecuteTime": {
     "end_time": "2023-08-15T05:29:08.568356Z",
     "start_time": "2023-08-15T05:29:08.564972Z"
    }
   },
   "outputs": [],
   "source": [
    "second_2 = \"Trying out a second time\" # creating a variable"
   ]
  },
  {
   "cell_type": "code",
   "execution_count": 15,
   "id": "c47d4d2d",
   "metadata": {
    "ExecuteTime": {
     "end_time": "2023-08-15T05:29:08.575570Z",
     "start_time": "2023-08-15T05:29:08.571095Z"
    }
   },
   "outputs": [
    {
     "name": "stdout",
     "output_type": "stream",
     "text": [
      "Trying out a second time\n"
     ]
    }
   ],
   "source": [
    "print(second_2)"
   ]
  },
  {
   "cell_type": "code",
   "execution_count": 16,
   "id": "34ad12f3",
   "metadata": {
    "ExecuteTime": {
     "end_time": "2023-08-15T05:46:23.729164Z",
     "start_time": "2023-08-15T05:46:23.723673Z"
    }
   },
   "outputs": [
    {
     "ename": "SyntaxError",
     "evalue": "invalid decimal literal (498188808.py, line 1)",
     "output_type": "error",
     "traceback": [
      "\u001b[0;36m  Cell \u001b[0;32mIn[16], line 1\u001b[0;36m\u001b[0m\n\u001b[0;31m    2code = \"Tearing apart\" # breaking a variable naming rule\u001b[0m\n\u001b[0m    ^\u001b[0m\n\u001b[0;31mSyntaxError\u001b[0m\u001b[0;31m:\u001b[0m invalid decimal literal\n"
     ]
    }
   ],
   "source": [
    "2code = \"Tearing apart\" # breaking a variable naming rule "
   ]
  },
  {
   "cell_type": "code",
   "execution_count": 17,
   "id": "48edfbcb",
   "metadata": {
    "ExecuteTime": {
     "end_time": "2023-08-15T05:46:23.796082Z",
     "start_time": "2023-08-15T05:46:23.786215Z"
    }
   },
   "outputs": [],
   "source": [
    "_2_second = \"Trying again\" # Making up the rules "
   ]
  },
  {
   "cell_type": "code",
   "execution_count": 18,
   "id": "9d11ff23",
   "metadata": {
    "ExecuteTime": {
     "end_time": "2023-08-15T05:46:23.873021Z",
     "start_time": "2023-08-15T05:46:23.869014Z"
    }
   },
   "outputs": [
    {
     "name": "stdout",
     "output_type": "stream",
     "text": [
      "Trying again\n"
     ]
    }
   ],
   "source": [
    "print(_2_second)"
   ]
  },
  {
   "cell_type": "code",
   "execution_count": 19,
   "id": "0f2aa32a",
   "metadata": {
    "ExecuteTime": {
     "end_time": "2023-08-15T05:46:24.087733Z",
     "start_time": "2023-08-15T05:46:24.084236Z"
    }
   },
   "outputs": [],
   "source": [
    "# 2. Avoid spaces when creating variable names "
   ]
  },
  {
   "cell_type": "code",
   "execution_count": 20,
   "id": "2c0875d7",
   "metadata": {
    "ExecuteTime": {
     "end_time": "2023-08-15T05:46:24.287978Z",
     "start_time": "2023-08-15T05:46:24.281123Z"
    }
   },
   "outputs": [
    {
     "ename": "SyntaxError",
     "evalue": "invalid syntax (2559974020.py, line 1)",
     "output_type": "error",
     "traceback": [
      "\u001b[0;36m  Cell \u001b[0;32mIn[20], line 1\u001b[0;36m\u001b[0m\n\u001b[0;31m    third var = \"Avoiding spaces\"\u001b[0m\n\u001b[0m          ^\u001b[0m\n\u001b[0;31mSyntaxError\u001b[0m\u001b[0;31m:\u001b[0m invalid syntax\n"
     ]
    }
   ],
   "source": [
    "third var = \"Avoiding spaces\""
   ]
  },
  {
   "cell_type": "code",
   "execution_count": 21,
   "id": "87bdec90",
   "metadata": {
    "ExecuteTime": {
     "end_time": "2023-08-15T05:46:24.481581Z",
     "start_time": "2023-08-15T05:46:24.475361Z"
    }
   },
   "outputs": [],
   "source": [
    "third_var = \"Made up for the space\""
   ]
  },
  {
   "cell_type": "code",
   "execution_count": 22,
   "id": "c84fa452",
   "metadata": {
    "ExecuteTime": {
     "end_time": "2023-08-15T05:46:24.656233Z",
     "start_time": "2023-08-15T05:46:24.653126Z"
    }
   },
   "outputs": [
    {
     "name": "stdout",
     "output_type": "stream",
     "text": [
      "Made up for the space\n"
     ]
    }
   ],
   "source": [
    "print(third_var)"
   ]
  },
  {
   "cell_type": "code",
   "execution_count": 23,
   "id": "1f0de7c2",
   "metadata": {
    "ExecuteTime": {
     "end_time": "2023-08-15T05:46:24.850412Z",
     "start_time": "2023-08-15T05:46:24.847748Z"
    }
   },
   "outputs": [],
   "source": [
    "# 3. Variable names should be intuitive/understandable "
   ]
  },
  {
   "cell_type": "code",
   "execution_count": 24,
   "id": "5b15cb01",
   "metadata": {
    "ExecuteTime": {
     "end_time": "2023-08-15T05:46:25.064729Z",
     "start_time": "2023-08-15T05:46:25.061509Z"
    }
   },
   "outputs": [],
   "source": [
    "my_name = \"Pablo\" # Name of instructor "
   ]
  },
  {
   "cell_type": "code",
   "execution_count": 25,
   "id": "73514d18",
   "metadata": {
    "ExecuteTime": {
     "end_time": "2023-08-15T05:46:25.423810Z",
     "start_time": "2023-08-15T05:46:25.419665Z"
    }
   },
   "outputs": [],
   "source": [
    "m_n = \"Pablo\""
   ]
  },
  {
   "cell_type": "code",
   "execution_count": 26,
   "id": "ba4ebebf",
   "metadata": {
    "ExecuteTime": {
     "end_time": "2023-08-15T05:46:25.617096Z",
     "start_time": "2023-08-15T05:46:25.614408Z"
    }
   },
   "outputs": [],
   "source": [
    "# 4. Avoid using Python keywords/reserved names "
   ]
  },
  {
   "cell_type": "code",
   "execution_count": 27,
   "id": "fe97416a",
   "metadata": {
    "ExecuteTime": {
     "end_time": "2023-08-15T05:46:25.818597Z",
     "start_time": "2023-08-15T05:46:25.814673Z"
    }
   },
   "outputs": [],
   "source": [
    "list_numbers = [1,2,3,4,5]"
   ]
  },
  {
   "cell_type": "code",
   "execution_count": 28,
   "id": "ce107e16",
   "metadata": {
    "ExecuteTime": {
     "end_time": "2023-08-15T05:46:26.038776Z",
     "start_time": "2023-08-15T05:46:26.032883Z"
    }
   },
   "outputs": [
    {
     "name": "stdout",
     "output_type": "stream",
     "text": [
      "[1, 2, 3, 4, 5]\n"
     ]
    }
   ],
   "source": [
    "print(list_numbers)"
   ]
  },
  {
   "cell_type": "code",
   "execution_count": 29,
   "id": "99ff74e6",
   "metadata": {
    "ExecuteTime": {
     "end_time": "2023-08-15T05:46:26.224886Z",
     "start_time": "2023-08-15T05:46:26.217600Z"
    }
   },
   "outputs": [
    {
     "data": {
      "text/plain": [
       "15"
      ]
     },
     "execution_count": 29,
     "metadata": {},
     "output_type": "execute_result"
    }
   ],
   "source": [
    "sum(list_numbers) # Returns the total of all numbers within a collection "
   ]
  },
  {
   "cell_type": "code",
   "execution_count": 30,
   "id": "50acbefb",
   "metadata": {
    "ExecuteTime": {
     "end_time": "2023-08-15T05:46:26.433695Z",
     "start_time": "2023-08-15T05:46:26.429400Z"
    }
   },
   "outputs": [],
   "source": [
    "sum = [34, 45, 67, 87]"
   ]
  },
  {
   "cell_type": "code",
   "execution_count": 31,
   "id": "c71cd36e",
   "metadata": {
    "ExecuteTime": {
     "end_time": "2023-08-15T05:46:26.620007Z",
     "start_time": "2023-08-15T05:46:26.612666Z"
    }
   },
   "outputs": [
    {
     "data": {
      "text/plain": [
       "[34, 45, 67, 87]"
      ]
     },
     "execution_count": 31,
     "metadata": {},
     "output_type": "execute_result"
    }
   ],
   "source": [
    "sum "
   ]
  },
  {
   "cell_type": "code",
   "execution_count": 32,
   "id": "77844917",
   "metadata": {
    "ExecuteTime": {
     "end_time": "2023-08-15T05:46:26.817443Z",
     "start_time": "2023-08-15T05:46:26.812876Z"
    }
   },
   "outputs": [],
   "source": [
    "age_list = [34, 56, 98, 100]"
   ]
  },
  {
   "cell_type": "code",
   "execution_count": 33,
   "id": "ca93d740",
   "metadata": {
    "ExecuteTime": {
     "end_time": "2023-08-15T05:46:27.928062Z",
     "start_time": "2023-08-15T05:46:27.006671Z"
    }
   },
   "outputs": [
    {
     "ename": "TypeError",
     "evalue": "'list' object is not callable",
     "output_type": "error",
     "traceback": [
      "\u001b[0;31m---------------------------------------------------------------------------\u001b[0m",
      "\u001b[0;31mTypeError\u001b[0m                                 Traceback (most recent call last)",
      "Cell \u001b[0;32mIn[33], line 1\u001b[0m\n\u001b[0;32m----> 1\u001b[0m \u001b[38;5;28;43msum\u001b[39;49m\u001b[43m(\u001b[49m\u001b[43mage_list\u001b[49m\u001b[43m)\u001b[49m\n",
      "\u001b[0;31mTypeError\u001b[0m: 'list' object is not callable"
     ]
    }
   ],
   "source": [
    "sum(age_list)"
   ]
  },
  {
   "cell_type": "code",
   "execution_count": null,
   "id": "6b42ab93",
   "metadata": {
    "ExecuteTime": {
     "end_time": "2023-08-15T05:46:27.931510Z",
     "start_time": "2023-08-15T05:46:27.931488Z"
    }
   },
   "outputs": [],
   "source": [
    "# 5. Less confusion "
   ]
  },
  {
   "cell_type": "code",
   "execution_count": null,
   "id": "b4540f1e",
   "metadata": {
    "ExecuteTime": {
     "end_time": "2023-08-15T05:46:27.934167Z",
     "start_time": "2023-08-15T05:46:27.934146Z"
    }
   },
   "outputs": [],
   "source": [
    "# 0 O l 1 "
   ]
  },
  {
   "cell_type": "markdown",
   "id": "d850ca16",
   "metadata": {},
   "source": [
    "## Data Types"
   ]
  },
  {
   "cell_type": "code",
   "execution_count": null,
   "id": "e3537e9d",
   "metadata": {
    "ExecuteTime": {
     "end_time": "2023-08-15T05:46:27.936465Z",
     "start_time": "2023-08-15T05:46:27.936446Z"
    }
   },
   "outputs": [],
   "source": [
    "# Strings - A string is a series of characters \n",
    "# Anything inside a single, double & triple quotes\n",
    "# A letter, Series of letters, Single word"
   ]
  },
  {
   "cell_type": "code",
   "execution_count": 34,
   "id": "cfd4f473",
   "metadata": {
    "ExecuteTime": {
     "end_time": "2023-08-15T05:46:27.999778Z",
     "start_time": "2023-08-15T05:46:27.982135Z"
    }
   },
   "outputs": [],
   "source": [
    "footballer_name = 'Messi' # Assigned a value to a variable "
   ]
  },
  {
   "cell_type": "code",
   "execution_count": 35,
   "id": "92217e8b",
   "metadata": {
    "ExecuteTime": {
     "end_time": "2023-08-15T05:46:28.198828Z",
     "start_time": "2023-08-15T05:46:28.184743Z"
    }
   },
   "outputs": [
    {
     "data": {
      "text/plain": [
       "'Messi'"
      ]
     },
     "execution_count": 35,
     "metadata": {},
     "output_type": "execute_result"
    }
   ],
   "source": [
    "footballer_name"
   ]
  },
  {
   "cell_type": "code",
   "execution_count": 36,
   "id": "7e753c1e",
   "metadata": {
    "ExecuteTime": {
     "end_time": "2023-08-15T05:46:28.383442Z",
     "start_time": "2023-08-15T05:46:28.379568Z"
    }
   },
   "outputs": [],
   "source": [
    "first_f_name = \"Lionel\" # A string with double quotes "
   ]
  },
  {
   "cell_type": "code",
   "execution_count": 37,
   "id": "df38c447",
   "metadata": {
    "ExecuteTime": {
     "end_time": "2023-08-15T05:46:28.570296Z",
     "start_time": "2023-08-15T05:46:28.563635Z"
    }
   },
   "outputs": [
    {
     "data": {
      "text/plain": [
       "'Lionel'"
      ]
     },
     "execution_count": 37,
     "metadata": {},
     "output_type": "execute_result"
    }
   ],
   "source": [
    "first_f_name"
   ]
  },
  {
   "cell_type": "code",
   "execution_count": 38,
   "id": "8f4cf2e0",
   "metadata": {
    "ExecuteTime": {
     "end_time": "2023-08-15T05:46:28.755522Z",
     "start_time": "2023-08-15T05:46:28.749952Z"
    }
   },
   "outputs": [],
   "source": [
    "club_name = \"\"\" PSG \"\"\""
   ]
  },
  {
   "cell_type": "code",
   "execution_count": 39,
   "id": "ccdc51e0",
   "metadata": {
    "ExecuteTime": {
     "end_time": "2023-08-15T05:46:28.949966Z",
     "start_time": "2023-08-15T05:46:28.944072Z"
    }
   },
   "outputs": [
    {
     "data": {
      "text/plain": [
       "' PSG '"
      ]
     },
     "execution_count": 39,
     "metadata": {},
     "output_type": "execute_result"
    }
   ],
   "source": [
    "club_name"
   ]
  },
  {
   "cell_type": "code",
   "execution_count": 40,
   "id": "09af6d5b",
   "metadata": {
    "ExecuteTime": {
     "end_time": "2023-08-15T05:46:29.150726Z",
     "start_time": "2023-08-15T05:46:29.144303Z"
    }
   },
   "outputs": [
    {
     "ename": "SyntaxError",
     "evalue": "unterminated string literal (detected at line 2) (3770023912.py, line 2)",
     "output_type": "error",
     "traceback": [
      "\u001b[0;36m  Cell \u001b[0;32mIn[40], line 2\u001b[0;36m\u001b[0m\n\u001b[0;31m    history_messi = 'Messi's preferred foot is left'\u001b[0m\n\u001b[0m                                                   ^\u001b[0m\n\u001b[0;31mSyntaxError\u001b[0m\u001b[0;31m:\u001b[0m unterminated string literal (detected at line 2)\n"
     ]
    }
   ],
   "source": [
    "# Why a single quote instead of a double quote \n",
    "history_messi = 'Messi's preferred foot is left'"
   ]
  },
  {
   "cell_type": "code",
   "execution_count": 41,
   "id": "a38a8b48",
   "metadata": {
    "ExecuteTime": {
     "end_time": "2023-08-15T05:46:29.351360Z",
     "start_time": "2023-08-15T05:46:29.347308Z"
    }
   },
   "outputs": [],
   "source": [
    "history_messi = \"Messi's preferred foot is left\""
   ]
  },
  {
   "cell_type": "code",
   "execution_count": 42,
   "id": "ed48aad6",
   "metadata": {
    "ExecuteTime": {
     "end_time": "2023-08-15T05:46:29.541280Z",
     "start_time": "2023-08-15T05:46:29.536202Z"
    }
   },
   "outputs": [],
   "source": [
    "history_messi = 'Messi\\'s preferred foot is left'"
   ]
  },
  {
   "cell_type": "code",
   "execution_count": 43,
   "id": "2166140f",
   "metadata": {
    "ExecuteTime": {
     "end_time": "2023-08-15T05:46:29.751333Z",
     "start_time": "2023-08-15T05:46:29.745572Z"
    }
   },
   "outputs": [
    {
     "data": {
      "text/plain": [
       "\"Messi's preferred foot is left\""
      ]
     },
     "execution_count": 43,
     "metadata": {},
     "output_type": "execute_result"
    }
   ],
   "source": [
    "history_messi"
   ]
  },
  {
   "cell_type": "markdown",
   "id": "66864bf1",
   "metadata": {},
   "source": [
    "## String Methods"
   ]
  },
  {
   "cell_type": "code",
   "execution_count": 44,
   "id": "91f08c0a",
   "metadata": {
    "ExecuteTime": {
     "end_time": "2023-08-15T05:46:30.133968Z",
     "start_time": "2023-08-15T05:46:30.125196Z"
    }
   },
   "outputs": [
    {
     "data": {
      "text/plain": [
       "['__add__',\n",
       " '__class__',\n",
       " '__contains__',\n",
       " '__delattr__',\n",
       " '__dir__',\n",
       " '__doc__',\n",
       " '__eq__',\n",
       " '__format__',\n",
       " '__ge__',\n",
       " '__getattribute__',\n",
       " '__getitem__',\n",
       " '__getnewargs__',\n",
       " '__gt__',\n",
       " '__hash__',\n",
       " '__init__',\n",
       " '__init_subclass__',\n",
       " '__iter__',\n",
       " '__le__',\n",
       " '__len__',\n",
       " '__lt__',\n",
       " '__mod__',\n",
       " '__mul__',\n",
       " '__ne__',\n",
       " '__new__',\n",
       " '__reduce__',\n",
       " '__reduce_ex__',\n",
       " '__repr__',\n",
       " '__rmod__',\n",
       " '__rmul__',\n",
       " '__setattr__',\n",
       " '__sizeof__',\n",
       " '__str__',\n",
       " '__subclasshook__',\n",
       " 'capitalize',\n",
       " 'casefold',\n",
       " 'center',\n",
       " 'count',\n",
       " 'encode',\n",
       " 'endswith',\n",
       " 'expandtabs',\n",
       " 'find',\n",
       " 'format',\n",
       " 'format_map',\n",
       " 'index',\n",
       " 'isalnum',\n",
       " 'isalpha',\n",
       " 'isascii',\n",
       " 'isdecimal',\n",
       " 'isdigit',\n",
       " 'isidentifier',\n",
       " 'islower',\n",
       " 'isnumeric',\n",
       " 'isprintable',\n",
       " 'isspace',\n",
       " 'istitle',\n",
       " 'isupper',\n",
       " 'join',\n",
       " 'ljust',\n",
       " 'lower',\n",
       " 'lstrip',\n",
       " 'maketrans',\n",
       " 'partition',\n",
       " 'removeprefix',\n",
       " 'removesuffix',\n",
       " 'replace',\n",
       " 'rfind',\n",
       " 'rindex',\n",
       " 'rjust',\n",
       " 'rpartition',\n",
       " 'rsplit',\n",
       " 'rstrip',\n",
       " 'split',\n",
       " 'splitlines',\n",
       " 'startswith',\n",
       " 'strip',\n",
       " 'swapcase',\n",
       " 'title',\n",
       " 'translate',\n",
       " 'upper',\n",
       " 'zfill']"
      ]
     },
     "execution_count": 44,
     "metadata": {},
     "output_type": "execute_result"
    }
   ],
   "source": [
    "dir(footballer_name)"
   ]
  },
  {
   "cell_type": "markdown",
   "id": "71aebdc4",
   "metadata": {},
   "source": [
    "### String methods \n",
    "\n",
    "'capitalize',\n",
    " 'casefold',\n",
    " 'center',\n",
    " 'count',\n",
    " 'encode',\n",
    " 'endswith',\n",
    " 'expandtabs',\n",
    " 'find',\n",
    " 'format',\n",
    " 'format_map',\n",
    " 'index',\n",
    " 'isalnum',\n",
    " 'isalpha',\n",
    " 'isascii',\n",
    " 'isdecimal',\n",
    " 'isdigit',\n",
    " 'isidentifier',\n",
    " 'islower',\n",
    " 'isnumeric',\n",
    " 'isprintable',\n",
    " 'isspace',\n",
    " 'istitle',\n",
    " 'isupper',\n",
    " 'join',\n",
    " 'ljust',\n",
    " 'lower',\n",
    " 'lstrip',\n",
    " 'maketrans',\n",
    " 'partition',\n",
    " 'removeprefix',\n",
    " 'removesuffix',\n",
    " 'replace',\n",
    " 'rfind',\n",
    " 'rindex',\n",
    " 'rjust',\n",
    " 'rpartition',\n",
    " 'rsplit',\n",
    " 'rstrip',\n",
    " 'split',\n",
    " 'splitlines',\n",
    " 'startswith',\n",
    " 'strip',\n",
    " 'swapcase',\n",
    " 'title',\n",
    " 'translate',\n",
    " 'upper',\n",
    " 'zfill'"
   ]
  },
  {
   "cell_type": "code",
   "execution_count": 45,
   "id": "84486e1c",
   "metadata": {
    "ExecuteTime": {
     "end_time": "2023-08-15T05:46:30.851403Z",
     "start_time": "2023-08-15T05:46:30.843349Z"
    }
   },
   "outputs": [
    {
     "data": {
      "text/plain": [
       "2"
      ]
     },
     "execution_count": 45,
     "metadata": {},
     "output_type": "execute_result"
    }
   ],
   "source": [
    "footballer_name.count('s')"
   ]
  },
  {
   "cell_type": "code",
   "execution_count": 46,
   "id": "27cc01d8",
   "metadata": {
    "ExecuteTime": {
     "end_time": "2023-08-15T05:46:31.051629Z",
     "start_time": "2023-08-15T05:46:31.046388Z"
    }
   },
   "outputs": [
    {
     "data": {
      "text/plain": [
       "'MESSI'"
      ]
     },
     "execution_count": 46,
     "metadata": {},
     "output_type": "execute_result"
    }
   ],
   "source": [
    "footballer_name.upper() "
   ]
  },
  {
   "cell_type": "code",
   "execution_count": 47,
   "id": "77800f72",
   "metadata": {
    "ExecuteTime": {
     "end_time": "2023-08-15T05:46:31.258800Z",
     "start_time": "2023-08-15T05:46:31.252919Z"
    }
   },
   "outputs": [
    {
     "name": "stdout",
     "output_type": "stream",
     "text": [
      "Messi's preferred foot is left\n"
     ]
    }
   ],
   "source": [
    "print(history_messi)"
   ]
  },
  {
   "cell_type": "code",
   "execution_count": 48,
   "id": "8e5f6b0a",
   "metadata": {
    "ExecuteTime": {
     "end_time": "2023-08-15T05:46:31.641975Z",
     "start_time": "2023-08-15T05:46:31.635945Z"
    }
   },
   "outputs": [
    {
     "data": {
      "text/plain": [
       "[\"Messi's\", 'preferred', 'foot', 'is', 'left']"
      ]
     },
     "execution_count": 48,
     "metadata": {},
     "output_type": "execute_result"
    }
   ],
   "source": [
    "history_messi.split()"
   ]
  },
  {
   "cell_type": "code",
   "execution_count": 49,
   "id": "33c092e6",
   "metadata": {
    "ExecuteTime": {
     "end_time": "2023-08-15T05:46:31.844713Z",
     "start_time": "2023-08-15T05:46:31.838763Z"
    }
   },
   "outputs": [
    {
     "data": {
      "text/plain": [
       "\"Messi's\""
      ]
     },
     "execution_count": 49,
     "metadata": {},
     "output_type": "execute_result"
    }
   ],
   "source": [
    "history_messi.split()[0]"
   ]
  },
  {
   "cell_type": "markdown",
   "id": "b63ab046",
   "metadata": {},
   "source": [
    "## String Formatting"
   ]
  },
  {
   "cell_type": "code",
   "execution_count": 50,
   "id": "514c4e4e",
   "metadata": {
    "ExecuteTime": {
     "end_time": "2023-08-15T05:46:32.248401Z",
     "start_time": "2023-08-15T05:46:32.244846Z"
    }
   },
   "outputs": [],
   "source": [
    "# String substitution \n",
    "jumper = \"Ronaldo\"\n",
    "age = 38 "
   ]
  },
  {
   "cell_type": "markdown",
   "id": "f7ab42cf",
   "metadata": {},
   "source": [
    "### f-strings"
   ]
  },
  {
   "cell_type": "code",
   "execution_count": 51,
   "id": "e4f15353",
   "metadata": {
    "ExecuteTime": {
     "end_time": "2023-08-15T05:46:32.654045Z",
     "start_time": "2023-08-15T05:46:32.647655Z"
    }
   },
   "outputs": [
    {
     "name": "stdout",
     "output_type": "stream",
     "text": [
      "Ronaldo is one of the greatest footballers of all time, and he is only 38 years-old\n"
     ]
    }
   ],
   "source": [
    "print(\n",
    "    f\"{jumper} is one of the greatest footballers of all time, and he is only {age} years-old\"\n",
    ")"
   ]
  },
  {
   "cell_type": "code",
   "execution_count": 52,
   "id": "16a8fc12",
   "metadata": {
    "ExecuteTime": {
     "end_time": "2023-08-15T05:46:32.896929Z",
     "start_time": "2023-08-15T05:46:32.892841Z"
    }
   },
   "outputs": [
    {
     "name": "stdout",
     "output_type": "stream",
     "text": [
      "RONALDO is one of the greatest footballers of all time, and he is only 38 years-old\n"
     ]
    }
   ],
   "source": [
    "print(\n",
    "    f\"{jumper.upper()} is one of the greatest footballers of all time, and he is only {age} years-old\"\n",
    ")"
   ]
  },
  {
   "cell_type": "markdown",
   "id": "eedaa5da",
   "metadata": {},
   "source": [
    "### String Formatting with .format()"
   ]
  },
  {
   "cell_type": "code",
   "execution_count": 53,
   "id": "f3a3a3a4",
   "metadata": {
    "ExecuteTime": {
     "end_time": "2023-08-15T05:46:33.327334Z",
     "start_time": "2023-08-15T05:46:33.315887Z"
    }
   },
   "outputs": [
    {
     "name": "stdout",
     "output_type": "stream",
     "text": [
      "Ronaldo\n"
     ]
    }
   ],
   "source": [
    "print(jumper)"
   ]
  },
  {
   "cell_type": "code",
   "execution_count": 54,
   "id": "891aff50",
   "metadata": {
    "ExecuteTime": {
     "end_time": "2023-08-15T05:46:33.742293Z",
     "start_time": "2023-08-15T05:46:33.727172Z"
    }
   },
   "outputs": [
    {
     "name": "stdout",
     "output_type": "stream",
     "text": [
      "38\n"
     ]
    }
   ],
   "source": [
    "print(age)"
   ]
  },
  {
   "cell_type": "code",
   "execution_count": 55,
   "id": "8e6e7e75",
   "metadata": {
    "ExecuteTime": {
     "end_time": "2023-08-15T05:46:34.316282Z",
     "start_time": "2023-08-15T05:46:34.313144Z"
    }
   },
   "outputs": [],
   "source": [
    "height = 6.3 "
   ]
  },
  {
   "cell_type": "code",
   "execution_count": 56,
   "id": "4bdc1d27",
   "metadata": {
    "ExecuteTime": {
     "end_time": "2023-08-15T05:46:34.518592Z",
     "start_time": "2023-08-15T05:46:34.514157Z"
    }
   },
   "outputs": [
    {
     "name": "stdout",
     "output_type": "stream",
     "text": [
      "Who is one of the greatest athletes of all time; Ronaldo. How old is he? 38.\n"
     ]
    }
   ],
   "source": [
    "print(\n",
    "    \"Who is one of the greatest athletes of all time; {}. How old is he? {}.\".\n",
    "    format(jumper, age))"
   ]
  },
  {
   "cell_type": "markdown",
   "id": "6102b80a",
   "metadata": {},
   "source": [
    "## String Concatenation"
   ]
  },
  {
   "cell_type": "code",
   "execution_count": 57,
   "id": "4b6474ca",
   "metadata": {
    "ExecuteTime": {
     "end_time": "2023-08-15T05:46:35.124036Z",
     "start_time": "2023-08-15T05:46:35.119600Z"
    }
   },
   "outputs": [],
   "source": [
    "var1 = 'My name is' # String concatenation "
   ]
  },
  {
   "cell_type": "code",
   "execution_count": 58,
   "id": "70532b1f",
   "metadata": {
    "ExecuteTime": {
     "end_time": "2023-08-15T05:46:35.328462Z",
     "start_time": "2023-08-15T05:46:35.322948Z"
    }
   },
   "outputs": [],
   "source": [
    "var2 = 'Pablo' # full_name = var1 + ' ' + var2 "
   ]
  },
  {
   "cell_type": "code",
   "execution_count": 59,
   "id": "af6dbdc7",
   "metadata": {
    "ExecuteTime": {
     "end_time": "2023-08-15T05:46:35.536992Z",
     "start_time": "2023-08-15T05:46:35.529199Z"
    }
   },
   "outputs": [
    {
     "data": {
      "text/plain": [
       "'My name isPablo'"
      ]
     },
     "execution_count": 59,
     "metadata": {},
     "output_type": "execute_result"
    }
   ],
   "source": [
    "var1 + var2 # Concatenating both variables  "
   ]
  },
  {
   "cell_type": "code",
   "execution_count": 60,
   "id": "b72a2a9c",
   "metadata": {
    "ExecuteTime": {
     "end_time": "2023-08-15T05:46:35.738334Z",
     "start_time": "2023-08-15T05:46:35.731531Z"
    }
   },
   "outputs": [
    {
     "data": {
      "text/plain": [
       "'My name is Pablo'"
      ]
     },
     "execution_count": 60,
     "metadata": {},
     "output_type": "execute_result"
    }
   ],
   "source": [
    "var1 + ' ' + var2 "
   ]
  },
  {
   "cell_type": "markdown",
   "id": "463b8b3e",
   "metadata": {},
   "source": [
    "### The Join method"
   ]
  },
  {
   "cell_type": "code",
   "execution_count": 61,
   "id": "810c166c",
   "metadata": {
    "ExecuteTime": {
     "end_time": "2023-08-15T05:46:36.132861Z",
     "start_time": "2023-08-15T05:46:36.126615Z"
    }
   },
   "outputs": [
    {
     "data": {
      "text/plain": [
       "'My name isPablo'"
      ]
     },
     "execution_count": 61,
     "metadata": {},
     "output_type": "execute_result"
    }
   ],
   "source": [
    "''.join([var1, var2]) # The join method "
   ]
  },
  {
   "cell_type": "code",
   "execution_count": 62,
   "id": "c1fb761d",
   "metadata": {
    "ExecuteTime": {
     "end_time": "2023-08-15T05:46:36.322784Z",
     "start_time": "2023-08-15T05:46:36.315701Z"
    }
   },
   "outputs": [
    {
     "data": {
      "text/plain": [
       "'My name is Pablo'"
      ]
     },
     "execution_count": 62,
     "metadata": {},
     "output_type": "execute_result"
    }
   ],
   "source": [
    "' '.join([var1, var2])"
   ]
  },
  {
   "cell_type": "markdown",
   "id": "c258d912",
   "metadata": {},
   "source": [
    "## String Slicing "
   ]
  },
  {
   "cell_type": "code",
   "execution_count": 63,
   "id": "5badb060",
   "metadata": {
    "ExecuteTime": {
     "end_time": "2023-08-15T05:46:36.747587Z",
     "start_time": "2023-08-15T05:46:36.743618Z"
    }
   },
   "outputs": [],
   "source": [
    "name = 'Pablo' # String slicing "
   ]
  },
  {
   "cell_type": "code",
   "execution_count": 64,
   "id": "0cfc84dc",
   "metadata": {
    "ExecuteTime": {
     "end_time": "2023-08-15T05:46:36.952065Z",
     "start_time": "2023-08-15T05:46:36.946544Z"
    }
   },
   "outputs": [
    {
     "data": {
      "text/plain": [
       "'Pab'"
      ]
     },
     "execution_count": 64,
     "metadata": {},
     "output_type": "execute_result"
    }
   ],
   "source": [
    "name[0:3]"
   ]
  },
  {
   "cell_type": "code",
   "execution_count": 65,
   "id": "b68c5798",
   "metadata": {
    "ExecuteTime": {
     "end_time": "2023-08-15T05:46:37.166305Z",
     "start_time": "2023-08-15T05:46:37.152503Z"
    }
   },
   "outputs": [
    {
     "data": {
      "text/plain": [
       "'This is a Python Tutor'"
      ]
     },
     "execution_count": 65,
     "metadata": {},
     "output_type": "execute_result"
    }
   ],
   "source": [
    "'This is a Python Tutorials'[0:-4]"
   ]
  },
  {
   "cell_type": "code",
   "execution_count": 66,
   "id": "e8b09b4e",
   "metadata": {
    "ExecuteTime": {
     "end_time": "2023-08-15T05:46:37.356810Z",
     "start_time": "2023-08-15T05:46:37.349952Z"
    }
   },
   "outputs": [
    {
     "data": {
      "text/plain": [
       "'Pab'"
      ]
     },
     "execution_count": 66,
     "metadata": {},
     "output_type": "execute_result"
    }
   ],
   "source": [
    "name[0:3]"
   ]
  },
  {
   "cell_type": "code",
   "execution_count": 67,
   "id": "35996f78",
   "metadata": {
    "ExecuteTime": {
     "end_time": "2023-08-15T05:46:37.567214Z",
     "start_time": "2023-08-15T05:46:37.561992Z"
    }
   },
   "outputs": [
    {
     "data": {
      "text/plain": [
       "'This is a Python Tu'"
      ]
     },
     "execution_count": 67,
     "metadata": {},
     "output_type": "execute_result"
    }
   ],
   "source": [
    "'This is a Python Tutorial'[:-6]"
   ]
  },
  {
   "cell_type": "markdown",
   "id": "37bf8695",
   "metadata": {},
   "source": [
    "## Numeric Data Types"
   ]
  },
  {
   "cell_type": "code",
   "execution_count": 68,
   "id": "09eebf92",
   "metadata": {
    "ExecuteTime": {
     "end_time": "2023-08-15T05:46:37.989299Z",
     "start_time": "2023-08-15T05:46:37.985808Z"
    }
   },
   "outputs": [],
   "source": [
    "# Int - Integer\n",
    "# float - Float\n",
    "# Complex"
   ]
  },
  {
   "cell_type": "code",
   "execution_count": 69,
   "id": "39383888",
   "metadata": {
    "ExecuteTime": {
     "end_time": "2023-08-15T05:46:38.197595Z",
     "start_time": "2023-08-15T05:46:38.194266Z"
    }
   },
   "outputs": [],
   "source": [
    "number_1 = 10 # Assigned a value of type int to a variable number_1"
   ]
  },
  {
   "cell_type": "code",
   "execution_count": 70,
   "id": "2cd4397c",
   "metadata": {
    "ExecuteTime": {
     "end_time": "2023-08-15T05:46:38.398584Z",
     "start_time": "2023-08-15T05:46:38.394250Z"
    }
   },
   "outputs": [
    {
     "name": "stdout",
     "output_type": "stream",
     "text": [
      "10\n"
     ]
    }
   ],
   "source": [
    "print(number_1)"
   ]
  },
  {
   "cell_type": "code",
   "execution_count": 71,
   "id": "024cdea7",
   "metadata": {
    "ExecuteTime": {
     "end_time": "2023-08-15T05:46:38.603909Z",
     "start_time": "2023-08-15T05:46:38.595585Z"
    }
   },
   "outputs": [
    {
     "data": {
      "text/plain": [
       "int"
      ]
     },
     "execution_count": 71,
     "metadata": {},
     "output_type": "execute_result"
    }
   ],
   "source": [
    "type(number_1)"
   ]
  },
  {
   "cell_type": "code",
   "execution_count": 72,
   "id": "97fb8a5c",
   "metadata": {
    "ExecuteTime": {
     "end_time": "2023-08-15T05:46:38.814915Z",
     "start_time": "2023-08-15T05:46:38.808190Z"
    }
   },
   "outputs": [
    {
     "data": {
      "text/plain": [
       "['__abs__',\n",
       " '__add__',\n",
       " '__and__',\n",
       " '__bool__',\n",
       " '__ceil__',\n",
       " '__class__',\n",
       " '__delattr__',\n",
       " '__dir__',\n",
       " '__divmod__',\n",
       " '__doc__',\n",
       " '__eq__',\n",
       " '__float__',\n",
       " '__floor__',\n",
       " '__floordiv__',\n",
       " '__format__',\n",
       " '__ge__',\n",
       " '__getattribute__',\n",
       " '__getnewargs__',\n",
       " '__gt__',\n",
       " '__hash__',\n",
       " '__index__',\n",
       " '__init__',\n",
       " '__init_subclass__',\n",
       " '__int__',\n",
       " '__invert__',\n",
       " '__le__',\n",
       " '__lshift__',\n",
       " '__lt__',\n",
       " '__mod__',\n",
       " '__mul__',\n",
       " '__ne__',\n",
       " '__neg__',\n",
       " '__new__',\n",
       " '__or__',\n",
       " '__pos__',\n",
       " '__pow__',\n",
       " '__radd__',\n",
       " '__rand__',\n",
       " '__rdivmod__',\n",
       " '__reduce__',\n",
       " '__reduce_ex__',\n",
       " '__repr__',\n",
       " '__rfloordiv__',\n",
       " '__rlshift__',\n",
       " '__rmod__',\n",
       " '__rmul__',\n",
       " '__ror__',\n",
       " '__round__',\n",
       " '__rpow__',\n",
       " '__rrshift__',\n",
       " '__rshift__',\n",
       " '__rsub__',\n",
       " '__rtruediv__',\n",
       " '__rxor__',\n",
       " '__setattr__',\n",
       " '__sizeof__',\n",
       " '__str__',\n",
       " '__sub__',\n",
       " '__subclasshook__',\n",
       " '__truediv__',\n",
       " '__trunc__',\n",
       " '__xor__',\n",
       " 'as_integer_ratio',\n",
       " 'bit_count',\n",
       " 'bit_length',\n",
       " 'conjugate',\n",
       " 'denominator',\n",
       " 'from_bytes',\n",
       " 'imag',\n",
       " 'numerator',\n",
       " 'real',\n",
       " 'to_bytes']"
      ]
     },
     "execution_count": 72,
     "metadata": {},
     "output_type": "execute_result"
    }
   ],
   "source": [
    "dir(number_1)"
   ]
  },
  {
   "cell_type": "markdown",
   "id": "1209de2b",
   "metadata": {},
   "source": [
    "### Int Methods\n",
    "\n",
    "'as_integer_ratio',\n",
    " 'bit_length',\n",
    " 'conjugate',\n",
    " 'denominator',\n",
    " 'from_bytes',\n",
    " 'imag',\n",
    " 'numerator',\n",
    " 'real',\n",
    " 'to_bytes'"
   ]
  },
  {
   "cell_type": "code",
   "execution_count": 73,
   "id": "7317f454",
   "metadata": {
    "ExecuteTime": {
     "end_time": "2023-08-15T05:46:39.212876Z",
     "start_time": "2023-08-15T05:46:39.208512Z"
    }
   },
   "outputs": [],
   "source": [
    "number_2 = '10'"
   ]
  },
  {
   "cell_type": "code",
   "execution_count": 74,
   "id": "ed5b63b7",
   "metadata": {
    "ExecuteTime": {
     "end_time": "2023-08-15T05:46:39.421777Z",
     "start_time": "2023-08-15T05:46:39.414405Z"
    }
   },
   "outputs": [
    {
     "data": {
      "text/plain": [
       "str"
      ]
     },
     "execution_count": 74,
     "metadata": {},
     "output_type": "execute_result"
    }
   ],
   "source": [
    "type(number_2)"
   ]
  },
  {
   "cell_type": "code",
   "execution_count": 75,
   "id": "7f18a784",
   "metadata": {
    "ExecuteTime": {
     "end_time": "2023-08-15T05:46:39.641495Z",
     "start_time": "2023-08-15T05:46:39.637183Z"
    }
   },
   "outputs": [],
   "source": [
    "number_2 = int(number_2)"
   ]
  },
  {
   "cell_type": "code",
   "execution_count": 76,
   "id": "34e09509",
   "metadata": {
    "ExecuteTime": {
     "end_time": "2023-08-15T05:46:39.859257Z",
     "start_time": "2023-08-15T05:46:39.849596Z"
    }
   },
   "outputs": [
    {
     "data": {
      "text/plain": [
       "int"
      ]
     },
     "execution_count": 76,
     "metadata": {},
     "output_type": "execute_result"
    }
   ],
   "source": [
    "type(number_2)"
   ]
  },
  {
   "cell_type": "markdown",
   "id": "b4f7fc50",
   "metadata": {},
   "source": [
    "## Floats"
   ]
  },
  {
   "cell_type": "code",
   "execution_count": 77,
   "id": "e59eb716",
   "metadata": {
    "ExecuteTime": {
     "end_time": "2023-08-15T05:46:40.299348Z",
     "start_time": "2023-08-15T05:46:40.291521Z"
    }
   },
   "outputs": [
    {
     "data": {
      "text/plain": [
       "10"
      ]
     },
     "execution_count": 77,
     "metadata": {},
     "output_type": "execute_result"
    }
   ],
   "source": [
    "# 10\n",
    "number_1"
   ]
  },
  {
   "cell_type": "code",
   "execution_count": 78,
   "id": "5a99b3f1",
   "metadata": {
    "ExecuteTime": {
     "end_time": "2023-08-15T05:46:40.503961Z",
     "start_time": "2023-08-15T05:46:40.497174Z"
    }
   },
   "outputs": [],
   "source": [
    "number_3 = 10.0 # Assigned the value 10.0 (float) to the variable number_3 "
   ]
  },
  {
   "cell_type": "code",
   "execution_count": 79,
   "id": "861111f7",
   "metadata": {
    "ExecuteTime": {
     "end_time": "2023-08-15T05:46:40.730888Z",
     "start_time": "2023-08-15T05:46:40.723275Z"
    }
   },
   "outputs": [
    {
     "data": {
      "text/plain": [
       "float"
      ]
     },
     "execution_count": 79,
     "metadata": {},
     "output_type": "execute_result"
    }
   ],
   "source": [
    "type(number_3)"
   ]
  },
  {
   "cell_type": "code",
   "execution_count": 80,
   "id": "e8d6d2ee",
   "metadata": {
    "ExecuteTime": {
     "end_time": "2023-08-15T05:46:40.933543Z",
     "start_time": "2023-08-15T05:46:40.926987Z"
    }
   },
   "outputs": [
    {
     "data": {
      "text/plain": [
       "int"
      ]
     },
     "execution_count": 80,
     "metadata": {},
     "output_type": "execute_result"
    }
   ],
   "source": [
    "type(number_2) "
   ]
  },
  {
   "cell_type": "code",
   "execution_count": 81,
   "id": "17bd9a42",
   "metadata": {
    "ExecuteTime": {
     "end_time": "2023-08-15T05:46:41.138984Z",
     "start_time": "2023-08-15T05:46:41.135395Z"
    }
   },
   "outputs": [],
   "source": [
    "number_2_float = float(number_2)"
   ]
  },
  {
   "cell_type": "code",
   "execution_count": 82,
   "id": "fb5e10a7",
   "metadata": {
    "ExecuteTime": {
     "end_time": "2023-08-15T05:46:41.355460Z",
     "start_time": "2023-08-15T05:46:41.348168Z"
    }
   },
   "outputs": [
    {
     "data": {
      "text/plain": [
       "float"
      ]
     },
     "execution_count": 82,
     "metadata": {},
     "output_type": "execute_result"
    }
   ],
   "source": [
    "type(number_2_float)"
   ]
  },
  {
   "cell_type": "code",
   "execution_count": 83,
   "id": "d9be91ee",
   "metadata": {
    "ExecuteTime": {
     "end_time": "2023-08-15T05:46:41.590222Z",
     "start_time": "2023-08-15T05:46:41.579547Z"
    }
   },
   "outputs": [
    {
     "data": {
      "text/plain": [
       "10.0"
      ]
     },
     "execution_count": 83,
     "metadata": {},
     "output_type": "execute_result"
    }
   ],
   "source": [
    "number_2_float"
   ]
  },
  {
   "cell_type": "code",
   "execution_count": 84,
   "id": "bcd81d09",
   "metadata": {
    "ExecuteTime": {
     "end_time": "2023-08-15T05:46:41.768914Z",
     "start_time": "2023-08-15T05:46:41.761172Z"
    }
   },
   "outputs": [
    {
     "data": {
      "text/plain": [
       "['__abs__',\n",
       " '__add__',\n",
       " '__bool__',\n",
       " '__ceil__',\n",
       " '__class__',\n",
       " '__delattr__',\n",
       " '__dir__',\n",
       " '__divmod__',\n",
       " '__doc__',\n",
       " '__eq__',\n",
       " '__float__',\n",
       " '__floor__',\n",
       " '__floordiv__',\n",
       " '__format__',\n",
       " '__ge__',\n",
       " '__getattribute__',\n",
       " '__getformat__',\n",
       " '__getnewargs__',\n",
       " '__gt__',\n",
       " '__hash__',\n",
       " '__init__',\n",
       " '__init_subclass__',\n",
       " '__int__',\n",
       " '__le__',\n",
       " '__lt__',\n",
       " '__mod__',\n",
       " '__mul__',\n",
       " '__ne__',\n",
       " '__neg__',\n",
       " '__new__',\n",
       " '__pos__',\n",
       " '__pow__',\n",
       " '__radd__',\n",
       " '__rdivmod__',\n",
       " '__reduce__',\n",
       " '__reduce_ex__',\n",
       " '__repr__',\n",
       " '__rfloordiv__',\n",
       " '__rmod__',\n",
       " '__rmul__',\n",
       " '__round__',\n",
       " '__rpow__',\n",
       " '__rsub__',\n",
       " '__rtruediv__',\n",
       " '__setattr__',\n",
       " '__setformat__',\n",
       " '__sizeof__',\n",
       " '__str__',\n",
       " '__sub__',\n",
       " '__subclasshook__',\n",
       " '__truediv__',\n",
       " '__trunc__',\n",
       " 'as_integer_ratio',\n",
       " 'conjugate',\n",
       " 'fromhex',\n",
       " 'hex',\n",
       " 'imag',\n",
       " 'is_integer',\n",
       " 'real']"
      ]
     },
     "execution_count": 84,
     "metadata": {},
     "output_type": "execute_result"
    }
   ],
   "source": [
    "dir(number_2_float)"
   ]
  },
  {
   "cell_type": "markdown",
   "id": "8d487241",
   "metadata": {},
   "source": [
    "## Complex Numbers"
   ]
  },
  {
   "cell_type": "code",
   "execution_count": 85,
   "id": "c622bebf",
   "metadata": {
    "ExecuteTime": {
     "end_time": "2023-08-15T05:46:42.154346Z",
     "start_time": "2023-08-15T05:46:42.149805Z"
    }
   },
   "outputs": [],
   "source": [
    "num_int = 15 # Int"
   ]
  },
  {
   "cell_type": "code",
   "execution_count": 86,
   "id": "b50e66ed",
   "metadata": {
    "ExecuteTime": {
     "end_time": "2023-08-15T05:46:42.350478Z",
     "start_time": "2023-08-15T05:46:42.345174Z"
    }
   },
   "outputs": [
    {
     "data": {
      "text/plain": [
       "int"
      ]
     },
     "execution_count": 86,
     "metadata": {},
     "output_type": "execute_result"
    }
   ],
   "source": [
    "type(num_int)"
   ]
  },
  {
   "cell_type": "code",
   "execution_count": 87,
   "id": "14b72267",
   "metadata": {
    "ExecuteTime": {
     "end_time": "2023-08-15T05:46:42.553176Z",
     "start_time": "2023-08-15T05:46:42.549787Z"
    }
   },
   "outputs": [],
   "source": [
    "num_float = 15.5 "
   ]
  },
  {
   "cell_type": "code",
   "execution_count": 88,
   "id": "21d4d088",
   "metadata": {
    "ExecuteTime": {
     "end_time": "2023-08-15T05:46:42.814838Z",
     "start_time": "2023-08-15T05:46:42.807282Z"
    }
   },
   "outputs": [
    {
     "data": {
      "text/plain": [
       "float"
      ]
     },
     "execution_count": 88,
     "metadata": {},
     "output_type": "execute_result"
    }
   ],
   "source": [
    "type(num_float)"
   ]
  },
  {
   "cell_type": "code",
   "execution_count": 89,
   "id": "8c31af50",
   "metadata": {
    "ExecuteTime": {
     "end_time": "2023-08-15T05:46:42.971043Z",
     "start_time": "2023-08-15T05:46:42.967419Z"
    }
   },
   "outputs": [],
   "source": [
    "complex_num = 4 + 3j "
   ]
  },
  {
   "cell_type": "code",
   "execution_count": 90,
   "id": "9efcd474",
   "metadata": {
    "ExecuteTime": {
     "end_time": "2023-08-15T05:46:43.166364Z",
     "start_time": "2023-08-15T05:46:43.160393Z"
    }
   },
   "outputs": [
    {
     "data": {
      "text/plain": [
       "complex"
      ]
     },
     "execution_count": 90,
     "metadata": {},
     "output_type": "execute_result"
    }
   ],
   "source": [
    "type(complex_num)"
   ]
  },
  {
   "cell_type": "code",
   "execution_count": 91,
   "id": "7e01bfb7",
   "metadata": {
    "ExecuteTime": {
     "end_time": "2023-08-15T05:46:43.372885Z",
     "start_time": "2023-08-15T05:46:43.365118Z"
    }
   },
   "outputs": [
    {
     "data": {
      "text/plain": [
       "4.0"
      ]
     },
     "execution_count": 91,
     "metadata": {},
     "output_type": "execute_result"
    }
   ],
   "source": [
    "complex_num.real"
   ]
  },
  {
   "cell_type": "code",
   "execution_count": 92,
   "id": "4304275f",
   "metadata": {
    "ExecuteTime": {
     "end_time": "2023-08-15T05:46:43.561724Z",
     "start_time": "2023-08-15T05:46:43.555174Z"
    }
   },
   "outputs": [
    {
     "data": {
      "text/plain": [
       "3.0"
      ]
     },
     "execution_count": 92,
     "metadata": {},
     "output_type": "execute_result"
    }
   ],
   "source": [
    "complex_num.imag"
   ]
  },
  {
   "cell_type": "markdown",
   "id": "6c5a7bdd",
   "metadata": {},
   "source": [
    "## Numeric Operation in Python"
   ]
  },
  {
   "cell_type": "code",
   "execution_count": 93,
   "id": "ff26db73",
   "metadata": {
    "ExecuteTime": {
     "end_time": "2023-08-15T05:46:43.963458Z",
     "start_time": "2023-08-15T05:46:43.958397Z"
    }
   },
   "outputs": [],
   "source": [
    "number_4 = 100 # Assigned 100 to a variable\n",
    "number_5 = 10 # Assigned 10 to a variable"
   ]
  },
  {
   "cell_type": "code",
   "execution_count": 94,
   "id": "d3edb158",
   "metadata": {
    "ExecuteTime": {
     "end_time": "2023-08-15T05:46:44.171820Z",
     "start_time": "2023-08-15T05:46:44.164570Z"
    }
   },
   "outputs": [
    {
     "data": {
      "text/plain": [
       "110"
      ]
     },
     "execution_count": 94,
     "metadata": {},
     "output_type": "execute_result"
    }
   ],
   "source": [
    "number_4 + number_5 # Addition "
   ]
  },
  {
   "cell_type": "code",
   "execution_count": 95,
   "id": "9e194acc",
   "metadata": {
    "ExecuteTime": {
     "end_time": "2023-08-15T05:46:44.365567Z",
     "start_time": "2023-08-15T05:46:44.360041Z"
    }
   },
   "outputs": [
    {
     "data": {
      "text/plain": [
       "90"
      ]
     },
     "execution_count": 95,
     "metadata": {},
     "output_type": "execute_result"
    }
   ],
   "source": [
    "number_4 - number_5 # Subtraction"
   ]
  },
  {
   "cell_type": "code",
   "execution_count": 96,
   "id": "ca9b4e0a",
   "metadata": {
    "ExecuteTime": {
     "end_time": "2023-08-15T05:46:44.590190Z",
     "start_time": "2023-08-15T05:46:44.584803Z"
    }
   },
   "outputs": [
    {
     "data": {
      "text/plain": [
       "1000"
      ]
     },
     "execution_count": 96,
     "metadata": {},
     "output_type": "execute_result"
    }
   ],
   "source": [
    "number_4 * number_5 # Multiplication "
   ]
  },
  {
   "cell_type": "code",
   "execution_count": 97,
   "id": "2d9fdf7d",
   "metadata": {
    "ExecuteTime": {
     "end_time": "2023-08-15T05:46:44.771855Z",
     "start_time": "2023-08-15T05:46:44.765719Z"
    }
   },
   "outputs": [
    {
     "data": {
      "text/plain": [
       "10.0"
      ]
     },
     "execution_count": 97,
     "metadata": {},
     "output_type": "execute_result"
    }
   ],
   "source": [
    "number_4 / number_5 # Division "
   ]
  },
  {
   "cell_type": "code",
   "execution_count": 98,
   "id": "c669e20e",
   "metadata": {
    "ExecuteTime": {
     "end_time": "2023-08-15T05:46:44.988856Z",
     "start_time": "2023-08-15T05:46:44.981919Z"
    }
   },
   "outputs": [
    {
     "data": {
      "text/plain": [
       "10"
      ]
     },
     "execution_count": 98,
     "metadata": {},
     "output_type": "execute_result"
    }
   ],
   "source": [
    "number_4 // number_5 # Floored Division"
   ]
  },
  {
   "cell_type": "code",
   "execution_count": 99,
   "id": "be96ff0a",
   "metadata": {
    "ExecuteTime": {
     "end_time": "2023-08-15T05:46:45.186710Z",
     "start_time": "2023-08-15T05:46:45.178908Z"
    }
   },
   "outputs": [
    {
     "data": {
      "text/plain": [
       "3.3333333333333335"
      ]
     },
     "execution_count": 99,
     "metadata": {},
     "output_type": "execute_result"
    }
   ],
   "source": [
    "10 / 3  "
   ]
  },
  {
   "cell_type": "code",
   "execution_count": 100,
   "id": "f8fcc61d",
   "metadata": {
    "ExecuteTime": {
     "end_time": "2023-08-15T05:46:45.369774Z",
     "start_time": "2023-08-15T05:46:45.364026Z"
    }
   },
   "outputs": [
    {
     "data": {
      "text/plain": [
       "0"
      ]
     },
     "execution_count": 100,
     "metadata": {},
     "output_type": "execute_result"
    }
   ],
   "source": [
    "number_4 % number_5 # Modulus  "
   ]
  },
  {
   "cell_type": "code",
   "execution_count": 101,
   "id": "cf151644",
   "metadata": {
    "ExecuteTime": {
     "end_time": "2023-08-15T05:46:45.588380Z",
     "start_time": "2023-08-15T05:46:45.582993Z"
    }
   },
   "outputs": [
    {
     "data": {
      "text/plain": [
       "4"
      ]
     },
     "execution_count": 101,
     "metadata": {},
     "output_type": "execute_result"
    }
   ],
   "source": [
    "100 % 8 "
   ]
  },
  {
   "cell_type": "markdown",
   "id": "d682f0e2",
   "metadata": {},
   "source": [
    "### Augmented Assignment "
   ]
  },
  {
   "cell_type": "code",
   "execution_count": 102,
   "id": "fdef1a44",
   "metadata": {
    "ExecuteTime": {
     "end_time": "2023-08-15T05:46:45.996399Z",
     "start_time": "2023-08-15T05:46:45.992036Z"
    }
   },
   "outputs": [],
   "source": [
    "# += -= *=  "
   ]
  },
  {
   "cell_type": "code",
   "execution_count": 103,
   "id": "3536c87f",
   "metadata": {
    "ExecuteTime": {
     "end_time": "2023-08-15T05:46:46.366413Z",
     "start_time": "2023-08-15T05:46:46.361870Z"
    }
   },
   "outputs": [],
   "source": [
    "number_6 = 10 "
   ]
  },
  {
   "cell_type": "code",
   "execution_count": 104,
   "id": "a9b9e8a8",
   "metadata": {
    "ExecuteTime": {
     "end_time": "2023-08-15T05:46:46.568565Z",
     "start_time": "2023-08-15T05:46:46.562319Z"
    }
   },
   "outputs": [],
   "source": [
    "number_6 = number_6 + 10 "
   ]
  },
  {
   "cell_type": "code",
   "execution_count": 105,
   "id": "b0a33a4f",
   "metadata": {
    "ExecuteTime": {
     "end_time": "2023-08-15T05:46:46.777472Z",
     "start_time": "2023-08-15T05:46:46.771082Z"
    }
   },
   "outputs": [
    {
     "data": {
      "text/plain": [
       "20"
      ]
     },
     "execution_count": 105,
     "metadata": {},
     "output_type": "execute_result"
    }
   ],
   "source": [
    "number_6"
   ]
  },
  {
   "cell_type": "code",
   "execution_count": 106,
   "id": "eb6a13b2",
   "metadata": {
    "ExecuteTime": {
     "end_time": "2023-08-15T05:46:46.981829Z",
     "start_time": "2023-08-15T05:46:46.977368Z"
    }
   },
   "outputs": [],
   "source": [
    "number_6 += 10  # Augmented Assignment "
   ]
  },
  {
   "cell_type": "code",
   "execution_count": 107,
   "id": "4253f433",
   "metadata": {
    "ExecuteTime": {
     "end_time": "2023-08-15T05:46:47.189230Z",
     "start_time": "2023-08-15T05:46:47.180673Z"
    }
   },
   "outputs": [
    {
     "data": {
      "text/plain": [
       "30"
      ]
     },
     "execution_count": 107,
     "metadata": {},
     "output_type": "execute_result"
    }
   ],
   "source": [
    "number_6"
   ]
  },
  {
   "cell_type": "code",
   "execution_count": 108,
   "id": "3fdee492",
   "metadata": {
    "ExecuteTime": {
     "end_time": "2023-08-15T05:46:47.369402Z",
     "start_time": "2023-08-15T05:46:47.363868Z"
    }
   },
   "outputs": [],
   "source": [
    "number_6 *= 10"
   ]
  },
  {
   "cell_type": "code",
   "execution_count": 109,
   "id": "5db2bac7",
   "metadata": {
    "ExecuteTime": {
     "end_time": "2023-08-15T05:46:47.591046Z",
     "start_time": "2023-08-15T05:46:47.579385Z"
    }
   },
   "outputs": [
    {
     "data": {
      "text/plain": [
       "300"
      ]
     },
     "execution_count": 109,
     "metadata": {},
     "output_type": "execute_result"
    }
   ],
   "source": [
    "number_6"
   ]
  },
  {
   "cell_type": "markdown",
   "id": "c50f49d5",
   "metadata": {},
   "source": [
    "## Introduction to Python Lists"
   ]
  },
  {
   "cell_type": "code",
   "execution_count": 110,
   "id": "3b079042",
   "metadata": {
    "ExecuteTime": {
     "end_time": "2023-08-15T05:46:48.010188Z",
     "start_time": "2023-08-15T05:46:48.007706Z"
    }
   },
   "outputs": [],
   "source": [
    "# It is mutable - changeable & modifiable\n",
    "# Elements inside a list have different data types \n",
    "# A list is sequential\n",
    "# Create a list using []"
   ]
  },
  {
   "cell_type": "markdown",
   "id": "4071d3ec",
   "metadata": {},
   "source": [
    "### Create a list "
   ]
  },
  {
   "cell_type": "code",
   "execution_count": 111,
   "id": "b64d2329",
   "metadata": {
    "ExecuteTime": {
     "end_time": "2023-08-15T05:46:48.385394Z",
     "start_time": "2023-08-15T05:46:48.380781Z"
    }
   },
   "outputs": [],
   "source": [
    "list_elements = ['Pablo', 2023, 'April', True, 456]"
   ]
  },
  {
   "cell_type": "code",
   "execution_count": 112,
   "id": "5d377f12",
   "metadata": {
    "ExecuteTime": {
     "end_time": "2023-08-15T05:46:48.567898Z",
     "start_time": "2023-08-15T05:46:48.562162Z"
    }
   },
   "outputs": [
    {
     "name": "stdout",
     "output_type": "stream",
     "text": [
      "['Pablo', 2023, 'April', True, 456]\n"
     ]
    }
   ],
   "source": [
    "print(list_elements)"
   ]
  },
  {
   "cell_type": "markdown",
   "id": "f2865aab",
   "metadata": {},
   "source": [
    "### Another way to create a list"
   ]
  },
  {
   "cell_type": "code",
   "execution_count": 113,
   "id": "907e3893",
   "metadata": {
    "ExecuteTime": {
     "end_time": "2023-08-15T05:46:48.960524Z",
     "start_time": "2023-08-15T05:46:48.955670Z"
    }
   },
   "outputs": [],
   "source": [
    "# A list function\n",
    "set_char = 'A set of characters'"
   ]
  },
  {
   "cell_type": "code",
   "execution_count": 114,
   "id": "ddaf52fb",
   "metadata": {
    "ExecuteTime": {
     "end_time": "2023-08-15T05:46:49.165163Z",
     "start_time": "2023-08-15T05:46:49.158898Z"
    }
   },
   "outputs": [
    {
     "data": {
      "text/plain": [
       "str"
      ]
     },
     "execution_count": 114,
     "metadata": {},
     "output_type": "execute_result"
    }
   ],
   "source": [
    "type(set_char)"
   ]
  },
  {
   "cell_type": "code",
   "execution_count": 115,
   "id": "a5933c37",
   "metadata": {
    "ExecuteTime": {
     "end_time": "2023-08-15T05:46:49.348522Z",
     "start_time": "2023-08-15T05:46:49.345454Z"
    }
   },
   "outputs": [],
   "source": [
    "set_char_list = list(set_char)"
   ]
  },
  {
   "cell_type": "code",
   "execution_count": 116,
   "id": "3cdd3a6c",
   "metadata": {
    "ExecuteTime": {
     "end_time": "2023-08-15T05:46:49.540234Z",
     "start_time": "2023-08-15T05:46:49.533567Z"
    }
   },
   "outputs": [
    {
     "data": {
      "text/plain": [
       "list"
      ]
     },
     "execution_count": 116,
     "metadata": {},
     "output_type": "execute_result"
    }
   ],
   "source": [
    "type(set_char_list)"
   ]
  },
  {
   "cell_type": "code",
   "execution_count": 117,
   "id": "32778def",
   "metadata": {
    "ExecuteTime": {
     "end_time": "2023-08-15T05:46:49.746751Z",
     "start_time": "2023-08-15T05:46:49.743084Z"
    }
   },
   "outputs": [
    {
     "name": "stdout",
     "output_type": "stream",
     "text": [
      "['A', ' ', 's', 'e', 't', ' ', 'o', 'f', ' ', 'c', 'h', 'a', 'r', 'a', 'c', 't', 'e', 'r', 's']\n"
     ]
    }
   ],
   "source": [
    "print(set_char_list)"
   ]
  },
  {
   "cell_type": "markdown",
   "id": "3199ce8a",
   "metadata": {},
   "source": [
    "### Create an empty list"
   ]
  },
  {
   "cell_type": "code",
   "execution_count": 118,
   "id": "1eaf22f9",
   "metadata": {
    "ExecuteTime": {
     "end_time": "2023-08-15T05:46:50.138011Z",
     "start_time": "2023-08-15T05:46:50.134936Z"
    }
   },
   "outputs": [],
   "source": [
    "empty_list = []"
   ]
  },
  {
   "cell_type": "code",
   "execution_count": 119,
   "id": "7fc7751e",
   "metadata": {
    "ExecuteTime": {
     "end_time": "2023-08-15T05:46:50.348366Z",
     "start_time": "2023-08-15T05:46:50.343970Z"
    }
   },
   "outputs": [
    {
     "data": {
      "text/plain": [
       "[]"
      ]
     },
     "execution_count": 119,
     "metadata": {},
     "output_type": "execute_result"
    }
   ],
   "source": [
    "empty_list"
   ]
  },
  {
   "cell_type": "code",
   "execution_count": 120,
   "id": "1853cb29",
   "metadata": {
    "ExecuteTime": {
     "end_time": "2023-08-15T05:46:50.547829Z",
     "start_time": "2023-08-15T05:46:50.544430Z"
    }
   },
   "outputs": [],
   "source": [
    "empty_list1 = list()"
   ]
  },
  {
   "cell_type": "code",
   "execution_count": 121,
   "id": "f97b0fb5",
   "metadata": {
    "ExecuteTime": {
     "end_time": "2023-08-15T05:46:50.769582Z",
     "start_time": "2023-08-15T05:46:50.761790Z"
    }
   },
   "outputs": [
    {
     "data": {
      "text/plain": [
       "[]"
      ]
     },
     "execution_count": 121,
     "metadata": {},
     "output_type": "execute_result"
    }
   ],
   "source": [
    "empty_list1"
   ]
  },
  {
   "cell_type": "markdown",
   "id": "2acab387",
   "metadata": {},
   "source": [
    "## Python List Methods"
   ]
  },
  {
   "cell_type": "code",
   "execution_count": 122,
   "id": "9e12bd41",
   "metadata": {
    "ExecuteTime": {
     "end_time": "2023-08-15T05:46:51.197424Z",
     "start_time": "2023-08-15T05:46:51.191624Z"
    }
   },
   "outputs": [
    {
     "data": {
      "text/plain": [
       "['__add__',\n",
       " '__class__',\n",
       " '__class_getitem__',\n",
       " '__contains__',\n",
       " '__delattr__',\n",
       " '__delitem__',\n",
       " '__dir__',\n",
       " '__doc__',\n",
       " '__eq__',\n",
       " '__format__',\n",
       " '__ge__',\n",
       " '__getattribute__',\n",
       " '__getitem__',\n",
       " '__gt__',\n",
       " '__hash__',\n",
       " '__iadd__',\n",
       " '__imul__',\n",
       " '__init__',\n",
       " '__init_subclass__',\n",
       " '__iter__',\n",
       " '__le__',\n",
       " '__len__',\n",
       " '__lt__',\n",
       " '__mul__',\n",
       " '__ne__',\n",
       " '__new__',\n",
       " '__reduce__',\n",
       " '__reduce_ex__',\n",
       " '__repr__',\n",
       " '__reversed__',\n",
       " '__rmul__',\n",
       " '__setattr__',\n",
       " '__setitem__',\n",
       " '__sizeof__',\n",
       " '__str__',\n",
       " '__subclasshook__',\n",
       " 'append',\n",
       " 'clear',\n",
       " 'copy',\n",
       " 'count',\n",
       " 'extend',\n",
       " 'index',\n",
       " 'insert',\n",
       " 'pop',\n",
       " 'remove',\n",
       " 'reverse',\n",
       " 'sort']"
      ]
     },
     "execution_count": 122,
     "metadata": {},
     "output_type": "execute_result"
    }
   ],
   "source": [
    "dir(list_numbers)"
   ]
  },
  {
   "cell_type": "code",
   "execution_count": 123,
   "id": "85e33b37",
   "metadata": {
    "ExecuteTime": {
     "end_time": "2023-08-15T05:46:51.415483Z",
     "start_time": "2023-08-15T05:46:51.412059Z"
    }
   },
   "outputs": [],
   "source": [
    "# Two types of methods: Dunder method or Magic method / Methods"
   ]
  },
  {
   "cell_type": "markdown",
   "id": "0d8290b3",
   "metadata": {},
   "source": [
    "### List Methods\n",
    "\n",
    "'append',\n",
    " 'clear',\n",
    " 'copy',\n",
    " 'count',\n",
    " 'extend',\n",
    " 'index',\n",
    " 'insert',\n",
    " 'pop',\n",
    " 'remove',\n",
    " 'reverse',\n",
    " 'sort'"
   ]
  },
  {
   "cell_type": "code",
   "execution_count": 124,
   "id": "974677e4",
   "metadata": {
    "ExecuteTime": {
     "end_time": "2023-08-15T05:46:51.863011Z",
     "start_time": "2023-08-15T05:46:51.858054Z"
    }
   },
   "outputs": [
    {
     "data": {
      "text/plain": [
       "[1, 2, 3, 4, 5]"
      ]
     },
     "execution_count": 124,
     "metadata": {},
     "output_type": "execute_result"
    }
   ],
   "source": [
    "# Add to a list - Methods\n",
    "# append, extend & insert\n",
    "list_numbers"
   ]
  },
  {
   "cell_type": "code",
   "execution_count": 125,
   "id": "7cbf5259",
   "metadata": {
    "ExecuteTime": {
     "end_time": "2023-08-15T05:46:52.086248Z",
     "start_time": "2023-08-15T05:46:52.080616Z"
    }
   },
   "outputs": [],
   "source": [
    "list_numbers.append(6) # Append method"
   ]
  },
  {
   "cell_type": "code",
   "execution_count": 126,
   "id": "ed1461cf",
   "metadata": {
    "ExecuteTime": {
     "end_time": "2023-08-15T05:46:52.287414Z",
     "start_time": "2023-08-15T05:46:52.279921Z"
    }
   },
   "outputs": [
    {
     "data": {
      "text/plain": [
       "[1, 2, 3, 4, 5, 6]"
      ]
     },
     "execution_count": 126,
     "metadata": {},
     "output_type": "execute_result"
    }
   ],
   "source": [
    "list_numbers"
   ]
  },
  {
   "cell_type": "code",
   "execution_count": 127,
   "id": "9e575a8a",
   "metadata": {
    "ExecuteTime": {
     "end_time": "2023-08-15T05:46:52.507567Z",
     "start_time": "2023-08-15T05:46:52.503552Z"
    }
   },
   "outputs": [],
   "source": [
    "# Insert, you can tell were to insert an element\n",
    "list_numbers.insert(5, 7) # Insert"
   ]
  },
  {
   "cell_type": "code",
   "execution_count": 128,
   "id": "47d5875b",
   "metadata": {
    "ExecuteTime": {
     "end_time": "2023-08-15T05:46:52.730161Z",
     "start_time": "2023-08-15T05:46:52.709909Z"
    }
   },
   "outputs": [
    {
     "data": {
      "text/plain": [
       "[1, 2, 3, 4, 5, 7, 6]"
      ]
     },
     "execution_count": 128,
     "metadata": {},
     "output_type": "execute_result"
    }
   ],
   "source": [
    "list_numbers"
   ]
  },
  {
   "cell_type": "code",
   "execution_count": 129,
   "id": "38d6caf1",
   "metadata": {
    "ExecuteTime": {
     "end_time": "2023-08-15T05:46:52.942053Z",
     "start_time": "2023-08-15T05:46:52.938372Z"
    }
   },
   "outputs": [],
   "source": [
    "# Extend method\n",
    "list_numbers1 = [8, 9, 10, 11, 12]"
   ]
  },
  {
   "cell_type": "code",
   "execution_count": 130,
   "id": "139c269d",
   "metadata": {
    "ExecuteTime": {
     "end_time": "2023-08-15T05:46:53.150753Z",
     "start_time": "2023-08-15T05:46:53.135330Z"
    }
   },
   "outputs": [],
   "source": [
    "list_numbers.extend(list_numbers1) # Extend method"
   ]
  },
  {
   "cell_type": "code",
   "execution_count": 131,
   "id": "7892c852",
   "metadata": {
    "ExecuteTime": {
     "end_time": "2023-08-15T05:46:53.352087Z",
     "start_time": "2023-08-15T05:46:53.343850Z"
    }
   },
   "outputs": [
    {
     "name": "stdout",
     "output_type": "stream",
     "text": [
      "[1, 2, 3, 4, 5, 7, 6, 8, 9, 10, 11, 12]\n"
     ]
    }
   ],
   "source": [
    "print(list_numbers)"
   ]
  },
  {
   "cell_type": "markdown",
   "id": "064a2548",
   "metadata": {},
   "source": [
    "### Accessing, Changing/Deleting from a List"
   ]
  },
  {
   "cell_type": "code",
   "execution_count": 132,
   "id": "31268f93",
   "metadata": {
    "ExecuteTime": {
     "end_time": "2023-08-15T05:46:53.759150Z",
     "start_time": "2023-08-15T05:46:53.737406Z"
    }
   },
   "outputs": [
    {
     "data": {
      "text/plain": [
       "[1, 2, 3, 4, 5, 7, 6, 8, 9, 10, 11, 12]"
      ]
     },
     "execution_count": 132,
     "metadata": {},
     "output_type": "execute_result"
    }
   ],
   "source": [
    "list_numbers"
   ]
  },
  {
   "cell_type": "code",
   "execution_count": 133,
   "id": "58194d0d",
   "metadata": {
    "ExecuteTime": {
     "end_time": "2023-08-15T05:46:53.942061Z",
     "start_time": "2023-08-15T05:46:53.926056Z"
    }
   },
   "outputs": [
    {
     "data": {
      "text/plain": [
       "[8, 9, 10, 11, 12]"
      ]
     },
     "execution_count": 133,
     "metadata": {},
     "output_type": "execute_result"
    }
   ],
   "source": [
    "list_numbers1"
   ]
  },
  {
   "cell_type": "code",
   "execution_count": 134,
   "id": "99b00c0d",
   "metadata": {
    "ExecuteTime": {
     "end_time": "2023-08-15T05:46:54.139239Z",
     "start_time": "2023-08-15T05:46:54.131764Z"
    }
   },
   "outputs": [
    {
     "data": {
      "text/plain": [
       "2"
      ]
     },
     "execution_count": 134,
     "metadata": {},
     "output_type": "execute_result"
    }
   ],
   "source": [
    "list_numbers[1] # Accessing elements using index"
   ]
  },
  {
   "cell_type": "code",
   "execution_count": 135,
   "id": "d095604c",
   "metadata": {
    "ExecuteTime": {
     "end_time": "2023-08-15T05:46:54.337082Z",
     "start_time": "2023-08-15T05:46:54.332068Z"
    }
   },
   "outputs": [],
   "source": [
    "# List the methods for deleting \n",
    "# clear, pop, remove & del"
   ]
  },
  {
   "cell_type": "code",
   "execution_count": 136,
   "id": "5e23f86d",
   "metadata": {
    "ExecuteTime": {
     "end_time": "2023-08-15T05:46:54.552067Z",
     "start_time": "2023-08-15T05:46:54.547618Z"
    }
   },
   "outputs": [],
   "source": [
    "list_numbers1.clear() # Makes it an empty list "
   ]
  },
  {
   "cell_type": "code",
   "execution_count": 137,
   "id": "f4887081",
   "metadata": {
    "ExecuteTime": {
     "end_time": "2023-08-15T05:46:54.763302Z",
     "start_time": "2023-08-15T05:46:54.757834Z"
    }
   },
   "outputs": [
    {
     "data": {
      "text/plain": [
       "[]"
      ]
     },
     "execution_count": 137,
     "metadata": {},
     "output_type": "execute_result"
    }
   ],
   "source": [
    "list_numbers1"
   ]
  },
  {
   "cell_type": "code",
   "execution_count": 138,
   "id": "7f1e4427",
   "metadata": {
    "ExecuteTime": {
     "end_time": "2023-08-15T05:46:54.950265Z",
     "start_time": "2023-08-15T05:46:54.943559Z"
    }
   },
   "outputs": [
    {
     "data": {
      "text/plain": [
       "[1, 2, 3, 4, 5, 7, 6, 8, 9, 10, 11, 12]"
      ]
     },
     "execution_count": 138,
     "metadata": {},
     "output_type": "execute_result"
    }
   ],
   "source": [
    "# pop method\n",
    "list_numbers"
   ]
  },
  {
   "cell_type": "code",
   "execution_count": 139,
   "id": "fc5a728c",
   "metadata": {
    "ExecuteTime": {
     "end_time": "2023-08-15T05:46:55.169544Z",
     "start_time": "2023-08-15T05:46:55.162483Z"
    }
   },
   "outputs": [
    {
     "data": {
      "text/plain": [
       "12"
      ]
     },
     "execution_count": 139,
     "metadata": {},
     "output_type": "execute_result"
    }
   ],
   "source": [
    "list_numbers.pop()"
   ]
  },
  {
   "cell_type": "code",
   "execution_count": 140,
   "id": "23a72ee6",
   "metadata": {
    "ExecuteTime": {
     "end_time": "2023-08-15T05:46:55.372018Z",
     "start_time": "2023-08-15T05:46:55.364435Z"
    }
   },
   "outputs": [
    {
     "data": {
      "text/plain": [
       "[1, 2, 3, 4, 5, 7, 6, 8, 9, 10, 11]"
      ]
     },
     "execution_count": 140,
     "metadata": {},
     "output_type": "execute_result"
    }
   ],
   "source": [
    "list_numbers"
   ]
  },
  {
   "cell_type": "code",
   "execution_count": 141,
   "id": "1e89229f",
   "metadata": {
    "ExecuteTime": {
     "end_time": "2023-08-15T05:46:55.597130Z",
     "start_time": "2023-08-15T05:46:55.589728Z"
    }
   },
   "outputs": [
    {
     "data": {
      "text/plain": [
       "11"
      ]
     },
     "execution_count": 141,
     "metadata": {},
     "output_type": "execute_result"
    }
   ],
   "source": [
    "list_numbers.pop(-1)"
   ]
  },
  {
   "cell_type": "code",
   "execution_count": 142,
   "id": "a06674a5",
   "metadata": {
    "ExecuteTime": {
     "end_time": "2023-08-15T05:46:55.780185Z",
     "start_time": "2023-08-15T05:46:55.776600Z"
    }
   },
   "outputs": [],
   "source": [
    "pop_num = list_numbers.pop(9)"
   ]
  },
  {
   "cell_type": "code",
   "execution_count": 143,
   "id": "8f0a13a2",
   "metadata": {
    "ExecuteTime": {
     "end_time": "2023-08-15T05:46:55.985509Z",
     "start_time": "2023-08-15T05:46:55.980147Z"
    }
   },
   "outputs": [
    {
     "name": "stdout",
     "output_type": "stream",
     "text": [
      "10\n"
     ]
    }
   ],
   "source": [
    "print(pop_num)"
   ]
  },
  {
   "cell_type": "code",
   "execution_count": 144,
   "id": "2dc65e98",
   "metadata": {
    "ExecuteTime": {
     "end_time": "2023-08-15T05:46:56.189287Z",
     "start_time": "2023-08-15T05:46:56.183208Z"
    }
   },
   "outputs": [
    {
     "data": {
      "text/plain": [
       "[1, 2, 3, 4, 5, 7, 6, 8, 9]"
      ]
     },
     "execution_count": 144,
     "metadata": {},
     "output_type": "execute_result"
    }
   ],
   "source": [
    "list_numbers"
   ]
  },
  {
   "cell_type": "code",
   "execution_count": 145,
   "id": "0c9cb547",
   "metadata": {
    "ExecuteTime": {
     "end_time": "2023-08-15T05:46:56.393694Z",
     "start_time": "2023-08-15T05:46:56.390288Z"
    }
   },
   "outputs": [],
   "source": [
    "# remove method\n",
    "list_numbers.remove(9)"
   ]
  },
  {
   "cell_type": "code",
   "execution_count": 146,
   "id": "abaca17f",
   "metadata": {
    "ExecuteTime": {
     "end_time": "2023-08-15T05:46:56.614235Z",
     "start_time": "2023-08-15T05:46:56.608273Z"
    }
   },
   "outputs": [
    {
     "data": {
      "text/plain": [
       "[1, 2, 3, 4, 5, 7, 6, 8]"
      ]
     },
     "execution_count": 146,
     "metadata": {},
     "output_type": "execute_result"
    }
   ],
   "source": [
    "list_numbers"
   ]
  },
  {
   "cell_type": "code",
   "execution_count": 147,
   "id": "e3c1d12c",
   "metadata": {
    "ExecuteTime": {
     "end_time": "2023-08-15T05:46:56.818297Z",
     "start_time": "2023-08-15T05:46:56.812872Z"
    }
   },
   "outputs": [],
   "source": [
    "# del method\n",
    "del list_numbers[-1]"
   ]
  },
  {
   "cell_type": "code",
   "execution_count": 148,
   "id": "fc1b24f4",
   "metadata": {
    "ExecuteTime": {
     "end_time": "2023-08-15T05:46:57.007291Z",
     "start_time": "2023-08-15T05:46:57.001510Z"
    }
   },
   "outputs": [
    {
     "data": {
      "text/plain": [
       "[1, 2, 3, 4, 5, 7, 6]"
      ]
     },
     "execution_count": 148,
     "metadata": {},
     "output_type": "execute_result"
    }
   ],
   "source": [
    "list_numbers"
   ]
  },
  {
   "cell_type": "code",
   "execution_count": 149,
   "id": "6772291d",
   "metadata": {
    "ExecuteTime": {
     "end_time": "2023-08-15T05:46:57.232817Z",
     "start_time": "2023-08-15T05:46:57.209734Z"
    }
   },
   "outputs": [
    {
     "ename": "IndexError",
     "evalue": "list assignment index out of range",
     "output_type": "error",
     "traceback": [
      "\u001b[0;31m---------------------------------------------------------------------------\u001b[0m",
      "\u001b[0;31mIndexError\u001b[0m                                Traceback (most recent call last)",
      "Cell \u001b[0;32mIn[149], line 1\u001b[0m\n\u001b[0;32m----> 1\u001b[0m \u001b[38;5;28;01mdel\u001b[39;00m list_numbers[\u001b[38;5;241m10\u001b[39m]\n",
      "\u001b[0;31mIndexError\u001b[0m: list assignment index out of range"
     ]
    }
   ],
   "source": [
    "del list_numbers[10]"
   ]
  },
  {
   "cell_type": "markdown",
   "id": "750e8175",
   "metadata": {},
   "source": [
    "### Organizing a list"
   ]
  },
  {
   "cell_type": "code",
   "execution_count": 150,
   "id": "dbd1e7d9",
   "metadata": {
    "ExecuteTime": {
     "end_time": "2023-08-15T05:46:57.618078Z",
     "start_time": "2023-08-15T05:46:57.611694Z"
    }
   },
   "outputs": [],
   "source": [
    "list_clubs = ['Spurs', 'Mancity', 'Westham', 'Leeds', 'Arsenal']\n",
    "list_cars = ['Chevrolet', 'Jaguar', 'Porche', 'Audi', 'Volkswagen']"
   ]
  },
  {
   "cell_type": "code",
   "execution_count": 151,
   "id": "f7a9b745",
   "metadata": {
    "ExecuteTime": {
     "end_time": "2023-08-15T05:46:57.804409Z",
     "start_time": "2023-08-15T05:46:57.799041Z"
    }
   },
   "outputs": [],
   "source": [
    "list_cars.sort() # Sorting Permanently "
   ]
  },
  {
   "cell_type": "code",
   "execution_count": 152,
   "id": "54f9d484",
   "metadata": {
    "ExecuteTime": {
     "end_time": "2023-08-15T05:46:58.015085Z",
     "start_time": "2023-08-15T05:46:58.010258Z"
    }
   },
   "outputs": [
    {
     "name": "stdout",
     "output_type": "stream",
     "text": [
      "['Audi', 'Chevrolet', 'Jaguar', 'Porche', 'Volkswagen']\n"
     ]
    }
   ],
   "source": [
    "print(list_cars)"
   ]
  },
  {
   "cell_type": "code",
   "execution_count": 153,
   "id": "a13e8b85",
   "metadata": {
    "ExecuteTime": {
     "end_time": "2023-08-15T05:46:58.201141Z",
     "start_time": "2023-08-15T05:46:58.194518Z"
    }
   },
   "outputs": [
    {
     "data": {
      "text/plain": [
       "140317116540352"
      ]
     },
     "execution_count": 153,
     "metadata": {},
     "output_type": "execute_result"
    }
   ],
   "source": [
    "id(list_cars)"
   ]
  },
  {
   "cell_type": "code",
   "execution_count": 154,
   "id": "75ad98a9",
   "metadata": {
    "ExecuteTime": {
     "end_time": "2023-08-15T05:46:58.406385Z",
     "start_time": "2023-08-15T05:46:58.402099Z"
    }
   },
   "outputs": [],
   "source": [
    "list_cars.sort(reverse=True)"
   ]
  },
  {
   "cell_type": "code",
   "execution_count": 155,
   "id": "35364c7c",
   "metadata": {
    "ExecuteTime": {
     "end_time": "2023-08-15T05:46:58.616836Z",
     "start_time": "2023-08-15T05:46:58.610964Z"
    }
   },
   "outputs": [
    {
     "name": "stdout",
     "output_type": "stream",
     "text": [
      "['Volkswagen', 'Porche', 'Jaguar', 'Chevrolet', 'Audi']\n"
     ]
    }
   ],
   "source": [
    "print(list_cars)"
   ]
  },
  {
   "cell_type": "code",
   "execution_count": 156,
   "id": "94527f1b",
   "metadata": {
    "ExecuteTime": {
     "end_time": "2023-08-15T05:46:58.818838Z",
     "start_time": "2023-08-15T05:46:58.810800Z"
    }
   },
   "outputs": [
    {
     "data": {
      "text/plain": [
       "140317116540352"
      ]
     },
     "execution_count": 156,
     "metadata": {},
     "output_type": "execute_result"
    }
   ],
   "source": [
    "id(list_cars)"
   ]
  },
  {
   "cell_type": "code",
   "execution_count": 157,
   "id": "2be2b2f9",
   "metadata": {
    "ExecuteTime": {
     "end_time": "2023-08-15T05:46:59.047557Z",
     "start_time": "2023-08-15T05:46:59.040913Z"
    }
   },
   "outputs": [
    {
     "data": {
      "text/plain": [
       "['Spurs', 'Mancity', 'Westham', 'Leeds', 'Arsenal']"
      ]
     },
     "execution_count": 157,
     "metadata": {},
     "output_type": "execute_result"
    }
   ],
   "source": [
    "list_clubs"
   ]
  },
  {
   "cell_type": "code",
   "execution_count": 158,
   "id": "59f63766",
   "metadata": {
    "ExecuteTime": {
     "end_time": "2023-08-15T05:46:59.263405Z",
     "start_time": "2023-08-15T05:46:59.259278Z"
    }
   },
   "outputs": [
    {
     "name": "stdout",
     "output_type": "stream",
     "text": [
      "Here is a sorted list\n",
      "['Arsenal', 'Leeds', 'Mancity', 'Spurs', 'Westham']\n"
     ]
    }
   ],
   "source": [
    "print('Here is a sorted list')\n",
    "print(sorted(list_clubs)) # Temporal sorting"
   ]
  },
  {
   "cell_type": "code",
   "execution_count": 159,
   "id": "d6a9d44b",
   "metadata": {
    "ExecuteTime": {
     "end_time": "2023-08-15T05:46:59.470503Z",
     "start_time": "2023-08-15T05:46:59.463639Z"
    }
   },
   "outputs": [
    {
     "data": {
      "text/plain": [
       "['Spurs', 'Mancity', 'Westham', 'Leeds', 'Arsenal']"
      ]
     },
     "execution_count": 159,
     "metadata": {},
     "output_type": "execute_result"
    }
   ],
   "source": [
    "list_clubs"
   ]
  },
  {
   "cell_type": "markdown",
   "id": "03769202",
   "metadata": {},
   "source": [
    "### List Slicing "
   ]
  },
  {
   "cell_type": "code",
   "execution_count": 160,
   "id": "d8b6d338",
   "metadata": {
    "ExecuteTime": {
     "end_time": "2023-08-15T05:46:59.875277Z",
     "start_time": "2023-08-15T05:46:59.869721Z"
    }
   },
   "outputs": [
    {
     "data": {
      "text/plain": [
       "'Audi'"
      ]
     },
     "execution_count": 160,
     "metadata": {},
     "output_type": "execute_result"
    }
   ],
   "source": [
    "list_cars[4]"
   ]
  },
  {
   "cell_type": "code",
   "execution_count": 161,
   "id": "1c77c28a",
   "metadata": {
    "ExecuteTime": {
     "end_time": "2023-08-15T05:47:00.102616Z",
     "start_time": "2023-08-15T05:47:00.094670Z"
    }
   },
   "outputs": [
    {
     "data": {
      "text/plain": [
       "['Volkswagen', 'Porche', 'Jaguar', 'Chevrolet', 'Audi']"
      ]
     },
     "execution_count": 161,
     "metadata": {},
     "output_type": "execute_result"
    }
   ],
   "source": [
    "list_cars[0:5]"
   ]
  },
  {
   "cell_type": "code",
   "execution_count": 162,
   "id": "5675eba2",
   "metadata": {
    "ExecuteTime": {
     "end_time": "2023-08-15T05:47:00.305726Z",
     "start_time": "2023-08-15T05:47:00.300281Z"
    }
   },
   "outputs": [
    {
     "data": {
      "text/plain": [
       "['Porche', 'Jaguar', 'Chevrolet']"
      ]
     },
     "execution_count": 162,
     "metadata": {},
     "output_type": "execute_result"
    }
   ],
   "source": [
    "list_cars[1:-1]"
   ]
  },
  {
   "cell_type": "markdown",
   "id": "fe7f1417",
   "metadata": {},
   "source": [
    "### Copying a list"
   ]
  },
  {
   "cell_type": "code",
   "execution_count": 163,
   "id": "68503808",
   "metadata": {
    "ExecuteTime": {
     "end_time": "2023-08-15T05:47:00.743538Z",
     "start_time": "2023-08-15T05:47:00.740301Z"
    }
   },
   "outputs": [],
   "source": [
    "list_cars_copy = list_cars.copy() # A copy of the initial list "
   ]
  },
  {
   "cell_type": "code",
   "execution_count": 164,
   "id": "bb4d0b4c",
   "metadata": {
    "ExecuteTime": {
     "end_time": "2023-08-15T05:47:00.962595Z",
     "start_time": "2023-08-15T05:47:00.955699Z"
    }
   },
   "outputs": [
    {
     "data": {
      "text/plain": [
       "['Volkswagen', 'Porche', 'Jaguar', 'Chevrolet', 'Audi']"
      ]
     },
     "execution_count": 164,
     "metadata": {},
     "output_type": "execute_result"
    }
   ],
   "source": [
    "list_cars_copy"
   ]
  },
  {
   "cell_type": "code",
   "execution_count": 165,
   "id": "dd998a65",
   "metadata": {
    "ExecuteTime": {
     "end_time": "2023-08-15T05:47:01.166177Z",
     "start_time": "2023-08-15T05:47:01.162995Z"
    }
   },
   "outputs": [],
   "source": [
    "list_cars_copy_slice = list_cars[:]"
   ]
  },
  {
   "cell_type": "code",
   "execution_count": 166,
   "id": "29b3da63",
   "metadata": {
    "ExecuteTime": {
     "end_time": "2023-08-15T05:47:01.371172Z",
     "start_time": "2023-08-15T05:47:01.365853Z"
    }
   },
   "outputs": [
    {
     "data": {
      "text/plain": [
       "['Volkswagen', 'Porche', 'Jaguar', 'Chevrolet', 'Audi']"
      ]
     },
     "execution_count": 166,
     "metadata": {},
     "output_type": "execute_result"
    }
   ],
   "source": [
    "list_cars_copy_slice"
   ]
  },
  {
   "cell_type": "markdown",
   "id": "b9f86b7b",
   "metadata": {},
   "source": [
    "## Tuples"
   ]
  },
  {
   "cell_type": "code",
   "execution_count": 167,
   "id": "74fde84c",
   "metadata": {
    "ExecuteTime": {
     "end_time": "2023-08-15T05:47:01.792958Z",
     "start_time": "2023-08-15T05:47:01.787528Z"
    }
   },
   "outputs": [],
   "source": [
    "# Data Structure\n",
    "# Sequenced \n",
    "# Immutable - Values are fixed and cannot changed \n",
    "# tuples has parentheses ()"
   ]
  },
  {
   "cell_type": "markdown",
   "id": "36c00acf",
   "metadata": {},
   "source": [
    "### Creating Tuples "
   ]
  },
  {
   "cell_type": "code",
   "execution_count": 168,
   "id": "9c32a4dd",
   "metadata": {
    "ExecuteTime": {
     "end_time": "2023-08-15T05:47:02.217623Z",
     "start_time": "2023-08-15T05:47:02.213244Z"
    }
   },
   "outputs": [],
   "source": [
    "tuple_numbers = 1,2,3,4,5,6,7,8,9,10 # One way to create a tuple"
   ]
  },
  {
   "cell_type": "code",
   "execution_count": 169,
   "id": "9e899a07",
   "metadata": {
    "ExecuteTime": {
     "end_time": "2023-08-15T05:47:02.404110Z",
     "start_time": "2023-08-15T05:47:02.396059Z"
    }
   },
   "outputs": [
    {
     "data": {
      "text/plain": [
       "tuple"
      ]
     },
     "execution_count": 169,
     "metadata": {},
     "output_type": "execute_result"
    }
   ],
   "source": [
    "type(tuple_numbers)"
   ]
  },
  {
   "cell_type": "code",
   "execution_count": 170,
   "id": "ebaf4d3f",
   "metadata": {
    "ExecuteTime": {
     "end_time": "2023-08-15T05:47:02.615666Z",
     "start_time": "2023-08-15T05:47:02.609454Z"
    }
   },
   "outputs": [
    {
     "name": "stdout",
     "output_type": "stream",
     "text": [
      "(1, 2, 3, 4, 5, 6, 7, 8, 9, 10)\n"
     ]
    }
   ],
   "source": [
    "print(tuple_numbers)"
   ]
  },
  {
   "cell_type": "code",
   "execution_count": 171,
   "id": "d96a79b6",
   "metadata": {
    "ExecuteTime": {
     "end_time": "2023-08-15T05:47:02.817271Z",
     "start_time": "2023-08-15T05:47:02.812127Z"
    }
   },
   "outputs": [],
   "source": [
    "tuple_names = ('Pablo', 'Mudia', 'Oselu', 'Miracle') # Another way to create a tuple"
   ]
  },
  {
   "cell_type": "code",
   "execution_count": 172,
   "id": "34210feb",
   "metadata": {
    "ExecuteTime": {
     "end_time": "2023-08-15T05:47:03.019240Z",
     "start_time": "2023-08-15T05:47:03.012781Z"
    }
   },
   "outputs": [
    {
     "name": "stdout",
     "output_type": "stream",
     "text": [
      "('Pablo', 'Mudia', 'Oselu', 'Miracle')\n"
     ]
    }
   ],
   "source": [
    "print(tuple_names)"
   ]
  },
  {
   "cell_type": "code",
   "execution_count": 173,
   "id": "ff7b715d",
   "metadata": {
    "ExecuteTime": {
     "end_time": "2023-08-15T05:47:03.225270Z",
     "start_time": "2023-08-15T05:47:03.219006Z"
    }
   },
   "outputs": [
    {
     "data": {
      "text/plain": [
       "['Volkswagen', 'Porche', 'Jaguar', 'Chevrolet', 'Audi']"
      ]
     },
     "execution_count": 173,
     "metadata": {},
     "output_type": "execute_result"
    }
   ],
   "source": [
    "list_cars_copy"
   ]
  },
  {
   "cell_type": "code",
   "execution_count": 174,
   "id": "109f59c8",
   "metadata": {
    "ExecuteTime": {
     "end_time": "2023-08-15T05:47:03.446865Z",
     "start_time": "2023-08-15T05:47:03.443401Z"
    }
   },
   "outputs": [],
   "source": [
    "tuple_cars_copy = tuple(list_cars_copy)"
   ]
  },
  {
   "cell_type": "code",
   "execution_count": 175,
   "id": "5cf6084b",
   "metadata": {
    "ExecuteTime": {
     "end_time": "2023-08-15T05:47:03.634914Z",
     "start_time": "2023-08-15T05:47:03.627359Z"
    }
   },
   "outputs": [
    {
     "data": {
      "text/plain": [
       "tuple"
      ]
     },
     "execution_count": 175,
     "metadata": {},
     "output_type": "execute_result"
    }
   ],
   "source": [
    "type(tuple_cars_copy)"
   ]
  },
  {
   "cell_type": "markdown",
   "id": "3f2d7937",
   "metadata": {},
   "source": [
    "## Tuple Functionalities"
   ]
  },
  {
   "cell_type": "code",
   "execution_count": 176,
   "id": "a39b5945",
   "metadata": {
    "ExecuteTime": {
     "end_time": "2023-08-15T05:47:04.044707Z",
     "start_time": "2023-08-15T05:47:04.039823Z"
    }
   },
   "outputs": [
    {
     "data": {
      "text/plain": [
       "('Volkswagen', 'Porche', 'Jaguar', 'Chevrolet', 'Audi')"
      ]
     },
     "execution_count": 176,
     "metadata": {},
     "output_type": "execute_result"
    }
   ],
   "source": [
    "tuple_cars_copy"
   ]
  },
  {
   "cell_type": "code",
   "execution_count": 177,
   "id": "f1b46be8",
   "metadata": {
    "ExecuteTime": {
     "end_time": "2023-08-15T05:47:04.250721Z",
     "start_time": "2023-08-15T05:47:04.243795Z"
    }
   },
   "outputs": [
    {
     "data": {
      "text/plain": [
       "['__add__',\n",
       " '__class__',\n",
       " '__class_getitem__',\n",
       " '__contains__',\n",
       " '__delattr__',\n",
       " '__dir__',\n",
       " '__doc__',\n",
       " '__eq__',\n",
       " '__format__',\n",
       " '__ge__',\n",
       " '__getattribute__',\n",
       " '__getitem__',\n",
       " '__getnewargs__',\n",
       " '__gt__',\n",
       " '__hash__',\n",
       " '__init__',\n",
       " '__init_subclass__',\n",
       " '__iter__',\n",
       " '__le__',\n",
       " '__len__',\n",
       " '__lt__',\n",
       " '__mul__',\n",
       " '__ne__',\n",
       " '__new__',\n",
       " '__reduce__',\n",
       " '__reduce_ex__',\n",
       " '__repr__',\n",
       " '__rmul__',\n",
       " '__setattr__',\n",
       " '__sizeof__',\n",
       " '__str__',\n",
       " '__subclasshook__',\n",
       " 'count',\n",
       " 'index']"
      ]
     },
     "execution_count": 177,
     "metadata": {},
     "output_type": "execute_result"
    }
   ],
   "source": [
    "dir(tuple_cars_copy)"
   ]
  },
  {
   "cell_type": "markdown",
   "id": "a4181799",
   "metadata": {},
   "source": [
    "### Tuple Methods\n",
    "\n",
    "'count', 'index'"
   ]
  },
  {
   "cell_type": "code",
   "execution_count": 178,
   "id": "c019bfcc",
   "metadata": {
    "ExecuteTime": {
     "end_time": "2023-08-15T05:47:04.677658Z",
     "start_time": "2023-08-15T05:47:04.669675Z"
    }
   },
   "outputs": [
    {
     "data": {
      "text/plain": [
       "1"
      ]
     },
     "execution_count": 178,
     "metadata": {},
     "output_type": "execute_result"
    }
   ],
   "source": [
    "tuple_cars_copy.count('Volkswagen') # It counts the number of elements as it matches the values in the tuple"
   ]
  },
  {
   "cell_type": "code",
   "execution_count": null,
   "id": "fe2b4b3e",
   "metadata": {},
   "outputs": [],
   "source": []
  },
  {
   "cell_type": "code",
   "execution_count": 179,
   "id": "7732366a",
   "metadata": {
    "ExecuteTime": {
     "end_time": "2023-08-15T05:47:05.178455Z",
     "start_time": "2023-08-15T05:47:05.159808Z"
    }
   },
   "outputs": [
    {
     "data": {
      "text/plain": [
       "4"
      ]
     },
     "execution_count": 179,
     "metadata": {},
     "output_type": "execute_result"
    }
   ],
   "source": [
    "tuple_numbers.index(5) # Finds the numerical position"
   ]
  },
  {
   "cell_type": "code",
   "execution_count": 180,
   "id": "6ee5b6c6",
   "metadata": {
    "ExecuteTime": {
     "end_time": "2023-08-15T05:47:05.372172Z",
     "start_time": "2023-08-15T05:47:05.365121Z"
    }
   },
   "outputs": [
    {
     "name": "stdout",
     "output_type": "stream",
     "text": [
      "(1, 2, 3, 4, 5, 6, 7, 8, 9, 10)\n"
     ]
    }
   ],
   "source": [
    "print(tuple_numbers)"
   ]
  },
  {
   "cell_type": "code",
   "execution_count": null,
   "id": "eb71c9a6",
   "metadata": {},
   "outputs": [],
   "source": []
  },
  {
   "cell_type": "code",
   "execution_count": 181,
   "id": "93d0a4d3",
   "metadata": {
    "ExecuteTime": {
     "end_time": "2023-08-15T05:47:05.836289Z",
     "start_time": "2023-08-15T05:47:05.809912Z"
    }
   },
   "outputs": [
    {
     "ename": "TypeError",
     "evalue": "'tuple' object does not support item assignment",
     "output_type": "error",
     "traceback": [
      "\u001b[0;31m---------------------------------------------------------------------------\u001b[0m",
      "\u001b[0;31mTypeError\u001b[0m                                 Traceback (most recent call last)",
      "Cell \u001b[0;32mIn[181], line 1\u001b[0m\n\u001b[0;32m----> 1\u001b[0m tuple_numbers[\u001b[38;5;241m0\u001b[39m] \u001b[38;5;241m=\u001b[39m \u001b[38;5;241m0\u001b[39m\n",
      "\u001b[0;31mTypeError\u001b[0m: 'tuple' object does not support item assignment"
     ]
    }
   ],
   "source": [
    "tuple_numbers[0] = 0 # Proof that tuples are immutable"
   ]
  },
  {
   "cell_type": "markdown",
   "id": "2e26e772",
   "metadata": {},
   "source": [
    "### Tuple Concatenation"
   ]
  },
  {
   "cell_type": "code",
   "execution_count": 182,
   "id": "a0a8805f",
   "metadata": {
    "ExecuteTime": {
     "end_time": "2023-08-15T05:47:06.237051Z",
     "start_time": "2023-08-15T05:47:06.231588Z"
    }
   },
   "outputs": [],
   "source": [
    "first_tuple = (1,2,3) # Create a tuple"
   ]
  },
  {
   "cell_type": "code",
   "execution_count": 183,
   "id": "0d526e0e",
   "metadata": {
    "ExecuteTime": {
     "end_time": "2023-08-15T05:47:06.463254Z",
     "start_time": "2023-08-15T05:47:06.457102Z"
    }
   },
   "outputs": [
    {
     "data": {
      "text/plain": [
       "140317116816128"
      ]
     },
     "execution_count": 183,
     "metadata": {},
     "output_type": "execute_result"
    }
   ],
   "source": [
    "id(first_tuple) # Checking id"
   ]
  },
  {
   "cell_type": "code",
   "execution_count": 184,
   "id": "10f152ec",
   "metadata": {
    "ExecuteTime": {
     "end_time": "2023-08-15T05:47:06.680690Z",
     "start_time": "2023-08-15T05:47:06.676956Z"
    }
   },
   "outputs": [],
   "source": [
    "second_tuple = (4,5,6) # Create another tuple"
   ]
  },
  {
   "cell_type": "code",
   "execution_count": 185,
   "id": "72899c86",
   "metadata": {
    "ExecuteTime": {
     "end_time": "2023-08-15T05:47:06.908070Z",
     "start_time": "2023-08-15T05:47:06.900831Z"
    }
   },
   "outputs": [
    {
     "data": {
      "text/plain": [
       "140317114389632"
      ]
     },
     "execution_count": 185,
     "metadata": {},
     "output_type": "execute_result"
    }
   ],
   "source": [
    "id(second_tuple)"
   ]
  },
  {
   "cell_type": "code",
   "execution_count": 186,
   "id": "cfcddbbc",
   "metadata": {
    "ExecuteTime": {
     "end_time": "2023-08-15T05:47:07.167094Z",
     "start_time": "2023-08-15T05:47:07.156156Z"
    }
   },
   "outputs": [],
   "source": [
    "first_tuple += (4,5,6)"
   ]
  },
  {
   "cell_type": "code",
   "execution_count": 187,
   "id": "07763048",
   "metadata": {
    "ExecuteTime": {
     "end_time": "2023-08-15T05:47:07.333439Z",
     "start_time": "2023-08-15T05:47:07.328179Z"
    }
   },
   "outputs": [
    {
     "data": {
      "text/plain": [
       "(1, 2, 3, 4, 5, 6)"
      ]
     },
     "execution_count": 187,
     "metadata": {},
     "output_type": "execute_result"
    }
   ],
   "source": [
    "first_tuple"
   ]
  },
  {
   "cell_type": "code",
   "execution_count": 188,
   "id": "d5c50caa",
   "metadata": {
    "ExecuteTime": {
     "end_time": "2023-08-15T05:47:07.557649Z",
     "start_time": "2023-08-15T05:47:07.551872Z"
    }
   },
   "outputs": [
    {
     "data": {
      "text/plain": [
       "140317116777760"
      ]
     },
     "execution_count": 188,
     "metadata": {},
     "output_type": "execute_result"
    }
   ],
   "source": [
    "id(first_tuple) # Concatenation creates a new object(Tuple)"
   ]
  },
  {
   "cell_type": "code",
   "execution_count": null,
   "id": "ac030744",
   "metadata": {},
   "outputs": [],
   "source": []
  },
  {
   "cell_type": "markdown",
   "id": "cd85807f",
   "metadata": {},
   "source": [
    "# Python Dictionary "
   ]
  },
  {
   "cell_type": "code",
   "execution_count": 189,
   "id": "a1eac17c",
   "metadata": {
    "ExecuteTime": {
     "end_time": "2023-08-15T05:47:08.227830Z",
     "start_time": "2023-08-15T05:47:08.224645Z"
    }
   },
   "outputs": [],
   "source": [
    "# List []\n",
    "# Tuple ()\n",
    "# Dictionary {}\n",
    "# Mutable \n",
    "# Key, Value pairs"
   ]
  },
  {
   "cell_type": "code",
   "execution_count": 190,
   "id": "081adf36",
   "metadata": {
    "ExecuteTime": {
     "end_time": "2023-08-15T05:47:08.450176Z",
     "start_time": "2023-08-15T05:47:08.445980Z"
    }
   },
   "outputs": [],
   "source": [
    "# Creating a Python dictionary\n",
    "profile = {'first_name': 'Pablo', \n",
    "           'last_name': 'Okwukogu',\n",
    "          'email': 'peter.okwukogu@gmail.com'}"
   ]
  },
  {
   "cell_type": "code",
   "execution_count": 191,
   "id": "b2e6a39f",
   "metadata": {
    "ExecuteTime": {
     "end_time": "2023-08-15T05:47:08.687363Z",
     "start_time": "2023-08-15T05:47:08.682938Z"
    }
   },
   "outputs": [
    {
     "name": "stdout",
     "output_type": "stream",
     "text": [
      "{'first_name': 'Pablo', 'last_name': 'Okwukogu', 'email': 'peter.okwukogu@gmail.com'}\n"
     ]
    }
   ],
   "source": [
    "print(profile)"
   ]
  },
  {
   "cell_type": "code",
   "execution_count": null,
   "id": "d4c9979f",
   "metadata": {},
   "outputs": [],
   "source": []
  },
  {
   "cell_type": "code",
   "execution_count": 192,
   "id": "03b283fb",
   "metadata": {
    "ExecuteTime": {
     "end_time": "2023-08-15T05:47:09.146427Z",
     "start_time": "2023-08-15T05:47:09.142317Z"
    }
   },
   "outputs": [],
   "source": [
    "# Using the dict function to create a dictionary\n",
    "profile_1 = dict(first_name = 'Mudia', \n",
    "                last_name = 'Imasuen',\n",
    "                role = 'Product Designer')"
   ]
  },
  {
   "cell_type": "code",
   "execution_count": 193,
   "id": "19c6088f",
   "metadata": {
    "ExecuteTime": {
     "end_time": "2023-08-15T05:47:09.353059Z",
     "start_time": "2023-08-15T05:47:09.349056Z"
    }
   },
   "outputs": [
    {
     "name": "stdout",
     "output_type": "stream",
     "text": [
      "{'first_name': 'Mudia', 'last_name': 'Imasuen', 'role': 'Product Designer'}\n"
     ]
    }
   ],
   "source": [
    "print(profile_1)"
   ]
  },
  {
   "cell_type": "code",
   "execution_count": 194,
   "id": "8931ffe9",
   "metadata": {
    "ExecuteTime": {
     "end_time": "2023-08-15T05:47:09.585458Z",
     "start_time": "2023-08-15T05:47:09.578515Z"
    }
   },
   "outputs": [
    {
     "data": {
      "text/plain": [
       "dict"
      ]
     },
     "execution_count": 194,
     "metadata": {},
     "output_type": "execute_result"
    }
   ],
   "source": [
    "type(profile_1)"
   ]
  },
  {
   "cell_type": "markdown",
   "id": "a818c794",
   "metadata": {},
   "source": [
    "## Accessing Dictionaries "
   ]
  },
  {
   "cell_type": "code",
   "execution_count": 195,
   "id": "2a811e6e",
   "metadata": {
    "ExecuteTime": {
     "end_time": "2023-08-15T05:47:09.993767Z",
     "start_time": "2023-08-15T05:47:09.989343Z"
    }
   },
   "outputs": [],
   "source": [
    "# Dict have key, value pairs\n",
    "# What is a key & what is a value"
   ]
  },
  {
   "cell_type": "code",
   "execution_count": 196,
   "id": "6b89687e",
   "metadata": {
    "ExecuteTime": {
     "end_time": "2023-08-15T05:47:10.202802Z",
     "start_time": "2023-08-15T05:47:10.198222Z"
    }
   },
   "outputs": [
    {
     "name": "stdout",
     "output_type": "stream",
     "text": [
      "{'first_name': 'Pablo', 'last_name': 'Okwukogu', 'email': 'peter.okwukogu@gmail.com'}\n"
     ]
    }
   ],
   "source": [
    "print(profile)"
   ]
  },
  {
   "cell_type": "code",
   "execution_count": 197,
   "id": "a1dbdaa2",
   "metadata": {
    "ExecuteTime": {
     "end_time": "2023-08-15T05:47:10.405900Z",
     "start_time": "2023-08-15T05:47:10.398971Z"
    }
   },
   "outputs": [
    {
     "data": {
      "text/plain": [
       "'Pablo'"
      ]
     },
     "execution_count": 197,
     "metadata": {},
     "output_type": "execute_result"
    }
   ],
   "source": [
    "profile['first_name'] # Accessing a dict using a key"
   ]
  },
  {
   "cell_type": "code",
   "execution_count": 198,
   "id": "6eaadaff",
   "metadata": {
    "ExecuteTime": {
     "end_time": "2023-08-15T05:47:10.633770Z",
     "start_time": "2023-08-15T05:47:10.626997Z"
    }
   },
   "outputs": [
    {
     "data": {
      "text/plain": [
       "True"
      ]
     },
     "execution_count": 198,
     "metadata": {},
     "output_type": "execute_result"
    }
   ],
   "source": [
    "'first_name' in profile # Confirming a key exists inside a dict"
   ]
  },
  {
   "cell_type": "code",
   "execution_count": 199,
   "id": "ed0bfdda",
   "metadata": {
    "ExecuteTime": {
     "end_time": "2023-08-15T05:47:10.848305Z",
     "start_time": "2023-08-15T05:47:10.828062Z"
    }
   },
   "outputs": [
    {
     "ename": "KeyError",
     "evalue": "'location'",
     "output_type": "error",
     "traceback": [
      "\u001b[0;31m---------------------------------------------------------------------------\u001b[0m",
      "\u001b[0;31mKeyError\u001b[0m                                  Traceback (most recent call last)",
      "Cell \u001b[0;32mIn[199], line 1\u001b[0m\n\u001b[0;32m----> 1\u001b[0m \u001b[43mprofile\u001b[49m\u001b[43m[\u001b[49m\u001b[38;5;124;43m'\u001b[39;49m\u001b[38;5;124;43mlocation\u001b[39;49m\u001b[38;5;124;43m'\u001b[39;49m\u001b[43m]\u001b[49m\n",
      "\u001b[0;31mKeyError\u001b[0m: 'location'"
     ]
    }
   ],
   "source": [
    "profile['location'] # Accessing a key that doesn't exist"
   ]
  },
  {
   "cell_type": "markdown",
   "id": "cdb0d377",
   "metadata": {},
   "source": [
    "## Dictionary Methods"
   ]
  },
  {
   "cell_type": "code",
   "execution_count": 200,
   "id": "d96346bd",
   "metadata": {
    "ExecuteTime": {
     "end_time": "2023-08-15T05:47:11.249903Z",
     "start_time": "2023-08-15T05:47:11.241454Z"
    }
   },
   "outputs": [
    {
     "data": {
      "text/plain": [
       "['__class__',\n",
       " '__class_getitem__',\n",
       " '__contains__',\n",
       " '__delattr__',\n",
       " '__delitem__',\n",
       " '__dir__',\n",
       " '__doc__',\n",
       " '__eq__',\n",
       " '__format__',\n",
       " '__ge__',\n",
       " '__getattribute__',\n",
       " '__getitem__',\n",
       " '__gt__',\n",
       " '__hash__',\n",
       " '__init__',\n",
       " '__init_subclass__',\n",
       " '__ior__',\n",
       " '__iter__',\n",
       " '__le__',\n",
       " '__len__',\n",
       " '__lt__',\n",
       " '__ne__',\n",
       " '__new__',\n",
       " '__or__',\n",
       " '__reduce__',\n",
       " '__reduce_ex__',\n",
       " '__repr__',\n",
       " '__reversed__',\n",
       " '__ror__',\n",
       " '__setattr__',\n",
       " '__setitem__',\n",
       " '__sizeof__',\n",
       " '__str__',\n",
       " '__subclasshook__',\n",
       " 'clear',\n",
       " 'copy',\n",
       " 'fromkeys',\n",
       " 'get',\n",
       " 'items',\n",
       " 'keys',\n",
       " 'pop',\n",
       " 'popitem',\n",
       " 'setdefault',\n",
       " 'update',\n",
       " 'values']"
      ]
     },
     "execution_count": 200,
     "metadata": {},
     "output_type": "execute_result"
    }
   ],
   "source": [
    "dir(profile)"
   ]
  },
  {
   "cell_type": "markdown",
   "id": "a8db145f",
   "metadata": {},
   "source": [
    "### Dictionary Functionalities"
   ]
  },
  {
   "cell_type": "markdown",
   "id": "be2f01e1",
   "metadata": {},
   "source": [
    "###  'clear', 'copy', 'fromkeys', 'get', 'items', 'keys', 'pop', 'popitem', 'setdefault', 'update', 'values'"
   ]
  },
  {
   "cell_type": "code",
   "execution_count": 201,
   "id": "74676e22",
   "metadata": {
    "ExecuteTime": {
     "end_time": "2023-08-15T05:47:11.890238Z",
     "start_time": "2023-08-15T05:47:11.885176Z"
    }
   },
   "outputs": [
    {
     "name": "stdout",
     "output_type": "stream",
     "text": [
      "This key is not available\n"
     ]
    }
   ],
   "source": [
    "# The get method\n",
    "print(profile.get('location', 'This key is not available')) # The get() method"
   ]
  },
  {
   "cell_type": "code",
   "execution_count": 202,
   "id": "ce10205f",
   "metadata": {
    "ExecuteTime": {
     "end_time": "2023-08-15T05:47:12.090382Z",
     "start_time": "2023-08-15T05:47:12.083775Z"
    }
   },
   "outputs": [
    {
     "data": {
      "text/plain": [
       "{'first_name': 'Pablo',\n",
       " 'last_name': 'Okwukogu',\n",
       " 'email': 'peter.okwukogu@gmail.com'}"
      ]
     },
     "execution_count": 202,
     "metadata": {},
     "output_type": "execute_result"
    }
   ],
   "source": [
    "profile"
   ]
  },
  {
   "cell_type": "code",
   "execution_count": 203,
   "id": "4e7e1b5d",
   "metadata": {
    "ExecuteTime": {
     "end_time": "2023-08-15T05:47:12.320890Z",
     "start_time": "2023-08-15T05:47:12.315116Z"
    }
   },
   "outputs": [],
   "source": [
    "# The copy method\n",
    "profile_copy = profile.copy() # The copy method "
   ]
  },
  {
   "cell_type": "code",
   "execution_count": 204,
   "id": "8580cfb4",
   "metadata": {
    "ExecuteTime": {
     "end_time": "2023-08-15T05:47:12.533813Z",
     "start_time": "2023-08-15T05:47:12.527323Z"
    }
   },
   "outputs": [
    {
     "data": {
      "text/plain": [
       "{'first_name': 'Pablo',\n",
       " 'last_name': 'Okwukogu',\n",
       " 'email': 'peter.okwukogu@gmail.com'}"
      ]
     },
     "execution_count": 204,
     "metadata": {},
     "output_type": "execute_result"
    }
   ],
   "source": [
    "profile_copy"
   ]
  },
  {
   "cell_type": "code",
   "execution_count": 205,
   "id": "8ee7d055",
   "metadata": {
    "ExecuteTime": {
     "end_time": "2023-08-15T05:47:12.719731Z",
     "start_time": "2023-08-15T05:47:12.716109Z"
    }
   },
   "outputs": [],
   "source": [
    "# The clear method\n",
    "profile_copy.clear() "
   ]
  },
  {
   "cell_type": "code",
   "execution_count": 206,
   "id": "77b62e6e",
   "metadata": {
    "ExecuteTime": {
     "end_time": "2023-08-15T05:47:12.945399Z",
     "start_time": "2023-08-15T05:47:12.936681Z"
    }
   },
   "outputs": [
    {
     "data": {
      "text/plain": [
       "{}"
      ]
     },
     "execution_count": 206,
     "metadata": {},
     "output_type": "execute_result"
    }
   ],
   "source": [
    "profile_copy"
   ]
  },
  {
   "cell_type": "code",
   "execution_count": 207,
   "id": "8de0901c",
   "metadata": {
    "ExecuteTime": {
     "end_time": "2023-08-15T05:47:13.155440Z",
     "start_time": "2023-08-15T05:47:13.149963Z"
    }
   },
   "outputs": [
    {
     "data": {
      "text/plain": [
       "{'first_name': 'Pablo',\n",
       " 'last_name': 'Okwukogu',\n",
       " 'email': 'peter.okwukogu@gmail.com'}"
      ]
     },
     "execution_count": 207,
     "metadata": {},
     "output_type": "execute_result"
    }
   ],
   "source": [
    "# items method\n",
    "profile"
   ]
  },
  {
   "cell_type": "code",
   "execution_count": 208,
   "id": "53a5c640",
   "metadata": {
    "ExecuteTime": {
     "end_time": "2023-08-15T05:47:13.367833Z",
     "start_time": "2023-08-15T05:47:13.362589Z"
    }
   },
   "outputs": [
    {
     "data": {
      "text/plain": [
       "dict_items([('first_name', 'Pablo'), ('last_name', 'Okwukogu'), ('email', 'peter.okwukogu@gmail.com')])"
      ]
     },
     "execution_count": 208,
     "metadata": {},
     "output_type": "execute_result"
    }
   ],
   "source": [
    "profile.items() "
   ]
  },
  {
   "cell_type": "code",
   "execution_count": 209,
   "id": "4a08f86e",
   "metadata": {
    "ExecuteTime": {
     "end_time": "2023-08-15T05:47:13.592394Z",
     "start_time": "2023-08-15T05:47:13.586294Z"
    }
   },
   "outputs": [
    {
     "data": {
      "text/plain": [
       "dict_keys(['first_name', 'last_name', 'email'])"
      ]
     },
     "execution_count": 209,
     "metadata": {},
     "output_type": "execute_result"
    }
   ],
   "source": [
    "# keys method\n",
    "profile.keys() "
   ]
  },
  {
   "cell_type": "code",
   "execution_count": 210,
   "id": "7b09d96a",
   "metadata": {
    "ExecuteTime": {
     "end_time": "2023-08-15T05:47:13.799797Z",
     "start_time": "2023-08-15T05:47:13.792879Z"
    }
   },
   "outputs": [
    {
     "data": {
      "text/plain": [
       "True"
      ]
     },
     "execution_count": 210,
     "metadata": {},
     "output_type": "execute_result"
    }
   ],
   "source": [
    "'email'in profile"
   ]
  },
  {
   "cell_type": "code",
   "execution_count": 211,
   "id": "32e5ac3b",
   "metadata": {
    "ExecuteTime": {
     "end_time": "2023-08-15T05:47:14.001395Z",
     "start_time": "2023-08-15T05:47:13.994748Z"
    }
   },
   "outputs": [
    {
     "data": {
      "text/plain": [
       "dict_values(['Pablo', 'Okwukogu', 'peter.okwukogu@gmail.com'])"
      ]
     },
     "execution_count": 211,
     "metadata": {},
     "output_type": "execute_result"
    }
   ],
   "source": [
    "# value method\n",
    "profile.values() "
   ]
  },
  {
   "cell_type": "code",
   "execution_count": 212,
   "id": "67783b6b",
   "metadata": {
    "ExecuteTime": {
     "end_time": "2023-08-15T05:47:14.208239Z",
     "start_time": "2023-08-15T05:47:14.201910Z"
    }
   },
   "outputs": [
    {
     "data": {
      "text/plain": [
       "'peter.okwukogu@gmail.com'"
      ]
     },
     "execution_count": 212,
     "metadata": {},
     "output_type": "execute_result"
    }
   ],
   "source": [
    "# pop\n",
    "profile.pop('email')"
   ]
  },
  {
   "cell_type": "code",
   "execution_count": 213,
   "id": "9de665bf",
   "metadata": {
    "ExecuteTime": {
     "end_time": "2023-08-15T05:47:14.403326Z",
     "start_time": "2023-08-15T05:47:14.397696Z"
    }
   },
   "outputs": [
    {
     "data": {
      "text/plain": [
       "{'first_name': 'Pablo', 'last_name': 'Okwukogu'}"
      ]
     },
     "execution_count": 213,
     "metadata": {},
     "output_type": "execute_result"
    }
   ],
   "source": [
    "profile"
   ]
  },
  {
   "cell_type": "code",
   "execution_count": 214,
   "id": "a3f81085",
   "metadata": {
    "ExecuteTime": {
     "end_time": "2023-08-15T05:47:14.616889Z",
     "start_time": "2023-08-15T05:47:14.611911Z"
    }
   },
   "outputs": [
    {
     "data": {
      "text/plain": [
       "'Not a key'"
      ]
     },
     "execution_count": 214,
     "metadata": {},
     "output_type": "execute_result"
    }
   ],
   "source": [
    "profile.pop('location', 'Not a key')"
   ]
  },
  {
   "cell_type": "code",
   "execution_count": 215,
   "id": "4bb3b994",
   "metadata": {
    "ExecuteTime": {
     "end_time": "2023-08-15T05:47:14.822318Z",
     "start_time": "2023-08-15T05:47:14.815858Z"
    }
   },
   "outputs": [
    {
     "data": {
      "text/plain": [
       "{'first_name': 'Pablo', 'last_name': 'Okwukogu'}"
      ]
     },
     "execution_count": 215,
     "metadata": {},
     "output_type": "execute_result"
    }
   ],
   "source": [
    "# popitem()\n",
    "profile"
   ]
  },
  {
   "cell_type": "code",
   "execution_count": 216,
   "id": "285c2682",
   "metadata": {
    "ExecuteTime": {
     "end_time": "2023-08-15T05:47:15.048897Z",
     "start_time": "2023-08-15T05:47:15.041508Z"
    }
   },
   "outputs": [
    {
     "data": {
      "text/plain": [
       "('last_name', 'Okwukogu')"
      ]
     },
     "execution_count": 216,
     "metadata": {},
     "output_type": "execute_result"
    }
   ],
   "source": [
    "profile.popitem()"
   ]
  },
  {
   "cell_type": "code",
   "execution_count": 217,
   "id": "26cd7e6e",
   "metadata": {
    "ExecuteTime": {
     "end_time": "2023-08-15T05:47:15.288581Z",
     "start_time": "2023-08-15T05:47:15.271419Z"
    }
   },
   "outputs": [
    {
     "data": {
      "text/plain": [
       "{'first_name': 'Pablo'}"
      ]
     },
     "execution_count": 217,
     "metadata": {},
     "output_type": "execute_result"
    }
   ],
   "source": [
    "profile"
   ]
  },
  {
   "cell_type": "code",
   "execution_count": 218,
   "id": "59429d2f",
   "metadata": {
    "ExecuteTime": {
     "end_time": "2023-08-15T05:47:15.470060Z",
     "start_time": "2023-08-15T05:47:15.466705Z"
    }
   },
   "outputs": [],
   "source": [
    "# update\n",
    "profile.update([('last_name', 'Okwukogu')])"
   ]
  },
  {
   "cell_type": "code",
   "execution_count": 219,
   "id": "3cf18560",
   "metadata": {
    "ExecuteTime": {
     "end_time": "2023-08-15T05:47:15.707322Z",
     "start_time": "2023-08-15T05:47:15.700257Z"
    }
   },
   "outputs": [
    {
     "data": {
      "text/plain": [
       "{'first_name': 'Pablo', 'last_name': 'Okwukogu'}"
      ]
     },
     "execution_count": 219,
     "metadata": {},
     "output_type": "execute_result"
    }
   ],
   "source": [
    "profile"
   ]
  },
  {
   "cell_type": "code",
   "execution_count": 220,
   "id": "20fe299f",
   "metadata": {
    "ExecuteTime": {
     "end_time": "2023-08-15T05:47:15.914450Z",
     "start_time": "2023-08-15T05:47:15.909850Z"
    }
   },
   "outputs": [],
   "source": [
    "profile.update([('email', 'ipablo@gmail.com')])"
   ]
  },
  {
   "cell_type": "code",
   "execution_count": 221,
   "id": "1897ca34",
   "metadata": {
    "ExecuteTime": {
     "end_time": "2023-08-15T05:47:16.152017Z",
     "start_time": "2023-08-15T05:47:16.146957Z"
    }
   },
   "outputs": [
    {
     "data": {
      "text/plain": [
       "{'first_name': 'Pablo', 'last_name': 'Okwukogu', 'email': 'ipablo@gmail.com'}"
      ]
     },
     "execution_count": 221,
     "metadata": {},
     "output_type": "execute_result"
    }
   ],
   "source": [
    "profile"
   ]
  },
  {
   "cell_type": "code",
   "execution_count": 222,
   "id": "3620d16a",
   "metadata": {
    "ExecuteTime": {
     "end_time": "2023-08-15T05:47:16.371414Z",
     "start_time": "2023-08-15T05:47:16.367160Z"
    }
   },
   "outputs": [],
   "source": [
    "profile.update([('email', 'ipablo.ml26@gmail.com')])"
   ]
  },
  {
   "cell_type": "code",
   "execution_count": 223,
   "id": "3ca180be",
   "metadata": {
    "ExecuteTime": {
     "end_time": "2023-08-15T05:47:16.595940Z",
     "start_time": "2023-08-15T05:47:16.591690Z"
    }
   },
   "outputs": [
    {
     "data": {
      "text/plain": [
       "{'first_name': 'Pablo',\n",
       " 'last_name': 'Okwukogu',\n",
       " 'email': 'ipablo.ml26@gmail.com'}"
      ]
     },
     "execution_count": 223,
     "metadata": {},
     "output_type": "execute_result"
    }
   ],
   "source": [
    "profile"
   ]
  },
  {
   "cell_type": "code",
   "execution_count": 224,
   "id": "81bdd3c9",
   "metadata": {
    "ExecuteTime": {
     "end_time": "2023-08-15T05:47:16.801412Z",
     "start_time": "2023-08-15T05:47:16.796544Z"
    }
   },
   "outputs": [],
   "source": [
    "# Modify your dictionary \n",
    "profile['location'] = 'Bahamas'"
   ]
  },
  {
   "cell_type": "code",
   "execution_count": 225,
   "id": "da4fa2ad",
   "metadata": {
    "ExecuteTime": {
     "end_time": "2023-08-15T05:47:17.018787Z",
     "start_time": "2023-08-15T05:47:17.011864Z"
    }
   },
   "outputs": [
    {
     "data": {
      "text/plain": [
       "{'first_name': 'Pablo',\n",
       " 'last_name': 'Okwukogu',\n",
       " 'email': 'ipablo.ml26@gmail.com',\n",
       " 'location': 'Bahamas'}"
      ]
     },
     "execution_count": 225,
     "metadata": {},
     "output_type": "execute_result"
    }
   ],
   "source": [
    "profile"
   ]
  },
  {
   "cell_type": "code",
   "execution_count": 226,
   "id": "3e87d6ea",
   "metadata": {
    "ExecuteTime": {
     "end_time": "2023-08-15T05:47:17.220681Z",
     "start_time": "2023-08-15T05:47:17.217378Z"
    }
   },
   "outputs": [],
   "source": [
    "# delete item from a dict\n",
    "del profile['email']"
   ]
  },
  {
   "cell_type": "code",
   "execution_count": 227,
   "id": "d5a36d57",
   "metadata": {
    "ExecuteTime": {
     "end_time": "2023-08-15T05:47:17.450723Z",
     "start_time": "2023-08-15T05:47:17.443433Z"
    }
   },
   "outputs": [
    {
     "data": {
      "text/plain": [
       "{'first_name': 'Pablo', 'last_name': 'Okwukogu', 'location': 'Bahamas'}"
      ]
     },
     "execution_count": 227,
     "metadata": {},
     "output_type": "execute_result"
    }
   ],
   "source": [
    "profile"
   ]
  },
  {
   "cell_type": "markdown",
   "id": "4ed282a0",
   "metadata": {},
   "source": [
    "## Python Sets"
   ]
  },
  {
   "cell_type": "code",
   "execution_count": 228,
   "id": "f025b6b1",
   "metadata": {
    "ExecuteTime": {
     "end_time": "2023-08-15T05:47:17.837306Z",
     "start_time": "2023-08-15T05:47:17.833398Z"
    }
   },
   "outputs": [],
   "source": [
    "# Sets are unordered collection of objects\n",
    "# Use sets to remove duplicates \n",
    "# Membership testing \n",
    "# Another to perform mathematical operations: Union, differences"
   ]
  },
  {
   "cell_type": "code",
   "execution_count": 229,
   "id": "634dd080",
   "metadata": {
    "ExecuteTime": {
     "end_time": "2023-08-15T05:47:18.061816Z",
     "start_time": "2023-08-15T05:47:18.058501Z"
    }
   },
   "outputs": [],
   "source": [
    "# Sets don't support indexing\n",
    "# Sets don't support slicing \n",
    "# Sets are mutable "
   ]
  },
  {
   "cell_type": "code",
   "execution_count": 230,
   "id": "d7a0cf13",
   "metadata": {
    "ExecuteTime": {
     "end_time": "2023-08-15T05:47:18.265325Z",
     "start_time": "2023-08-15T05:47:18.260036Z"
    }
   },
   "outputs": [],
   "source": [
    "# Create a set\n",
    "names_sets = {\"Pablo\", \"Kabir\", \"Mudia\", \"Pablo\", \"Tomi\", \"Kabir\"}"
   ]
  },
  {
   "cell_type": "code",
   "execution_count": 231,
   "id": "051b5447",
   "metadata": {
    "ExecuteTime": {
     "end_time": "2023-08-15T05:47:18.468677Z",
     "start_time": "2023-08-15T05:47:18.461994Z"
    }
   },
   "outputs": [
    {
     "data": {
      "text/plain": [
       "set"
      ]
     },
     "execution_count": 231,
     "metadata": {},
     "output_type": "execute_result"
    }
   ],
   "source": [
    "type(names_sets)"
   ]
  },
  {
   "cell_type": "code",
   "execution_count": 232,
   "id": "ee03cc14",
   "metadata": {
    "ExecuteTime": {
     "end_time": "2023-08-15T05:47:18.669307Z",
     "start_time": "2023-08-15T05:47:18.663504Z"
    }
   },
   "outputs": [
    {
     "name": "stdout",
     "output_type": "stream",
     "text": [
      "{'Tomi', 'Kabir', 'Mudia', 'Pablo'}\n"
     ]
    }
   ],
   "source": [
    "print(names_sets)"
   ]
  },
  {
   "cell_type": "code",
   "execution_count": 233,
   "id": "9aafd4d7",
   "metadata": {
    "ExecuteTime": {
     "end_time": "2023-08-15T05:47:18.899233Z",
     "start_time": "2023-08-15T05:47:18.892912Z"
    }
   },
   "outputs": [
    {
     "data": {
      "text/plain": [
       "{'Kabir', 'Mudia', 'Pablo', 'Tomi'}"
      ]
     },
     "execution_count": 233,
     "metadata": {},
     "output_type": "execute_result"
    }
   ],
   "source": [
    "names_sets"
   ]
  },
  {
   "cell_type": "code",
   "execution_count": 234,
   "id": "46bc54a3",
   "metadata": {
    "ExecuteTime": {
     "end_time": "2023-08-15T05:47:19.083725Z",
     "start_time": "2023-08-15T05:47:19.076527Z"
    }
   },
   "outputs": [
    {
     "data": {
      "text/plain": [
       "list"
      ]
     },
     "execution_count": 234,
     "metadata": {},
     "output_type": "execute_result"
    }
   ],
   "source": [
    "type(list_numbers)"
   ]
  },
  {
   "cell_type": "code",
   "execution_count": 235,
   "id": "efcf5aa0",
   "metadata": {
    "ExecuteTime": {
     "end_time": "2023-08-15T05:47:19.303212Z",
     "start_time": "2023-08-15T05:47:19.299172Z"
    }
   },
   "outputs": [],
   "source": [
    "# Use the set function \n",
    "list_numbers_set = set(list_numbers)"
   ]
  },
  {
   "cell_type": "code",
   "execution_count": 236,
   "id": "1d5e6770",
   "metadata": {
    "ExecuteTime": {
     "end_time": "2023-08-15T05:47:19.506704Z",
     "start_time": "2023-08-15T05:47:19.499991Z"
    }
   },
   "outputs": [
    {
     "data": {
      "text/plain": [
       "set"
      ]
     },
     "execution_count": 236,
     "metadata": {},
     "output_type": "execute_result"
    }
   ],
   "source": [
    "type(list_numbers_set)"
   ]
  },
  {
   "cell_type": "code",
   "execution_count": 237,
   "id": "ec8d89d0",
   "metadata": {
    "ExecuteTime": {
     "end_time": "2023-08-15T05:47:19.717777Z",
     "start_time": "2023-08-15T05:47:19.711201Z"
    }
   },
   "outputs": [
    {
     "data": {
      "text/plain": [
       "{1, 2, 3, 4, 5, 6, 7}"
      ]
     },
     "execution_count": 237,
     "metadata": {},
     "output_type": "execute_result"
    }
   ],
   "source": [
    "list_numbers_set"
   ]
  },
  {
   "cell_type": "markdown",
   "id": "3e1dfcc9",
   "metadata": {},
   "source": [
    "## Acessing items in a Set"
   ]
  },
  {
   "cell_type": "code",
   "execution_count": 238,
   "id": "1b09903f",
   "metadata": {
    "ExecuteTime": {
     "end_time": "2023-08-15T05:47:20.105503Z",
     "start_time": "2023-08-15T05:47:20.099000Z"
    }
   },
   "outputs": [
    {
     "data": {
      "text/plain": [
       "{'Kabir', 'Mudia', 'Pablo', 'Tomi'}"
      ]
     },
     "execution_count": 238,
     "metadata": {},
     "output_type": "execute_result"
    }
   ],
   "source": [
    "names_sets"
   ]
  },
  {
   "cell_type": "code",
   "execution_count": 239,
   "id": "eee001ba",
   "metadata": {
    "ExecuteTime": {
     "end_time": "2023-08-15T05:47:20.325574Z",
     "start_time": "2023-08-15T05:47:20.320090Z"
    }
   },
   "outputs": [
    {
     "data": {
      "text/plain": [
       "{1, 2, 3, 4, 5, 6, 7}"
      ]
     },
     "execution_count": 239,
     "metadata": {},
     "output_type": "execute_result"
    }
   ],
   "source": [
    "list_numbers_set"
   ]
  },
  {
   "cell_type": "code",
   "execution_count": 240,
   "id": "af242a08",
   "metadata": {
    "ExecuteTime": {
     "end_time": "2023-08-15T05:47:20.515189Z",
     "start_time": "2023-08-15T05:47:20.511756Z"
    }
   },
   "outputs": [],
   "source": [
    "# Sets don't allow for slicing\n",
    "# Sets allow for iterartions "
   ]
  },
  {
   "cell_type": "code",
   "execution_count": 241,
   "id": "6373834e",
   "metadata": {
    "ExecuteTime": {
     "end_time": "2023-08-15T05:47:20.733864Z",
     "start_time": "2023-08-15T05:47:20.728498Z"
    }
   },
   "outputs": [
    {
     "name": "stdout",
     "output_type": "stream",
     "text": [
      "Tomi\n",
      "Kabir\n",
      "Mudia\n",
      "Pablo\n"
     ]
    }
   ],
   "source": [
    "for names in names_sets:\n",
    "    print(names)"
   ]
  },
  {
   "cell_type": "markdown",
   "id": "6c4ce3fa",
   "metadata": {},
   "source": [
    "## Modify/Change/Add items to a Set"
   ]
  },
  {
   "cell_type": "code",
   "execution_count": 242,
   "id": "ef5bae5c",
   "metadata": {
    "ExecuteTime": {
     "end_time": "2023-08-15T05:47:21.163315Z",
     "start_time": "2023-08-15T05:47:21.156677Z"
    }
   },
   "outputs": [
    {
     "data": {
      "text/plain": [
       "['__and__',\n",
       " '__class__',\n",
       " '__class_getitem__',\n",
       " '__contains__',\n",
       " '__delattr__',\n",
       " '__dir__',\n",
       " '__doc__',\n",
       " '__eq__',\n",
       " '__format__',\n",
       " '__ge__',\n",
       " '__getattribute__',\n",
       " '__gt__',\n",
       " '__hash__',\n",
       " '__iand__',\n",
       " '__init__',\n",
       " '__init_subclass__',\n",
       " '__ior__',\n",
       " '__isub__',\n",
       " '__iter__',\n",
       " '__ixor__',\n",
       " '__le__',\n",
       " '__len__',\n",
       " '__lt__',\n",
       " '__ne__',\n",
       " '__new__',\n",
       " '__or__',\n",
       " '__rand__',\n",
       " '__reduce__',\n",
       " '__reduce_ex__',\n",
       " '__repr__',\n",
       " '__ror__',\n",
       " '__rsub__',\n",
       " '__rxor__',\n",
       " '__setattr__',\n",
       " '__sizeof__',\n",
       " '__str__',\n",
       " '__sub__',\n",
       " '__subclasshook__',\n",
       " '__xor__',\n",
       " 'add',\n",
       " 'clear',\n",
       " 'copy',\n",
       " 'difference',\n",
       " 'difference_update',\n",
       " 'discard',\n",
       " 'intersection',\n",
       " 'intersection_update',\n",
       " 'isdisjoint',\n",
       " 'issubset',\n",
       " 'issuperset',\n",
       " 'pop',\n",
       " 'remove',\n",
       " 'symmetric_difference',\n",
       " 'symmetric_difference_update',\n",
       " 'union',\n",
       " 'update']"
      ]
     },
     "execution_count": 242,
     "metadata": {},
     "output_type": "execute_result"
    }
   ],
   "source": [
    "dir(names_sets)"
   ]
  },
  {
   "cell_type": "code",
   "execution_count": 243,
   "id": "91b36164",
   "metadata": {
    "ExecuteTime": {
     "end_time": "2023-08-15T05:47:21.389564Z",
     "start_time": "2023-08-15T05:47:21.385932Z"
    }
   },
   "outputs": [],
   "source": [
    "#'add' & 'update'"
   ]
  },
  {
   "cell_type": "code",
   "execution_count": 244,
   "id": "39143180",
   "metadata": {
    "ExecuteTime": {
     "end_time": "2023-08-15T05:47:21.602981Z",
     "start_time": "2023-08-15T05:47:21.594908Z"
    }
   },
   "outputs": [
    {
     "data": {
      "text/plain": [
       "{'Kabir', 'Mudia', 'Pablo', 'Tobi', 'Tomi'}"
      ]
     },
     "execution_count": 244,
     "metadata": {},
     "output_type": "execute_result"
    }
   ],
   "source": [
    "names_sets.add('Tobi') # adding an item to the set \n",
    "names_sets"
   ]
  },
  {
   "cell_type": "code",
   "execution_count": 245,
   "id": "8cbdecca",
   "metadata": {
    "ExecuteTime": {
     "end_time": "2023-08-15T05:47:21.844370Z",
     "start_time": "2023-08-15T05:47:21.808239Z"
    }
   },
   "outputs": [
    {
     "ename": "TypeError",
     "evalue": "set.add() takes exactly one argument (2 given)",
     "output_type": "error",
     "traceback": [
      "\u001b[0;31m---------------------------------------------------------------------------\u001b[0m",
      "\u001b[0;31mTypeError\u001b[0m                                 Traceback (most recent call last)",
      "Cell \u001b[0;32mIn[245], line 1\u001b[0m\n\u001b[0;32m----> 1\u001b[0m \u001b[43mnames_sets\u001b[49m\u001b[38;5;241;43m.\u001b[39;49m\u001b[43madd\u001b[49m\u001b[43m(\u001b[49m\u001b[38;5;124;43m'\u001b[39;49m\u001b[38;5;124;43mTony\u001b[39;49m\u001b[38;5;124;43m'\u001b[39;49m\u001b[43m,\u001b[49m\u001b[43m \u001b[49m\u001b[38;5;124;43m'\u001b[39;49m\u001b[38;5;124;43mGideon\u001b[39;49m\u001b[38;5;124;43m'\u001b[39;49m\u001b[43m)\u001b[49m\n",
      "\u001b[0;31mTypeError\u001b[0m: set.add() takes exactly one argument (2 given)"
     ]
    }
   ],
   "source": [
    "names_sets.add('Tony', 'Gideon') # the add method doesn't work for multiple items"
   ]
  },
  {
   "cell_type": "code",
   "execution_count": 246,
   "id": "56179284",
   "metadata": {
    "ExecuteTime": {
     "end_time": "2023-08-15T05:47:22.021525Z",
     "start_time": "2023-08-15T05:47:22.012000Z"
    }
   },
   "outputs": [],
   "source": [
    "names_sets.update(['Tony', 'Gideon']) # the update method works for multiple items"
   ]
  },
  {
   "cell_type": "code",
   "execution_count": 247,
   "id": "bbf7a770",
   "metadata": {
    "ExecuteTime": {
     "end_time": "2023-08-15T05:47:22.246351Z",
     "start_time": "2023-08-15T05:47:22.233902Z"
    }
   },
   "outputs": [
    {
     "data": {
      "text/plain": [
       "{'Gideon', 'Kabir', 'Mudia', 'Pablo', 'Tobi', 'Tomi', 'Tony'}"
      ]
     },
     "execution_count": 247,
     "metadata": {},
     "output_type": "execute_result"
    }
   ],
   "source": [
    "names_sets"
   ]
  },
  {
   "cell_type": "code",
   "execution_count": 248,
   "id": "38f1b3a0",
   "metadata": {
    "ExecuteTime": {
     "end_time": "2023-08-15T05:47:22.484739Z",
     "start_time": "2023-08-15T05:47:22.480327Z"
    }
   },
   "outputs": [],
   "source": [
    "names_sets = {'Kabir', 'Mudia', 'Pablo', 'Tobi', 'Tomi'}"
   ]
  },
  {
   "cell_type": "code",
   "execution_count": 249,
   "id": "fb268751",
   "metadata": {
    "ExecuteTime": {
     "end_time": "2023-08-15T05:47:22.678816Z",
     "start_time": "2023-08-15T05:47:22.662124Z"
    }
   },
   "outputs": [
    {
     "data": {
      "text/plain": [
       "{'Kabir', 'Mudia', 'Pablo', 'Tobi', 'Tomi'}"
      ]
     },
     "execution_count": 249,
     "metadata": {},
     "output_type": "execute_result"
    }
   ],
   "source": [
    "names_sets"
   ]
  },
  {
   "cell_type": "code",
   "execution_count": 250,
   "id": "e5bb068e",
   "metadata": {
    "ExecuteTime": {
     "end_time": "2023-08-15T05:47:22.889523Z",
     "start_time": "2023-08-15T05:47:22.882001Z"
    }
   },
   "outputs": [],
   "source": [
    "names_sets.update(['Tony', 'Gideon']) # the update method works for multiple items"
   ]
  },
  {
   "cell_type": "code",
   "execution_count": 251,
   "id": "9be2ba4b",
   "metadata": {
    "ExecuteTime": {
     "end_time": "2023-08-15T05:47:23.097679Z",
     "start_time": "2023-08-15T05:47:23.085302Z"
    }
   },
   "outputs": [
    {
     "data": {
      "text/plain": [
       "{'Gideon', 'Kabir', 'Mudia', 'Pablo', 'Tobi', 'Tomi', 'Tony'}"
      ]
     },
     "execution_count": 251,
     "metadata": {},
     "output_type": "execute_result"
    }
   ],
   "source": [
    "names_sets"
   ]
  },
  {
   "cell_type": "markdown",
   "id": "eda759e0",
   "metadata": {},
   "source": [
    "## remove(), discard() & pop(), clear() & del"
   ]
  },
  {
   "cell_type": "code",
   "execution_count": 252,
   "id": "8c25e8ea",
   "metadata": {
    "ExecuteTime": {
     "end_time": "2023-08-15T05:47:23.516897Z",
     "start_time": "2023-08-15T05:47:23.509016Z"
    }
   },
   "outputs": [
    {
     "data": {
      "text/plain": [
       "{'Gideon', 'Kabir', 'Mudia', 'Pablo', 'Tobi', 'Tomi', 'Tony'}"
      ]
     },
     "execution_count": 252,
     "metadata": {},
     "output_type": "execute_result"
    }
   ],
   "source": [
    "names_sets"
   ]
  },
  {
   "cell_type": "code",
   "execution_count": 253,
   "id": "ad35bb56",
   "metadata": {
    "ExecuteTime": {
     "end_time": "2023-08-15T05:47:23.722829Z",
     "start_time": "2023-08-15T05:47:23.716753Z"
    }
   },
   "outputs": [
    {
     "data": {
      "text/plain": [
       "{'Kabir', 'Mudia', 'Pablo', 'Tobi', 'Tomi', 'Tony'}"
      ]
     },
     "execution_count": 253,
     "metadata": {},
     "output_type": "execute_result"
    }
   ],
   "source": [
    "names_sets.remove('Gideon') # removes an element \n",
    "names_sets"
   ]
  },
  {
   "cell_type": "code",
   "execution_count": 254,
   "id": "e711a548",
   "metadata": {
    "ExecuteTime": {
     "end_time": "2023-08-15T05:47:23.966003Z",
     "start_time": "2023-08-15T05:47:23.926172Z"
    }
   },
   "outputs": [
    {
     "ename": "KeyError",
     "evalue": "'Gideon'",
     "output_type": "error",
     "traceback": [
      "\u001b[0;31m---------------------------------------------------------------------------\u001b[0m",
      "\u001b[0;31mKeyError\u001b[0m                                  Traceback (most recent call last)",
      "Cell \u001b[0;32mIn[254], line 1\u001b[0m\n\u001b[0;32m----> 1\u001b[0m \u001b[43mnames_sets\u001b[49m\u001b[38;5;241;43m.\u001b[39;49m\u001b[43mremove\u001b[49m\u001b[43m(\u001b[49m\u001b[38;5;124;43m'\u001b[39;49m\u001b[38;5;124;43mGideon\u001b[39;49m\u001b[38;5;124;43m'\u001b[39;49m\u001b[43m)\u001b[49m\n",
      "\u001b[0;31mKeyError\u001b[0m: 'Gideon'"
     ]
    }
   ],
   "source": [
    "names_sets.remove('Gideon')"
   ]
  },
  {
   "cell_type": "code",
   "execution_count": 255,
   "id": "7a8ff87b",
   "metadata": {
    "ExecuteTime": {
     "end_time": "2023-08-15T05:47:24.139264Z",
     "start_time": "2023-08-15T05:47:24.131077Z"
    }
   },
   "outputs": [],
   "source": [
    "names_sets.discard('Gideon') # attempts to remove an element without errors"
   ]
  },
  {
   "cell_type": "code",
   "execution_count": 256,
   "id": "b24d9803",
   "metadata": {
    "ExecuteTime": {
     "end_time": "2023-08-15T05:47:24.338359Z",
     "start_time": "2023-08-15T05:47:24.333573Z"
    }
   },
   "outputs": [],
   "source": [
    "names_sets.discard('Kabir')"
   ]
  },
  {
   "cell_type": "code",
   "execution_count": 257,
   "id": "16d2e00b",
   "metadata": {
    "ExecuteTime": {
     "end_time": "2023-08-15T05:47:24.525421Z",
     "start_time": "2023-08-15T05:47:24.520880Z"
    }
   },
   "outputs": [
    {
     "data": {
      "text/plain": [
       "{'Mudia', 'Pablo', 'Tobi', 'Tomi', 'Tony'}"
      ]
     },
     "execution_count": 257,
     "metadata": {},
     "output_type": "execute_result"
    }
   ],
   "source": [
    "names_sets"
   ]
  },
  {
   "cell_type": "code",
   "execution_count": 258,
   "id": "a07e8dbd",
   "metadata": {
    "ExecuteTime": {
     "end_time": "2023-08-15T05:47:24.742958Z",
     "start_time": "2023-08-15T05:47:24.730820Z"
    }
   },
   "outputs": [
    {
     "data": {
      "text/plain": [
       "'Tony'"
      ]
     },
     "execution_count": 258,
     "metadata": {},
     "output_type": "execute_result"
    }
   ],
   "source": [
    "names_sets.pop() # pop reemoves an arbitrary element "
   ]
  },
  {
   "cell_type": "code",
   "execution_count": 259,
   "id": "716cd8a7",
   "metadata": {
    "ExecuteTime": {
     "end_time": "2023-08-15T05:47:24.950899Z",
     "start_time": "2023-08-15T05:47:24.943449Z"
    }
   },
   "outputs": [
    {
     "data": {
      "text/plain": [
       "{'Mudia', 'Pablo', 'Tobi', 'Tomi'}"
      ]
     },
     "execution_count": 259,
     "metadata": {},
     "output_type": "execute_result"
    }
   ],
   "source": [
    "names_sets"
   ]
  },
  {
   "cell_type": "code",
   "execution_count": 260,
   "id": "d2cc16b6",
   "metadata": {
    "ExecuteTime": {
     "end_time": "2023-08-15T05:47:25.151111Z",
     "start_time": "2023-08-15T05:47:25.147713Z"
    }
   },
   "outputs": [],
   "source": [
    "names_sets.clear() # empties the set"
   ]
  },
  {
   "cell_type": "code",
   "execution_count": 261,
   "id": "451f2ff4",
   "metadata": {
    "ExecuteTime": {
     "end_time": "2023-08-15T05:47:25.356413Z",
     "start_time": "2023-08-15T05:47:25.350339Z"
    }
   },
   "outputs": [
    {
     "data": {
      "text/plain": [
       "set()"
      ]
     },
     "execution_count": 261,
     "metadata": {},
     "output_type": "execute_result"
    }
   ],
   "source": [
    "names_sets"
   ]
  },
  {
   "cell_type": "code",
   "execution_count": 262,
   "id": "81729b88",
   "metadata": {
    "ExecuteTime": {
     "end_time": "2023-08-15T05:47:25.564896Z",
     "start_time": "2023-08-15T05:47:25.560281Z"
    }
   },
   "outputs": [],
   "source": [
    "del names_sets"
   ]
  },
  {
   "cell_type": "code",
   "execution_count": 263,
   "id": "6d553fa3",
   "metadata": {
    "ExecuteTime": {
     "end_time": "2023-08-15T05:47:25.798787Z",
     "start_time": "2023-08-15T05:47:25.780126Z"
    }
   },
   "outputs": [
    {
     "ename": "NameError",
     "evalue": "name 'names_sets' is not defined",
     "output_type": "error",
     "traceback": [
      "\u001b[0;31m---------------------------------------------------------------------------\u001b[0m",
      "\u001b[0;31mNameError\u001b[0m                                 Traceback (most recent call last)",
      "Cell \u001b[0;32mIn[263], line 1\u001b[0m\n\u001b[0;32m----> 1\u001b[0m \u001b[43mnames_sets\u001b[49m\n",
      "\u001b[0;31mNameError\u001b[0m: name 'names_sets' is not defined"
     ]
    }
   ],
   "source": [
    "names_sets "
   ]
  },
  {
   "cell_type": "markdown",
   "id": "0868aaa5",
   "metadata": {},
   "source": [
    "## Set Operations: union(), intersection(), difference()"
   ]
  },
  {
   "cell_type": "code",
   "execution_count": 264,
   "id": "4beff348",
   "metadata": {
    "ExecuteTime": {
     "end_time": "2023-08-15T05:47:26.211152Z",
     "start_time": "2023-08-15T05:47:26.207403Z"
    }
   },
   "outputs": [],
   "source": [
    "name_persons = {'Pablo', 'Salisu', 'Joy', 'Tomi', 41, 26}\n",
    "age_persons = {41, 26, 23, 37, 'Salisu', 'Tomi'}"
   ]
  },
  {
   "cell_type": "code",
   "execution_count": 265,
   "id": "955cbc3c",
   "metadata": {
    "ExecuteTime": {
     "end_time": "2023-08-15T05:47:26.418716Z",
     "start_time": "2023-08-15T05:47:26.412821Z"
    }
   },
   "outputs": [
    {
     "data": {
      "text/plain": [
       "{26, 41, 'Joy', 'Pablo', 'Salisu', 'Tomi'}"
      ]
     },
     "execution_count": 265,
     "metadata": {},
     "output_type": "execute_result"
    }
   ],
   "source": [
    "name_persons"
   ]
  },
  {
   "cell_type": "code",
   "execution_count": 266,
   "id": "63fe5b40",
   "metadata": {
    "ExecuteTime": {
     "end_time": "2023-08-15T05:47:26.621710Z",
     "start_time": "2023-08-15T05:47:26.615864Z"
    }
   },
   "outputs": [
    {
     "data": {
      "text/plain": [
       "{23, 26, 37, 41, 'Joy', 'Pablo', 'Salisu', 'Tomi'}"
      ]
     },
     "execution_count": 266,
     "metadata": {},
     "output_type": "execute_result"
    }
   ],
   "source": [
    "# Use the union operator/method\n",
    "name_persons.union(age_persons)"
   ]
  },
  {
   "cell_type": "code",
   "execution_count": 267,
   "id": "1d0d0ddd",
   "metadata": {
    "ExecuteTime": {
     "end_time": "2023-08-15T05:47:26.816831Z",
     "start_time": "2023-08-15T05:47:26.809542Z"
    }
   },
   "outputs": [
    {
     "data": {
      "text/plain": [
       "{26, 41, 'Joy', 'Pablo', 'Salisu', 'Tomi'}"
      ]
     },
     "execution_count": 267,
     "metadata": {},
     "output_type": "execute_result"
    }
   ],
   "source": [
    "name_persons"
   ]
  },
  {
   "cell_type": "code",
   "execution_count": 268,
   "id": "4d16edbc",
   "metadata": {
    "ExecuteTime": {
     "end_time": "2023-08-15T05:47:27.028801Z",
     "start_time": "2023-08-15T05:47:27.024870Z"
    }
   },
   "outputs": [],
   "source": [
    "new_set = name_persons.union(age_persons)"
   ]
  },
  {
   "cell_type": "code",
   "execution_count": 269,
   "id": "28109298",
   "metadata": {
    "ExecuteTime": {
     "end_time": "2023-08-15T05:47:27.238325Z",
     "start_time": "2023-08-15T05:47:27.231618Z"
    }
   },
   "outputs": [
    {
     "data": {
      "text/plain": [
       "{23, 26, 37, 41, 'Joy', 'Pablo', 'Salisu', 'Tomi'}"
      ]
     },
     "execution_count": 269,
     "metadata": {},
     "output_type": "execute_result"
    }
   ],
   "source": [
    "new_set"
   ]
  },
  {
   "cell_type": "code",
   "execution_count": 270,
   "id": "572ec68c",
   "metadata": {
    "ExecuteTime": {
     "end_time": "2023-08-15T05:47:27.424714Z",
     "start_time": "2023-08-15T05:47:27.421441Z"
    }
   },
   "outputs": [],
   "source": [
    "# Use intersection "
   ]
  },
  {
   "cell_type": "code",
   "execution_count": 271,
   "id": "48ce3f66",
   "metadata": {
    "ExecuteTime": {
     "end_time": "2023-08-15T05:47:27.649045Z",
     "start_time": "2023-08-15T05:47:27.642611Z"
    }
   },
   "outputs": [
    {
     "data": {
      "text/plain": [
       "{26, 41, 'Joy', 'Pablo', 'Salisu', 'Tomi'}"
      ]
     },
     "execution_count": 271,
     "metadata": {},
     "output_type": "execute_result"
    }
   ],
   "source": [
    "name_persons"
   ]
  },
  {
   "cell_type": "code",
   "execution_count": 272,
   "id": "34aa0afe",
   "metadata": {
    "ExecuteTime": {
     "end_time": "2023-08-15T05:47:28.051963Z",
     "start_time": "2023-08-15T05:47:28.046165Z"
    }
   },
   "outputs": [
    {
     "data": {
      "text/plain": [
       "{23, 26, 37, 41, 'Salisu', 'Tomi'}"
      ]
     },
     "execution_count": 272,
     "metadata": {},
     "output_type": "execute_result"
    }
   ],
   "source": [
    "age_persons"
   ]
  },
  {
   "cell_type": "code",
   "execution_count": 273,
   "id": "416b8240",
   "metadata": {
    "ExecuteTime": {
     "end_time": "2023-08-15T05:47:28.271036Z",
     "start_time": "2023-08-15T05:47:28.267678Z"
    }
   },
   "outputs": [],
   "source": [
    "new_intersect = name_persons.intersection(age_persons)"
   ]
  },
  {
   "cell_type": "code",
   "execution_count": 274,
   "id": "a3aee12c",
   "metadata": {
    "ExecuteTime": {
     "end_time": "2023-08-15T05:47:28.480600Z",
     "start_time": "2023-08-15T05:47:28.474065Z"
    }
   },
   "outputs": [
    {
     "data": {
      "text/plain": [
       "{26, 41, 'Salisu', 'Tomi'}"
      ]
     },
     "execution_count": 274,
     "metadata": {},
     "output_type": "execute_result"
    }
   ],
   "source": [
    "new_intersect"
   ]
  },
  {
   "cell_type": "code",
   "execution_count": 275,
   "id": "dd85f841",
   "metadata": {
    "ExecuteTime": {
     "end_time": "2023-08-15T05:47:28.682169Z",
     "start_time": "2023-08-15T05:47:28.678745Z"
    }
   },
   "outputs": [],
   "source": [
    "# use difference"
   ]
  },
  {
   "cell_type": "code",
   "execution_count": 276,
   "id": "7a541671",
   "metadata": {
    "ExecuteTime": {
     "end_time": "2023-08-15T05:47:28.902504Z",
     "start_time": "2023-08-15T05:47:28.896510Z"
    }
   },
   "outputs": [
    {
     "data": {
      "text/plain": [
       "{26, 41, 'Joy', 'Pablo', 'Salisu', 'Tomi'}"
      ]
     },
     "execution_count": 276,
     "metadata": {},
     "output_type": "execute_result"
    }
   ],
   "source": [
    "name_persons"
   ]
  },
  {
   "cell_type": "code",
   "execution_count": 277,
   "id": "f3473d78",
   "metadata": {
    "ExecuteTime": {
     "end_time": "2023-08-15T05:47:29.093345Z",
     "start_time": "2023-08-15T05:47:29.087168Z"
    }
   },
   "outputs": [
    {
     "data": {
      "text/plain": [
       "{23, 26, 37, 41, 'Salisu', 'Tomi'}"
      ]
     },
     "execution_count": 277,
     "metadata": {},
     "output_type": "execute_result"
    }
   ],
   "source": [
    "age_persons"
   ]
  },
  {
   "cell_type": "code",
   "execution_count": 278,
   "id": "c1834900",
   "metadata": {
    "ExecuteTime": {
     "end_time": "2023-08-15T05:47:29.312934Z",
     "start_time": "2023-08-15T05:47:29.308069Z"
    }
   },
   "outputs": [],
   "source": [
    "new_diff = name_persons.difference(age_persons)"
   ]
  },
  {
   "cell_type": "code",
   "execution_count": 279,
   "id": "4b79b05e",
   "metadata": {
    "ExecuteTime": {
     "end_time": "2023-08-15T05:47:29.519746Z",
     "start_time": "2023-08-15T05:47:29.514390Z"
    }
   },
   "outputs": [
    {
     "data": {
      "text/plain": [
       "{'Joy', 'Pablo'}"
      ]
     },
     "execution_count": 279,
     "metadata": {},
     "output_type": "execute_result"
    }
   ],
   "source": [
    "new_diff"
   ]
  },
  {
   "cell_type": "markdown",
   "id": "cf40e3f4",
   "metadata": {},
   "source": [
    "## The Boolean Operations & Conditional Statements"
   ]
  },
  {
   "cell_type": "code",
   "execution_count": 281,
   "id": "d949c59a",
   "metadata": {
    "ExecuteTime": {
     "end_time": "2023-08-15T05:56:40.081908Z",
     "start_time": "2023-08-15T05:56:40.074731Z"
    }
   },
   "outputs": [],
   "source": [
    "# What is a boolean ops \n",
    "# Yes or a No\n",
    "# True or False - Boolean Values \n",
    "# True or False mapping - Rule "
   ]
  },
  {
   "cell_type": "code",
   "execution_count": 282,
   "id": "f97f192a",
   "metadata": {
    "ExecuteTime": {
     "end_time": "2023-08-15T05:57:26.652544Z",
     "start_time": "2023-08-15T05:57:26.638194Z"
    }
   },
   "outputs": [
    {
     "data": {
      "text/plain": [
       "True"
      ]
     },
     "execution_count": 282,
     "metadata": {},
     "output_type": "execute_result"
    }
   ],
   "source": [
    "True == 1 "
   ]
  },
  {
   "cell_type": "code",
   "execution_count": 283,
   "id": "1ad6c382",
   "metadata": {
    "ExecuteTime": {
     "end_time": "2023-08-15T05:58:18.157536Z",
     "start_time": "2023-08-15T05:58:18.138020Z"
    }
   },
   "outputs": [
    {
     "data": {
      "text/plain": [
       "True"
      ]
     },
     "execution_count": 283,
     "metadata": {},
     "output_type": "execute_result"
    }
   ],
   "source": [
    "False == 0"
   ]
  },
  {
   "cell_type": "markdown",
   "id": "a0904bf0",
   "metadata": {},
   "source": [
    "## The bool() function"
   ]
  },
  {
   "cell_type": "code",
   "execution_count": null,
   "id": "e7c63b1c",
   "metadata": {},
   "outputs": [],
   "source": [
    "# Anything greater than zero should be casted as True"
   ]
  },
  {
   "cell_type": "code",
   "execution_count": 284,
   "id": "3c9a404f",
   "metadata": {
    "ExecuteTime": {
     "end_time": "2023-08-15T06:00:42.245492Z",
     "start_time": "2023-08-15T06:00:42.238801Z"
    }
   },
   "outputs": [
    {
     "data": {
      "text/plain": [
       "True"
      ]
     },
     "execution_count": 284,
     "metadata": {},
     "output_type": "execute_result"
    }
   ],
   "source": [
    "bool('Pablo')"
   ]
  },
  {
   "cell_type": "code",
   "execution_count": 286,
   "id": "024ade39",
   "metadata": {
    "ExecuteTime": {
     "end_time": "2023-08-15T06:01:11.651849Z",
     "start_time": "2023-08-15T06:01:11.646056Z"
    }
   },
   "outputs": [
    {
     "data": {
      "text/plain": [
       "True"
      ]
     },
     "execution_count": 286,
     "metadata": {},
     "output_type": "execute_result"
    }
   ],
   "source": [
    "bool('0')"
   ]
  },
  {
   "cell_type": "code",
   "execution_count": 287,
   "id": "32e28a41",
   "metadata": {
    "ExecuteTime": {
     "end_time": "2023-08-15T06:01:46.421822Z",
     "start_time": "2023-08-15T06:01:46.414062Z"
    }
   },
   "outputs": [
    {
     "data": {
      "text/plain": [
       "False"
      ]
     },
     "execution_count": 287,
     "metadata": {},
     "output_type": "execute_result"
    }
   ],
   "source": [
    "bool([])"
   ]
  },
  {
   "cell_type": "code",
   "execution_count": 291,
   "id": "8575a30c",
   "metadata": {
    "ExecuteTime": {
     "end_time": "2023-08-15T06:04:06.553821Z",
     "start_time": "2023-08-15T06:04:06.544851Z"
    }
   },
   "outputs": [
    {
     "data": {
      "text/plain": [
       "False"
      ]
     },
     "execution_count": 291,
     "metadata": {},
     "output_type": "execute_result"
    }
   ],
   "source": [
    "bool(0)"
   ]
  },
  {
   "cell_type": "code",
   "execution_count": 288,
   "id": "93eb0995",
   "metadata": {
    "ExecuteTime": {
     "end_time": "2023-08-15T06:02:03.653410Z",
     "start_time": "2023-08-15T06:02:03.645236Z"
    }
   },
   "outputs": [
    {
     "data": {
      "text/plain": [
       "False"
      ]
     },
     "execution_count": 288,
     "metadata": {},
     "output_type": "execute_result"
    }
   ],
   "source": [
    "bool('')"
   ]
  },
  {
   "cell_type": "code",
   "execution_count": 290,
   "id": "c480d726",
   "metadata": {
    "ExecuteTime": {
     "end_time": "2023-08-15T06:02:40.117844Z",
     "start_time": "2023-08-15T06:02:40.107531Z"
    }
   },
   "outputs": [
    {
     "data": {
      "text/plain": [
       "True"
      ]
     },
     "execution_count": 290,
     "metadata": {},
     "output_type": "execute_result"
    }
   ],
   "source": [
    "bool([12])"
   ]
  },
  {
   "cell_type": "code",
   "execution_count": null,
   "id": "f6177739",
   "metadata": {},
   "outputs": [],
   "source": []
  },
  {
   "cell_type": "code",
   "execution_count": null,
   "id": "ae6d6cbc",
   "metadata": {},
   "outputs": [],
   "source": []
  },
  {
   "cell_type": "code",
   "execution_count": null,
   "id": "d6829af3",
   "metadata": {},
   "outputs": [],
   "source": []
  }
 ],
 "metadata": {
  "kernelspec": {
   "display_name": "Python 3 (ipykernel)",
   "language": "python",
   "name": "python3"
  },
  "language_info": {
   "codemirror_mode": {
    "name": "ipython",
    "version": 3
   },
   "file_extension": ".py",
   "mimetype": "text/x-python",
   "name": "python",
   "nbconvert_exporter": "python",
   "pygments_lexer": "ipython3",
   "version": "3.10.9"
  }
 },
 "nbformat": 4,
 "nbformat_minor": 5
}
